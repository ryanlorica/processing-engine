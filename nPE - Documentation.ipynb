{
 "cells": [
  {
   "cell_type": "markdown",
   "metadata": {},
   "source": [
    "# nPE: A Configurable Processing Engine\n",
    "#### Documentation\n",
    "---"
   ]
  },
  {
   "cell_type": "markdown",
   "metadata": {},
   "source": [
    "## Introduction\n",
    "\n",
    "The nPE is a highly configurable processing engine that can be topologically configured to support various DNN accelerator architectures. Its functionality is able to support inner products with varying amounts of spatial and temporal parallelism, nonlinear activation functions, scalar addition, scalar multiplication, and max functions. It supports many existing architectures and dataflows, such as Eyeriss, Flexflow, and ShiDianNao. Its generality based on the notion of soft, firm, and hard bypasses.\n",
    "- Soft bypasses make it possible to bypass or not bypass via control signals and a multiplexer.\n",
    "- Firm bypasses add a bypass line as an output.\n",
    "- Hard bypasses hardwire the input and output together.\n",
    "\n",
    "The details of bypass behavior change depending on the specific module.\n",
    "\n",
    "It's microarchitecture consists of two multiport Register Files, an n-dimensional inner product unit, an RF-with-ALU combo, and a nonlinear processing unit. All three registers are accessible from an external NoC, and all arithmetic modules support an \"Identity\" operation."
   ]
  },
  {
   "cell_type": "markdown",
   "metadata": {},
   "source": [
    "## Setup"
   ]
  },
  {
   "cell_type": "code",
   "execution_count": 10,
   "metadata": {},
   "outputs": [
    {
     "name": "stdout",
     "output_type": "stream",
     "text": [
      "Compiling Main.sc\n"
     ]
    },
    {
     "data": {
      "text/plain": [
       "\u001b[36mpath\u001b[39m: \u001b[32mString\u001b[39m = \u001b[32m\"\"\"\n",
       "C:\\Users\\RyanL\\OneDrive\\Research\\SEAL\\nPE/source/load-ivy.sc\n",
       "\"\"\"\u001b[39m"
      ]
     },
     "execution_count": 10,
     "metadata": {},
     "output_type": "execute_result"
    }
   ],
   "source": [
    "val path = System.getProperty(\"user.dir\") + \"/source/load-ivy.sc\"\n",
    "interp.load.module(ammonite.ops.Path(java.nio.file.FileSystems.getDefault().getPath(path)))"
   ]
  },
  {
   "cell_type": "code",
   "execution_count": 11,
   "metadata": {},
   "outputs": [
    {
     "data": {
      "text/plain": [
       "\u001b[32mimport \u001b[39m\u001b[36mchisel3._\r\n",
       "\u001b[39m\r\n",
       "\u001b[32mimport \u001b[39m\u001b[36mchisel3.util._\r\n",
       "\u001b[39m\r\n",
       "\u001b[32mimport \u001b[39m\u001b[36mchisel3.iotesters.{ChiselFlatSpec, Driver, PeekPokeTester}\r\n",
       "\r\n",
       "\u001b[39m\r\n",
       "\u001b[32mimport \u001b[39m\u001b[36mscala.math.pow\u001b[39m"
      ]
     },
     "execution_count": 11,
     "metadata": {},
     "output_type": "execute_result"
    }
   ],
   "source": [
    "import chisel3._\n",
    "import chisel3.util._\n",
    "import chisel3.iotesters.{ChiselFlatSpec, Driver, PeekPokeTester}\n",
    "\n",
    "import scala.math.pow"
   ]
  },
  {
   "cell_type": "markdown",
   "metadata": {
    "collapsed": true
   },
   "source": [
    "## Parallel Register File\n",
    "\n",
    "The Parallel Register File (pRF) is a register file that is configurable based on number of ports in/out, register size, bypass type, and bitwidth. Bypass options are None, Soft, or Hard. The bypass behavior is such that it bypasses in[k] to out[k], where k is the port index. Without loss of generality, the bypass option will be applied to all ports. To have multiple bypass options, simply use parallel pRFs."
   ]
  },
  {
   "cell_type": "markdown",
   "metadata": {},
   "source": [
    "### Single Register File\n",
    "\n",
    "The Single Register File acts as expected: it reads data in when write enable is high and reads data when read enable is high. It can read and write in parallel. It has two read ports: one for internal PE reading and one for external PE communication. The register size adjusts based on the bitwidth of the addresses."
   ]
  },
  {
   "cell_type": "code",
   "execution_count": 12,
   "metadata": {},
   "outputs": [
    {
     "data": {
      "text/plain": [
       "defined \u001b[32mclass\u001b[39m \u001b[36mRF\u001b[39m"
      ]
     },
     "execution_count": 12,
     "metadata": {},
     "output_type": "execute_result"
    }
   ],
   "source": [
    "class RF (datawidth: Int, addrwidth: Int) extends Module {\n",
    "  \n",
    "    val io = IO(new Bundle {\n",
    "        val write_en  = Input (Bool())\n",
    "        val read_en   = Input (Bool())\n",
    "        val waddr     = Input (UInt(addrwidth.W))\n",
    "        val wdata     = Input (SInt(datawidth.W))\n",
    "        val raddr_int = Input (UInt(addrwidth.W))\n",
    "        val raddr_ext = Input (UInt(addrwidth.W))\n",
    "        val rdata_int = Output(SInt(datawidth.W))\n",
    "        val rdata_ext = Output(SInt(datawidth.W))\n",
    "    })\n",
    "    \n",
    "    val registers  = RegInit(Vec(Seq.fill(pow(2, addrwidth).toInt) { 0.S(addrwidth.W) }))\n",
    "    \n",
    "    when(io.write_en) {\n",
    "        registers(io.waddr) := io.wdata\n",
    "    }\n",
    "    \n",
    "    when(io.read_en) {\n",
    "        io.rdata_int := registers(io.raddr_int)\n",
    "        io.rdata_ext := registers(io.raddr_ext)\n",
    "    } .otherwise {\n",
    "        io.rdata_int := 0.S\n",
    "        io.rdata_ext := 0.S\n",
    "    }\n",
    "}"
   ]
  },
  {
   "cell_type": "markdown",
   "metadata": {},
   "source": [
    "### Putting them Together\n",
    "\n",
    "The single RFs come together in parallel to form the pRF. The number of ports is the number of single RFs. Thus, there are all of the control signals associated with a single RF, but with a bus width equal to the port count. If the bypass type is Soft, then each RF has an independent bypass control signal."
   ]
  },
  {
   "cell_type": "code",
   "execution_count": 13,
   "metadata": {},
   "outputs": [
    {
     "data": {
      "text/plain": [
       "defined \u001b[32mclass\u001b[39m \u001b[36mpRF\u001b[39m"
      ]
     },
     "execution_count": 13,
     "metadata": {},
     "output_type": "execute_result"
    }
   ],
   "source": [
    "class pRF(ports: Int, bypass: String, datawidth: Int, addrwidth: Int) extends Module {\n",
    "    \n",
    "    require(List(\"None\", \"Soft\", \"Hard\").contains(bypass))\n",
    "    \n",
    "    val io = IO(new Bundle {\n",
    "        val write_en  = Input (Vec(ports, Bool()))\n",
    "        val read_en   = Input (Vec(ports, Bool()))\n",
    "        val waddr     = Input (Vec(ports, UInt(addrwidth.W)))\n",
    "        val wdata     = Input (Vec(ports, SInt(datawidth.W)))\n",
    "        val raddr_int = Input (Vec(ports, UInt(addrwidth.W)))\n",
    "        val raddr_ext = Input (Vec(ports, UInt(addrwidth.W)))\n",
    "        val rdata_int = Output(Vec(ports, SInt(datawidth.W)))\n",
    "        val rdata_ext = Output(Vec(ports, SInt(datawidth.W)))\n",
    "        val bp_slct   = if (bypass == \"Soft\") Some(Input(Vec(ports, Bool()))) else None\n",
    "    })\n",
    "    \n",
    "    if(bypass == \"None\" || bypass == \"Soft\") {\n",
    "        \n",
    "        val rf = Seq.fill(ports){ new RF(datawidth, addrwidth) }\n",
    "        \n",
    "        rf.zipWithIndex.map{ case (x: RF, i: Int) => {\n",
    "            \n",
    "            x.io.write_en  := io.write_en(i)\n",
    "            x.io.read_en   := io.read_en(i)\n",
    "            x.io.waddr     := io.waddr(i)\n",
    "            x.io.wdata     := io.wdata(i)\n",
    "            x.io.raddr_int := io.raddr_int(i)\n",
    "            x.io.raddr_ext := io.raddr_ext(i)\n",
    "            \n",
    "            when (io.bp_slct.getOrElse(Seq.fill(ports){ false.B })(i)) {\n",
    "                io.rdata_int(i) := x.io.rdata_int\n",
    "                io.rdata_ext(i) := x.io.rdata_ext\n",
    "            } .otherwise {\n",
    "                io.rdata_int(i) := x.io.wdata\n",
    "                io.rdata_ext(i) := x.io.wdata\n",
    "            }\n",
    "        }}\n",
    "        \n",
    "    } else if(bypass == \"Hard\") {\n",
    "        io.rdata_int := io.wdata\n",
    "        io.rdata_ext := io.wdata\n",
    "    }\n",
    "}"
   ]
  },
  {
   "cell_type": "markdown",
   "metadata": {},
   "source": [
    "## Inner Product Unit\n",
    "\n",
    "The Inner Product Unit (IPU) performs an inner product between two vectors of a configurable length. For SIMD support, this should be configured to be wide. For traditional PEs, such as Eyeriss, note that setting the width to 1 is equivalent to a scalar multiplication.\n",
    "\n",
    "Bypass options are None or Firm. For Firm, there only one pair of weights and activations may be bypassed at a time, such that the IPU may interface with only one ALU. Thus if the bypass type is Firm, then there is a bypass selection signal that selects which input to feed to the output. This may be generalized to interface with multiple TUs, but not at this time.\n",
    "\n",
    "There are plans to implement both Soft and Hard bypassing. There are also plans to make using FMA modules an option.\n",
    "\n",
    "The IPU contains two embedded modules: a parallel multiplier and a reduction tree."
   ]
  },
  {
   "cell_type": "markdown",
   "metadata": {},
   "source": [
    "### Parallel Multiplier\n",
    "\n",
    "The parallel multiplier simply takes two vector inputs of width n and outputs the element-wise multiplication. There are plans to make the multiplier type configurable, *e.g.* serial, combinational, pipelined *etc*."
   ]
  },
  {
   "cell_type": "code",
   "execution_count": 14,
   "metadata": {},
   "outputs": [
    {
     "data": {
      "text/plain": [
       "defined \u001b[32mclass\u001b[39m \u001b[36mpMultiplier\u001b[39m"
      ]
     },
     "execution_count": 14,
     "metadata": {},
     "output_type": "execute_result"
    }
   ],
   "source": [
    "class pMultiplier(width: Int, bitwidth: Int) extends Module {\n",
    "    \n",
    "    require(width >= 1, \"Width must be at least one.\")\n",
    "    require(bitwidth >= 1, \"Bitwidth must be at least one.\")\n",
    "    \n",
    "    val io = IO(new Bundle {\n",
    "        val in1 = Input (Vec(width, SInt(bitwidth.W)))\n",
    "        val in2 = Input (Vec(width, SInt(bitwidth.W)))\n",
    "        val out = Output(Vec(width, SInt(bitwidth.W)))\n",
    "    })\n",
    "    \n",
    "    io.out := (io.in1 zip io.in2).map { case(a, b) => a * b }\n",
    "}"
   ]
  },
  {
   "cell_type": "markdown",
   "metadata": {},
   "source": [
    "### Additive Reduction Tree\n",
    "\n",
    "The additive reduction tree outputs the L1 norm of the n-dim input vector using log(n) layers of 2-input adders. In other words, it sums the input.\n",
    "\n",
    "There are plans to pipeline this (as well as everything else...)."
   ]
  },
  {
   "cell_type": "code",
   "execution_count": 15,
   "metadata": {},
   "outputs": [
    {
     "data": {
      "text/plain": [
       "defined \u001b[32mfunction\u001b[39m \u001b[36mnonassocPairwiseReduce\u001b[39m\r\n",
       "defined \u001b[32mclass\u001b[39m \u001b[36mAdditiveRT\u001b[39m"
      ]
     },
     "execution_count": 15,
     "metadata": {},
     "output_type": "execute_result"
    }
   ],
   "source": [
    "// Recursively creates a balanced syntax tree\n",
    "def nonassocPairwiseReduce[A](xs: List[A], op: (A, A) => A): A = {\n",
    "  xs match {\n",
    "    case Nil => throw new IllegalArgumentException\n",
    "    case List(singleElem) => singleElem\n",
    "    case sthElse => {\n",
    "      val grouped = sthElse.grouped(2).toList\n",
    "      val pairwiseOpd = for (g <- grouped) yield {\n",
    "        g match {\n",
    "          case List(a, b) => op(a, b)\n",
    "          case List(x) => x\n",
    "        }\n",
    "      }\n",
    "      nonassocPairwiseReduce(pairwiseOpd, op)\n",
    "    }\n",
    "  }\n",
    "}\n",
    "\n",
    "\n",
    "class AdditiveRT(width: Int, bitwidth: Int) extends Module {\n",
    "\n",
    "    require(width >= 1, \"Width must be at least one.\")\n",
    "    require(bitwidth >= 1, \"Bitwidth must be at least one.\")\n",
    "    \n",
    "    val io = IO(new Bundle {\n",
    "        val in  = Input (Vec(width, SInt(bitwidth.W)))\n",
    "        val out = Output(SInt(bitwidth.W))\n",
    "    })\n",
    "    \n",
    "    io.out := nonassocPairwiseReduce(io.in toList, (x: SInt, y: SInt) => x + y)\n",
    "}"
   ]
  },
  {
   "cell_type": "markdown",
   "metadata": {},
   "source": [
    "### Putting them Together\n",
    "\n",
    "Together, the parallel multiplier and additive reduction tree perform an n-dim inner product. They are simply connected output to input. During use of the PE, the bypass type of the IPU is dictated by the functionality of the ALU."
   ]
  },
  {
   "cell_type": "code",
   "execution_count": 7,
   "metadata": {},
   "outputs": [
    {
     "data": {
      "text/plain": [
       "defined \u001b[32mfunction\u001b[39m \u001b[36mcheckparamsIPU\u001b[39m\r\n",
       "defined \u001b[32mclass\u001b[39m \u001b[36mIPU\u001b[39m"
      ]
     },
     "execution_count": 7,
     "metadata": {},
     "output_type": "execute_result"
    }
   ],
   "source": [
    "def checkparamsIPU(width: Int, bypass: String, bitwidth: Int) {\n",
    "    require(width >= 1, \"Width must be at least one.\")\n",
    "    require(List(\"None\", \"Firm\").contains(bypass), \"Bypass must be \\\"None\\\" or \\\"Firm\\\"\")\n",
    "    require(bitwidth >= 0, \"Data bitwidth must be non-negative\")\n",
    "}\n",
    "\n",
    "\n",
    "class IPU(width: Int, bypass: String, bitwidth: Int) extends Module {\n",
    "    \n",
    "    checkparamsIPU(width, bypass, bitwidth)\n",
    "    \n",
    "    val io = IO(new Bundle {\n",
    "        val in1 = Input(Vec(width, SInt(bitwidth.W)))\n",
    "        val in2 = Input(Vec(width, SInt(bitwidth.W)))\n",
    "        val out = Output(UInt(bitwidth.W))\n",
    "        val sel = if(bypass == \"Firm\") Some(Input(Vec(width, Bool()))) else None\n",
    "        val bp1 = if(bypass == \"Firm\") Some(Output(UInt(bitwidth.W)))  else None\n",
    "        val bp2 = if(bypass == \"Firm\") Some(Output(UInt(bitwidth.W)))  else None\n",
    "    })\n",
    "    \n",
    "    val pM = new pMultiplier(width, bitwidth)\n",
    "    pM.io.in1 := io.in1\n",
    "    pM.io.in2 := io.in2\n",
    "    \n",
    "    val aRT = new AdditiveRT(width, bitwidth)\n",
    "    aRT.io.in := pM.io.out\n",
    "    \n",
    "    io.out := aRT.io.out\n",
    "    \n",
    "    if (bypass == \"Firm\") {\n",
    "        io.bp1.get := PriorityMux(io.sel.get, io.in1)\n",
    "        io.bp2.get := PriorityMux(io.sel.get, io.in2)\n",
    "    }\n",
    "}"
   ]
  },
  {
   "cell_type": "markdown",
   "metadata": {},
   "source": [
    "## ALU\n",
    "\n",
    "The ALU is configurable based on the functions it should support and the data bitwidth. The minimum ALU simply connects the input and the output directly. Accumulate means add the local register file output to the inner product from the IPU. Add and Max do perform their respective operation on the two bypasses from the IPU.\n",
    "\n",
    "Selecting the operation to perfom is done with a one-hot select signal. The order is always Identity, Add, Max, then Accumulate, but the exact indices will change depending on which are supported.\n",
    "\n",
    "There are plans to add bypass behavior. Right now, it is supported with an identity operation."
   ]
  },
  {
   "cell_type": "code",
   "execution_count": 16,
   "metadata": {},
   "outputs": [
    {
     "data": {
      "text/plain": [
       "defined \u001b[32mfunction\u001b[39m \u001b[36mcheckparamsALU\u001b[39m\r\n",
       "defined \u001b[32mclass\u001b[39m \u001b[36mALU\u001b[39m"
      ]
     },
     "execution_count": 16,
     "metadata": {},
     "output_type": "execute_result"
    }
   ],
   "source": [
    "def checkparamsALU(funcs: List[String], datawidth: Int) {\n",
    "    require(funcs.contains(\"Identity\"), \"ALU functions must explicitly include Identity.\")\n",
    "    val supportedFuncs = List(\"Identity\", \"Add\", \"Max\", \"Accumulate\")\n",
    "    for(x <- funcs)(require(supportedFuncs.contains(x), \"Unsupported Function\"))\n",
    "}\n",
    "\n",
    "class ALU(funcs: List[String], datawidth: Int) extends Module {\n",
    "    \n",
    "    checkparamsALU(funcs, datawidth)\n",
    " \n",
    "    val io = IO(new Bundle {\n",
    "        val innr_prod = Input(SInt(datawidth.W))\n",
    "        val func_slct = Input(Vec(funcs.length, Bool()))\n",
    "        val output    = Output(SInt(datawidth.W))\n",
    "        val weight_bp = if(List(\"Add\", \"Max\").contains(funcs)) Some(Input(SInt(datawidth.W))) else None\n",
    "        val actvtn_bp = if(List(\"Add\", \"Max\").contains(funcs)) Some(Input(SInt(datawidth.W))) else None\n",
    "        val rf_feedbk = if(funcs.contains(\"Accumulate\"))       Some(Input(SInt(datawidth.W))) else None\n",
    "    })\n",
    "    \n",
    "    val idnOut = Some(Wire(SInt(datawidth.W)))\n",
    "    val addOut = if(funcs.contains(\"Add\"))        Some(Wire(SInt(datawidth.W))) else None\n",
    "    val maxOut = if(funcs.contains(\"Max\"))        Some(Wire(SInt(datawidth.W))) else None\n",
    "    val accOut = if(funcs.contains(\"Accumulate\")) Some(Wire(SInt(datawidth.W))) else None\n",
    "    \n",
    "    idnOut.get := io.innr_prod\n",
    "    \n",
    "    if (funcs.contains(\"Add\")       ) { addOut.get := io.weight_bp.get + io.actvtn_bp.get }\n",
    "    if (funcs.contains(\"Accumulate\")) { accOut.get := io.innr_prod + io.rf_feedbk.get }\n",
    "    if (funcs.contains(\"Max\")       ) {\n",
    "        when (io.weight_bp.get > io.weight_bp.get) {\n",
    "            maxOut.get := io.weight_bp.get\n",
    "        } .otherwise {\n",
    "            maxOut.get := io.actvtn_bp.get\n",
    "        }\n",
    "    }\n",
    "    \n",
    "    val inters = (idnOut:: addOut :: maxOut :: accOut :: Nil) filter ( _.isDefined ) map ( _.get )\n",
    "    io.output := PriorityMux(io.func_slct, inters)\n",
    "}"
   ]
  },
  {
   "cell_type": "markdown",
   "metadata": {},
   "source": [
    "## Feedback Register File\n",
    "\n",
    "The feedback register file is just a pRF of size 1 as implemented earlier. Its bypass behavior is key to implementing architectures such as FlexFlow. A Hard bypass will connect the input from the NoC to the NLU/ALU and the input from the ALU to the NoC."
   ]
  },
  {
   "cell_type": "markdown",
   "metadata": {},
   "source": [
    "## Nonlinear Unit\n",
    "\n",
    "The Nonlinear Unit (NLU) performs the nonlinear activations functions present in neural networks. As of right now, it supports the Identity function and ReLu, but there are plans to implement sigmoid and tanh using LUTs and linear interpolation."
   ]
  },
  {
   "cell_type": "code",
   "execution_count": 17,
   "metadata": {},
   "outputs": [
    {
     "data": {
      "text/plain": [
       "defined \u001b[32mfunction\u001b[39m \u001b[36mcheckparamsNLU\u001b[39m\r\n",
       "defined \u001b[32mclass\u001b[39m \u001b[36mNonlinearUnit\u001b[39m"
      ]
     },
     "execution_count": 17,
     "metadata": {},
     "output_type": "execute_result"
    }
   ],
   "source": [
    "def checkparamsNLU(funcs: List[String], datawidth: Int) {\n",
    "    require(funcs.contains(\"Identity\"), \"NLU functions must explicitly include Identity.\")\n",
    "    val supportedFuncs = List(\"Identity\", \"ReLu\")\n",
    "    for(x <- funcs)(require(supportedFuncs.contains(x), \"Unsupported Function\"))\n",
    "}\n",
    "\n",
    "class NonlinearUnit(funcs: List[String], datawidth: Int) extends Module {\n",
    "    \n",
    "    checkparamsNLU(funcs, datawidth)\n",
    "    \n",
    "    val io = IO(new Bundle {\n",
    "        val input = Input(SInt(datawidth.W))\n",
    "        val fslct = Input(Vec(funcs.length, Bool()))\n",
    "        val outpt = Output(SInt(datawidth.W))\n",
    "    })\n",
    "    \n",
    "    val idntOut = Some(Wire(SInt(datawidth.W)))\n",
    "    val reluOut = if(funcs.contains(\"ReLu\")) Some(Wire(SInt(datawidth.W))) else None\n",
    "    \n",
    "    idntOut.get := io.input\n",
    "    if (funcs.contains(\"ReLu\")) {\n",
    "        when (io.input > 0.S) {\n",
    "            reluOut.get := io.input\n",
    "        } .otherwise {\n",
    "            reluOut.get := 0.S\n",
    "        }\n",
    "    }\n",
    "    \n",
    "    val inters = (idntOut :: reluOut :: Nil) filter ( _.isDefined ) map ( _.get )\n",
    "    io.outpt := PriorityMux(io.fslct, inters)\n",
    "}"
   ]
  },
  {
   "cell_type": "markdown",
   "metadata": {},
   "source": [
    "## Control Unit\n",
    "\n",
    "For now, it won't be programmable post-synthesis, but the idea will be to make it import a state machine and execute that. Implementation to come."
   ]
  },
  {
   "cell_type": "markdown",
   "metadata": {},
   "source": [
    "### Moore Machine\n",
    "\n",
    "The Control unit will take a Moore Machine as a parameter in order to support various dataflows."
   ]
  },
  {
   "cell_type": "code",
   "execution_count": null,
   "metadata": {},
   "outputs": [],
   "source": [
    "class ControlUnit(mooreMachine: Map[Int, Int], decoder: Map[Int, ]"
   ]
  },
  {
   "cell_type": "markdown",
   "metadata": {},
   "source": [
    "## Putting it all Together"
   ]
  },
  {
   "cell_type": "code",
   "execution_count": null,
   "metadata": {},
   "outputs": [],
   "source": [
    "class nPE(ports: Int, weightRFBP: String, actvtnRFBP: String, datawidth: Int, addrwidth: Int,\n",
    "         aluFuncs: List[String], nluFuncs: List[String], intrnlRFBP: String ) extends Module {\n",
    "    \n",
    "    val io = IO(new Bundle {\n",
    "        val weightRF_in   = Input (Vec(ports, SInt(datawidth.W)))\n",
    "        val actvtnRF_in   = Input (Vec(ports, SInt(datawidth.W)))\n",
    "        val intrnlRF_in   = Input (SInt(datawidth.W))\n",
    "        val weightRF_2NoC = Output(Vec(ports, SInt(datawidth.W)))\n",
    "        val actvtnRF_2NoC = Output(Vec(ports, SInt(datawidth.W)))\n",
    "        val intrnlRF_2NoC = Output(SInt(datawidth.W))\n",
    "        val output        = Output(SInt(datawidth.W))\n",
    "    })\n",
    "    \n",
    "    // val control = new Control(Param_State_Machine)\n",
    "    \n",
    "    // Module\n",
    "    // mandatory control\n",
    "    // optional control\n",
    "    // mandatory inputs\n",
    "    // optional inputs\n",
    "    // pe outputs\n",
    "    \n",
    "    val weightRF = new pRF(ports, weightRFBP, datawidth, addrwidth)\n",
    "    // weightRF.io.wen         := from Control\n",
    "    // weightRF.io.ren         := from Control\n",
    "    // weightRF.io.waddr       := from Control\n",
    "    // weightRF.io.raddr_int   := from Control\n",
    "    // weightRF.io.raddr_ext   := from Control\n",
    "    // if ( weightRF.io.bp_slct.isDefined ) { weightRF.io.bp_slct.get := from Control }\n",
    "    weightRF.io.wdata := io.weightRF_in\n",
    "    weightRF_2NoC     := weightRF.io.rdata_ext\n",
    "    \n",
    "    val actvtnRF = new pRF(ports, actvtnRFBP, datawidth, addrwidth)\n",
    "    // actvtnRF.io.wen         := from Control\n",
    "    // actvtnRF.io.ren         := from Control\n",
    "    // actvtnRF.io.waddr       := from Control\n",
    "    // actvtnRF.io.raddr_int   := from Control\n",
    "    // actvtnRF.io.raddr_ext   := from Control\n",
    "    // if ( actvtnRF.io.bp_slct.isDefined ) { actvtnRF.io.bp_slct.get := from Control }\n",
    "    actvtnRF.io.wdata := io.weightRF_in\n",
    "    actvtnRF_2NoC     := actvtnRF.io.rdata_ext\n",
    "       \n",
    "    val ipuBP = if(aluFuncs.contains(\"Add\") || aluFuncs.contains(\"Max\")) \"Firm\" else \"None\" \n",
    "    val ipu   = new IPU(ports, ipuBP, datawidth)\n",
    "    // if (ipu.io.sel.isDefined) { ipu.io.sel.get := from Control }\n",
    "    ipu.io.in1 := weightRF.io.rdata_int\n",
    "    ipu.io.in2 := actvtnRF.io.rdata_int\n",
    "    \n",
    "    val alu = new ALU(aluFuncs, datawidth)\n",
    "    // alu.io.func_slct := from Control\n",
    "    alu.io.innr_prod := ipu.io.out\n",
    "    if(alu.io.weight_bp.isDefined) alu.io.weight_bp.get := ipu.io.bp1\n",
    "    if(alu.io.actvtn_bp.isDefined) alu.io.actvtn_bp.get := ipu.io.bp2\n",
    "    \n",
    "    val intrnlRF = new pRF(1, intrnlRFBP, datawidth, addrwidth)\n",
    "    // intrnlRF.io.write_en  := from Control\n",
    "    // intrnlRF.io.read_en   := from Control\n",
    "    // intrnlRF.io.waddr     := from Control\n",
    "    // intrnlRF.io.raddr_int := from Control\n",
    "    // intrnlRF.io.raddr_ext := from Control\n",
    "    // if (intrnlRF.io.bp_slct.isDefined) { intrnlRF.io.bp_slct.get := from Control }\n",
    "    // intrnlRF.io.wdata := Mux(from Control, alu.io.out, intrnlRF_in)\n",
    "    intrnlRF_2NoC := io.intrnlRF.rdata_ext\n",
    "    if(alu.io.rf_feedbk.isDefined) alu.io.rf_feedbk.get := intrnlRF.io.rdata_int\n",
    "    \n",
    "    val nlu = new NonlinearUnit(nluFuncs, datawidth)\n",
    "    nlu.io.func_slct := from Control\n",
    "    nlu.io.input     := intrnlRF.io.rdata_int\n",
    "    io.output        := nlu.io.output\n",
    "    \n",
    "    // Woot woot\n",
    "}"
   ]
  }
 ],
 "metadata": {
  "kernelspec": {
   "display_name": "Scala",
   "language": "scala",
   "name": "scala"
  },
  "language_info": {
   "codemirror_mode": "text/x-scala",
   "file_extension": ".scala",
   "mimetype": "text/x-scala",
   "name": "scala211",
   "nbconvert_exporter": "script",
   "pygments_lexer": "scala",
   "version": "2.11.11"
  }
 },
 "nbformat": 4,
 "nbformat_minor": 2
}
