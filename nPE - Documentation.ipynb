{
 "cells": [
  {
   "cell_type": "markdown",
   "metadata": {},
   "source": [
    "# nPE: A Configurable Processing Engine\n",
    "#### Documentation | Version: 0.4.1 | Updated 2018.7.25\n",
    "---"
   ]
  },
  {
   "cell_type": "markdown",
   "metadata": {},
   "source": [
    "## Introduction\n",
    "\n",
    "The nPE is a highly configurable processing engine that can be topologically configured to support various DNN accelerator architectures. Its functionality is able to support inner products with varying amounts of spatial and temporal parallelism, nonlinear activation functions, scalar addition, scalar multiplication, and max functions. It supports many existing architectures and dataflows, such as Eyeriss, Flexflow, and ShiDianNao. Its generality based on the notion of soft, firm, and hard bypasses.\n",
    "- Soft bypasses make it possible to bypass or not bypass via control signals and a multiplexer.\n",
    "- Firm bypasses add a bypass line as an output.\n",
    "- Hard bypasses hardwire the input and output together.\n",
    "\n",
    "The details of bypass behavior change depending on the specific module.\n",
    "\n",
    "It's microarchitecture consists of two multiport Register Files, an n-dimensional inner product unit, an RF-with-ALU combo, and a nonlinear processing unit. All three registers are accessible from an external NoC, and all arithmetic modules support an \"Identity\" operation."
   ]
  },
  {
   "cell_type": "markdown",
   "metadata": {},
   "source": [
    "## Setup"
   ]
  },
  {
   "cell_type": "code",
   "execution_count": 1,
   "metadata": {},
   "outputs": [
    {
     "data": {
      "text/plain": [
       "\u001b[36mpath\u001b[39m: \u001b[32mString\u001b[39m = \u001b[32m\"\"\"\n",
       "C:\\Users\\RyanL\\OneDrive\\Research\\SEAL\\processing-engine/source/load-ivy.sc\n",
       "\"\"\"\u001b[39m"
      ]
     },
     "execution_count": 1,
     "metadata": {},
     "output_type": "execute_result"
    }
   ],
   "source": [
    "val path = System.getProperty(\"user.dir\") + \"/source/load-ivy.sc\"\n",
    "interp.load.module(ammonite.ops.Path(java.nio.file.FileSystems.getDefault().getPath(path)))"
   ]
  },
  {
   "cell_type": "code",
   "execution_count": 2,
   "metadata": {},
   "outputs": [
    {
     "data": {
      "text/plain": [
       "\u001b[32mimport \u001b[39m\u001b[36mchisel3._\r\n",
       "\u001b[39m\r\n",
       "\u001b[32mimport \u001b[39m\u001b[36mchisel3.util._\r\n",
       "\u001b[39m\r\n",
       "\u001b[32mimport \u001b[39m\u001b[36mchisel3.iotesters.{ChiselFlatSpec, Driver, PeekPokeTester}\r\n",
       "\r\n",
       "\u001b[39m\r\n",
       "\u001b[32mimport \u001b[39m\u001b[36mscala.math.pow\u001b[39m"
      ]
     },
     "execution_count": 2,
     "metadata": {},
     "output_type": "execute_result"
    }
   ],
   "source": [
    "import chisel3._\n",
    "import chisel3.util._\n",
    "import chisel3.iotesters.{ChiselFlatSpec, Driver, PeekPokeTester}\n",
    "\n",
    "import scala.math.pow"
   ]
  },
  {
   "cell_type": "markdown",
   "metadata": {
    "collapsed": true
   },
   "source": [
    "## Parallel Register File\n",
    "\n",
    "The Parallel Register File (pRF) is a register file that is configurable based on number of ports in/out, register size, bypass type, and bitwidth. Bypass options are None, Soft, or Hard. The bypass behavior is such that it bypasses in[k] to out[k], where k is the port index. Without loss of generality, the bypass option will be applied to all ports. Multiple bypass options are enabled by parallel pRFs."
   ]
  },
  {
   "cell_type": "markdown",
   "metadata": {},
   "source": [
    "### Single Register File\n",
    "\n",
    "The Single Register File acts as expected: it reads data in when write enable is high and reads data when read enable is high. It can read and write in parallel. It has two read ports: one for internal PE reading and one for external PE communication. The register size adjusts based on the bitwidth of the addresses."
   ]
  },
  {
   "cell_type": "code",
   "execution_count": 3,
   "metadata": {},
   "outputs": [
    {
     "data": {
      "text/plain": [
       "defined \u001b[32mclass\u001b[39m \u001b[36mRFInputs\u001b[39m\r\n",
       "defined \u001b[32mclass\u001b[39m \u001b[36mRFOutputs\u001b[39m\r\n",
       "defined \u001b[32mclass\u001b[39m \u001b[36mRF\u001b[39m"
      ]
     },
     "execution_count": 3,
     "metadata": {},
     "output_type": "execute_result"
    }
   ],
   "source": [
    "class RFConfig(\n",
    "        val addrWidth: Int, \n",
    "        val dataWidth: Int,\n",
    "        val numInputs: Int,\n",
    "        val bpSupport: Boolean)\n",
    "\n",
    "class RFControl(c: RFConfig) extends Bundle {\n",
    "    \n",
    "    override def cloneType = (new RFControl(c)).asInstanceOf[this.type]\n",
    "    \n",
    "    val wEnable = Bool()\n",
    "    val rEnable = Bool()\n",
    "    val wAddr = UInt(c.addrWidth.W)\n",
    "    val rAddrInt = UInt(c.addrWidth.W)\n",
    "    val rAddrExt = UInt(c.addrWidth.W)\n",
    "    val bpSel = if (c.bpSupport) Some(Bool()) else None\n",
    "    val inSel = if (c.numInputs > 1) Some(Vec(c.numInputs, Bool())) else None\n",
    "}\n",
    "\n",
    "class RFInput(c: RFConfig) extends Bundle {\n",
    "    \n",
    "    override def cloneType = (new RFInput(c)).asInstanceOf[this.type] \n",
    "    \n",
    "    val data = Vec(c.numInputs, SInt(c.dataWidth.W))\n",
    "}\n",
    "\n",
    "class RFOutput(c: RFConfig) extends Bundle {\n",
    "    \n",
    "    override def cloneType = (new RFOutput(c)).asInstanceOf[this.type]\n",
    "    \n",
    "    val int = SInt(c.dataWidth.W)\n",
    "    val ext = SInt(c.dataWidth.W)\n",
    "}\n",
    "\n",
    "class RF(c: RFConfig) extends Module {\n",
    "    \n",
    "    val io = IO(new Bundle {\n",
    "        val control = Input(new RFControl(c))\n",
    "        val in = Input(new RFInput(c))\n",
    "        val out = Output(new RFOutput(c))\n",
    "    })\n",
    "    \n",
    "    val zeros = Vec(Seq.fill(pow(2, c.addrWidth).toInt) { 0.S(c.dataWidth.W) })\n",
    "    val registers = RegInit(zeros)\n",
    "    \n",
    "    val sel = io.control.inSel.getOrElse(Vec(true.B))\n",
    "    \n",
    "    when (io.control.wEnable) {\n",
    "        registers(io.control.wAddr) := PriorityMux(sel, io.in.data)\n",
    "    }\n",
    "    \n",
    "    when (io.control.rEnable) {\n",
    "        when(io.control.bpSel.getOrElse(false.B)) {\n",
    "            io.out.int := PriorityMux(sel, io.in.data)\n",
    "            io.out.ext := PriorityMux(sel, io.in.data)\n",
    "        } .otherwise {\n",
    "            io.out.int := registers(io.control.rAddrInt)\n",
    "            io.out.ext := registers(io.control.rAddrExt)\n",
    "        }\n",
    "    } .otherwise {\n",
    "        io.out.int := 0.S\n",
    "        io.out.ext := 0.S\n",
    "    }\n",
    "}"
   ]
  },
  {
   "cell_type": "markdown",
   "metadata": {},
   "source": [
    "### Putting them Together\n",
    "\n",
    "The single RFs come together in parallel to form the pRF. The number of ports is the number of single RFs. Thus, there are all of the control signals associated with a single RF, but with a bus width equal to the port count. If the bypass type is Soft, then each RF has an independent bypass control signal."
   ]
  },
  {
   "cell_type": "code",
   "execution_count": 4,
   "metadata": {},
   "outputs": [
    {
     "data": {
      "text/plain": [
       "defined \u001b[32mclass\u001b[39m \u001b[36mPRFInputs\u001b[39m\r\n",
       "defined \u001b[32mclass\u001b[39m \u001b[36mPRFOutputs\u001b[39m\r\n",
       "defined \u001b[32mclass\u001b[39m \u001b[36mPRF\u001b[39m"
      ]
     },
     "execution_count": 4,
     "metadata": {},
     "output_type": "execute_result"
    }
   ],
   "source": [
    "class PRFConfig(\n",
    "        val ports: Int,\n",
    "        val dataWidth: Int,\n",
    "        val addrWidth: Int,\n",
    "        val numInputs: Int,\n",
    "        val bpType: String) {\n",
    "    \n",
    "    require(List(\"None\", \"Soft\", \"Hard\") contains bpType)\n",
    "    \n",
    "    val bpNone = (bpType == \"None\")\n",
    "    val bpSoft = (bpType == \"Soft\")\n",
    "    val bpHard = (bpType == \"Hard\")\n",
    "    \n",
    "    val rfConfig = new RFConfig(addrWidth, dataWidth, numInputs, bpSoft)\n",
    "}\n",
    "\n",
    "class PRFControl(c: PRFConfig) extends Bundle {\n",
    "    \n",
    "    override def cloneType = (new PRFControl(c)).asInstanceOf[this.type]\n",
    "    \n",
    "    val rf = Vec(c.ports, new RFControl(c.rfConfig))\n",
    "}\n",
    "\n",
    "class PRFInput(c: PRFConfig) extends Bundle {\n",
    "    \n",
    "    override def cloneType = (new PRFInput(c)).asInstanceOf[this.type]\n",
    "    \n",
    "    val rf = Vec(c.ports, new RFInput(c.rfConfig))\n",
    "}\n",
    "\n",
    "class PRFOutput(c: PRFConfig) extends Bundle {\n",
    "    \n",
    "    override def cloneType = (new PRFOutput(c)).asInstanceOf[this.type]\n",
    "    \n",
    "    val rf = Vec(c.ports, new RFOutput(c.rfConfig))\n",
    "}\n",
    "\n",
    "class PRF(c: PRFConfig) extends Module {\n",
    "    \n",
    "    val io = IO(new Bundle {\n",
    "        val control = Input(new PRFControl(c))\n",
    "        val in = Input(new PRFInput(c))\n",
    "        val out = Output(new PRFOutput(c))\n",
    "    })\n",
    "    \n",
    "    if (c.bpNone || c.bpSoft) {\n",
    "        \n",
    "        val rf = Seq.fill(c.ports){ Module(new RF(c.rfConfig)) }\n",
    "        \n",
    "        rf.zipWithIndex.map {\n",
    "            case (x: RF, i: Int) => { \n",
    "                x.io.control <> io.control.rf(i)\n",
    "                x.io.in <> io.in.rf(i)\n",
    "                io.out.rf(i) <> x.io.out\n",
    "            } \n",
    "        }\n",
    "        \n",
    "    } else if (c.bpHard) {\n",
    "        for (i <- 0 until c.ports) {\n",
    "            io.out.rf(i).int := io.in.rf(i).data\n",
    "            io.out.rf(i).ext := io.in.rf(i).data\n",
    "        }\n",
    "    }\n",
    "}"
   ]
  },
  {
   "cell_type": "markdown",
   "metadata": {},
   "source": [
    "## Inner Product Unit\n",
    "\n",
    "The Inner Product Unit (IPU) performs an inner product between two vectors of a configurable length. For SIMD support, this should be configured to be wide. For traditional PEs, such as Eyeriss, note that setting the width to 1 is equivalent to a scalar multiplication.\n",
    "\n",
    "Bypass options are None or Firm. For Firm, there only one pair of weights and activations may be bypassed at a time, such that the IPU may interface with only one ALU. Thus if the bypass type is Firm, then there is a bypass selection signal that selects which input to feed to the output. This may be generalized to interface with multiple TUs, but not at this time.\n",
    "\n",
    "There are plans to implement both Soft and Hard bypassing. There are also plans to make using FMA modules an option.\n",
    "\n",
    "The IPU contains two embedded modules: a parallel multiplier and a reduction tree."
   ]
  },
  {
   "cell_type": "markdown",
   "metadata": {},
   "source": [
    "### Parallel Multiplier\n",
    "\n",
    "The parallel multiplier simply takes two vector inputs of width n and outputs the element-wise multiplication. There are plans to make the multiplier type configurable, *e.g.* serial, combinational, pipelined *etc*."
   ]
  },
  {
   "cell_type": "code",
   "execution_count": 5,
   "metadata": {},
   "outputs": [
    {
     "data": {
      "text/plain": [
       "defined \u001b[32mfunction\u001b[39m \u001b[36mcheckParamsPMult\u001b[39m\r\n",
       "defined \u001b[32mclass\u001b[39m \u001b[36mPMultInputs\u001b[39m\r\n",
       "defined \u001b[32mclass\u001b[39m \u001b[36mPMult\u001b[39m"
      ]
     },
     "execution_count": 5,
     "metadata": {},
     "output_type": "execute_result"
    }
   ],
   "source": [
    "class PMultConfiguration(val numPairs: Int, val bitWidth: Int) {\n",
    "    require(numPairs >= 1, \"Must have at least one pair of multiplicands.\")\n",
    "    require(bitWidth >= 1, \"Bitwidth must be at least one.\")\n",
    "}\n",
    "\n",
    "class PMultInput(numPairs: Int, bitWidth: Int) extends Bundle {\n",
    "    \n",
    "    override def cloneType = (new PMultInput(numPairs, bitWidth)).asInstanceOf[this.type]\n",
    "    \n",
    "    val weight = Vec(numPairs, SInt(bitWidth.W))\n",
    "    val actvtn = Vec(numPairs, SInt(bitWidth.W))\n",
    "}\n",
    "\n",
    "class PMult(config: PMultConfiguration) extends Module {\n",
    "    \n",
    "    val np = config.numPairs\n",
    "    val bw = config.bitWidth\n",
    "    \n",
    "    val io = IO(new Bundle {\n",
    "        val in = Input(new PMultInput(np, bw))\n",
    "        val prod = Output(Vec(np, SInt(bw.W)))\n",
    "    })\n",
    "    \n",
    "    io.prod := (io.in.weight zip io.in.actvtn).map { case(a, b) => a * b }\n",
    "}"
   ]
  },
  {
   "cell_type": "markdown",
   "metadata": {},
   "source": [
    "### Additive Reduction Tree\n",
    "\n",
    "The additive reduction tree outputs the L1 norm of the n-dim input vector using log(n) layers of 2-input adders. In other words, it sums the input.\n",
    "\n",
    "There are plans to pipeline this (as well as everything else...)."
   ]
  },
  {
   "cell_type": "code",
   "execution_count": 6,
   "metadata": {},
   "outputs": [
    {
     "data": {
      "text/plain": [
       "defined \u001b[32mfunction\u001b[39m \u001b[36mnonassocPairwiseReduce\u001b[39m\r\n",
       "defined \u001b[32mfunction\u001b[39m \u001b[36mcheckParamsAdditiveRT\u001b[39m\r\n",
       "defined \u001b[32mclass\u001b[39m \u001b[36mAdditiveRT\u001b[39m"
      ]
     },
     "execution_count": 6,
     "metadata": {},
     "output_type": "execute_result"
    }
   ],
   "source": [
    "class AdditiveRTConfiguration(val numAddends: Int, val bitWidth: Int) {\n",
    "    require(numAddends >= 1, \"Number of addends must be at least one.\")\n",
    "    require(bitWidth >= 1, \"Bitwidth must be at least one.\")\n",
    "}\n",
    "\n",
    "// Recursively creates a balanced syntax tree\n",
    "def adjReduce[A](xs: List[A], op: (A, A) => A): A = xs match {\n",
    "    case Nil => throw new IllegalArgumentException\n",
    "    case List(single) => single\n",
    "    case default => {\n",
    "        val grouped = default.grouped(2).toList\n",
    "        val result = for (g <- grouped) yield {\n",
    "            g match {\n",
    "                case List(a, b) => op(a, b)\n",
    "                case List(x) => x\n",
    "            }\n",
    "        }\n",
    "        adjReduce(result, op)\n",
    "    }\n",
    "}\n",
    "\n",
    "class AdditiveRT(config: AdditiveRTConfiguration) extends Module {\n",
    "\n",
    "    val na = config.numAddends\n",
    "    val bw = config.bitWidth\n",
    "    \n",
    "    val io = IO(new Bundle {\n",
    "        val in  = Input(Vec(na, SInt(bw.W)))\n",
    "        val sum = Output(SInt(bw.W))\n",
    "    })\n",
    "    \n",
    "    io.sum := adjReduce(io.in toList, (x: SInt, y: SInt) => x + y)\n",
    "}"
   ]
  },
  {
   "cell_type": "markdown",
   "metadata": {},
   "source": [
    "### Putting them Together\n",
    "\n",
    "Together, the parallel multiplier and additive reduction tree perform an n-dim inner product. They are simply connected output to input. During use of the PE, the bypass type of the IPU is dictated by the functionality of the ALU."
   ]
  },
  {
   "cell_type": "code",
   "execution_count": 7,
   "metadata": {},
   "outputs": [
    {
     "data": {
      "text/plain": [
       "defined \u001b[32mfunction\u001b[39m \u001b[36mcheckParamsIPU\u001b[39m\r\n",
       "defined \u001b[32mclass\u001b[39m \u001b[36mIPUInputs\u001b[39m\r\n",
       "defined \u001b[32mclass\u001b[39m \u001b[36mIPUOutputs\u001b[39m\r\n",
       "defined \u001b[32mclass\u001b[39m \u001b[36mIPU\u001b[39m"
      ]
     },
     "execution_count": 7,
     "metadata": {},
     "output_type": "execute_result"
    }
   ],
   "source": [
    "class IPUConfig(val width: Int, val bitWidth: Int, val bpType: String) {\n",
    "    \n",
    "    private val bypssError = \"Bypass must be \\\"None\\\" or \\\"Firm\\\"\"\n",
    "    private val widthError = \"Width must be at least one\"\n",
    "    private val bitWdError = \"Data bitwidth must be non-negative\"\n",
    "    \n",
    "    val supportedBp = List(\"None\", \"Firm\")\n",
    "    \n",
    "    require(width >= 1, widthError)\n",
    "    require(supportedBp.contains(bpType), bypssError)\n",
    "    require(bitWidth >= 0, bitWdError)\n",
    "    \n",
    "    val childPMultConfig = new PMultConfig(width, bitWidth)\n",
    "    val childARTreeConfig = new ARTreeConfig(width, bitWidth)\n",
    "    \n",
    "    val bpFirm = (bpType == \"Firm\")\n",
    "}\n",
    "\n",
    "class IPUOutput(c: IPUConfig) extends Bundle {\n",
    "    \n",
    "    override def cloneType = (new IPUOutput(c)).asInstanceOf[this.type]\n",
    "    \n",
    "    val innerProd = Output(SInt(c.bitWidth.W))\n",
    "    val bpWeight = if (c.bpFirm) Some(SInt(c.bitWidth.W)) else None\n",
    "    val bpActvtn = if (c.bpFirm) Some(SInt(c.bitWidth.W)) else None\n",
    "}\n",
    "\n",
    "\n",
    "class IPU(c: IPUConfig) extends Module {\n",
    "    \n",
    "    val cPMConfig = c.childPMultConfig\n",
    "    val cARTConfig = c.childARTreeConfig\n",
    "    \n",
    "    val io = IO(new Bundle {\n",
    "        val dataIn = Input(new PMultInput(cPMConfig))\n",
    "        val dataOut = Output(new IPUOutput(c))\n",
    "        val bpSel = if (c.bpFirm) Some(Input(Vec(c.width, Bool()))) else None\n",
    "    })\n",
    "    \n",
    "    val pMult = Module(new PMult(cPMConfig))\n",
    "    pMult.io.in <> io.dataIn\n",
    "    \n",
    "    val aRTree = Module(new ARTree(cARTConfig))\n",
    "    aRTree.io.in := pMult.io.prod\n",
    "    \n",
    "    io.dataOut.innerProd := aRTree.io.sum\n",
    "    \n",
    "    if (c.bpFirm) {\n",
    "        io.dataOut.bpWeight.get := PriorityMux(io.bpSel.get, io.dataIn.weight)\n",
    "        io.dataOut.bpActvtn.get := PriorityMux(io.bpSel.get, io.dataIn.actvtn)\n",
    "    }\n",
    "}"
   ]
  },
  {
   "cell_type": "markdown",
   "metadata": {},
   "source": [
    "## ALU\n",
    "\n",
    "The ALU is configurable based on the functions it should support and the data bitwidth. The minimum ALU simply connects the input and the output directly. Accumulate means add the local register file output to the inner product from the IPU. Add and Max do perform their respective operation on the two bypasses from the IPU.\n",
    "\n",
    "Selecting the operation to perfom is done with a one-hot select signal. The order is always Identity, Add, Max, then Accumulate, but the exact indices will change depending on which are supported.\n",
    "\n",
    "There are plans to add bypass behavior. Right now, it is supported with an identity operation."
   ]
  },
  {
   "cell_type": "code",
   "execution_count": 8,
   "metadata": {},
   "outputs": [
    {
     "data": {
      "text/plain": [
       "defined \u001b[32mfunction\u001b[39m \u001b[36mcheckparamsALU\u001b[39m\r\n",
       "defined \u001b[32mclass\u001b[39m \u001b[36mALUInputs\u001b[39m\r\n",
       "defined \u001b[32mclass\u001b[39m \u001b[36mALU\u001b[39m"
      ]
     },
     "execution_count": 8,
     "metadata": {},
     "output_type": "execute_result"
    }
   ],
   "source": [
    "class ALUConfig(val dataWidth: Int, val funcs: List[String]) {\n",
    "    val identityError = \"ALU functions must explicitly include Identity.\"\n",
    "    val functionError = \"Unsupported Error\"\n",
    "    val supportedFuncs = List(\"Identity\", \"Add\", \"Max\", \"Accumulate\")\n",
    "    \n",
    "    require(funcs.contains(\"Identity\"), identityError)\n",
    "    for(x <- funcs) { require(supportedFuncs.contains(x), functionError) }\n",
    "    \n",
    "    val addSupp = funcs.contains(\"Add\")\n",
    "    val maxSupp = funcs.contains(\"Max\")\n",
    "    val accSupp = funcs.contains(\"Accumulate\")\n",
    "    val addBypassIn = addSupp || maxSupp\n",
    "    val numFuncs = funcs.length\n",
    "}\n",
    "\n",
    "class ALUInput(c: ALUConfig) extends Bundle {\n",
    "    \n",
    "    override def cloneType = (new ALUInput(c)).asInstanceOf[this.type]\n",
    "    \n",
    "    val innerProd = Input(SInt(c.dataWidth.W))\n",
    "    val funcSel = Input(Vec(c.numFuncs, Bool()))\n",
    "    \n",
    "    val weightBp = if(c.addBypassIn) Some(Input(SInt(c.dataWidth.W))) else None\n",
    "    val actvtnBp = if(c.addBypassIn) Some(Input(SInt(c.dataWidth.W))) else None\n",
    "    val rfFeedback = if(c.accSupp) Some(Input(SInt(c.dataWidth.W))) else None\n",
    "}\n",
    "\n",
    "class ALU(c: ALUConfig) extends Module {\n",
    " \n",
    "    val io = IO(new Bundle {\n",
    "        val in = new ALUInput(c)\n",
    "        val out = Output(SInt(c.dataWidth.W))\n",
    "    })\n",
    "    \n",
    "    val idnOut = Some(Wire(SInt(c.dataWidth.W)))\n",
    "    val addOut = if(c.addSupp) Some(Wire(SInt(c.dataWidth.W))) else None\n",
    "    val maxOut = if(c.maxSupp) Some(Wire(SInt(c.dataWidth.W))) else None\n",
    "    val accOut = if(c.accSupp) Some(Wire(SInt(c.dataWidth.W))) else None\n",
    "    \n",
    "    idnOut.get := io.in.innerProd\n",
    "    \n",
    "    if (c.addSupp) { addOut.get := io.in.weightBp.get + io.in.actvtnBp.get }\n",
    "    if (c.accSupp) { accOut.get := io.in.innerProd + io.in.rfFeedback.get }\n",
    "    if (c.maxSupp) {\n",
    "        when (io.in.weightBp.get > io.in.actvtnBp.get) {\n",
    "            maxOut.get := io.in.weightBp.get\n",
    "        } .otherwise {\n",
    "            maxOut.get := io.in.actvtnBp.get\n",
    "        }\n",
    "    }\n",
    "    \n",
    "    val inters = (idnOut :: addOut :: maxOut :: accOut :: Nil) filter ( _.isDefined ) map ( _.get )\n",
    "    io.out := PriorityMux(io.in.funcSel, inters)\n",
    "}"
   ]
  },
  {
   "cell_type": "markdown",
   "metadata": {},
   "source": [
    "## Feedback Register File\n",
    "\n",
    "The feedback register file is just a pRF of size 1 as implemented earlier. Its bypass behavior is key to implementing architectures such as FlexFlow. A Hard bypass will connect the input from the NoC to the NLU/ALU and the input from the ALU to the NoC."
   ]
  },
  {
   "cell_type": "markdown",
   "metadata": {},
   "source": [
    "## Nonlinear Unit\n",
    "\n",
    "The Nonlinear Unit (NLU) performs the nonlinear activations functions present in neural networks. As of right now, it supports the Identity function and ReLu, but there are plans to implement sigmoid and tanh using LUTs and linear interpolation."
   ]
  },
  {
   "cell_type": "code",
   "execution_count": 9,
   "metadata": {},
   "outputs": [
    {
     "data": {
      "text/plain": [
       "defined \u001b[32mfunction\u001b[39m \u001b[36mcheckparamsNLU\u001b[39m\r\n",
       "defined \u001b[32mclass\u001b[39m \u001b[36mNonlinearUnit\u001b[39m"
      ]
     },
     "execution_count": 9,
     "metadata": {},
     "output_type": "execute_result"
    }
   ],
   "source": [
    "class NLUConfig(val dataWidth: Int, val funcs: List[String]) {\n",
    "    \n",
    "    val supportedFuncs = List(\"Identity\", \"ReLu\")\n",
    "    val identityError = \"NLU functions must explicitly include Identity.\"\n",
    "    val functionError = \"Unsupported Function\"\n",
    "    \n",
    "    require(funcs.contains(\"Identity\"), identityError)\n",
    "    for(x <- funcs)(require(supportedFuncs.contains(x), functionError))\n",
    "    \n",
    "    val reluSupp = funcs.contains(\"ReLu\")\n",
    "    val numFuncs = funcs.length\n",
    "}\n",
    "\n",
    "class NLUInputs(c: NLUConfig) extends Bundle {\n",
    "    \n",
    "    override def cloneType = (new NLUInputs(c)).asInstanceOf[this.type]\n",
    "    \n",
    "    val data = SInt(c.dataWidth.W)\n",
    "    val fSel = Vec(c.numFuncs, Bool())\n",
    "}\n",
    "\n",
    "class NLU(c: NLUConfig) extends Module {\n",
    "    \n",
    "    val io = IO(new Bundle {\n",
    "        val in  = Input(new NLUInputs(c))\n",
    "        val out = Output(SInt(c.dataWidth.W))\n",
    "    })\n",
    "    \n",
    "    val idRes   = Some(Wire(SInt(c.dataWidth.W)))\n",
    "    val reluRes = if(c.reluSupp) Some(Wire(SInt(c.dataWidth.W))) else None\n",
    "    \n",
    "    idRes.get := io.in.data\n",
    "    \n",
    "    if (c.reluSupp) {\n",
    "        when (io.in.data > 0.S) {\n",
    "            reluRes.get := io.in.data\n",
    "        } .otherwise {\n",
    "            reluRes.get := 0.S\n",
    "        }\n",
    "    }\n",
    "    \n",
    "    val inters = (idRes :: reluRes :: Nil) filter ( _.isDefined ) map ( _.get )\n",
    "    io.out := PriorityMux(io.in.fSel, inters)\n",
    "}"
   ]
  },
  {
   "cell_type": "markdown",
   "metadata": {},
   "source": [
    "## Control\n",
    "\n",
    "Control is implemented via a State Machine (Moore) and Decoder. The state machine must have its states and state transitions configured. The Decoder must have its input-output map configured."
   ]
  },
  {
   "cell_type": "markdown",
   "metadata": {},
   "source": [
    "### State Machine\n",
    "\n",
    "The state machine takes a map as a parameter and constructs the appropriate hardware implementation. The State Machine is configured via the \"nextState\" parameter: a map from the current state and current input to the next state."
   ]
  },
  {
   "cell_type": "code",
   "execution_count": 10,
   "metadata": {},
   "outputs": [
    {
     "data": {
      "text/plain": [
       "defined \u001b[32mclass\u001b[39m \u001b[36mStateMachine\u001b[39m"
      ]
     },
     "execution_count": 10,
     "metadata": {},
     "output_type": "execute_result"
    }
   ],
   "source": [
    "class StateMachineConfig(\n",
    "        val numStates: Int, \n",
    "        val numCtrlSigs: Int, \n",
    "        val stateMap: (UInt, UInt, StateMachineConfig) => UInt) {\n",
    "    \n",
    "    val stateWidth = log2Up(numStates)\n",
    "    val ctrlWidth = log2Up(numCtrlSigs)\n",
    "}\n",
    "\n",
    "class StateMachine(c: StateMachineConfig) extends Module {\n",
    "    \n",
    "    val stateWidth: Int = log2Up(c.numStates)\n",
    "    \n",
    "    val io = IO(new Bundle {\n",
    "        val control = Input (UInt(c.ctrlWidth.W ))\n",
    "        val out     = Output(UInt(c.stateWidth.W))\n",
    "    })\n",
    "    \n",
    "    val register = RegInit(0.U(c.stateWidth.W))\n",
    "    register := c.stateMap(register, io.control, c)\n",
    "    io.out := register\n",
    "}"
   ]
  },
  {
   "cell_type": "markdown",
   "metadata": {},
   "source": [
    "### Decoder\n",
    "\n",
    "The decoder acts as is typical in processors: it converts the state information into all the control signals associated with the appropriate state. It must be configured via the \"decode\" parameter, a map from the state and control signal name to the desired value."
   ]
  },
  {
   "cell_type": "code",
   "execution_count": 0,
   "metadata": {},
   "outputs": [
    {
     "name": "stderr",
     "output_type": "stream",
     "text": [
      "cmd0.sc:2: not found: type PRFConfig\n",
      "        val weightPRFConfig: PRFConfig,\n",
      "                             ^cmd0.sc:3: not found: type PRFConfig\n",
      "        val actvtnPRFConfig: PRFConfig,\n",
      "                             ^cmd0.sc:4: not found: type PRFConfig\n",
      "        val intrnlPRFConfig: PRFConfig,\n",
      "                             ^cmd0.sc:5: not found: type IPUConfig\n",
      "        val ipuConfig: IPUConfig,\n",
      "                       ^cmd0.sc:6: not found: type ALUConfig\n",
      "        val aluConfig: ALUConfig,\n",
      "                       ^cmd0.sc:7: not found: type NLUConfig\n",
      "        val nluConfig: NLUConfig,\n",
      "                       ^cmd0.sc:8: not found: type StateMachineConfig\n",
      "        val smConfig: StateMachineConfig,\n",
      "                      ^cmd0.sc:9: not found: type UInt\n",
      "        val decodeWeightPRF: (UInt, PRFConfig) => Data,\n",
      "                              ^cmd0.sc:9: not found: type PRFConfig\n",
      "        val decodeWeightPRF: (UInt, PRFConfig) => Data,\n",
      "                                    ^cmd0.sc:9: not found: type Data\n",
      "        val decodeWeightPRF: (UInt, PRFConfig) => Data,\n",
      "                                                  ^cmd0.sc:10: not found: type UInt\n",
      "        val decodeActvtnPRF: (UInt, PRFConfig) => Data,\n",
      "                              ^cmd0.sc:10: not found: type PRFConfig\n",
      "        val decodeActvtnPRF: (UInt, PRFConfig) => Data,\n",
      "                                    ^cmd0.sc:10: not found: type Data\n",
      "        val decodeActvtnPRF: (UInt, PRFConfig) => Data,\n",
      "                                                  ^cmd0.sc:11: not found: type UInt\n",
      "        val decodeIntrnlPRF: (UInt, PRFConfig) => Data,\n",
      "                              ^cmd0.sc:11: not found: type PRFConfig\n",
      "        val decodeIntrnlPRF: (UInt, PRFConfig) => Data,\n",
      "                                    ^cmd0.sc:11: not found: type Data\n",
      "        val decodeIntrnlPRF: (UInt, PRFConfig) => Data,\n",
      "                                                  ^cmd0.sc:12: not found: type UInt\n",
      "        val decodeIPU: (UInt, IPUConfig) => Data,\n",
      "                        ^cmd0.sc:12: not found: type IPUConfig\n",
      "        val decodeIPU: (UInt, IPUConfig) => Data,\n",
      "                              ^cmd0.sc:12: not found: type Data\n",
      "        val decodeIPU: (UInt, IPUConfig) => Data,\n",
      "                                            ^cmd0.sc:13: not found: type UInt\n",
      "        val decodeALU: (UInt, ALUConfig) => Data,\n",
      "                        ^cmd0.sc:13: not found: type ALUConfig\n",
      "        val decodeALU: (UInt, ALUConfig) => Data,\n",
      "                              ^cmd0.sc:13: not found: type Data\n",
      "        val decodeALU: (UInt, ALUConfig) => Data,\n",
      "                                            ^cmd0.sc:14: not found: type UInt\n",
      "        val decodeNLU: (UInt, NLUConfig) => Data)\n",
      "                        ^cmd0.sc:14: not found: type NLUConfig\n",
      "        val decodeNLU: (UInt, NLUConfig) => Data)\n",
      "                              ^cmd0.sc:14: not found: type Data\n",
      "        val decodeNLU: (UInt, NLUConfig) => Data)\n",
      "                                            ^cmd0.sc:16: not found: type Bundle\n",
      "class MemoryControl(c: DecoderConfig) extends Bundle {\n",
      "                                              ^cmd0.sc:20: not found: value Output\n",
      "    val weightPRF = Output(new PRFControl(c.weightPRFConfig))\n",
      "                    ^cmd0.sc:20: not found: type PRFControl\n",
      "    val weightPRF = Output(new PRFControl(c.weightPRFConfig))\n",
      "                               ^cmd0.sc:21: not found: value Output\n",
      "    val actvtnPRF = Output(new PRFControl(c.actvtnPRFConfig))\n",
      "                    ^cmd0.sc:21: not found: type PRFControl\n",
      "    val actvtnPRF = Output(new PRFControl(c.actvtnPRFConfig))\n",
      "                               ^cmd0.sc:22: not found: value Output\n",
      "    val intrnlPRF = Output(new PRFControl(c.intrnlPRFConfig))\n",
      "                    ^cmd0.sc:22: not found: type PRFControl\n",
      "    val intrnlPRF = Output(new PRFControl(c.intrnlPRFConfig))\n",
      "                               ^cmd0.sc:25: not found: type Bundle\n",
      "class ProcessControl(c: DecoderConfig) extends Bundle {\n",
      "                                               ^cmd0.sc:29: not found: value Output\n",
      "    val aluFSel = Output(Vec(c.aluConfig.numFuncs, Bool()))\n",
      "                  ^cmd0.sc:29: not found: value Vec\n",
      "    val aluFSel = Output(Vec(c.aluConfig.numFuncs, Bool()))\n",
      "                         ^cmd0.sc:29: not found: value Bool\n",
      "    val aluFSel = Output(Vec(c.aluConfig.numFuncs, Bool()))\n",
      "                                                   ^cmd0.sc:30: not found: value Output\n",
      "    val nluFSel = Output(Vec(c.nluConfig.numFuncs, Bool()))\n",
      "                  ^cmd0.sc:30: not found: value Vec\n",
      "    val nluFSel = Output(Vec(c.nluConfig.numFuncs, Bool()))\n",
      "                         ^cmd0.sc:30: not found: value Bool\n",
      "    val nluFSel = Output(Vec(c.nluConfig.numFuncs, Bool()))\n",
      "                                                   ^cmd0.sc:35: not found: value Output\n",
      "    val ipuBpSel = if (bpFirm) Some(Output(Vec(ports, Bool()))) else None\n",
      "                                    ^cmd0.sc:35: not found: value Vec\n",
      "    val ipuBpSel = if (bpFirm) Some(Output(Vec(ports, Bool()))) else None\n",
      "                                           ^cmd0.sc:35: not found: value Bool\n",
      "    val ipuBpSel = if (bpFirm) Some(Output(Vec(ports, Bool()))) else None\n",
      "                                                      ^cmd0.sc:38: not found: type Module\n",
      "class Decoder(c: DecoderConfig) extends Module {\n",
      "                                        ^cmd0.sc:40: not found: value IO\n",
      "    val io = IO(new Bundle {\n",
      "             ^cmd0.sc:40: not found: type Bundle\n",
      "    val io = IO(new Bundle {\n",
      "                    ^cmd0.sc:41: not found: value Input\n",
      "        val state = Input(UInt(c.smConfig.stateWidth.W))\n",
      "                    ^cmd0.sc:41: not found: value UInt\n",
      "        val state = Input(UInt(c.smConfig.stateWidth.W))\n",
      "                          ^cmd0.sc:42: not found: value Output\n",
      "        val mem = Output(new MemoryControl(c))\n",
      "                  ^cmd0.sc:43: not found: value Output\n",
      "        val proc = Output(new ProcessControl(c))\n",
      "                   ^"
     ]
    },
    {
     "ename": "",
     "evalue": "",
     "output_type": "error",
     "traceback": [
      "Compilation Failed"
     ]
    }
   ],
   "source": [
    "class DecoderConfig(\n",
    "        val weightPRFConfig: PRFConfig,\n",
    "        val actvtnPRFConfig: PRFConfig,\n",
    "        val intrnlPRFConfig: PRFConfig,\n",
    "        val ipuConfig: IPUConfig,\n",
    "        val aluConfig: ALUConfig,\n",
    "        val nluConfig: NLUConfig,\n",
    "        val smConfig: StateMachineConfig,\n",
    "        val decodeWeightPRF: (UInt, PRFConfig) => Data,\n",
    "        val decodeActvtnPRF: (UInt, PRFConfig) => Data,\n",
    "        val decodeIntrnlPRF: (UInt, PRFConfig) => Data,\n",
    "        val decodeIPU: (UInt, IPUConfig) => Data,\n",
    "        val decodeALU: (UInt, ALUConfig) => Data,\n",
    "        val decodeNLU: (UInt, NLUConfig) => Data)\n",
    "\n",
    "class MemoryControl(c: DecoderConfig) extends Bundle {\n",
    "    \n",
    "    override def cloneType = (new MemoryControl(c)).asInstanceOf[this.type]\n",
    "    \n",
    "    val weightPRF = Output(new PRFControl(c.weightPRFConfig))\n",
    "    val actvtnPRF = Output(new PRFControl(c.actvtnPRFConfig))\n",
    "    val intrnlPRF = Output(new PRFControl(c.intrnlPRFConfig))\n",
    "}\n",
    "\n",
    "class ProcessControl(c: DecoderConfig) extends Bundle {\n",
    "    \n",
    "    override def cloneType = (new ProcessControl(c)).asInstanceOf[this.type]\n",
    "    \n",
    "    val aluFSel = Output(Vec(c.aluConfig.numFuncs, Bool()))\n",
    "    val nluFSel = Output(Vec(c.nluConfig.numFuncs, Bool()))\n",
    "    \n",
    "    val ports = c.weightPRFConfig.ports\n",
    "    val bpFirm = c.ipuConfig.bpFirm\n",
    "    \n",
    "    val ipuBpSel = if (bpFirm) Some(Output(Vec(ports, Bool()))) else None\n",
    "}\n",
    "\n",
    "class Decoder(c: DecoderConfig) extends Module {\n",
    "    \n",
    "    val io = IO(new Bundle {\n",
    "        val state = Input(UInt(c.smConfig.stateWidth.W))\n",
    "        val mem = Output(new MemoryControl(c))\n",
    "        val proc = Output(new ProcessControl(c))\n",
    "    })\n",
    "    \n",
    "    io.mem.weightPRF <> c.decodeWeightPRF(io.state, c.weightPRFConfig)\n",
    "    io.mem.actvtnPRF <> c.decodeActvtnPRF(io.state, c.actvtnPRFConfig)\n",
    "    io.mem.intrnlPRF <> c.decodeIntrnlPRF(io.state, c.intrnlPRFConfig)\n",
    "    \n",
    "    if (c.ipuConfig.bpFirm) { \n",
    "        io.proc.ipuBpSel.get := c.decodeIPU(io.state, c.ipuConfig)\n",
    "    }\n",
    "    \n",
    "    io.proc.aluFSel := c.decodeALU(io.state, c.aluConfig)\n",
    "    io.proc.nluFSel := c.decodeNLU(io.state, c.nluConfig)\n",
    "}"
   ]
  },
  {
   "cell_type": "markdown",
   "metadata": {},
   "source": [
    "## Putting it all Together"
   ]
  },
  {
   "cell_type": "code",
   "execution_count": 18,
   "metadata": {},
   "outputs": [
    {
     "data": {
      "text/plain": [
       "defined \u001b[32mclass\u001b[39m \u001b[36mnPE\u001b[39m"
      ]
     },
     "execution_count": 18,
     "metadata": {},
     "output_type": "execute_result"
    }
   ],
   "source": [
    "class nPE(stateMap: Map[(UInt, UInt), UInt], extrnl_ctrl_width: Int, // State Machine\n",
    "          decode: (UInt, String) => Data, RFports: Int, weightRFBP: String, actvtnRFBP: String, datawidth: Int, addrwidth: Int,\n",
    "          aluFuncs: List[String], nluFuncs: List[String], intrnlRFBP: String\n",
    "         ) extends Module {\n",
    "    \n",
    "    val io = IO(new Bundle {\n",
    "        val extrnl_ctrl   = Input (SInt(extrnl_ctrl_width.W))\n",
    "        val weightRF_in   = Input (Vec(RFports, SInt(datawidth.W)))\n",
    "        val actvtnRF_in   = Input (Vec(RFports, SInt(datawidth.W)))\n",
    "        val intrnlRF_in   = Input (SInt(datawidth.W))\n",
    "        val weightRF_2NoC = Output(Vec(RFports, SInt(datawidth.W)))\n",
    "        val actvtnRF_2NoC = Output(Vec(RFports, SInt(datawidth.W)))\n",
    "        val intrnlRF_2NoC = Output(SInt(datawidth.W))\n",
    "        val output        = Output(SInt(datawidth.W))\n",
    "    })\n",
    "    \n",
    "    val stateMachine = new StateMachine(stateMap, extrnl_ctrl_width)\n",
    "    stateMachine.io.control := io.extrnl_ctrl\n",
    "    \n",
    "    val decoder = new Decoder(decode, log2Up(stateMap.size), \n",
    "                              RFports, datawidth, addrwidth, aluFuncs, nluFuncs)\n",
    "    decoder.io.state := stateMachine.io.state\n",
    "    \n",
    "    \n",
    "    // Weight RF\n",
    "    val weightRF = new pRF(RFports, weightRFBP, datawidth, addrwidth)\n",
    "    \n",
    "    // Mandatory Control\n",
    "    weightRF.io.write_en    := decoder.io.weightRF_wen\n",
    "    weightRF.io.read_en     := decoder.io.weightRF_ren\n",
    "    weightRF.io.waddr       := decoder.io.weightRF_waddr\n",
    "    weightRF.io.raddr_int   := decoder.io.weightRF_raddr_int\n",
    "    weightRF.io.raddr_ext   := decoder.io.weightRF_raddr_ext\n",
    "    \n",
    "    // Optional Control\n",
    "    if ( weightRF.io.bp_slct.isDefined ) { weightRF.io.bp_slct.get := decoder.io.weightRF_bp_slct_get }\n",
    "    \n",
    "    // Mandatory Outputs\n",
    "    weightRF.io.wdata := io.weightRF_in\n",
    "    \n",
    "    // Optional Outputs\n",
    "    io.weightRF_2NoC  := weightRF.io.rdata_ext\n",
    "    \n",
    "    // Activation RF\n",
    "    val actvtnRF = new pRF(RFports, actvtnRFBP, datawidth, addrwidth)\n",
    "    \n",
    "    // Mandatory Control\n",
    "    actvtnRF.io.write_en    := decoder.io.actvtnRF_wen\n",
    "    actvtnRF.io.read_en     := decoder.io.actvtnRF_ren\n",
    "    actvtnRF.io.waddr       := decoder.io.actvtnRF_waddr\n",
    "    actvtnRF.io.raddr_int   := decoder.io.actvtnRF_raddr_int\n",
    "    actvtnRF.io.raddr_ext   := decoder.io.actvtnRF_raddr_ext\n",
    "    \n",
    "    // Optional Control\n",
    "    if ( actvtnRF.io.bp_slct.isDefined ) { actvtnRF.io.bp_slct.get := decoder.io.actvtnRF_bp_slct_get }\n",
    "    \n",
    "    // Mandatory Outputs\n",
    "    actvtnRF.io.wdata := io.weightRF_in\n",
    "    \n",
    "    // Optional Outputs\n",
    "    io.actvtnRF_2NoC     := actvtnRF.io.rdata_ext\n",
    "       \n",
    "    val ipuBP = if(aluFuncs.contains(\"Add\") || aluFuncs.contains(\"Max\")) \"Firm\" else \"None\" \n",
    "    val ipu   = new IPU(RFports, ipuBP, datawidth)\n",
    "    if (ipu.io.sel.isDefined) { ipu.io.sel.get := decoder.io.ipu_sel_get }\n",
    "    ipu.io.in1 := weightRF.io.rdata_int\n",
    "    ipu.io.in2 := actvtnRF.io.rdata_int\n",
    "    \n",
    "    val alu = new ALU(aluFuncs, datawidth)\n",
    "    alu.io.func_slct := decoder.io.alu_func_slct\n",
    "    alu.io.innr_prod := ipu.io.out\n",
    "    if(alu.io.weight_bp.isDefined) alu.io.weight_bp.get := ipu.io.bp1.get\n",
    "    if(alu.io.actvtn_bp.isDefined) alu.io.actvtn_bp.get := ipu.io.bp2.get\n",
    "    \n",
    "    val intrnlRF = new pRF(1, intrnlRFBP, datawidth, addrwidth)\n",
    "    intrnlRF.io.write_en  := decoder.io.intrnlRF_write_en\n",
    "    intrnlRF.io.read_en   := decoder.io.intrnlRF_read_en\n",
    "    intrnlRF.io.waddr     := decoder.io.intrnlRF_waddr\n",
    "    intrnlRF.io.raddr_int := decoder.io.intrnlRF_raddr_int\n",
    "    intrnlRF.io.raddr_ext := decoder.io.intrnlRF_raddr_ext\n",
    "    if (intrnlRF.io.bp_slct.isDefined) { intrnlRF.io.bp_slct.get := decoder.io.intrnlRF_bp_slct_get }\n",
    "    intrnlRF.io.wdata := Mux(decoder.io.intrnlRF_wdata_slct, alu.io.output, io.intrnlRF_in)\n",
    "    io.intrnlRF_2NoC := intrnlRF.io.rdata_ext\n",
    "    if(alu.io.rf_feedbk.isDefined) alu.io.rf_feedbk.get := intrnlRF.io.rdata_int\n",
    "    \n",
    "    val nlu = new NonlinearUnit(nluFuncs, datawidth)\n",
    "    nlu.io.fslct := decoder.io.nlu_func_slct\n",
    "    nlu.io.input     := intrnlRF.io.rdata_int\n",
    "    io.output        := nlu.io.outpt\n",
    "    \n",
    "    // Woot woot\n",
    "}"
   ]
  },
  {
   "cell_type": "markdown",
   "metadata": {},
   "source": [
    "## Future Plans\n",
    "\n",
    "Basing the nPE off bypasses (i.e. subtractive modifications to a preconfigured topology) is limiting. A constructive approach would be much more general. This should be accomplished through a DSL and much more fully utilizing the functional programming capabilities of Scala."
   ]
  }
 ],
 "metadata": {
  "kernelspec": {
   "display_name": "Scala",
   "language": "scala",
   "name": "scala"
  },
  "language_info": {
   "codemirror_mode": "text/x-scala",
   "file_extension": ".scala",
   "mimetype": "text/x-scala",
   "name": "scala211",
   "nbconvert_exporter": "script",
   "pygments_lexer": "scala",
   "version": "2.11.11"
  }
 },
 "nbformat": 4,
 "nbformat_minor": 2
}
