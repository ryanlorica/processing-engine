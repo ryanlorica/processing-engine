{
 "cells": [
  {
   "cell_type": "markdown",
   "metadata": {},
   "source": [
    "# nPE: A Configurable Processing Engine\n",
    "#### Verification | Version 0.5.1 | Updated 2018.7.26\n",
    "___"
   ]
  },
  {
   "cell_type": "markdown",
   "metadata": {},
   "source": [
    "## Setup"
   ]
  },
  {
   "cell_type": "code",
   "execution_count": 1,
   "metadata": {},
   "outputs": [
    {
     "data": {
      "text/plain": [
       "\u001b[36mpath\u001b[39m: \u001b[32mString\u001b[39m = \u001b[32m\"\"\"\n",
       "C:\\Users\\RyanL\\OneDrive\\Research\\SEAL\\processing-engine/source/load-ivy.sc\n",
       "\"\"\"\u001b[39m"
      ]
     },
     "execution_count": 1,
     "metadata": {},
     "output_type": "execute_result"
    }
   ],
   "source": [
    "val path = System.getProperty(\"user.dir\") + \"/source/load-ivy.sc\"\n",
    "interp.load.module(ammonite.ops.Path(java.nio.file.FileSystems.getDefault().getPath(path)))"
   ]
  },
  {
   "cell_type": "code",
   "execution_count": 2,
   "metadata": {},
   "outputs": [
    {
     "data": {
      "text/plain": [
       "\u001b[32mimport \u001b[39m\u001b[36mchisel3._\r\n",
       "\u001b[39m\r\n",
       "\u001b[32mimport \u001b[39m\u001b[36mchisel3.util._\r\n",
       "\u001b[39m\r\n",
       "\u001b[32mimport \u001b[39m\u001b[36mchisel3.iotesters.{ChiselFlatSpec, Driver, PeekPokeTester}\r\n",
       "\r\n",
       "\u001b[39m\r\n",
       "\u001b[32mimport \u001b[39m\u001b[36mscala.math.pow\u001b[39m"
      ]
     },
     "execution_count": 2,
     "metadata": {},
     "output_type": "execute_result"
    }
   ],
   "source": [
    "import chisel3._\n",
    "import chisel3.util._\n",
    "import chisel3.iotesters.{ChiselFlatSpec, Driver, PeekPokeTester}\n",
    "\n",
    "import scala.math.pow"
   ]
  },
  {
   "cell_type": "markdown",
   "metadata": {},
   "source": [
    "## Parallel Register File"
   ]
  },
  {
   "cell_type": "markdown",
   "metadata": {},
   "source": [
    "### Single Register File"
   ]
  },
  {
   "cell_type": "markdown",
   "metadata": {},
   "source": [
    "#### Definition"
   ]
  },
  {
   "cell_type": "code",
   "execution_count": 42,
   "metadata": {},
   "outputs": [
    {
     "data": {
      "text/plain": [
       "defined \u001b[32mclass\u001b[39m \u001b[36mRFConfig\u001b[39m\r\n",
       "defined \u001b[32mclass\u001b[39m \u001b[36mRFControl\u001b[39m\r\n",
       "defined \u001b[32mclass\u001b[39m \u001b[36mRFOutputs\u001b[39m\r\n",
       "defined \u001b[32mclass\u001b[39m \u001b[36mRF\u001b[39m"
      ]
     },
     "execution_count": 42,
     "metadata": {},
     "output_type": "execute_result"
    }
   ],
   "source": [
    "class RFConfig(val addrWidth: Int, val dataWidth: Int, val bpSupport: Boolean)\n",
    "\n",
    "class RFControl(addrWidth: Int, bpSupp: Boolean) extends Bundle {\n",
    "    \n",
    "    override def cloneType = (new RFControl(addrWidth, bpSupp)).asInstanceOf[this.type]\n",
    "    \n",
    "    val wEnable  = Bool()\n",
    "    val rEnable  = Bool()\n",
    "    val wAddr    = UInt(addrWidth.W)\n",
    "    val rAddrInt = UInt(addrWidth.W)\n",
    "    val rAddrExt = UInt(addrWidth.W)\n",
    "    val bpSel    = if (bpSupp) Some(Bool()) else None\n",
    "}\n",
    "\n",
    "class RFOutputs(dataWidth: Int) extends Bundle {\n",
    "    \n",
    "    override def cloneType = (new RFOutputs(dataWidth)).asInstanceOf[this.type]\n",
    "    \n",
    "    val int = SInt(dataWidth.W)\n",
    "    val ext = SInt(dataWidth.W)\n",
    "}\n",
    "\n",
    "class RF(config: RFConfig) extends Module {\n",
    "  \n",
    "    val aw = config.addrWidth\n",
    "    val dw = config.dataWidth\n",
    "    val bp = config.bpSupport\n",
    "    \n",
    "    val io = IO(new Bundle {\n",
    "        val control = Input(new RFControl(aw, bp))\n",
    "        val dataIn  = Input(SInt(dw.W))\n",
    "        val dataOut = Output(new RFOutputs(dw))\n",
    "    })\n",
    "    \n",
    "    val registers = RegInit(Vec(Seq.fill(pow(2, aw).toInt) { 0.S(aw.W) }))\n",
    "    \n",
    "    when (io.control.wEnable) {\n",
    "        registers(io.control.wAddr) := io.dataIn\n",
    "    }\n",
    "    \n",
    "    when (io.control.rEnable) {\n",
    "        when(io.control.bpSel.getOrElse(false.B)) {\n",
    "            io.dataOut.int := io.dataIn\n",
    "            io.dataOut.ext := io.dataIn\n",
    "        } .otherwise {\n",
    "            io.dataOut.int := registers(io.control.rAddrInt)\n",
    "            io.dataOut.ext := registers(io.control.rAddrExt)\n",
    "        }\n",
    "    } .otherwise {\n",
    "        io.dataOut.int := 0.S\n",
    "        io.dataOut.ext := 0.S\n",
    "    }\n",
    "}"
   ]
  },
  {
   "cell_type": "markdown",
   "metadata": {},
   "source": [
    "#### Verification"
   ]
  },
  {
   "cell_type": "code",
   "execution_count": 43,
   "metadata": {},
   "outputs": [
    {
     "name": "stdout",
     "output_type": "stream",
     "text": [
      "[\u001b[35minfo\u001b[0m] [0.000] Elaborating design...\n",
      "[\u001b[35minfo\u001b[0m] [0.010] Done elaborating.\n",
      "Total FIRRTL Compile Time: 38.3 ms\n",
      "Total FIRRTL Compile Time: 27.2 ms\n",
      "End of dependency graph\n",
      "Circuit state created\n",
      "[\u001b[35minfo\u001b[0m] [0.000] SEED 1532723136851\n",
      "test cmd41WrapperHelperRF Success: 11 tests passed in 9 cycles taking 0.019763 seconds\n",
      "[\u001b[35minfo\u001b[0m] [0.018] RAN 4 CYCLES PASSED\n"
     ]
    },
    {
     "data": {
      "text/plain": [
       "\u001b[36mrfCon\u001b[39m: \u001b[32mRFConfig\u001b[39m = $sess.cmd41Wrapper$Helper$RFConfig@5b4daca8\r\n",
       "\u001b[36mres42_1\u001b[39m: \u001b[32mBoolean\u001b[39m = \u001b[32mtrue\u001b[39m"
      ]
     },
     "execution_count": 43,
     "metadata": {},
     "output_type": "execute_result"
    }
   ],
   "source": [
    "val rfCon = new RFConfig(addrWidth = 4, dataWidth = 8, bpSupport = true)\n",
    "\n",
    "Driver(() => new RF(rfCon)) {\n",
    "    uut => new PeekPokeTester(uut) {\n",
    "         \n",
    "        poke(uut.io.control.bpSel.get, false)\n",
    "        poke(uut.io.control.wEnable, true)   \n",
    "        poke(uut.io.control.rEnable, true)\n",
    "\n",
    "        poke(uut.io.control.wAddr, 1)\n",
    "        poke(uut.io.dataIn, 1)\n",
    "        \n",
    "        step(1)\n",
    "        \n",
    "        poke(uut.io.control.rAddrInt, 1)\n",
    "        expect(uut.io.dataOut.int, 1)\n",
    "        \n",
    "        poke(uut.io.control.rAddrExt, 1)\n",
    "        expect(uut.io.dataOut.ext, 1)\n",
    "        \n",
    "        poke(uut.io.control.wAddr, 2)\n",
    "        poke(uut.io.dataIn, 2)\n",
    "        \n",
    "        step(1)\n",
    "        \n",
    "        poke(uut.io.control.rAddrInt, 1)\n",
    "        expect(uut.io.dataOut.int, 1)\n",
    "        \n",
    "        poke(uut.io.control.rAddrExt, 2)\n",
    "        expect(uut.io.dataOut.ext, 2)\n",
    "        \n",
    "        poke(uut.io.control.wAddr, 3)\n",
    "        poke(uut.io.dataIn, 3)\n",
    "        \n",
    "        step(1)\n",
    "        \n",
    "        poke(uut.io.control.rAddrInt, 1)\n",
    "        expect(uut.io.dataOut.int, 1)\n",
    "        \n",
    "        poke(uut.io.control.rAddrExt, 2)\n",
    "        expect(uut.io.dataOut.ext, 2)\n",
    "        \n",
    "        poke(uut.io.control.rAddrInt, 3)\n",
    "        expect(uut.io.dataOut.int, 3)\n",
    "        \n",
    "        step(1)\n",
    "        \n",
    "        poke(uut.io.control.bpSel.get, true)\n",
    "        poke(uut.io.dataIn, 10)\n",
    "        expect(uut.io.dataOut.int, 10)\n",
    "        expect(uut.io.dataOut.ext, 10)\n",
    "        \n",
    "        poke(uut.io.control.bpSel.get, false)\n",
    "        expect(uut.io.dataOut.int, 3)\n",
    "        expect(uut.io.dataOut.ext, 2)\n",
    "        \n",
    "    }\n",
    "}"
   ]
  },
  {
   "cell_type": "markdown",
   "metadata": {},
   "source": [
    "### Putting them Together"
   ]
  },
  {
   "cell_type": "markdown",
   "metadata": {},
   "source": [
    "#### Definition"
   ]
  },
  {
   "cell_type": "code",
   "execution_count": 44,
   "metadata": {},
   "outputs": [
    {
     "data": {
      "text/plain": [
       "defined \u001b[32mclass\u001b[39m \u001b[36mPRFConfig\u001b[39m\r\n",
       "defined \u001b[32mclass\u001b[39m \u001b[36mPRFControl\u001b[39m\r\n",
       "defined \u001b[32mclass\u001b[39m \u001b[36mPRF\u001b[39m"
      ]
     },
     "execution_count": 44,
     "metadata": {},
     "output_type": "execute_result"
    }
   ],
   "source": [
    "class PRFConfig(\n",
    "        val ports: Int,\n",
    "        val dataWidth: Int,\n",
    "        val addrWidth: Int,\n",
    "        val bpType: String) {\n",
    "    \n",
    "    require(List(\"None\", \"Soft\", \"Hard\") contains bpType)\n",
    "    \n",
    "    val bpNone = (bpType == \"None\")\n",
    "    val bpSoft = (bpType == \"Soft\")\n",
    "    val bpHard = (bpType == \"Hard\")\n",
    "    \n",
    "    val rfConfig = new RFConfig(addrWidth, dataWidth, bpSoft)\n",
    "}\n",
    "\n",
    "class PRFControl(ports: Int, addrWidth: Int, bpSoft: Boolean) extends Bundle {\n",
    "    \n",
    "    override def cloneType = (new PRFControl(ports, addrWidth, bpSoft)).asInstanceOf[this.type]\n",
    "    \n",
    "    val rf = Vec(ports, new RFControl(addrWidth, bpSoft))\n",
    "}\n",
    "\n",
    "class PRF(config: PRFConfig) extends Module {\n",
    "    \n",
    "    val pt = config.ports\n",
    "    val aw = config.addrWidth\n",
    "    val dw = config.dataWidth\n",
    "    \n",
    "    val rfConfig = config.rfConfig\n",
    "\n",
    "    val bpNone = config.bpNone\n",
    "    val bpSoft = config.bpSoft\n",
    "    val bpHard = config.bpHard\n",
    "    \n",
    "    val io = IO(new Bundle {\n",
    "        val control = Input(new PRFControl(pt, aw, bpSoft))\n",
    "        val dataIn = Input(Vec(pt, SInt(dw.W)))\n",
    "        val dataOut = Output(Vec(pt, new RFOutputs(dw)))\n",
    "    })\n",
    "    \n",
    "    if (bpNone || bpSoft) {\n",
    "        \n",
    "        val rf = Seq.fill(pt){ Module(new RF(rfConfig)) }\n",
    "        \n",
    "        rf.zipWithIndex.map {\n",
    "            case (x: RF, i: Int) => { \n",
    "                x.io.control <> io.control.rf(i)\n",
    "                x.io.dataIn := io.dataIn(i)\n",
    "                \n",
    "                io.dataOut(i) <> x.io.dataOut\n",
    "            } \n",
    "        }\n",
    "        \n",
    "    } else if (bpHard) {\n",
    "        for (i <- 0 until pt) {\n",
    "            io.dataOut(i).int := io.dataIn(i)\n",
    "            io.dataOut(i).ext := io.dataIn(i)\n",
    "        }\n",
    "    }\n",
    "}"
   ]
  },
  {
   "cell_type": "markdown",
   "metadata": {},
   "source": [
    "#### Verification"
   ]
  },
  {
   "cell_type": "code",
   "execution_count": 45,
   "metadata": {},
   "outputs": [
    {
     "name": "stdout",
     "output_type": "stream",
     "text": [
      "[\u001b[35minfo\u001b[0m] [0.000] Elaborating design...\n",
      "[\u001b[35minfo\u001b[0m] [0.014] Done elaborating.\n",
      "Total FIRRTL Compile Time: 49.3 ms\n",
      "Total FIRRTL Compile Time: 40.3 ms\n",
      "End of dependency graph\n",
      "Circuit state created\n",
      "[\u001b[35minfo\u001b[0m] [0.000] SEED 1532723141424\n",
      "test cmd43WrapperHelperPRF Success: 18 tests passed in 8 cycles taking 0.036353 seconds\n",
      "[\u001b[35minfo\u001b[0m] [0.033] RAN 3 CYCLES PASSED\n"
     ]
    },
    {
     "data": {
      "text/plain": [
       "\u001b[36mprfCon\u001b[39m: \u001b[32mPRFConfig\u001b[39m = $sess.cmd43Wrapper$Helper$PRFConfig@5d5b31e1\r\n",
       "\u001b[36mres44_1\u001b[39m: \u001b[32mBoolean\u001b[39m = \u001b[32mtrue\u001b[39m"
      ]
     },
     "execution_count": 45,
     "metadata": {},
     "output_type": "execute_result"
    }
   ],
   "source": [
    "val prfCon = new PRFConfig(\n",
    "    ports = 2,\n",
    "    addrWidth = 4,\n",
    "    dataWidth = 8,\n",
    "    bpType = \"Soft\")\n",
    "\n",
    "Driver(() => new PRF(prfCon)) {\n",
    "    uut => new PeekPokeTester(uut) {\n",
    "         \n",
    "        poke(uut.io.control.rf(0).wEnable, true)  \n",
    "        poke(uut.io.control.rf(1).wEnable, true) \n",
    "        poke(uut.io.control.rf(0).rEnable, true)\n",
    "        poke(uut.io.control.rf(1).rEnable, true)\n",
    "        poke(uut.io.control.rf(0).bpSel.get, false)\n",
    "        poke(uut.io.control.rf(1).bpSel.get, false)\n",
    "\n",
    "        poke(uut.io.control.rf(0).wAddr, 1)\n",
    "        poke(uut.io.control.rf(1).wAddr, 1)\n",
    "        poke(uut.io.dataIn(0), 1)\n",
    "        poke(uut.io.dataIn(1), 1)\n",
    "        \n",
    "        step(1)\n",
    "        \n",
    "        // Read\n",
    "        poke(uut.io.control.rf(0).rAddrInt, 1)\n",
    "        poke(uut.io.control.rf(1).rAddrInt, 1)\n",
    "        expect(uut.io.dataOut(0).int, 1)\n",
    "        expect(uut.io.dataOut(1).int, 1)\n",
    "        \n",
    "        poke(uut.io.control.rf(0).rAddrExt, 1)\n",
    "        poke(uut.io.control.rf(1).rAddrExt, 1)\n",
    "        expect(uut.io.dataOut(0).ext, 1)\n",
    "        expect(uut.io.dataOut(1).ext, 1)\n",
    "        \n",
    "        // Write\n",
    "        poke(uut.io.control.rf(0).wAddr, 2)\n",
    "        poke(uut.io.control.rf(1).wAddr, 2)\n",
    "        poke(uut.io.dataIn(0), 2)\n",
    "        poke(uut.io.dataIn(1), 2)\n",
    "        \n",
    "        step(1)\n",
    "        \n",
    "        // Read\n",
    "        poke(uut.io.control.rf(0).rAddrInt, 1)\n",
    "        poke(uut.io.control.rf(1).rAddrInt, 1)\n",
    "        expect(uut.io.dataOut(0).int, 1)\n",
    "        expect(uut.io.dataOut(1).int, 1)\n",
    "        \n",
    "        poke(uut.io.control.rf(0).rAddrExt, 2)\n",
    "        poke(uut.io.control.rf(1).rAddrExt, 2)\n",
    "        expect(uut.io.dataOut(0).ext, 2)\n",
    "        expect(uut.io.dataOut(1).ext, 2)\n",
    "        \n",
    "        // Write\n",
    "        poke(uut.io.control.rf(0).wAddr, 3)\n",
    "        poke(uut.io.control.rf(1).wAddr, 3)\n",
    "        poke(uut.io.dataIn(0), 3)\n",
    "        poke(uut.io.dataIn(1), 3)\n",
    "        \n",
    "        step(1)\n",
    "        \n",
    "        // Read\n",
    "        poke(uut.io.control.rf(0).rAddrInt, 1)\n",
    "        poke(uut.io.control.rf(1).rAddrInt, 1)\n",
    "        expect(uut.io.dataOut(0).int, 1)\n",
    "        expect(uut.io.dataOut(1).int, 1)\n",
    "        \n",
    "        poke(uut.io.control.rf(0).rAddrExt, 2)\n",
    "        poke(uut.io.control.rf(1).rAddrExt, 2)\n",
    "        expect(uut.io.dataOut(0).ext, 2)\n",
    "        expect(uut.io.dataOut(1).ext, 2)\n",
    "        \n",
    "        poke(uut.io.control.rf(0).rAddrInt, 3)\n",
    "        poke(uut.io.control.rf(1).rAddrInt, 3)\n",
    "        expect(uut.io.dataOut(0).int, 3)\n",
    "        expect(uut.io.dataOut(1).int, 3)\n",
    "        \n",
    "        // Bypass\n",
    "        poke(uut.io.control.rf(0).bpSel.get, true)\n",
    "        poke(uut.io.control.rf(1).bpSel.get, false)\n",
    "        poke(uut.io.dataIn(0), 10)\n",
    "        poke(uut.io.dataIn(1), 10)\n",
    "        expect(uut.io.dataOut(0).int, 10)\n",
    "        expect(uut.io.dataOut(1).int, 3)\n",
    "        expect(uut.io.dataOut(0).ext, 10)\n",
    "        expect(uut.io.dataOut(1).ext, 2)\n",
    "    }\n",
    "}"
   ]
  },
  {
   "cell_type": "markdown",
   "metadata": {},
   "source": [
    "## Inner Product Unit"
   ]
  },
  {
   "cell_type": "markdown",
   "metadata": {},
   "source": [
    "### Parallel Multiplier"
   ]
  },
  {
   "cell_type": "markdown",
   "metadata": {},
   "source": [
    "#### Definition"
   ]
  },
  {
   "cell_type": "code",
   "execution_count": 46,
   "metadata": {},
   "outputs": [
    {
     "data": {
      "text/plain": [
       "defined \u001b[32mclass\u001b[39m \u001b[36mPMultConfig\u001b[39m\r\n",
       "defined \u001b[32mclass\u001b[39m \u001b[36mPMultInput\u001b[39m\r\n",
       "defined \u001b[32mclass\u001b[39m \u001b[36mPMult\u001b[39m"
      ]
     },
     "execution_count": 46,
     "metadata": {},
     "output_type": "execute_result"
    }
   ],
   "source": [
    "class PMultConfig(val numPairs: Int, val bitWidth: Int) {\n",
    "    require(numPairs >= 1, \"Must have at least one pair of multiplicands.\")\n",
    "    require(bitWidth >= 1, \"Bitwidth must be at least one.\")\n",
    "}\n",
    "\n",
    "class PMultInput(numPairs: Int, bitWidth: Int) extends Bundle {\n",
    "    \n",
    "    override def cloneType = (new PMultInput(numPairs, bitWidth)).asInstanceOf[this.type]\n",
    "    \n",
    "    val weight = Vec(numPairs, SInt(bitWidth.W))\n",
    "    val actvtn = Vec(numPairs, SInt(bitWidth.W))\n",
    "}\n",
    "\n",
    "class PMult(config: PMultConfig) extends Module {\n",
    "    \n",
    "    val np = config.numPairs\n",
    "    val bw = config.bitWidth\n",
    "    \n",
    "    val io = IO(new Bundle {\n",
    "        val in = Input(new PMultInput(np, bw))\n",
    "        val prod = Output(Vec(np, SInt(bw.W)))\n",
    "    })\n",
    "    \n",
    "    io.prod := (io.in.weight zip io.in.actvtn).map { case(a, b) => a * b }\n",
    "}"
   ]
  },
  {
   "cell_type": "markdown",
   "metadata": {},
   "source": [
    "#### Verification"
   ]
  },
  {
   "cell_type": "code",
   "execution_count": 47,
   "metadata": {},
   "outputs": [
    {
     "name": "stdout",
     "output_type": "stream",
     "text": [
      "[\u001b[35minfo\u001b[0m] [0.000] Elaborating design...\n",
      "[\u001b[35minfo\u001b[0m] [0.004] Done elaborating.\n",
      "Total FIRRTL Compile Time: 7.8 ms\n",
      "Total FIRRTL Compile Time: 6.7 ms\n",
      "End of dependency graph\n",
      "Circuit state created\n",
      "[\u001b[35minfo\u001b[0m] [0.000] SEED 1532723146968\n",
      "test cmd45WrapperHelperPMult Success: 4 tests passed in 5 cycles taking 0.003905 seconds\n",
      "[\u001b[35minfo\u001b[0m] [0.002] RAN 0 CYCLES PASSED\n"
     ]
    },
    {
     "data": {
      "text/plain": [
       "\u001b[36mpMultCon\u001b[39m: \u001b[32mPMultConfig\u001b[39m = $sess.cmd45Wrapper$Helper$PMultConfig@2e5c82e9\r\n",
       "\u001b[36mres46_1\u001b[39m: \u001b[32mBoolean\u001b[39m = \u001b[32mtrue\u001b[39m"
      ]
     },
     "execution_count": 47,
     "metadata": {},
     "output_type": "execute_result"
    }
   ],
   "source": [
    "val pMultCon = new PMultConfig(numPairs = 4, bitWidth = 8)\n",
    "\n",
    "Driver(() => new PMult(pMultCon)) {\n",
    "    uut => new PeekPokeTester(uut) {\n",
    "        poke(uut.io.in.weight(0), 1) \n",
    "        poke(uut.io.in.actvtn(0), 2)\n",
    "        \n",
    "        poke(uut.io.in.weight(1), 3) \n",
    "        poke(uut.io.in.actvtn(1), 4)\n",
    "        \n",
    "        poke(uut.io.in.weight(2), 5)\n",
    "        poke(uut.io.in.actvtn(2), 6)\n",
    "        \n",
    "        poke(uut.io.in.weight(3), 7)\n",
    "        poke(uut.io.in.actvtn(3), 8)\n",
    "        \n",
    "        expect(uut.io.prod(0), 2)\n",
    "        expect(uut.io.prod(1), 12)\n",
    "        expect(uut.io.prod(2), 30)\n",
    "        expect(uut.io.prod(3), 56)\n",
    "  }\n",
    "}"
   ]
  },
  {
   "cell_type": "markdown",
   "metadata": {},
   "source": [
    "### Additive Reduction Tree"
   ]
  },
  {
   "cell_type": "markdown",
   "metadata": {},
   "source": [
    "#### Definition"
   ]
  },
  {
   "cell_type": "code",
   "execution_count": 48,
   "metadata": {},
   "outputs": [
    {
     "data": {
      "text/plain": [
       "defined \u001b[32mclass\u001b[39m \u001b[36mAdditiveRTConfig\u001b[39m\r\n",
       "defined \u001b[32mfunction\u001b[39m \u001b[36madjReduce\u001b[39m\r\n",
       "defined \u001b[32mclass\u001b[39m \u001b[36mAdditiveRT\u001b[39m"
      ]
     },
     "execution_count": 48,
     "metadata": {},
     "output_type": "execute_result"
    }
   ],
   "source": [
    "class AdditiveRTConfig(val numAddends: Int, val bitWidth: Int) {\n",
    "    require(numAddends >= 1, \"Number of addends must be at least one.\")\n",
    "    require(bitWidth >= 1, \"Bitwidth must be at least one.\")\n",
    "}\n",
    "\n",
    "// Recursively creates a balanced syntax tree\n",
    "def adjReduce[A](xs: List[A], op: (A, A) => A): A = xs match {\n",
    "    case Nil => throw new IllegalArgumentException\n",
    "    case List(single) => single\n",
    "    case default => {\n",
    "        val grouped = default.grouped(2).toList\n",
    "        val result = for (g <- grouped) yield {\n",
    "            g match {\n",
    "                case List(a, b) => op(a, b)\n",
    "                case List(x) => x\n",
    "            }\n",
    "        }\n",
    "        adjReduce(result, op)\n",
    "    }\n",
    "}\n",
    "\n",
    "class AdditiveRT(config: AdditiveRTConfig) extends Module {\n",
    "\n",
    "    val na = config.numAddends\n",
    "    val bw = config.bitWidth\n",
    "    \n",
    "    val io = IO(new Bundle {\n",
    "        val in  = Input(Vec(na, SInt(bw.W)))\n",
    "        val sum = Output(SInt(bw.W))\n",
    "    })\n",
    "    \n",
    "    io.sum := adjReduce(io.in toList, (x: SInt, y: SInt) => x + y)\n",
    "}"
   ]
  },
  {
   "cell_type": "markdown",
   "metadata": {},
   "source": [
    "#### Verilog"
   ]
  },
  {
   "cell_type": "code",
   "execution_count": 49,
   "metadata": {},
   "outputs": [
    {
     "name": "stdout",
     "output_type": "stream",
     "text": [
      "[\u001b[35minfo\u001b[0m] [0.000] Elaborating design...\n",
      "[\u001b[35minfo\u001b[0m] [0.003] Done elaborating.\n",
      "Total FIRRTL Compile Time: 10.0 ms\n",
      "\n",
      "module cmd47WrapperHelperAdditiveRT( // @[:@3.2]\n",
      "  input        clock, // @[:@4.4]\n",
      "  input        reset, // @[:@5.4]\n",
      "  input  [7:0] io_in_0, // @[:@6.4]\n",
      "  input  [7:0] io_in_1, // @[:@6.4]\n",
      "  input  [7:0] io_in_2, // @[:@6.4]\n",
      "  input  [7:0] io_in_3, // @[:@6.4]\n",
      "  output [7:0] io_sum // @[:@6.4]\n",
      ");\n",
      "  wire [8:0] _T_12; // @[cmd47.sc 32:63:@8.4]\n",
      "  wire [7:0] _T_13; // @[cmd47.sc 32:63:@9.4]\n",
      "  wire [7:0] _T_14; // @[cmd47.sc 32:63:@10.4]\n",
      "  wire [8:0] _T_15; // @[cmd47.sc 32:63:@11.4]\n",
      "  wire [7:0] _T_16; // @[cmd47.sc 32:63:@12.4]\n",
      "  wire [7:0] _T_17; // @[cmd47.sc 32:63:@13.4]\n",
      "  wire [8:0] _T_18; // @[cmd47.sc 32:63:@14.4]\n",
      "  wire [7:0] _T_19; // @[cmd47.sc 32:63:@15.4]\n",
      "  wire [7:0] _T_20; // @[cmd47.sc 32:63:@16.4]\n",
      "  assign _T_12 = $signed(io_in_0) + $signed(io_in_1); // @[cmd47.sc 32:63:@8.4]\n",
      "  assign _T_13 = _T_12[7:0]; // @[cmd47.sc 32:63:@9.4]\n",
      "  assign _T_14 = $signed(_T_13); // @[cmd47.sc 32:63:@10.4]\n",
      "  assign _T_15 = $signed(io_in_2) + $signed(io_in_3); // @[cmd47.sc 32:63:@11.4]\n",
      "  assign _T_16 = _T_15[7:0]; // @[cmd47.sc 32:63:@12.4]\n",
      "  assign _T_17 = $signed(_T_16); // @[cmd47.sc 32:63:@13.4]\n",
      "  assign _T_18 = $signed(_T_14) + $signed(_T_17); // @[cmd47.sc 32:63:@14.4]\n",
      "  assign _T_19 = _T_18[7:0]; // @[cmd47.sc 32:63:@15.4]\n",
      "  assign _T_20 = $signed(_T_19); // @[cmd47.sc 32:63:@16.4]\n",
      "  assign io_sum = _T_20;\n",
      "endmodule\n",
      "\n"
     ]
    },
    {
     "data": {
      "text/plain": [
       "\u001b[36madditiveRTCon\u001b[39m: \u001b[32mAdditiveRTConfig\u001b[39m = $sess.cmd47Wrapper$Helper$AdditiveRTConfig@54723759"
      ]
     },
     "execution_count": 49,
     "metadata": {},
     "output_type": "execute_result"
    }
   ],
   "source": [
    "val additiveRTCon = new AdditiveRTConfig(numAddends = 4, bitWidth = 8)\n",
    "println(getVerilog(new AdditiveRT(additiveRTCon)))"
   ]
  },
  {
   "cell_type": "markdown",
   "metadata": {},
   "source": [
    "#### Verification"
   ]
  },
  {
   "cell_type": "code",
   "execution_count": 50,
   "metadata": {},
   "outputs": [
    {
     "name": "stdout",
     "output_type": "stream",
     "text": [
      "[\u001b[35minfo\u001b[0m] [0.000] Elaborating design...\n",
      "[\u001b[35minfo\u001b[0m] [0.001] Done elaborating.\n",
      "Total FIRRTL Compile Time: 5.9 ms\n",
      "Total FIRRTL Compile Time: 5.3 ms\n",
      "End of dependency graph\n",
      "Circuit state created\n",
      "[\u001b[35minfo\u001b[0m] [0.000] SEED 1532723153072\n",
      "test cmd47WrapperHelperAdditiveRT Success: 2 tests passed in 5 cycles taking 0.001970 seconds\n",
      "[\u001b[35minfo\u001b[0m] [0.001] RAN 0 CYCLES PASSED\n"
     ]
    },
    {
     "data": {
      "text/plain": [
       "\u001b[36mres49\u001b[39m: \u001b[32mBoolean\u001b[39m = \u001b[32mtrue\u001b[39m"
      ]
     },
     "execution_count": 50,
     "metadata": {},
     "output_type": "execute_result"
    }
   ],
   "source": [
    "Driver(() => new AdditiveRT(additiveRTCon)) {\n",
    "    uut => new PeekPokeTester(uut) {\n",
    "        poke(uut.io.in(0), 1) \n",
    "        poke(uut.io.in(1), 2)\n",
    "        poke(uut.io.in(2), 8) \n",
    "        poke(uut.io.in(3), 9) \n",
    "        expect(uut.io.sum, 20)\n",
    "        \n",
    "        poke(uut.io.in(0), 1) \n",
    "        poke(uut.io.in(1), 2)\n",
    "        poke(uut.io.in(2), 8) \n",
    "        poke(uut.io.in(3), 9) \n",
    "        expect(uut.io.sum, 20)\n",
    "    }\n",
    "}"
   ]
  },
  {
   "cell_type": "markdown",
   "metadata": {},
   "source": [
    "### Putting them Together"
   ]
  },
  {
   "cell_type": "markdown",
   "metadata": {},
   "source": [
    "#### Definition"
   ]
  },
  {
   "cell_type": "code",
   "execution_count": 51,
   "metadata": {},
   "outputs": [
    {
     "data": {
      "text/plain": [
       "defined \u001b[32mclass\u001b[39m \u001b[36mIPUConfig\u001b[39m\r\n",
       "defined \u001b[32mclass\u001b[39m \u001b[36mIPUOutput\u001b[39m\r\n",
       "defined \u001b[32mclass\u001b[39m \u001b[36mIPU\u001b[39m"
      ]
     },
     "execution_count": 51,
     "metadata": {},
     "output_type": "execute_result"
    }
   ],
   "source": [
    "class IPUConfig(val width: Int, val bitWidth: Int, val bpType: String) {\n",
    "    \n",
    "    private val bypssError = \"Bypass must be \\\"None\\\" or \\\"Firm\\\"\"\n",
    "    private val widthError = \"Width must be at least one\"\n",
    "    private val bitWdError = \"Data bitwidth must be non-negative\"\n",
    "    \n",
    "    val supportedBp = List(\"None\", \"Firm\")\n",
    "    \n",
    "    require(width >= 1, widthError)\n",
    "    require(supportedBp.contains(bpType), bypssError)\n",
    "    require(bitWidth >= 0, bitWdError)\n",
    "    \n",
    "    val pMultConfig = new PMultConfig(numPairs = width, bitWidth = bitWidth)\n",
    "    \n",
    "    val additiveRTConfig = new AdditiveRTConfig(\n",
    "        numAddends = width, bitWidth = bitWidth)\n",
    "    \n",
    "    val bpFirm = (bpType == \"Firm\")\n",
    "}\n",
    "\n",
    "class IPUOutput(bitWidth: Int, bpFirm: Boolean) extends Bundle {\n",
    "    \n",
    "    override def cloneType = (new IPUOutput(bitWidth, bpFirm)).asInstanceOf[this.type]\n",
    "    \n",
    "    val innerProd = Output(SInt(bitWidth.W))\n",
    "    val bpWeight = if (bpFirm) Some(SInt(bitWidth.W)) else None\n",
    "    val bpActvtn = if (bpFirm) Some(SInt(bitWidth.W)) else None\n",
    "}\n",
    "\n",
    "\n",
    "class IPU(config: IPUConfig) extends Module {\n",
    "    \n",
    "    val bitWd = config.bitWidth\n",
    "    val width = config.width\n",
    "    val bpFirm = config.bpFirm\n",
    "    \n",
    "    val pmConfig = config.pMultConfig\n",
    "    val artConfig = config.additiveRTConfig\n",
    "    \n",
    "    val io = IO(new Bundle {\n",
    "        val dataIn = Input(new PMultInput(width, bitWd))\n",
    "        val dataOut = Output(new IPUOutput(bitWd, bpFirm))\n",
    "        val bpSel = if (bpFirm) Some(Input(Vec(width, Bool()))) else None\n",
    "    })\n",
    "    \n",
    "    val pMult = Module(new PMult(pmConfig))\n",
    "    pMult.io.in <> io.dataIn\n",
    "    \n",
    "    val additiveRT = Module(new AdditiveRT(artConfig))\n",
    "    additiveRT.io.in := pMult.io.prod\n",
    "    \n",
    "    io.dataOut.innerProd := additiveRT.io.sum\n",
    "    \n",
    "    if (bpFirm) {\n",
    "        io.dataOut.bpWeight.get := PriorityMux(io.bpSel.get, io.dataIn.weight)\n",
    "        io.dataOut.bpActvtn.get := PriorityMux(io.bpSel.get, io.dataIn.actvtn)\n",
    "    }\n",
    "}"
   ]
  },
  {
   "cell_type": "markdown",
   "metadata": {},
   "source": [
    "#### Verification"
   ]
  },
  {
   "cell_type": "code",
   "execution_count": 52,
   "metadata": {},
   "outputs": [
    {
     "name": "stdout",
     "output_type": "stream",
     "text": [
      "[\u001b[35minfo\u001b[0m] [0.000] Elaborating design...\n",
      "[\u001b[35minfo\u001b[0m] [0.008] Done elaborating.\n",
      "Total FIRRTL Compile Time: 22.2 ms\n",
      "Total FIRRTL Compile Time: 18.5 ms\n",
      "End of dependency graph\n",
      "Circuit state created\n",
      "[\u001b[35minfo\u001b[0m] [0.000] SEED 1532723156836\n",
      "test cmd50WrapperHelperIPU Success: 5 tests passed in 5 cycles taking 0.003581 seconds\n",
      "[\u001b[35minfo\u001b[0m] [0.002] RAN 0 CYCLES PASSED\n"
     ]
    },
    {
     "data": {
      "text/plain": [
       "\u001b[36mipuCon\u001b[39m: \u001b[32mIPUConfig\u001b[39m = $sess.cmd50Wrapper$Helper$IPUConfig@3cd0d409\r\n",
       "\u001b[36mres51_1\u001b[39m: \u001b[32mBoolean\u001b[39m = \u001b[32mtrue\u001b[39m"
      ]
     },
     "execution_count": 52,
     "metadata": {},
     "output_type": "execute_result"
    }
   ],
   "source": [
    "val ipuCon = new IPUConfig(width = 4, bitWidth = 8, bpType = \"Firm\")\n",
    "\n",
    "Driver(() => new IPU(ipuCon)) {\n",
    "    uut => new PeekPokeTester(uut) {\n",
    "        \n",
    "        poke(uut.io.bpSel.get(0), 0)\n",
    "        poke(uut.io.bpSel.get(1), 0)\n",
    "        poke(uut.io.bpSel.get(2), 0)\n",
    "        poke(uut.io.bpSel.get(3), 0)\n",
    "        \n",
    "        poke(uut.io.dataIn.weight(0), 1)\n",
    "        poke(uut.io.dataIn.weight(1), 2)\n",
    "        poke(uut.io.dataIn.weight(2), 3)\n",
    "        poke(uut.io.dataIn.weight(3), 4)\n",
    "        \n",
    "        poke(uut.io.dataIn.actvtn(0), 5)\n",
    "        poke(uut.io.dataIn.actvtn(1), 6)\n",
    "        poke(uut.io.dataIn.actvtn(2), 7)\n",
    "        poke(uut.io.dataIn.actvtn(3), 8)\n",
    "        \n",
    "        expect(uut.io.dataOut.innerProd, 70)\n",
    "        \n",
    "        poke(uut.io.bpSel.get(0), 0)\n",
    "        poke(uut.io.bpSel.get(1), 1)\n",
    "        poke(uut.io.bpSel.get(2), 0)\n",
    "        poke(uut.io.bpSel.get(3), 0)\n",
    "        \n",
    "        expect(uut.io.dataOut.bpWeight.get, 2)\n",
    "        expect(uut.io.dataOut.bpActvtn.get, 6)\n",
    "        \n",
    "        poke(uut.io.bpSel.get(0), 0)\n",
    "        poke(uut.io.bpSel.get(1), 0)\n",
    "        poke(uut.io.bpSel.get(2), 1)\n",
    "        poke(uut.io.bpSel.get(3), 0)\n",
    "        \n",
    "        expect(uut.io.dataOut.bpWeight.get, 3)\n",
    "        expect(uut.io.dataOut.bpActvtn.get, 7)\n",
    "    }\n",
    "}"
   ]
  },
  {
   "cell_type": "markdown",
   "metadata": {},
   "source": [
    "## ALU"
   ]
  },
  {
   "cell_type": "markdown",
   "metadata": {},
   "source": [
    "#### Definition"
   ]
  },
  {
   "cell_type": "code",
   "execution_count": 53,
   "metadata": {},
   "outputs": [
    {
     "data": {
      "text/plain": [
       "defined \u001b[32mclass\u001b[39m \u001b[36mALUConfig\u001b[39m\r\n",
       "defined \u001b[32mclass\u001b[39m \u001b[36mALUInput\u001b[39m\r\n",
       "defined \u001b[32mclass\u001b[39m \u001b[36mALU\u001b[39m"
      ]
     },
     "execution_count": 53,
     "metadata": {},
     "output_type": "execute_result"
    }
   ],
   "source": [
    "class ALUConfig(val dataWidth: Int, val funcs: List[String]) {\n",
    "    val identityError = \"ALU functions must explicitly include Identity.\"\n",
    "    val functionError = \"Unsupported Error\"\n",
    "    val supportedFuncs = List(\"Identity\", \"Add\", \"Max\", \"Accumulate\")\n",
    "    \n",
    "    require(funcs.contains(\"Identity\"), identityError)\n",
    "    for(x <- funcs) { require(supportedFuncs.contains(x), functionError) }\n",
    "    \n",
    "    val addSupp = funcs.contains(\"Add\")\n",
    "    val maxSupp = funcs.contains(\"Max\")\n",
    "    val accSupp = funcs.contains(\"Accumulate\")\n",
    "    val addBypassIn = addSupp || maxSupp\n",
    "    val numFunc = funcs.length\n",
    "}\n",
    "\n",
    "class ALUInput(\n",
    "        dataWidth: Int,\n",
    "        numFuncs: Int,\n",
    "        accSupp: Boolean,\n",
    "        addBypassIn: Boolean)\n",
    "    extends Bundle {\n",
    "    \n",
    "    override def cloneType = \n",
    "        ((new ALUInput(dataWidth, numFuncs, accSupp, addBypassIn))\n",
    "        .asInstanceOf[this.type])\n",
    "    \n",
    "    val innerProd = Input(SInt(dataWidth.W))\n",
    "    val funcSel = Input(Vec(numFuncs, Bool()))\n",
    "    \n",
    "    val weightBp = if(addBypassIn) Some(Input(SInt(dataWidth.W))) else None\n",
    "    val actvtnBp = if(addBypassIn) Some(Input(SInt(dataWidth.W))) else None\n",
    "    val rfFeedback = if(accSupp) Some(Input(SInt(dataWidth.W))) else None\n",
    "}\n",
    "\n",
    "class ALU(config: ALUConfig) extends Module {\n",
    "    \n",
    "    val addSupp = config.addSupp\n",
    "    val maxSupp = config.maxSupp\n",
    "    val accSupp = config.accSupp\n",
    "    val addBpIn = config.addBypassIn\n",
    "    val numFunc = config.numFunc\n",
    "    val dw = config.dataWidth\n",
    " \n",
    "    val io = IO(new Bundle {\n",
    "        val in = new ALUInput(dw, numFunc, accSupp, addBpIn)\n",
    "        val out = Output(SInt(dw.W))\n",
    "    })\n",
    "    \n",
    "    val idnOut = Some(Wire(SInt(dw.W)))\n",
    "    val addOut = if(addSupp) Some(Wire(SInt(dw.W))) else None\n",
    "    val maxOut = if(maxSupp) Some(Wire(SInt(dw.W))) else None\n",
    "    val accOut = if(accSupp) Some(Wire(SInt(dw.W))) else None\n",
    "    \n",
    "    idnOut.get := io.in.innerProd\n",
    "    \n",
    "    if (addSupp) { addOut.get := io.in.weightBp.get + io.in.actvtnBp.get }\n",
    "    if (accSupp) { accOut.get := io.in.innerProd + io.in.rfFeedback.get }\n",
    "    if (maxSupp) {\n",
    "        when (io.in.weightBp.get > io.in.actvtnBp.get) {\n",
    "            maxOut.get := io.in.weightBp.get\n",
    "        } .otherwise {\n",
    "            maxOut.get := io.in.actvtnBp.get\n",
    "        }\n",
    "    }\n",
    "    \n",
    "    val inters = (idnOut :: addOut :: maxOut :: accOut :: Nil) filter ( _.isDefined ) map ( _.get )\n",
    "    io.out := PriorityMux(io.in.funcSel, inters)\n",
    "}"
   ]
  },
  {
   "cell_type": "markdown",
   "metadata": {},
   "source": [
    "#### Verification"
   ]
  },
  {
   "cell_type": "code",
   "execution_count": 54,
   "metadata": {},
   "outputs": [
    {
     "name": "stdout",
     "output_type": "stream",
     "text": [
      "[\u001b[35minfo\u001b[0m] [0.000] Elaborating design...\n",
      "[\u001b[35minfo\u001b[0m] [0.003] Done elaborating.\n",
      "Total FIRRTL Compile Time: 6.2 ms\n",
      "Total FIRRTL Compile Time: 6.6 ms\n",
      "End of dependency graph\n",
      "Circuit state created\n",
      "[\u001b[35minfo\u001b[0m] [0.000] SEED 1532723160528\n",
      "test cmd52WrapperHelperALU Success: 4 tests passed in 5 cycles taking 0.003265 seconds\n",
      "[\u001b[35minfo\u001b[0m] [0.003] RAN 0 CYCLES PASSED\n"
     ]
    },
    {
     "data": {
      "text/plain": [
       "\u001b[36maluFuncs\u001b[39m: \u001b[32mList\u001b[39m[\u001b[32mString\u001b[39m] = \u001b[33mList\u001b[39m(\u001b[32m\"Identity\"\u001b[39m, \u001b[32m\"Add\"\u001b[39m, \u001b[32m\"Max\"\u001b[39m, \u001b[32m\"Accumulate\"\u001b[39m)\r\n",
       "\u001b[36maluCon\u001b[39m: \u001b[32mALUConfig\u001b[39m = $sess.cmd52Wrapper$Helper$ALUConfig@466060bb\r\n",
       "\u001b[36mres53_2\u001b[39m: \u001b[32mBoolean\u001b[39m = \u001b[32mtrue\u001b[39m"
      ]
     },
     "execution_count": 54,
     "metadata": {},
     "output_type": "execute_result"
    }
   ],
   "source": [
    "val aluFuncs = \"Identity\" :: \"Add\" :: \"Max\" :: \"Accumulate\" :: Nil\n",
    "val aluCon = new ALUConfig(dataWidth = 8, funcs = aluFuncs)\n",
    "\n",
    "Driver(() => new ALU(aluCon)) {\n",
    "    uut => new PeekPokeTester(uut) {\n",
    "        \n",
    "        poke(uut.io.in.innerProd, 1)\n",
    "        poke(uut.io.in.weightBp.get, 2)\n",
    "        poke(uut.io.in.actvtnBp.get, 3)\n",
    "        poke(uut.io.in.rfFeedback.get, 4)\n",
    "        \n",
    "        poke(uut.io.in.funcSel(0), 1)\n",
    "        poke(uut.io.in.funcSel(1), 0)\n",
    "        poke(uut.io.in.funcSel(2), 0)\n",
    "        poke(uut.io.in.funcSel(3), 0)\n",
    "        expect(uut.io.out, 1)\n",
    "        \n",
    "        poke(uut.io.in.funcSel(0), 0)\n",
    "        poke(uut.io.in.funcSel(1), 1)\n",
    "        poke(uut.io.in.funcSel(2), 0)\n",
    "        poke(uut.io.in.funcSel(3), 0)\n",
    "        expect(uut.io.out, 5)\n",
    "        \n",
    "        poke(uut.io.in.funcSel(0), 0)\n",
    "        poke(uut.io.in.funcSel(1), 0)\n",
    "        poke(uut.io.in.funcSel(2), 1)\n",
    "        poke(uut.io.in.funcSel(3), 0)\n",
    "        expect(uut.io.out, 3)\n",
    "        \n",
    "        poke(uut.io.in.funcSel(0), 0)\n",
    "        poke(uut.io.in.funcSel(1), 0)\n",
    "        poke(uut.io.in.funcSel(2), 0)\n",
    "        poke(uut.io.in.funcSel(3), 1)\n",
    "        expect(uut.io.out, 5)\n",
    "    }\n",
    "}"
   ]
  },
  {
   "cell_type": "markdown",
   "metadata": {},
   "source": [
    "## Nonlinear Unit"
   ]
  },
  {
   "cell_type": "code",
   "execution_count": 55,
   "metadata": {},
   "outputs": [
    {
     "data": {
      "text/plain": [
       "defined \u001b[32mclass\u001b[39m \u001b[36mNLUConfig\u001b[39m\r\n",
       "defined \u001b[32mclass\u001b[39m \u001b[36mNLUInputs\u001b[39m\r\n",
       "defined \u001b[32mclass\u001b[39m \u001b[36mNLU\u001b[39m"
      ]
     },
     "execution_count": 55,
     "metadata": {},
     "output_type": "execute_result"
    }
   ],
   "source": [
    "class NLUConfig(val dataWidth: Int, val funcs: List[String]) {\n",
    "    val supportedFuncs = List(\"Identity\", \"ReLu\")\n",
    "    val identityError = \"NLU functions must explicitly include Identity.\"\n",
    "    val functionError = \"Unsupported Function\"\n",
    "    \n",
    "    require(funcs.contains(\"Identity\"), identityError)\n",
    "    for(x <- funcs)(require(supportedFuncs.contains(x), functionError))\n",
    "    \n",
    "    val reluSupp = funcs.contains(\"ReLu\")\n",
    "    val numFuncs = funcs.length\n",
    "}\n",
    "\n",
    "class NLUInputs(dataWidth: Int, numFuncs: Int, reluSupp: Boolean) extends Bundle {\n",
    "    \n",
    "    override def cloneType = \n",
    "        (new NLUInputs(dataWidth, numFuncs, reluSupp)).asInstanceOf[this.type]\n",
    "    \n",
    "    val data = SInt(dataWidth.W)\n",
    "    val fSel = Vec(numFuncs, Bool())\n",
    "}\n",
    "\n",
    "class NLU(config: NLUConfig) extends Module {\n",
    "    \n",
    "    val dataWidth = config.dataWidth\n",
    "    val reluSupp = config.reluSupp\n",
    "    val numFuncs = config.numFuncs\n",
    "    \n",
    "    val io = IO(new Bundle {\n",
    "        val in  = Input(new NLUInputs(dataWidth, numFuncs, reluSupp))\n",
    "        val out = Output(SInt(dataWidth.W))\n",
    "    })\n",
    "    \n",
    "    val idRes   = Some(Wire(SInt(dataWidth.W)))\n",
    "    val reluRes = if(reluSupp) Some(Wire(SInt(dataWidth.W))) else None\n",
    "    \n",
    "    idRes.get := io.in.data\n",
    "    \n",
    "    if (reluSupp) {\n",
    "        when (io.in.data > 0.S) {\n",
    "            reluRes.get := io.in.data\n",
    "        } .otherwise {\n",
    "            reluRes.get := 0.S\n",
    "        }\n",
    "    }\n",
    "    \n",
    "    val inters = (idRes :: reluRes :: Nil) filter ( _.isDefined ) map ( _.get )\n",
    "    io.out := PriorityMux(io.in.fSel, inters)\n",
    "}"
   ]
  },
  {
   "cell_type": "code",
   "execution_count": 56,
   "metadata": {},
   "outputs": [
    {
     "name": "stdout",
     "output_type": "stream",
     "text": [
      "[\u001b[35minfo\u001b[0m] [0.000] Elaborating design...\n",
      "[\u001b[35minfo\u001b[0m] [0.004] Done elaborating.\n",
      "Total FIRRTL Compile Time: 3.8 ms\n",
      "Total FIRRTL Compile Time: 2.6 ms\n",
      "End of dependency graph\n",
      "Circuit state created\n",
      "[\u001b[35minfo\u001b[0m] [0.000] SEED 1532723163395\n",
      "test cmd54WrapperHelperNLU Success: 4 tests passed in 5 cycles taking 0.001686 seconds\n",
      "[\u001b[35minfo\u001b[0m] [0.001] RAN 0 CYCLES PASSED\n"
     ]
    },
    {
     "data": {
      "text/plain": [
       "\u001b[36mnluFuncs\u001b[39m: \u001b[32mList\u001b[39m[\u001b[32mString\u001b[39m] = \u001b[33mList\u001b[39m(\u001b[32m\"Identity\"\u001b[39m, \u001b[32m\"ReLu\"\u001b[39m)\r\n",
       "\u001b[36mnluCon\u001b[39m: \u001b[32mNLUConfig\u001b[39m = $sess.cmd54Wrapper$Helper$NLUConfig@52af33b3\r\n",
       "\u001b[36mres55_2\u001b[39m: \u001b[32mBoolean\u001b[39m = \u001b[32mtrue\u001b[39m"
      ]
     },
     "execution_count": 56,
     "metadata": {},
     "output_type": "execute_result"
    }
   ],
   "source": [
    "val nluFuncs = \"Identity\" :: \"ReLu\" :: Nil\n",
    "val nluCon = new NLUConfig(dataWidth = 8, funcs = nluFuncs)\n",
    "\n",
    "Driver(() => new NLU(nluCon)) {\n",
    "    uut => new PeekPokeTester(uut) {\n",
    "        \n",
    "        poke(uut.io.in.data, 5)\n",
    "        \n",
    "        poke(uut.io.in.fSel(0), 1)\n",
    "        poke(uut.io.in.fSel(1), 0)\n",
    "        expect(uut.io.out, 5)\n",
    "        \n",
    "        poke(uut.io.in.fSel(0), 0)\n",
    "        poke(uut.io.in.fSel(1), 1)\n",
    "        expect(uut.io.out, 5)\n",
    "        \n",
    "        poke(uut.io.in.data, -4)\n",
    "        \n",
    "        poke(uut.io.in.fSel(0), 1)\n",
    "        poke(uut.io.in.fSel(1), 0)\n",
    "        expect(uut.io.out, -4)\n",
    "        \n",
    "        poke(uut.io.in.fSel(0), 0)\n",
    "        poke(uut.io.in.fSel(1), 1)\n",
    "        expect(uut.io.out, 0)\n",
    "    }\n",
    "}"
   ]
  },
  {
   "cell_type": "markdown",
   "metadata": {},
   "source": [
    "## Control"
   ]
  },
  {
   "cell_type": "markdown",
   "metadata": {},
   "source": [
    "### State Machine"
   ]
  },
  {
   "cell_type": "markdown",
   "metadata": {},
   "source": [
    "#### Definition"
   ]
  },
  {
   "cell_type": "code",
   "execution_count": 340,
   "metadata": {},
   "outputs": [
    {
     "data": {
      "text/plain": [
       "defined \u001b[32mclass\u001b[39m \u001b[36mStateMachine\u001b[39m"
      ]
     },
     "execution_count": 340,
     "metadata": {},
     "output_type": "execute_result"
    }
   ],
   "source": [
    "class StateMachine(numStates: Int, nextState: (UInt, UInt, Int) => UInt, ctrlWidth: Int) extends Module {\n",
    "    \n",
    "    val stateWidth: Int = log2Up(numStates)\n",
    "    \n",
    "    val io = IO(new Bundle {\n",
    "        val control = Input (UInt(ctrlWidth.W ))\n",
    "        val out     = Output(UInt(stateWidth.W))\n",
    "    })\n",
    "    \n",
    "    val register = RegInit(0.U(stateWidth.W))\n",
    "    register := nextState(register, io.control, ctrlWidth)\n",
    "    io.out := register\n",
    "}"
   ]
  },
  {
   "cell_type": "markdown",
   "metadata": {},
   "source": [
    "#### Example"
   ]
  },
  {
   "cell_type": "code",
   "execution_count": 341,
   "metadata": {},
   "outputs": [
    {
     "data": {
      "text/plain": [
       "defined \u001b[32mfunction\u001b[39m \u001b[36mstateMap\u001b[39m"
      ]
     },
     "execution_count": 341,
     "metadata": {},
     "output_type": "execute_result"
    }
   ],
   "source": [
    "def stateMap(state: UInt, control: UInt, stateWidth: Int): UInt = {\n",
    "    \n",
    "    val nextState = Wire(UInt(stateWidth.W))\n",
    "    \n",
    "    when      (state === 0.U & control === 0.U) { nextState := 0.U }\n",
    "    .elsewhen (state === 0.U & control === 1.U) { nextState := 1.U }\n",
    "    .elsewhen (state === 1.U & control === 0.U) { nextState := 0.U }\n",
    "    .elsewhen (state === 1.U & control === 1.U) { nextState := 1.U }\n",
    "    .otherwise { nextState := 0.U }\n",
    "    \n",
    "    nextState\n",
    "}"
   ]
  },
  {
   "cell_type": "markdown",
   "metadata": {},
   "source": [
    "#### Verification"
   ]
  },
  {
   "cell_type": "code",
   "execution_count": 343,
   "metadata": {},
   "outputs": [
    {
     "name": "stdout",
     "output_type": "stream",
     "text": [
      "[\u001b[35minfo\u001b[0m] [0.000] Elaborating design...\n",
      "[\u001b[35minfo\u001b[0m] [0.002] Done elaborating.\n",
      "Total FIRRTL Compile Time: 10.1 ms\n",
      "Total FIRRTL Compile Time: 12.5 ms\n",
      "End of dependency graph\n",
      "Circuit state created\n",
      "[\u001b[35minfo\u001b[0m] [0.000] SEED 1532561171036\n",
      "test cmd339WrapperHelperStateMachine Success: 5 tests passed in 9 cycles taking 0.004398 seconds\n",
      "[\u001b[35minfo\u001b[0m] [0.004] RAN 4 CYCLES PASSED\n"
     ]
    },
    {
     "data": {
      "text/plain": [
       "\u001b[36mres342\u001b[39m: \u001b[32mBoolean\u001b[39m = \u001b[32mtrue\u001b[39m"
      ]
     },
     "execution_count": 343,
     "metadata": {},
     "output_type": "execute_result"
    }
   ],
   "source": [
    "Driver(() => new StateMachine(2, stateMap, 4)) {\n",
    "    uut => new PeekPokeTester(uut) {\n",
    "        poke(uut.io.control, 0)\n",
    "        expect(uut.io.out, 0)\n",
    "        \n",
    "        // 0 -> 1\n",
    "        poke(uut.io.control, 1)\n",
    "        step(1)\n",
    "        expect(uut.io.out, 1)\n",
    "        \n",
    "        // 1 -> 1\n",
    "        poke(uut.io.control, 1)\n",
    "        step(1)\n",
    "        expect(uut.io.out, 1)\n",
    "        \n",
    "        // 1 -> 0\n",
    "        poke(uut.io.control, 0)\n",
    "        step(1)\n",
    "        expect(uut.io.out, 0)\n",
    "        \n",
    "        // 0 -> 0\n",
    "        poke(uut.io.control, 0)\n",
    "        step(1)\n",
    "        expect(uut.io.out, 0)\n",
    "    }\n",
    "}"
   ]
  },
  {
   "cell_type": "markdown",
   "metadata": {},
   "source": [
    "### Decoder"
   ]
  },
  {
   "cell_type": "markdown",
   "metadata": {},
   "source": [
    "#### Definition"
   ]
  },
  {
   "cell_type": "code",
   "execution_count": 57,
   "metadata": {},
   "outputs": [
    {
     "data": {
      "text/plain": [
       "defined \u001b[32mclass\u001b[39m \u001b[36mDecoderConfig\u001b[39m\r\n",
       "defined \u001b[32mclass\u001b[39m \u001b[36mDecoder\u001b[39m"
      ]
     },
     "execution_count": 57,
     "metadata": {},
     "output_type": "execute_result"
    }
   ],
   "source": [
    "class DecoderConfig(\n",
    "        val numStates: Int,\n",
    "        val prfConfig: PRFConfig,\n",
    "        val ipuConfig: IPUConfig,\n",
    "        val aluConfig: ALUConfig,\n",
    "        val nluConfig: NLUConfig,\n",
    "        val decodePRF: (Int, Int, Boolean, UInt, String) => Data,\n",
    "        val decodeIPU: (Int, UInt) => Data,\n",
    "        val decodeALU: (Int, UInt) => Data,\n",
    "        val decodeNLU: (Int, UInt) => Data,\n",
    "        val decodeIntSel: UInt => Data) {\n",
    "    \n",
    "    private implicit def btoi(b:Boolean) = if (b) 1 else 0\n",
    "    \n",
    "    val bpPRF = prfConfig.bpSoft\n",
    "    \n",
    "    val addSupp = aluFuncs.contains(\"Add\")\n",
    "    val maxSupp = aluFuncs.contains(\"Max\")\n",
    "    val accSupp = aluFuncs.contains(\"Accumulate\")\n",
    "    val reluSupp = nluFuncs.contains(\"ReLu\")\n",
    "    \n",
    "    val bpIPU = addSupp || maxSupp\n",
    "    val numALUFuncs = 1 + addSupp + maxSupp + accSupp\n",
    "    val numNLUFuncs = 1 + reluSupp\n",
    "    \n",
    "    val stateWidth = log2Up(numStates)\n",
    "}\n",
    "\n",
    "class Decoder(c: DecoderConfig) extends Module {\n",
    "    \n",
    "    val ports = c.prfConfig.ports\n",
    "    val addrWidth = c.prfConfig.addrWidth\n",
    "    \n",
    "    val io = IO(new Bundle {\n",
    "        val state = Input(UInt(c.stateWidth.W))\n",
    "        val weightPRF = Output(new PRFControl(ports, addrWidth, c.bpPRF))\n",
    "        val actvtnPRF = Output(new PRFControl(ports, addrWidth, c.bpPRF))\n",
    "        val intrnlPRF = Output(new PRFControl(ports, addrWidth, c.bpPRF))\n",
    "        val intrnlPRFSel = Output(Bool())\n",
    "        val aluFSel = Output(Vec(c.numALUFuncs, Bool()))\n",
    "        val nluFSel = Output(Vec(c.numNLUFuncs, Bool()))\n",
    "        val ipuBpSel = if (c.bpIPU) Some(Output(Vec(ports, Bool()))) else None\n",
    "    })\n",
    "    \n",
    "    io.weightPRF <> c.decodePRF(ports, addrWidth, c.bpPRF, io.state, \"weightPRF\")\n",
    "    io.actvtnPRF <> c.decodePRF(ports, addrWidth, c.bpPRF, io.state, \"actvtnPRF\")\n",
    "    io.intrnlPRF <> c.decodePRF(ports, addrWidth, c.bpPRF, io.state, \"intrnlPRF\")\n",
    "    io.intrnlPRFSel := c.decodeIntSel(io.state)\n",
    "    \n",
    "    if (c.bpIPU) { io.ipuBpSel.get := c.decodeIPU(ports, io.state) }\n",
    "    io.aluFSel := c.decodeALU(c.numALUFuncs, io.state)\n",
    "    io.nluFSel := c.decodeNLU(c.numNLUFuncs, io.state)\n",
    "}"
   ]
  },
  {
   "cell_type": "markdown",
   "metadata": {},
   "source": [
    "#### Example"
   ]
  },
  {
   "cell_type": "code",
   "execution_count": 53,
   "metadata": {},
   "outputs": [
    {
     "data": {
      "text/plain": [
       "defined \u001b[32mfunction\u001b[39m \u001b[36mdecodePRF\u001b[39m\r\n",
       "defined \u001b[32mfunction\u001b[39m \u001b[36mdecodeIntSel\u001b[39m\r\n",
       "defined \u001b[32mfunction\u001b[39m \u001b[36mdecodeIPU\u001b[39m\r\n",
       "defined \u001b[32mfunction\u001b[39m \u001b[36mdecodeALU\u001b[39m\r\n",
       "defined \u001b[32mfunction\u001b[39m \u001b[36mdecodeNLU\u001b[39m"
      ]
     },
     "execution_count": 53,
     "metadata": {},
     "output_type": "execute_result"
    }
   ],
   "source": [
    "def decodePRF(ports: Int, addrWidth: Int, bpPRF: Boolean, state: UInt, bus: String) = {\n",
    "    \n",
    "    val data = Wire(new PRFControl(ports, addrWidth, bpPRF))\n",
    "    \n",
    "    when (state === 0.U) {\n",
    "        bus match {\n",
    "            case \"weightPRF\" => {\n",
    "                data.rf.foreach { k =>\n",
    "                    k.wEnable   := true.B\n",
    "                    k.rEnable   := true.B\n",
    "                    k.wAddr     := 1.U\n",
    "                    k.rAddrInt  := 2.U\n",
    "                    k.rAddrExt  := 3.U\n",
    "                    if (bpPRF) { k.bpSel.get := true.B }\n",
    "                }\n",
    "            }\n",
    "            case \"actvtnPRF\" => {\n",
    "                data.rf.foreach { k =>\n",
    "                    k.wEnable   := true.B\n",
    "                    k.rEnable   := true.B\n",
    "                    k.wAddr     := 1.U\n",
    "                    k.rAddrInt  := 2.U\n",
    "                    k.rAddrExt  := 3.U\n",
    "                    if (bpPRF) { k.bpSel.get := true.B }\n",
    "                }\n",
    "            }\n",
    "            case \"intrnlPRF\" => {\n",
    "                data.rf.foreach { k =>\n",
    "                    k.wEnable   := true.B\n",
    "                    k.rEnable   := true.B\n",
    "                    k.wAddr     := 1.U\n",
    "                    k.rAddrInt  := 2.U\n",
    "                    k.rAddrExt  := 3.U\n",
    "                    if (bpPRF) { k.bpSel.get := true.B }\n",
    "                }\n",
    "            }\n",
    "        }\n",
    "    } .otherwise {\n",
    "        bus match {\n",
    "            case \"weightPRF\" => {\n",
    "                data.rf.foreach { k =>\n",
    "                    k.wEnable   := false.B\n",
    "                    k.rEnable   := false.B\n",
    "                    k.wAddr     := 4.U\n",
    "                    k.rAddrInt  := 5.U\n",
    "                    k.rAddrExt  := 6.U\n",
    "                    if (bpPRF) { k.bpSel.get := false.B }\n",
    "                }\n",
    "            }\n",
    "            case \"actvtnPRF\" => {\n",
    "                data.rf.foreach { k =>\n",
    "                    k.wEnable   := false.B\n",
    "                    k.rEnable   := false.B\n",
    "                    k.wAddr     := 4.U\n",
    "                    k.rAddrInt  := 5.U\n",
    "                    k.rAddrExt  := 6.U\n",
    "                    if (bpPRF) { k.bpSel.get := false.B }\n",
    "                }\n",
    "            }\n",
    "            case \"intrnlPRF\" => {\n",
    "                data.rf.foreach { k =>\n",
    "                    k.wEnable   := false.B\n",
    "                    k.rEnable   := false.B\n",
    "                    k.wAddr     := 4.U\n",
    "                    k.rAddrInt  := 5.U\n",
    "                    k.rAddrExt  := 6.U\n",
    "                    if (bpPRF) { k.bpSel.get := false.B }\n",
    "                }\n",
    "            }\n",
    "        }\n",
    "    }\n",
    "    \n",
    "    data \n",
    "}\n",
    "\n",
    "def decodeIntSel(state: UInt) = {\n",
    "    val data = Wire(Bool())\n",
    "    \n",
    "    when (state === 0.U) {\n",
    "        data := true.B\n",
    "    } .otherwise {\n",
    "        data := false.B\n",
    "    }\n",
    "    \n",
    "    data\n",
    "}\n",
    "\n",
    "def decodeIPU(ports: Int, state: UInt) = {\n",
    "    val data = Wire(Vec(ports, Bool()))\n",
    "    \n",
    "    when (state === 0.U) {\n",
    "        data := Vec(1.U :: 0.U :: Nil)\n",
    "    } .otherwise {\n",
    "        data := Vec(0.U :: 1.U :: Nil)\n",
    "    }\n",
    "    \n",
    "    data\n",
    "}\n",
    "\n",
    "def decodeALU(numALUFuncs: Int, state: UInt) = {\n",
    "    val data = Wire(Vec(numALUFuncs, Bool()))\n",
    "    \n",
    "    when (state === 0.U) {\n",
    "        data := Vec(1.U :: 0.U :: 0.U :: 0.U :: Nil)\n",
    "    } .otherwise {\n",
    "        data := Vec(0.U :: 1.U :: 0.U :: 0.U :: Nil)\n",
    "    }\n",
    "    \n",
    "    data\n",
    "}\n",
    "\n",
    "def decodeNLU(numNLUFuncs: Int, state: UInt) = {\n",
    "    val data = Wire(Vec(numNLUFuncs, Bool()))\n",
    "    \n",
    "    when (state === 0.U) {\n",
    "        data := Vec(1.U :: 0.U :: Nil)\n",
    "    } .otherwise {\n",
    "        data := Vec(0.U :: 1.U :: Nil)\n",
    "    }\n",
    "    \n",
    "    data\n",
    "}\n"
   ]
  },
  {
   "cell_type": "markdown",
   "metadata": {},
   "source": [
    "#### Verification"
   ]
  },
  {
   "cell_type": "code",
   "execution_count": 58,
   "metadata": {},
   "outputs": [
    {
     "name": "stdout",
     "output_type": "stream",
     "text": [
      "[\u001b[35minfo\u001b[0m] [0.000] Elaborating design...\n",
      "[\u001b[35minfo\u001b[0m] [0.009] Done elaborating.\n",
      "Total FIRRTL Compile Time: 41.1 ms\n",
      "Total FIRRTL Compile Time: 22.7 ms\n",
      "End of dependency graph\n",
      "Circuit state created\n",
      "[\u001b[35minfo\u001b[0m] [0.000] SEED 1532655865910\n",
      "test cmd54WrapperHelperDecoder Success: 52 tests passed in 7 cycles taking 0.014877 seconds\n",
      "[\u001b[35minfo\u001b[0m] [0.011] RAN 2 CYCLES PASSED\n"
     ]
    },
    {
     "data": {
      "text/plain": [
       "\u001b[36mres57\u001b[39m: \u001b[32mBoolean\u001b[39m = \u001b[32mtrue\u001b[39m"
      ]
     },
     "execution_count": 58,
     "metadata": {},
     "output_type": "execute_result"
    }
   ],
   "source": [
    "Driver(() => new Decoder(\n",
    "  ports = 2,\n",
    "  addrWidth = 4,\n",
    "  stateWidth = 4,\n",
    "  bpPRF = true,\n",
    "  addSupp = true,\n",
    "  maxSupp = true,\n",
    "  accSupp = true,\n",
    "  reluSupp = true,\n",
    "  decodePRF = decodePRF,\n",
    "  decodeIPU = decodeIPU,\n",
    "  decodeALU = decodeALU,\n",
    "  decodeNLU = decodeNLU)) {\n",
    "    \n",
    "    uut => new PeekPokeTester(uut) {\n",
    "        \n",
    "        \n",
    "        poke(uut.io.state, 0.U)\n",
    "        step(1)\n",
    "        \n",
    "        expect(uut.io.weightPRF.rf(0).wEnable, true.B)\n",
    "        expect(uut.io.weightPRF.rf(0).rEnable, true.B)\n",
    "        expect(uut.io.weightPRF.rf(0).wAddr, 1.U)\n",
    "        expect(uut.io.weightPRF.rf(0).rAddrInt, 2.U)\n",
    "        expect(uut.io.weightPRF.rf(0).rAddrExt, 3.U)\n",
    "        expect(uut.io.weightPRF.rf(0).bpSel.get, true.B)\n",
    "        \n",
    "        expect(uut.io.actvtnPRF.rf(0).wEnable, true.B)\n",
    "        expect(uut.io.actvtnPRF.rf(0).rEnable, true.B)\n",
    "        expect(uut.io.actvtnPRF.rf(0).wAddr, 1.U)\n",
    "        expect(uut.io.actvtnPRF.rf(0).rAddrInt, 2.U)\n",
    "        expect(uut.io.actvtnPRF.rf(0).rAddrExt, 3.U)\n",
    "        expect(uut.io.actvtnPRF.rf(0).bpSel.get, true.B)\n",
    "        \n",
    "        expect(uut.io.ipuBpSel.get(0), 1)\n",
    "        expect(uut.io.ipuBpSel.get(1), 0)\n",
    "        \n",
    "        expect(uut.io.aluFSel(0), 1)\n",
    "        expect(uut.io.aluFSel(1), 0)\n",
    "        expect(uut.io.aluFSel(2), 0)\n",
    "        expect(uut.io.aluFSel(3), 0)\n",
    "        \n",
    "        expect(uut.io.intrnlPRF.rf(0).wEnable, true.B)\n",
    "        expect(uut.io.intrnlPRF.rf(0).rEnable, true.B)\n",
    "        expect(uut.io.intrnlPRF.rf(0).wAddr, 1.U)\n",
    "        expect(uut.io.intrnlPRF.rf(0).rAddrInt, 2.U)\n",
    "        expect(uut.io.intrnlPRF.rf(0).rAddrExt, 3.U)\n",
    "        expect(uut.io.intrnlPRF.rf(0).bpSel.get, true.B)\n",
    "        \n",
    "        expect(uut.io.nluFSel(0), 1)\n",
    "        expect(uut.io.nluFSel(1), 0)\n",
    "        \n",
    "        poke(uut.io.state, 1.U) \n",
    "        step(1)\n",
    "        \n",
    "        expect(uut.io.weightPRF.rf(0).wEnable, false.B)\n",
    "        expect(uut.io.weightPRF.rf(0).rEnable, false.B)\n",
    "        expect(uut.io.weightPRF.rf(0).wAddr, 4.U)\n",
    "        expect(uut.io.weightPRF.rf(0).rAddrInt, 5.U)\n",
    "        expect(uut.io.weightPRF.rf(0).rAddrExt, 6.U)\n",
    "        expect(uut.io.weightPRF.rf(0).bpSel.get, false.B)\n",
    "        \n",
    "        expect(uut.io.actvtnPRF.rf(0).wEnable, false.B)\n",
    "        expect(uut.io.actvtnPRF.rf(0).rEnable, false.B)\n",
    "        expect(uut.io.actvtnPRF.rf(0).wAddr, 4.U)\n",
    "        expect(uut.io.actvtnPRF.rf(0).rAddrInt, 5.U)\n",
    "        expect(uut.io.actvtnPRF.rf(0).rAddrExt, 6.U)\n",
    "        expect(uut.io.actvtnPRF.rf(0).bpSel.get, false.B)\n",
    "        \n",
    "        expect(uut.io.ipuBpSel.get(0), 0)\n",
    "        expect(uut.io.ipuBpSel.get(1), 1)\n",
    "        \n",
    "        expect(uut.io.aluFSel(0), 0)\n",
    "        expect(uut.io.aluFSel(1), 1)\n",
    "        expect(uut.io.aluFSel(2), 0)\n",
    "        expect(uut.io.aluFSel(3), 0)\n",
    "        \n",
    "        expect(uut.io.intrnlPRF.rf(0).wEnable, false.B)\n",
    "        expect(uut.io.intrnlPRF.rf(0).rEnable, false.B)\n",
    "        expect(uut.io.intrnlPRF.rf(0).wAddr, 4.U)\n",
    "        expect(uut.io.intrnlPRF.rf(0).rAddrInt, 5.U)\n",
    "        expect(uut.io.intrnlPRF.rf(0).rAddrExt, 6.U)\n",
    "        expect(uut.io.intrnlPRF.rf(0).bpSel.get, false.B)\n",
    "        \n",
    "        expect(uut.io.nluFSel(0), 0)\n",
    "        expect(uut.io.nluFSel(1), 1)\n",
    "        \n",
    "    }\n",
    "}\n"
   ]
  },
  {
   "cell_type": "markdown",
   "metadata": {},
   "source": [
    "## PE"
   ]
  },
  {
   "cell_type": "markdown",
   "metadata": {},
   "source": [
    "#### Definition"
   ]
  },
  {
   "cell_type": "code",
   "execution_count": null,
   "metadata": {},
   "outputs": [],
   "source": [
    "class PEConfig(\n",
    "        val stateMachineConfig: StateMachineConfig,\n",
    "        val decoderConfig: DecoderConfig,\n",
    "        val prfConfig: PRFConfig,\n",
    "        val ipuConfig: IPUConfig,\n",
    "        val aluConfig: ALUConfig,\n",
    "        val nluConfig: NLUConfig)\n",
    "\n",
    "class nPE(stateMap: Map[(UInt, UInt), UInt], extrnl_ctrl_width: Int, // State Machine\n",
    "          decode: (UInt, String) => Data, RFports: Int, weightRFBP: String, actvtnRFBP: String, datawidth: Int, addrwidth: Int,\n",
    "          aluFuncs: List[String], nluFuncs: List[String], intrnlRFBP: String\n",
    "         ) extends Module {\n",
    "    \n",
    "    val io = IO(new Bundle {\n",
    "        val extrnl_ctrl   = Input (SInt(extrnl_ctrl_width.W))\n",
    "        val weightRF_in   = Input (Vec(RFports, SInt(datawidth.W)))\n",
    "        val actvtnRF_in   = Input (Vec(RFports, SInt(datawidth.W)))\n",
    "        val intrnlRF_in   = Input (SInt(datawidth.W))\n",
    "        val weightRF_2NoC = Output(Vec(RFports, SInt(datawidth.W)))\n",
    "        val actvtnRF_2NoC = Output(Vec(RFports, SInt(datawidth.W)))\n",
    "        val intrnlRF_2NoC = Output(SInt(datawidth.W))\n",
    "        val output        = Output(SInt(datawidth.W))\n",
    "    })\n",
    "    \n",
    "    val stateMachine = new StateMachine(stateMap, extrnl_ctrl_width)\n",
    "    stateMachine.io.control := io.extrnl_ctrl\n",
    "    \n",
    "    val decoder = new Decoder(decode, log2Up(stateMap.size), \n",
    "                              RFports, datawidth, addrwidth, aluFuncs, nluFuncs)\n",
    "    decoder.io.state := stateMachine.io.state\n",
    "    \n",
    "    \n",
    "    // Weight RF\n",
    "    val weightRF = new pRF(RFports, weightRFBP, datawidth, addrwidth)\n",
    "    \n",
    "    // Mandatory Control\n",
    "    weightRF.io.in.wEnable\n",
    "    weightRF.io.in.rEnable\n",
    "    weightRF.io.in.wAddr\n",
    "    weightRF.io.in.rAddrInt\n",
    "    weightRF.io.in.rAddrExt\n",
    "    \n",
    "    \n",
    "    weightRF.io.write_en    := decoder.io.weightRF_wen\n",
    "    weightRF.io.read_en     := decoder.io.weightRF_ren\n",
    "    weightRF.io.waddr       := decoder.io.weightRF_waddr\n",
    "    weightRF.io.raddr_int   := decoder.io.weightRF_raddr_int\n",
    "    weightRF.io.raddr_ext   := decoder.io.weightRF_raddr_ext\n",
    "    \n",
    "    // Optional Control\n",
    "    if ( weightRF.io.bp_slct.isDefined ) { weightRF.io.bp_slct.get := decoder.io.weightRF_bp_slct_get }\n",
    "    \n",
    "    // Mandatory Outputs\n",
    "    weightRF.io.wdata := io.weightRF_in\n",
    "    \n",
    "    // Optional Outputs\n",
    "    io.weightRF_2NoC  := weightRF.io.rdata_ext\n",
    "    \n",
    "    // Activation RF\n",
    "    val actvtnRF = new pRF(RFports, actvtnRFBP, datawidth, addrwidth)\n",
    "    \n",
    "    // Mandatory Control\n",
    "    actvtnRF.io.write_en    := decoder.io.actvtnRF_wen\n",
    "    actvtnRF.io.read_en     := decoder.io.actvtnRF_ren\n",
    "    actvtnRF.io.waddr       := decoder.io.actvtnRF_waddr\n",
    "    actvtnRF.io.raddr_int   := decoder.io.actvtnRF_raddr_int\n",
    "    actvtnRF.io.raddr_ext   := decoder.io.actvtnRF_raddr_ext\n",
    "    \n",
    "    // Optional Control\n",
    "    if ( actvtnRF.io.bp_slct.isDefined ) { actvtnRF.io.bp_slct.get := decoder.io.actvtnRF_bp_slct_get }\n",
    "    \n",
    "    // Mandatory Outputs\n",
    "    actvtnRF.io.wdata := io.weightRF_in\n",
    "    \n",
    "    // Optional Outputs\n",
    "    io.actvtnRF_2NoC     := actvtnRF.io.rdata_ext\n",
    "       \n",
    "    val ipuBP = if(aluFuncs.contains(\"Add\") || aluFuncs.contains(\"Max\")) \"Firm\" else \"None\" \n",
    "    val ipu   = new IPU(RFports, ipuBP, datawidth)\n",
    "    if (ipu.io.sel.isDefined) { ipu.io.sel.get := decoder.io.ipu_sel_get }\n",
    "    ipu.io.in1 := weightRF.io.rdata_int\n",
    "    ipu.io.in2 := actvtnRF.io.rdata_int\n",
    "    \n",
    "    val alu = new ALU(aluFuncs, datawidth)\n",
    "    alu.io.func_slct := decoder.io.alu_func_slct\n",
    "    alu.io.innr_prod := ipu.io.out\n",
    "    if(alu.io.weight_bp.isDefined) alu.io.weight_bp.get := ipu.io.bp1.get\n",
    "    if(alu.io.actvtn_bp.isDefined) alu.io.actvtn_bp.get := ipu.io.bp2.get\n",
    "    \n",
    "    val intrnlRF = new pRF(1, intrnlRFBP, datawidth, addrwidth)\n",
    "    intrnlRF.io.write_en  := decoder.io.intrnlRF_write_en\n",
    "    intrnlRF.io.read_en   := decoder.io.intrnlRF_read_en\n",
    "    intrnlRF.io.waddr     := decoder.io.intrnlRF_waddr\n",
    "    intrnlRF.io.raddr_int := decoder.io.intrnlRF_raddr_int\n",
    "    intrnlRF.io.raddr_ext := decoder.io.intrnlRF_raddr_ext\n",
    "    if (intrnlRF.io.bp_slct.isDefined) { intrnlRF.io.bp_slct.get := decoder.io.intrnlRF_bp_slct_get }\n",
    "    intrnlRF.io.wdata := Mux(decoder.io.intrnlRF_wdata_slct, alu.io.output, io.intrnlRF_in)\n",
    "    io.intrnlRF_2NoC := intrnlRF.io.rdata_ext\n",
    "    if(alu.io.rf_feedbk.isDefined) alu.io.rf_feedbk.get := intrnlRF.io.rdata_int\n",
    "    \n",
    "    val nlu = new NonlinearUnit(nluFuncs, datawidth)\n",
    "    nlu.io.fslct := decoder.io.nlu_func_slct\n",
    "    nlu.io.input     := intrnlRF.io.rdata_int\n",
    "    io.output        := nlu.io.outpt\n",
    "    \n",
    "    // Woot woot\n",
    "}"
   ]
  },
  {
   "cell_type": "markdown",
   "metadata": {},
   "source": [
    "#### Verification"
   ]
  },
  {
   "cell_type": "code",
   "execution_count": null,
   "metadata": {},
   "outputs": [],
   "source": []
  },
  {
   "cell_type": "markdown",
   "metadata": {},
   "source": [
    "## Future Plans\n",
    "* Verify everything using Golden Models"
   ]
  }
 ],
 "metadata": {
  "kernelspec": {
   "display_name": "Scala",
   "language": "scala",
   "name": "scala"
  },
  "language_info": {
   "codemirror_mode": "text/x-scala",
   "file_extension": ".scala",
   "mimetype": "text/x-scala",
   "name": "scala211",
   "nbconvert_exporter": "script",
   "pygments_lexer": "scala",
   "version": "2.11.11"
  }
 },
 "nbformat": 4,
 "nbformat_minor": 2
}
