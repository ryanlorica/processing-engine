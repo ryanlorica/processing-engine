{
 "cells": [
  {
   "cell_type": "markdown",
   "metadata": {},
   "source": [
    "# nPE: A Configurable Processing Engine\n",
    "#### Verification | Version 0.5.1 | Updated 2018.7.26\n",
    "___"
   ]
  },
  {
   "cell_type": "markdown",
   "metadata": {},
   "source": [
    "## Setup"
   ]
  },
  {
   "cell_type": "code",
   "execution_count": 1,
   "metadata": {},
   "outputs": [
    {
     "data": {
      "text/plain": [
       "\u001b[36mpath\u001b[39m: \u001b[32mString\u001b[39m = \u001b[32m\"\"\"\n",
       "C:\\Users\\RyanL\\OneDrive\\Research\\SEAL\\processing-engine/source/load-ivy.sc\n",
       "\"\"\"\u001b[39m"
      ]
     },
     "execution_count": 1,
     "metadata": {},
     "output_type": "execute_result"
    }
   ],
   "source": [
    "val path = System.getProperty(\"user.dir\") + \"/source/load-ivy.sc\"\n",
    "interp.load.module(ammonite.ops.Path(java.nio.file.FileSystems.getDefault().getPath(path)))"
   ]
  },
  {
   "cell_type": "code",
   "execution_count": 2,
   "metadata": {},
   "outputs": [
    {
     "data": {
      "text/plain": [
       "\u001b[32mimport \u001b[39m\u001b[36mchisel3._\r\n",
       "\u001b[39m\r\n",
       "\u001b[32mimport \u001b[39m\u001b[36mchisel3.util._\r\n",
       "\u001b[39m\r\n",
       "\u001b[32mimport \u001b[39m\u001b[36mchisel3.iotesters.{ChiselFlatSpec, Driver, PeekPokeTester}\r\n",
       "\r\n",
       "\u001b[39m\r\n",
       "\u001b[32mimport \u001b[39m\u001b[36mscala.math.pow\u001b[39m"
      ]
     },
     "execution_count": 2,
     "metadata": {},
     "output_type": "execute_result"
    }
   ],
   "source": [
    "import chisel3._\n",
    "import chisel3.util._\n",
    "import chisel3.iotesters.{ChiselFlatSpec, Driver, PeekPokeTester}\n",
    "\n",
    "import scala.math.pow"
   ]
  },
  {
   "cell_type": "markdown",
   "metadata": {},
   "source": [
    "## Parallel Register File"
   ]
  },
  {
   "cell_type": "markdown",
   "metadata": {},
   "source": [
    "### Single Register File"
   ]
  },
  {
   "cell_type": "markdown",
   "metadata": {},
   "source": [
    "#### Definition"
   ]
  },
  {
   "cell_type": "code",
   "execution_count": 3,
   "metadata": {},
   "outputs": [
    {
     "data": {
      "text/plain": [
       "defined \u001b[32mclass\u001b[39m \u001b[36mRFConfig\u001b[39m\r\n",
       "defined \u001b[32mclass\u001b[39m \u001b[36mRFControl\u001b[39m\r\n",
       "defined \u001b[32mclass\u001b[39m \u001b[36mRFInput\u001b[39m\r\n",
       "defined \u001b[32mclass\u001b[39m \u001b[36mRFOutput\u001b[39m\r\n",
       "defined \u001b[32mclass\u001b[39m \u001b[36mRF\u001b[39m"
      ]
     },
     "execution_count": 3,
     "metadata": {},
     "output_type": "execute_result"
    }
   ],
   "source": [
    "class RFConfig(\n",
    "        val addrWidth: Int, \n",
    "        val dataWidth: Int,\n",
    "        val numInputs: Int,\n",
    "        val bpSupport: Boolean)\n",
    "\n",
    "class RFControl(c: RFConfig) extends Bundle {\n",
    "    \n",
    "    override def cloneType = (new RFControl(c)).asInstanceOf[this.type]\n",
    "    \n",
    "    val wEnable = Bool()\n",
    "    val rEnable = Bool()\n",
    "    val wAddr = UInt(c.addrWidth.W)\n",
    "    val rAddrInt = UInt(c.addrWidth.W)\n",
    "    val rAddrExt = UInt(c.addrWidth.W)\n",
    "    val bpSel = if (c.bpSupport) Some(Bool()) else None\n",
    "    val inSel = if (c.numInputs > 1) Some(Vec(c.numInputs, Bool())) else None\n",
    "}\n",
    "\n",
    "class RFInput(c: RFConfig) extends Bundle {\n",
    "    \n",
    "    override def cloneType = (new RFInput(c)).asInstanceOf[this.type] \n",
    "    \n",
    "    val data = Vec(c.numInputs, SInt(c.dataWidth.W))\n",
    "}\n",
    "\n",
    "class RFOutput(c: RFConfig) extends Bundle {\n",
    "    \n",
    "    override def cloneType = (new RFOutput(c)).asInstanceOf[this.type]\n",
    "    \n",
    "    val int = SInt(c.dataWidth.W)\n",
    "    val ext = SInt(c.dataWidth.W)\n",
    "}\n",
    "\n",
    "class RF(c: RFConfig) extends Module {\n",
    "    \n",
    "    val io = IO(new Bundle {\n",
    "        val control = Input(new RFControl(c))\n",
    "        val in = Input(new RFInput(c))\n",
    "        val out = Output(new RFOutput(c))\n",
    "    })\n",
    "    \n",
    "    val zeros = Vec(Seq.fill(pow(2, c.addrWidth).toInt) { 0.S(c.dataWidth.W) })\n",
    "    val registers = RegInit(zeros)\n",
    "    \n",
    "    val sel = io.control.inSel.getOrElse(Vec(true.B))\n",
    "    \n",
    "    when (io.control.wEnable) {\n",
    "        registers(io.control.wAddr) := PriorityMux(sel, io.in.data)\n",
    "    }\n",
    "    \n",
    "    when (io.control.rEnable) {\n",
    "        when(io.control.bpSel.getOrElse(false.B)) {\n",
    "            io.out.int := PriorityMux(sel, io.in.data)\n",
    "            io.out.ext := PriorityMux(sel, io.in.data)\n",
    "        } .otherwise {\n",
    "            io.out.int := registers(io.control.rAddrInt)\n",
    "            io.out.ext := registers(io.control.rAddrExt)\n",
    "        }\n",
    "    } .otherwise {\n",
    "        io.out.int := 0.S\n",
    "        io.out.ext := 0.S\n",
    "    }\n",
    "}"
   ]
  },
  {
   "cell_type": "markdown",
   "metadata": {},
   "source": [
    "#### Verification: Single Input"
   ]
  },
  {
   "cell_type": "code",
   "execution_count": 4,
   "metadata": {},
   "outputs": [
    {
     "name": "stdout",
     "output_type": "stream",
     "text": [
      "[\u001b[35minfo\u001b[0m] [0.001] Elaborating design...\n",
      "[\u001b[35minfo\u001b[0m] [0.123] Done elaborating.\n",
      "Total FIRRTL Compile Time: 483.6 ms\n",
      "Total FIRRTL Compile Time: 104.4 ms\n",
      "End of dependency graph\n",
      "Circuit state created\n",
      "[\u001b[35minfo\u001b[0m] [0.001] SEED 1532742491574\n",
      "test cmd2WrapperHelperRF Success: 11 tests passed in 9 cycles taking 0.063285 seconds\n",
      "[\u001b[35minfo\u001b[0m] [0.040] RAN 4 CYCLES PASSED\n"
     ]
    },
    {
     "data": {
      "text/plain": [
       "\u001b[36mexampleRFConOne\u001b[39m: \u001b[32mRFConfig\u001b[39m = $sess.cmd2Wrapper$Helper$RFConfig@70733d1f\r\n",
       "\u001b[36mres3_1\u001b[39m: \u001b[32mBoolean\u001b[39m = \u001b[32mtrue\u001b[39m"
      ]
     },
     "execution_count": 4,
     "metadata": {},
     "output_type": "execute_result"
    }
   ],
   "source": [
    "val exampleRFConOne = new RFConfig(4, 8, 1, true)\n",
    "\n",
    "Driver(() => new RF(exampleRFConOne)) {\n",
    "    uut => new PeekPokeTester(uut) {\n",
    "         \n",
    "        poke(uut.io.control.bpSel.get, false)\n",
    "        poke(uut.io.control.wEnable, true)   \n",
    "        poke(uut.io.control.rEnable, true)\n",
    "\n",
    "        poke(uut.io.control.wAddr, 1)\n",
    "        poke(uut.io.in.data(0), 1)\n",
    "        \n",
    "        step(1)\n",
    "        \n",
    "        poke(uut.io.control.rAddrInt, 1)\n",
    "        expect(uut.io.out.int, 1)\n",
    "        \n",
    "        poke(uut.io.control.rAddrExt, 1)\n",
    "        expect(uut.io.out.ext, 1)\n",
    "        \n",
    "        poke(uut.io.control.wAddr, 2)\n",
    "        poke(uut.io.in.data(0), 2)\n",
    "        \n",
    "        step(1)\n",
    "        \n",
    "        poke(uut.io.control.rAddrInt, 1)\n",
    "        expect(uut.io.out.int, 1)\n",
    "        \n",
    "        poke(uut.io.control.rAddrExt, 2)\n",
    "        expect(uut.io.out.ext, 2)\n",
    "        \n",
    "        poke(uut.io.control.wAddr, 3)\n",
    "        poke(uut.io.in.data(0), 3)\n",
    "        \n",
    "        step(1)\n",
    "        \n",
    "        poke(uut.io.control.rAddrInt, 1)\n",
    "        expect(uut.io.out.int, 1)\n",
    "        \n",
    "        poke(uut.io.control.rAddrExt, 2)\n",
    "        expect(uut.io.out.ext, 2)\n",
    "        \n",
    "        poke(uut.io.control.rAddrInt, 3)\n",
    "        expect(uut.io.out.data.int, 3)\n",
    "        \n",
    "        step(1)\n",
    "        \n",
    "        poke(uut.io.control.bpSel.get, true)\n",
    "        poke(uut.io.in.data(0), 10)\n",
    "        expect(uut.io.out.data.int, 10)\n",
    "        expect(uut.io.out.data.ext, 10)\n",
    "        \n",
    "        poke(uut.io.control.bpSel.get, false)\n",
    "        expect(uut.io.out.data.int, 3)\n",
    "        expect(uut.io.out.data.ext, 2)\n",
    "        \n",
    "    }\n",
    "}"
   ]
  },
  {
   "cell_type": "markdown",
   "metadata": {},
   "source": [
    "#### Verification: Multiple Inputs"
   ]
  },
  {
   "cell_type": "code",
   "execution_count": 5,
   "metadata": {},
   "outputs": [
    {
     "name": "stdout",
     "output_type": "stream",
     "text": [
      "[\u001b[35minfo\u001b[0m] [0.000] Elaborating design...\n",
      "[\u001b[35minfo\u001b[0m] [0.014] Done elaborating.\n",
      "Total FIRRTL Compile Time: 80.5 ms\n",
      "Total FIRRTL Compile Time: 63.7 ms\n",
      "End of dependency graph\n",
      "Circuit state created\n",
      "[\u001b[35minfo\u001b[0m] [0.000] SEED 1532742496273\n",
      "test cmd2WrapperHelperRF Success: 13 tests passed in 9 cycles taking 0.053391 seconds\n",
      "[\u001b[35minfo\u001b[0m] [0.044] RAN 4 CYCLES PASSED\n"
     ]
    },
    {
     "data": {
      "text/plain": [
       "\u001b[36mexampleRFConTwo\u001b[39m: \u001b[32mRFConfig\u001b[39m = $sess.cmd2Wrapper$Helper$RFConfig@316c559a\r\n",
       "\u001b[36mres4_1\u001b[39m: \u001b[32mBoolean\u001b[39m = \u001b[32mtrue\u001b[39m"
      ]
     },
     "execution_count": 5,
     "metadata": {},
     "output_type": "execute_result"
    }
   ],
   "source": [
    "val exampleRFConTwo = new RFConfig(4, 8, 2, true)\n",
    "\n",
    "Driver(() => new RF(exampleRFConTwo)) {\n",
    "    uut => new PeekPokeTester(uut) {\n",
    "         \n",
    "        poke(uut.io.control.bpSel.get, false)\n",
    "        poke(uut.io.control.wEnable, true)   \n",
    "        poke(uut.io.control.rEnable, true)\n",
    "\n",
    "        // Write, input(0)\n",
    "        poke(uut.io.control.wAddr, 1)\n",
    "        poke(uut.io.control.inSel.get(0), 1)\n",
    "        poke(uut.io.control.inSel.get(1), 0)\n",
    "        poke(uut.io.in.data(0), 1)\n",
    "        poke(uut.io.in.data(1), 10)\n",
    "        \n",
    "        step(1)\n",
    "        \n",
    "        // Read\n",
    "        poke(uut.io.control.rAddrInt, 1)\n",
    "        expect(uut.io.out.int, 1)\n",
    "        poke(uut.io.control.rAddrExt, 1)\n",
    "        expect(uut.io.out.ext, 1)\n",
    "        \n",
    "        // Write, input(1)\n",
    "        poke(uut.io.control.wAddr, 2)\n",
    "        poke(uut.io.control.inSel.get(0), 0)\n",
    "        poke(uut.io.control.inSel.get(1), 1)\n",
    "        poke(uut.io.in.data(0), 2)\n",
    "        poke(uut.io.in.data(1), 20)\n",
    "        \n",
    "        step(1)\n",
    "        \n",
    "        // Read\n",
    "        poke(uut.io.control.rAddrInt, 1)\n",
    "        expect(uut.io.out.int, 1)\n",
    "        poke(uut.io.control.rAddrExt, 2)\n",
    "        expect(uut.io.out.ext, 20)\n",
    "        \n",
    "        // Write, input(0)\n",
    "        poke(uut.io.control.wAddr, 3)\n",
    "        poke(uut.io.control.inSel.get(0), 1)\n",
    "        poke(uut.io.control.inSel.get(1), 0)\n",
    "        poke(uut.io.in.data(0), 3)\n",
    "        poke(uut.io.in.data(1), 30)\n",
    "        \n",
    "        step(1)\n",
    "        \n",
    "        // Read\n",
    "        poke(uut.io.control.rAddrInt, 1)\n",
    "        expect(uut.io.out.int, 1)\n",
    "        poke(uut.io.control.rAddrExt, 2)\n",
    "        expect(uut.io.out.ext, 20)\n",
    "        poke(uut.io.control.rAddrInt, 3)\n",
    "        expect(uut.io.out.int, 3)\n",
    "        \n",
    "        step(1)\n",
    "        \n",
    "        // Bypass\n",
    "        poke(uut.io.control.bpSel.get, true)\n",
    "        \n",
    "        poke(uut.io.control.inSel.get(0), 1)\n",
    "        poke(uut.io.control.inSel.get(1), 0)\n",
    "        poke(uut.io.in.data(0), 5)\n",
    "        poke(uut.io.in.data(1), 7)\n",
    "        expect(uut.io.out.int, 5)\n",
    "        expect(uut.io.out.ext, 5)\n",
    "        \n",
    "        poke(uut.io.control.inSel.get(0), 0)\n",
    "        poke(uut.io.control.inSel.get(1), 1)\n",
    "        poke(uut.io.in.data(0), 5)\n",
    "        poke(uut.io.in.data(1), 7)\n",
    "        expect(uut.io.out.int, 7)\n",
    "        expect(uut.io.out.ext, 7)\n",
    "        \n",
    "        poke(uut.io.control.bpSel.get, false)\n",
    "        expect(uut.io.out.int, 3)\n",
    "        expect(uut.io.out.ext, 20)\n",
    "        \n",
    "    }\n",
    "}"
   ]
  },
  {
   "cell_type": "markdown",
   "metadata": {},
   "source": [
    "### Putting them Together"
   ]
  },
  {
   "cell_type": "markdown",
   "metadata": {},
   "source": [
    "#### Definition"
   ]
  },
  {
   "cell_type": "code",
   "execution_count": 6,
   "metadata": {},
   "outputs": [
    {
     "data": {
      "text/plain": [
       "defined \u001b[32mclass\u001b[39m \u001b[36mPRFConfig\u001b[39m\r\n",
       "defined \u001b[32mclass\u001b[39m \u001b[36mPRFControl\u001b[39m\r\n",
       "defined \u001b[32mclass\u001b[39m \u001b[36mPRFInput\u001b[39m\r\n",
       "defined \u001b[32mclass\u001b[39m \u001b[36mPRFOutput\u001b[39m\r\n",
       "defined \u001b[32mclass\u001b[39m \u001b[36mPRF\u001b[39m"
      ]
     },
     "execution_count": 6,
     "metadata": {},
     "output_type": "execute_result"
    }
   ],
   "source": [
    "class PRFConfig(\n",
    "        val ports: Int,\n",
    "        val dataWidth: Int,\n",
    "        val addrWidth: Int,\n",
    "        val numInputs: Int,\n",
    "        val bpType: String) {\n",
    "    \n",
    "    require(List(\"None\", \"Soft\", \"Hard\") contains bpType)\n",
    "    \n",
    "    val bpNone = (bpType == \"None\")\n",
    "    val bpSoft = (bpType == \"Soft\")\n",
    "    val bpHard = (bpType == \"Hard\")\n",
    "    \n",
    "    val rfConfig = new RFConfig(addrWidth, dataWidth, numInputs, bpSoft)\n",
    "}\n",
    "\n",
    "class PRFControl(c: PRFConfig) extends Bundle {\n",
    "    \n",
    "    override def cloneType = (new PRFControl(c)).asInstanceOf[this.type]\n",
    "    \n",
    "    val rf = Vec(c.ports, new RFControl(c.rfConfig))\n",
    "}\n",
    "\n",
    "class PRFInput(c: PRFConfig) extends Bundle {\n",
    "    \n",
    "    override def cloneType = (new PRFInput(c)).asInstanceOf[this.type]\n",
    "    \n",
    "    val rf = Vec(c.ports, new RFInput(c.rfConfig))\n",
    "}\n",
    "\n",
    "class PRFOutput(c: PRFConfig) extends Bundle {\n",
    "    \n",
    "    override def cloneType = (new PRFOutput(c)).asInstanceOf[this.type]\n",
    "    \n",
    "    val rf = Vec(c.ports, new RFOutput(c.rfConfig))\n",
    "}\n",
    "\n",
    "class PRF(c: PRFConfig) extends Module {\n",
    "    \n",
    "    val io = IO(new Bundle {\n",
    "        val control = Input(new PRFControl(c))\n",
    "        val in = Input(new PRFInput(c))\n",
    "        val out = Output(new PRFOutput(c))\n",
    "    })\n",
    "    \n",
    "    if (c.bpNone || c.bpSoft) {\n",
    "        \n",
    "        val rf = Seq.fill(c.ports){ Module(new RF(c.rfConfig)) }\n",
    "        \n",
    "        rf.zipWithIndex.map {\n",
    "            case (x: RF, i: Int) => { \n",
    "                x.io.control <> io.control.rf(i)\n",
    "                x.io.in <> io.in.rf(i)\n",
    "                io.out.rf(i) <> x.io.out\n",
    "            } \n",
    "        }\n",
    "        \n",
    "    } else if (c.bpHard) {\n",
    "        for (i <- 0 until c.ports) {\n",
    "            io.out.rf(i).int := io.in.rf(i).data\n",
    "            io.out.rf(i).ext := io.in.rf(i).data\n",
    "        }\n",
    "    }\n",
    "}"
   ]
  },
  {
   "cell_type": "markdown",
   "metadata": {},
   "source": [
    "#### Verification"
   ]
  },
  {
   "cell_type": "code",
   "execution_count": 39,
   "metadata": {},
   "outputs": [
    {
     "name": "stdout",
     "output_type": "stream",
     "text": [
      "[\u001b[35minfo\u001b[0m] [0.000] Elaborating design...\n",
      "[\u001b[35minfo\u001b[0m] [0.009] Done elaborating.\n",
      "Total FIRRTL Compile Time: 38.0 ms\n",
      "Total FIRRTL Compile Time: 35.4 ms\n",
      "End of dependency graph\n",
      "Circuit state created\n",
      "[\u001b[35minfo\u001b[0m] [0.000] SEED 1532743871741\n",
      "test cmd5WrapperHelperPRF Success: 0 tests passed in 5 cycles taking 0.002343 seconds\n",
      "[\u001b[35minfo\u001b[0m] [0.000] RAN 0 CYCLES PASSED\n"
     ]
    },
    {
     "data": {
      "text/plain": [
       "\u001b[36mexamplePRFCon\u001b[39m: \u001b[32mPRFConfig\u001b[39m = $sess.cmd5Wrapper$Helper$PRFConfig@8e04820\r\n",
       "\u001b[36mres38_1\u001b[39m: \u001b[32mBoolean\u001b[39m = \u001b[32mtrue\u001b[39m"
      ]
     },
     "execution_count": 39,
     "metadata": {},
     "output_type": "execute_result"
    }
   ],
   "source": [
    "val examplePRFCon = new PRFConfig(2, 8, 4, 2, \"Soft\")\n",
    "\n",
    "Driver(() => new PRF(examplePRFCon)) {\n",
    "    uut => new PeekPokeTester(uut) {\n",
    "         \n",
    "//         poke(uut.io.control.rf(0).wEnable, true)  \n",
    "//         poke(uut.io.control.rf(1).wEnable, true) \n",
    "//         poke(uut.io.control.rf(0).rEnable, true)\n",
    "//         poke(uut.io.control.rf(1).rEnable, true)\n",
    "//         poke(uut.io.control.rf(0).bpSel.get, false)\n",
    "//         poke(uut.io.control.rf(1).bpSel.get, false)\n",
    "//         poke(uut.io.control.rf(0).inSel.get(0), true)\n",
    "//         poke(uut.io.control.rf(1).inSel.get(0), true)\n",
    "//         poke(uut.io.control.rf(0).inSel.get(1), false)\n",
    "//         poke(uut.io.control.rf(1).inSel.get(1), false)\n",
    "\n",
    "//         poke(uut.io.control.rf(0).wAddr, 1)\n",
    "//         poke(uut.io.control.rf(1).wAddr, 1)\n",
    "//         poke(uut.io.in.rf(0).data(0), 1)\n",
    "//         poke(uut.io.in.rf(1).data(0), 1)\n",
    "        \n",
    "//         step(1)\n",
    "        \n",
    "//         // Read\n",
    "//         poke(uut.io.control.rf(0).rAddrInt, 1)\n",
    "//         poke(uut.io.control.rf(1).rAddrInt, 1)\n",
    "//         expect(uut.io.out.rf(0).int, 1)\n",
    "//         expect(uut.io.out.rf(1).int, 1)\n",
    "        \n",
    "//         poke(uut.io.control.rf(0).rAddrExt, 1)\n",
    "//         poke(uut.io.control.rf(1).rAddrExt, 1)\n",
    "//         expect(uut.io.out.rf(0).ext, 1)\n",
    "//         expect(uut.io.out.rf(1).ext, 1)\n",
    "        \n",
    "//         // Write\n",
    "//         poke(uut.io.control.rf(0).wAddr, 2)\n",
    "//         poke(uut.io.control.rf(1).wAddr, 2)\n",
    "//         poke(uut.io.in.rf(0).data(0), 2)\n",
    "//         poke(uut.io.in.rf(1).data(0), 2)\n",
    "        \n",
    "//         step(1)\n",
    "        \n",
    "//         // Read\n",
    "//         poke(uut.io.control.rf(0).rAddrInt, 1)\n",
    "//         poke(uut.io.control.rf(1).rAddrInt, 1)\n",
    "//         expect(uut.io.out.rf(0).int, 1)\n",
    "//         expect(uut.io.out.rf(1).int, 1)\n",
    "        \n",
    "//         poke(uut.io.control.rf(0).rAddrExt, 2)\n",
    "//         poke(uut.io.control.rf(1).rAddrExt, 2)\n",
    "//         expect(uut.io.out.rf(0).ext, 2)\n",
    "//         expect(uut.io.out.rf(1).ext, 2)\n",
    "        \n",
    "//         // Write\n",
    "//         poke(uut.io.control.rf(0).wAddr, 3)\n",
    "//         poke(uut.io.control.rf(1).wAddr, 3)\n",
    "//         poke(uut.io.in.rf(0).data(0), 3)\n",
    "//         poke(uut.io.in.rf(1).data(0), 3)\n",
    "        \n",
    "//         step(1)\n",
    "        \n",
    "//         // Read\n",
    "//         poke(uut.io.control.rf(0).rAddrInt, 1)\n",
    "//         poke(uut.io.control.rf(1).rAddrInt, 1)\n",
    "//         expect(uut.io.out.rf(0).int, 1)\n",
    "//         expect(uut.io.out.rf(1).int, 1)\n",
    "        \n",
    "//         poke(uut.io.control.rf(0).rAddrExt, 2)\n",
    "//         poke(uut.io.control.rf(1).rAddrExt, 2)\n",
    "//         expect(uut.io.out.rf(0).ext, 2)\n",
    "//         expect(uut.io.out.rf(1).ext, 2)\n",
    "        \n",
    "//         poke(uut.io.control.rf(0).rAddrInt, 3)\n",
    "//         poke(uut.io.control.rf(1).rAddrInt, 3)\n",
    "//         expect(uut.io.out.rf(0).int, 3)\n",
    "//         expect(uut.io.out.rf(1).int, 3)\n",
    "        \n",
    "//         // Bypass\n",
    "//         poke(uut.io.control.rf(0).bpSel.get, true)\n",
    "//         poke(uut.io.control.rf(1).bpSel.get, false)\n",
    "//         poke(uut.io.in.rf(0).data(0), 10)\n",
    "//         poke(uut.io.in.rf(1).data(0), 10)\n",
    "//         expect(uut.io.out.rf(0).int, 10)\n",
    "//         expect(uut.io.out.rf(1).int, 3)\n",
    "//         expect(uut.io.out.rf(0).ext, 10)\n",
    "//         expect(uut.io.out.rf(1).ext, 2)\n",
    "    }\n",
    "}"
   ]
  },
  {
   "cell_type": "markdown",
   "metadata": {},
   "source": [
    "## Inner Product Unit"
   ]
  },
  {
   "cell_type": "markdown",
   "metadata": {},
   "source": [
    "### Parallel Multiplier"
   ]
  },
  {
   "cell_type": "markdown",
   "metadata": {},
   "source": [
    "#### Definition"
   ]
  },
  {
   "cell_type": "code",
   "execution_count": 8,
   "metadata": {},
   "outputs": [
    {
     "data": {
      "text/plain": [
       "defined \u001b[32mclass\u001b[39m \u001b[36mPMultConfig\u001b[39m\r\n",
       "defined \u001b[32mclass\u001b[39m \u001b[36mPMultInput\u001b[39m\r\n",
       "defined \u001b[32mclass\u001b[39m \u001b[36mPMult\u001b[39m"
      ]
     },
     "execution_count": 8,
     "metadata": {},
     "output_type": "execute_result"
    }
   ],
   "source": [
    "class PMultConfig(val numPairs: Int, val bitWidth: Int) {\n",
    "    require(numPairs >= 1, \"Must have at least one pair of multiplicands.\")\n",
    "    require(bitWidth >= 1, \"Bitwidth must be at least one.\")\n",
    "}\n",
    "\n",
    "class PMultInput(c: PMultConfig) extends Bundle {\n",
    "    \n",
    "    override def cloneType = (new PMultInput(c)).asInstanceOf[this.type]\n",
    "    \n",
    "    val weight = Vec(c.numPairs, SInt(c.bitWidth.W))\n",
    "    val actvtn = Vec(c.numPairs, SInt(c.bitWidth.W))\n",
    "}\n",
    "\n",
    "class PMult(c: PMultConfig) extends Module {\n",
    "    \n",
    "    val io = IO(new Bundle {\n",
    "        val in = Input(new PMultInput(c))\n",
    "        val prod = Output(Vec(c.numPairs, SInt(c.bitWidth.W)))\n",
    "    })\n",
    "    \n",
    "    io.prod := (io.in.weight zip io.in.actvtn).map { case(a, b) => a * b }\n",
    "}"
   ]
  },
  {
   "cell_type": "markdown",
   "metadata": {},
   "source": [
    "#### Verification"
   ]
  },
  {
   "cell_type": "code",
   "execution_count": 9,
   "metadata": {},
   "outputs": [
    {
     "name": "stdout",
     "output_type": "stream",
     "text": [
      "[\u001b[35minfo\u001b[0m] [0.000] Elaborating design...\n",
      "[\u001b[35minfo\u001b[0m] [0.011] Done elaborating.\n",
      "Total FIRRTL Compile Time: 18.9 ms\n",
      "Total FIRRTL Compile Time: 16.1 ms\n",
      "End of dependency graph\n",
      "Circuit state created\n",
      "[\u001b[35minfo\u001b[0m] [0.000] SEED 1532742507972\n",
      "test cmd7WrapperHelperPMult Success: 4 tests passed in 5 cycles taking 0.006922 seconds\n",
      "[\u001b[35minfo\u001b[0m] [0.004] RAN 0 CYCLES PASSED\n"
     ]
    },
    {
     "data": {
      "text/plain": [
       "\u001b[36mexamplePMultCon\u001b[39m: \u001b[32mPMultConfig\u001b[39m = $sess.cmd7Wrapper$Helper$PMultConfig@6eb0f2c\r\n",
       "\u001b[36mres8_1\u001b[39m: \u001b[32mBoolean\u001b[39m = \u001b[32mtrue\u001b[39m"
      ]
     },
     "execution_count": 9,
     "metadata": {},
     "output_type": "execute_result"
    }
   ],
   "source": [
    "val examplePMultCon = new PMultConfig(numPairs = 4, bitWidth = 8)\n",
    "\n",
    "Driver(() => new PMult(examplePMultCon)) {\n",
    "    uut => new PeekPokeTester(uut) {\n",
    "        poke(uut.io.in.weight(0), 1) \n",
    "        poke(uut.io.in.actvtn(0), 2)\n",
    "        \n",
    "        poke(uut.io.in.weight(1), 3) \n",
    "        poke(uut.io.in.actvtn(1), 4)\n",
    "        \n",
    "        poke(uut.io.in.weight(2), 5)\n",
    "        poke(uut.io.in.actvtn(2), 6)\n",
    "        \n",
    "        poke(uut.io.in.weight(3), 7)\n",
    "        poke(uut.io.in.actvtn(3), 8)\n",
    "        \n",
    "        expect(uut.io.prod(0), 2)\n",
    "        expect(uut.io.prod(1), 12)\n",
    "        expect(uut.io.prod(2), 30)\n",
    "        expect(uut.io.prod(3), 56)\n",
    "  }\n",
    "}"
   ]
  },
  {
   "cell_type": "markdown",
   "metadata": {},
   "source": [
    "### Additive Reduction Tree"
   ]
  },
  {
   "cell_type": "markdown",
   "metadata": {},
   "source": [
    "#### Definition"
   ]
  },
  {
   "cell_type": "code",
   "execution_count": 10,
   "metadata": {},
   "outputs": [
    {
     "data": {
      "text/plain": [
       "defined \u001b[32mclass\u001b[39m \u001b[36mARTreeConfig\u001b[39m\r\n",
       "defined \u001b[32mfunction\u001b[39m \u001b[36madjReduce\u001b[39m\r\n",
       "defined \u001b[32mclass\u001b[39m \u001b[36mARTree\u001b[39m"
      ]
     },
     "execution_count": 10,
     "metadata": {},
     "output_type": "execute_result"
    }
   ],
   "source": [
    "class ARTreeConfig(val numAddends: Int, val bitWidth: Int) {\n",
    "    require(numAddends >= 1, \"Number of addends must be at least one.\")\n",
    "    require(bitWidth >= 1, \"Bitwidth must be at least one.\")\n",
    "}\n",
    "\n",
    "// Recursively creates a balanced syntax tree\n",
    "def adjReduce[A](xs: List[A], op: (A, A) => A): A = xs match {\n",
    "    case Nil => throw new IllegalArgumentException\n",
    "    case List(single) => single\n",
    "    case default => {\n",
    "        val grouped = default.grouped(2).toList\n",
    "        val result = for (g <- grouped) yield {\n",
    "            g match {\n",
    "                case List(a, b) => op(a, b)\n",
    "                case List(x) => x\n",
    "            }\n",
    "        }\n",
    "        adjReduce(result, op)\n",
    "    }\n",
    "}\n",
    "\n",
    "class ARTree(c: ARTreeConfig) extends Module {\n",
    "    \n",
    "    val io = IO(new Bundle {\n",
    "        val in  = Input(Vec(c.numAddends, SInt(c.bitWidth.W)))\n",
    "        val sum = Output(SInt(c.bitWidth.W))\n",
    "    })\n",
    "    \n",
    "    io.sum := adjReduce(io.in toList, (x: SInt, y: SInt) => x + y)\n",
    "}"
   ]
  },
  {
   "cell_type": "markdown",
   "metadata": {},
   "source": [
    "#### Verilog"
   ]
  },
  {
   "cell_type": "code",
   "execution_count": 11,
   "metadata": {},
   "outputs": [
    {
     "name": "stdout",
     "output_type": "stream",
     "text": [
      "[\u001b[35minfo\u001b[0m] [0.000] Elaborating design...\n",
      "[\u001b[35minfo\u001b[0m] [0.011] Done elaborating.\n",
      "Total FIRRTL Compile Time: 116.4 ms\n",
      "\n",
      "module cmd9WrapperHelperARTree( // @[:@3.2]\n",
      "  input        clock, // @[:@4.4]\n",
      "  input        reset, // @[:@5.4]\n",
      "  input  [7:0] io_in_0, // @[:@6.4]\n",
      "  input  [7:0] io_in_1, // @[:@6.4]\n",
      "  input  [7:0] io_in_2, // @[:@6.4]\n",
      "  input  [7:0] io_in_3, // @[:@6.4]\n",
      "  output [7:0] io_sum // @[:@6.4]\n",
      ");\n",
      "  wire [8:0] _T_12; // @[cmd9.sc 29:63:@8.4]\n",
      "  wire [7:0] _T_13; // @[cmd9.sc 29:63:@9.4]\n",
      "  wire [7:0] _T_14; // @[cmd9.sc 29:63:@10.4]\n",
      "  wire [8:0] _T_15; // @[cmd9.sc 29:63:@11.4]\n",
      "  wire [7:0] _T_16; // @[cmd9.sc 29:63:@12.4]\n",
      "  wire [7:0] _T_17; // @[cmd9.sc 29:63:@13.4]\n",
      "  wire [8:0] _T_18; // @[cmd9.sc 29:63:@14.4]\n",
      "  wire [7:0] _T_19; // @[cmd9.sc 29:63:@15.4]\n",
      "  wire [7:0] _T_20; // @[cmd9.sc 29:63:@16.4]\n",
      "  assign _T_12 = $signed(io_in_0) + $signed(io_in_1); // @[cmd9.sc 29:63:@8.4]\n",
      "  assign _T_13 = _T_12[7:0]; // @[cmd9.sc 29:63:@9.4]\n",
      "  assign _T_14 = $signed(_T_13); // @[cmd9.sc 29:63:@10.4]\n",
      "  assign _T_15 = $signed(io_in_2) + $signed(io_in_3); // @[cmd9.sc 29:63:@11.4]\n",
      "  assign _T_16 = _T_15[7:0]; // @[cmd9.sc 29:63:@12.4]\n",
      "  assign _T_17 = $signed(_T_16); // @[cmd9.sc 29:63:@13.4]\n",
      "  assign _T_18 = $signed(_T_14) + $signed(_T_17); // @[cmd9.sc 29:63:@14.4]\n",
      "  assign _T_19 = _T_18[7:0]; // @[cmd9.sc 29:63:@15.4]\n",
      "  assign _T_20 = $signed(_T_19); // @[cmd9.sc 29:63:@16.4]\n",
      "  assign io_sum = _T_20;\n",
      "endmodule\n",
      "\n"
     ]
    },
    {
     "data": {
      "text/plain": [
       "\u001b[36mexampleARTreeCon\u001b[39m: \u001b[32mARTreeConfig\u001b[39m = $sess.cmd9Wrapper$Helper$ARTreeConfig@194208e9"
      ]
     },
     "execution_count": 11,
     "metadata": {},
     "output_type": "execute_result"
    }
   ],
   "source": [
    "val exampleARTreeCon = new ARTreeConfig(4, 8)\n",
    "println(getVerilog(new ARTree(exampleARTreeCon)))"
   ]
  },
  {
   "cell_type": "markdown",
   "metadata": {},
   "source": [
    "#### Verification"
   ]
  },
  {
   "cell_type": "code",
   "execution_count": 12,
   "metadata": {},
   "outputs": [
    {
     "name": "stdout",
     "output_type": "stream",
     "text": [
      "[\u001b[35minfo\u001b[0m] [0.000] Elaborating design...\n",
      "[\u001b[35minfo\u001b[0m] [0.000] Done elaborating.\n",
      "Total FIRRTL Compile Time: 12.1 ms\n",
      "Total FIRRTL Compile Time: 10.8 ms\n",
      "End of dependency graph\n",
      "Circuit state created\n",
      "[\u001b[35minfo\u001b[0m] [0.000] SEED 1532742518500\n",
      "test cmd9WrapperHelperARTree Success: 2 tests passed in 5 cycles taking 0.003123 seconds\n",
      "[\u001b[35minfo\u001b[0m] [0.002] RAN 0 CYCLES PASSED\n"
     ]
    },
    {
     "data": {
      "text/plain": [
       "\u001b[36mres11\u001b[39m: \u001b[32mBoolean\u001b[39m = \u001b[32mtrue\u001b[39m"
      ]
     },
     "execution_count": 12,
     "metadata": {},
     "output_type": "execute_result"
    }
   ],
   "source": [
    "Driver(() => new ARTree(exampleARTreeCon)) {\n",
    "    uut => new PeekPokeTester(uut) {\n",
    "        poke(uut.io.in(0), 1) \n",
    "        poke(uut.io.in(1), 2)\n",
    "        poke(uut.io.in(2), 8) \n",
    "        poke(uut.io.in(3), 9) \n",
    "        expect(uut.io.sum, 20)\n",
    "        \n",
    "        poke(uut.io.in(0), 1) \n",
    "        poke(uut.io.in(1), 2)\n",
    "        poke(uut.io.in(2), 8) \n",
    "        poke(uut.io.in(3), 9) \n",
    "        expect(uut.io.sum, 20)\n",
    "    }\n",
    "}"
   ]
  },
  {
   "cell_type": "markdown",
   "metadata": {},
   "source": [
    "### Putting them Together"
   ]
  },
  {
   "cell_type": "markdown",
   "metadata": {},
   "source": [
    "#### Definition"
   ]
  },
  {
   "cell_type": "code",
   "execution_count": 13,
   "metadata": {},
   "outputs": [
    {
     "data": {
      "text/plain": [
       "defined \u001b[32mclass\u001b[39m \u001b[36mIPUConfig\u001b[39m\r\n",
       "defined \u001b[32mclass\u001b[39m \u001b[36mIPUOutput\u001b[39m\r\n",
       "defined \u001b[32mclass\u001b[39m \u001b[36mIPU\u001b[39m"
      ]
     },
     "execution_count": 13,
     "metadata": {},
     "output_type": "execute_result"
    }
   ],
   "source": [
    "class IPUConfig(val width: Int, val bitWidth: Int, val bpType: String) {\n",
    "    \n",
    "    private val bypssError = \"Bypass must be \\\"None\\\" or \\\"Firm\\\"\"\n",
    "    private val widthError = \"Width must be at least one\"\n",
    "    private val bitWdError = \"Data bitwidth must be non-negative\"\n",
    "    \n",
    "    val supportedBp = List(\"None\", \"Firm\")\n",
    "    \n",
    "    require(width >= 1, widthError)\n",
    "    require(supportedBp.contains(bpType), bypssError)\n",
    "    require(bitWidth >= 0, bitWdError)\n",
    "    \n",
    "    val childPMultConfig = new PMultConfig(width, bitWidth)\n",
    "    val childARTreeConfig = new ARTreeConfig(width, bitWidth)\n",
    "    \n",
    "    val bpFirm = (bpType == \"Firm\")\n",
    "}\n",
    "\n",
    "class IPUOutput(c: IPUConfig) extends Bundle {\n",
    "    \n",
    "    override def cloneType = (new IPUOutput(c)).asInstanceOf[this.type]\n",
    "    \n",
    "    val innerProd = Output(SInt(c.bitWidth.W))\n",
    "    val bpWeight = if (c.bpFirm) Some(SInt(c.bitWidth.W)) else None\n",
    "    val bpActvtn = if (c.bpFirm) Some(SInt(c.bitWidth.W)) else None\n",
    "}\n",
    "\n",
    "\n",
    "class IPU(c: IPUConfig) extends Module {\n",
    "    \n",
    "    val cPMConfig = c.childPMultConfig\n",
    "    val cARTConfig = c.childARTreeConfig\n",
    "    \n",
    "    val io = IO(new Bundle {\n",
    "        val dataIn = Input(new PMultInput(cPMConfig))\n",
    "        val dataOut = Output(new IPUOutput(c))\n",
    "        val bpSel = if (c.bpFirm) Some(Input(Vec(c.width, Bool()))) else None\n",
    "    })\n",
    "    \n",
    "    val pMult = Module(new PMult(cPMConfig))\n",
    "    pMult.io.in <> io.dataIn\n",
    "    \n",
    "    val aRTree = Module(new ARTree(cARTConfig))\n",
    "    aRTree.io.in := pMult.io.prod\n",
    "    \n",
    "    io.dataOut.innerProd := aRTree.io.sum\n",
    "    \n",
    "    if (c.bpFirm) {\n",
    "        io.dataOut.bpWeight.get := PriorityMux(io.bpSel.get, io.dataIn.weight)\n",
    "        io.dataOut.bpActvtn.get := PriorityMux(io.bpSel.get, io.dataIn.actvtn)\n",
    "    }\n",
    "}"
   ]
  },
  {
   "cell_type": "markdown",
   "metadata": {},
   "source": [
    "#### Verification"
   ]
  },
  {
   "cell_type": "code",
   "execution_count": 14,
   "metadata": {},
   "outputs": [
    {
     "name": "stdout",
     "output_type": "stream",
     "text": [
      "[\u001b[35minfo\u001b[0m] [0.000] Elaborating design...\n",
      "[\u001b[35minfo\u001b[0m] [0.014] Done elaborating.\n",
      "Total FIRRTL Compile Time: 35.4 ms\n",
      "Total FIRRTL Compile Time: 25.0 ms\n",
      "End of dependency graph\n",
      "Circuit state created\n",
      "[\u001b[35minfo\u001b[0m] [0.000] SEED 1532742523910\n",
      "test cmd12WrapperHelperIPU Success: 5 tests passed in 5 cycles taking 0.007497 seconds\n",
      "[\u001b[35minfo\u001b[0m] [0.000] RAN 0 CYCLES PASSED\n"
     ]
    },
    {
     "data": {
      "text/plain": [
       "\u001b[36mexampleIPUCon\u001b[39m: \u001b[32mIPUConfig\u001b[39m = $sess.cmd12Wrapper$Helper$IPUConfig@47bb2ed6\r\n",
       "\u001b[36mres13_1\u001b[39m: \u001b[32mBoolean\u001b[39m = \u001b[32mtrue\u001b[39m"
      ]
     },
     "execution_count": 14,
     "metadata": {},
     "output_type": "execute_result"
    }
   ],
   "source": [
    "val exampleIPUCon = new IPUConfig(width = 4, bitWidth = 8, bpType = \"Firm\")\n",
    "\n",
    "Driver(() => new IPU(exampleIPUCon)) {\n",
    "    uut => new PeekPokeTester(uut) {\n",
    "        \n",
    "        poke(uut.io.bpSel.get(0), 0)\n",
    "        poke(uut.io.bpSel.get(1), 0)\n",
    "        poke(uut.io.bpSel.get(2), 0)\n",
    "        poke(uut.io.bpSel.get(3), 0)\n",
    "        \n",
    "        poke(uut.io.dataIn.weight(0), 1)\n",
    "        poke(uut.io.dataIn.weight(1), 2)\n",
    "        poke(uut.io.dataIn.weight(2), 3)\n",
    "        poke(uut.io.dataIn.weight(3), 4)\n",
    "        \n",
    "        poke(uut.io.dataIn.actvtn(0), 5)\n",
    "        poke(uut.io.dataIn.actvtn(1), 6)\n",
    "        poke(uut.io.dataIn.actvtn(2), 7)\n",
    "        poke(uut.io.dataIn.actvtn(3), 8)\n",
    "        \n",
    "        expect(uut.io.dataOut.innerProd, 70)\n",
    "        \n",
    "        poke(uut.io.bpSel.get(0), 0)\n",
    "        poke(uut.io.bpSel.get(1), 1)\n",
    "        poke(uut.io.bpSel.get(2), 0)\n",
    "        poke(uut.io.bpSel.get(3), 0)\n",
    "        \n",
    "        expect(uut.io.dataOut.bpWeight.get, 2)\n",
    "        expect(uut.io.dataOut.bpActvtn.get, 6)\n",
    "        \n",
    "        poke(uut.io.bpSel.get(0), 0)\n",
    "        poke(uut.io.bpSel.get(1), 0)\n",
    "        poke(uut.io.bpSel.get(2), 1)\n",
    "        poke(uut.io.bpSel.get(3), 0)\n",
    "        \n",
    "        expect(uut.io.dataOut.bpWeight.get, 3)\n",
    "        expect(uut.io.dataOut.bpActvtn.get, 7)\n",
    "    }\n",
    "}"
   ]
  },
  {
   "cell_type": "markdown",
   "metadata": {},
   "source": [
    "## ALU"
   ]
  },
  {
   "cell_type": "markdown",
   "metadata": {},
   "source": [
    "#### Definition"
   ]
  },
  {
   "cell_type": "code",
   "execution_count": 15,
   "metadata": {},
   "outputs": [
    {
     "data": {
      "text/plain": [
       "defined \u001b[32mclass\u001b[39m \u001b[36mALUConfig\u001b[39m\r\n",
       "defined \u001b[32mclass\u001b[39m \u001b[36mALUInput\u001b[39m\r\n",
       "defined \u001b[32mclass\u001b[39m \u001b[36mALU\u001b[39m"
      ]
     },
     "execution_count": 15,
     "metadata": {},
     "output_type": "execute_result"
    }
   ],
   "source": [
    "class ALUConfig(val dataWidth: Int, val funcs: List[String]) {\n",
    "    val identityError = \"ALU functions must explicitly include Identity.\"\n",
    "    val functionError = \"Unsupported Error\"\n",
    "    val supportedFuncs = List(\"Identity\", \"Add\", \"Max\", \"Accumulate\")\n",
    "    \n",
    "    require(funcs.contains(\"Identity\"), identityError)\n",
    "    for(x <- funcs) { require(supportedFuncs.contains(x), functionError) }\n",
    "    \n",
    "    val addSupp = funcs.contains(\"Add\")\n",
    "    val maxSupp = funcs.contains(\"Max\")\n",
    "    val accSupp = funcs.contains(\"Accumulate\")\n",
    "    val addBypassIn = addSupp || maxSupp\n",
    "    val numFuncs = funcs.length\n",
    "}\n",
    "\n",
    "class ALUInput(c: ALUConfig) extends Bundle {\n",
    "    \n",
    "    override def cloneType = (new ALUInput(c)).asInstanceOf[this.type]\n",
    "    \n",
    "    val innerProd = Input(SInt(c.dataWidth.W))\n",
    "    val funcSel = Input(Vec(c.numFuncs, Bool()))\n",
    "    \n",
    "    val weightBp = if(c.addBypassIn) Some(Input(SInt(c.dataWidth.W))) else None\n",
    "    val actvtnBp = if(c.addBypassIn) Some(Input(SInt(c.dataWidth.W))) else None\n",
    "    val rfFeedback = if(c.accSupp) Some(Input(SInt(c.dataWidth.W))) else None\n",
    "}\n",
    "\n",
    "class ALU(c: ALUConfig) extends Module {\n",
    " \n",
    "    val io = IO(new Bundle {\n",
    "        val in = new ALUInput(c)\n",
    "        val out = Output(SInt(c.dataWidth.W))\n",
    "    })\n",
    "    \n",
    "    val idnOut = Some(Wire(SInt(c.dataWidth.W)))\n",
    "    val addOut = if(c.addSupp) Some(Wire(SInt(c.dataWidth.W))) else None\n",
    "    val maxOut = if(c.maxSupp) Some(Wire(SInt(c.dataWidth.W))) else None\n",
    "    val accOut = if(c.accSupp) Some(Wire(SInt(c.dataWidth.W))) else None\n",
    "    \n",
    "    idnOut.get := io.in.innerProd\n",
    "    \n",
    "    if (c.addSupp) { addOut.get := io.in.weightBp.get + io.in.actvtnBp.get }\n",
    "    if (c.accSupp) { accOut.get := io.in.innerProd + io.in.rfFeedback.get }\n",
    "    if (c.maxSupp) {\n",
    "        when (io.in.weightBp.get > io.in.actvtnBp.get) {\n",
    "            maxOut.get := io.in.weightBp.get\n",
    "        } .otherwise {\n",
    "            maxOut.get := io.in.actvtnBp.get\n",
    "        }\n",
    "    }\n",
    "    \n",
    "    val inters = (idnOut :: addOut :: maxOut :: accOut :: Nil) filter ( _.isDefined ) map ( _.get )\n",
    "    io.out := PriorityMux(io.in.funcSel, inters)\n",
    "}"
   ]
  },
  {
   "cell_type": "markdown",
   "metadata": {},
   "source": [
    "#### Verification"
   ]
  },
  {
   "cell_type": "code",
   "execution_count": 16,
   "metadata": {},
   "outputs": [
    {
     "name": "stdout",
     "output_type": "stream",
     "text": [
      "[\u001b[35minfo\u001b[0m] [0.003] Elaborating design...\n",
      "[\u001b[35minfo\u001b[0m] [0.013] Done elaborating.\n",
      "Total FIRRTL Compile Time: 19.6 ms\n",
      "Total FIRRTL Compile Time: 15.5 ms\n",
      "End of dependency graph\n",
      "Circuit state created\n",
      "[\u001b[35minfo\u001b[0m] [0.000] SEED 1532742545006\n",
      "test cmd14WrapperHelperALU Success: 4 tests passed in 5 cycles taking 0.008006 seconds\n",
      "[\u001b[35minfo\u001b[0m] [0.006] RAN 0 CYCLES PASSED\n"
     ]
    },
    {
     "data": {
      "text/plain": [
       "\u001b[36mexampleALUFuncs\u001b[39m: \u001b[32mList\u001b[39m[\u001b[32mString\u001b[39m] = \u001b[33mList\u001b[39m(\u001b[32m\"Identity\"\u001b[39m, \u001b[32m\"Add\"\u001b[39m, \u001b[32m\"Max\"\u001b[39m, \u001b[32m\"Accumulate\"\u001b[39m)\r\n",
       "\u001b[36mexampleALUCon\u001b[39m: \u001b[32mALUConfig\u001b[39m = $sess.cmd14Wrapper$Helper$ALUConfig@6898193d\r\n",
       "\u001b[36mres15_2\u001b[39m: \u001b[32mBoolean\u001b[39m = \u001b[32mtrue\u001b[39m"
      ]
     },
     "execution_count": 16,
     "metadata": {},
     "output_type": "execute_result"
    }
   ],
   "source": [
    "val exampleALUFuncs = \"Identity\" :: \"Add\" :: \"Max\" :: \"Accumulate\" :: Nil\n",
    "val exampleALUCon = new ALUConfig(dataWidth = 8, funcs = exampleALUFuncs)\n",
    "\n",
    "Driver(() => new ALU(exampleALUCon)) {\n",
    "    uut => new PeekPokeTester(uut) {\n",
    "        \n",
    "        poke(uut.io.in.innerProd, 1)\n",
    "        poke(uut.io.in.weightBp.get, 2)\n",
    "        poke(uut.io.in.actvtnBp.get, 3)\n",
    "        poke(uut.io.in.rfFeedback.get, 4)\n",
    "        \n",
    "        poke(uut.io.in.funcSel(0), 1)\n",
    "        poke(uut.io.in.funcSel(1), 0)\n",
    "        poke(uut.io.in.funcSel(2), 0)\n",
    "        poke(uut.io.in.funcSel(3), 0)\n",
    "        expect(uut.io.out, 1)\n",
    "        \n",
    "        poke(uut.io.in.funcSel(0), 0)\n",
    "        poke(uut.io.in.funcSel(1), 1)\n",
    "        poke(uut.io.in.funcSel(2), 0)\n",
    "        poke(uut.io.in.funcSel(3), 0)\n",
    "        expect(uut.io.out, 5)\n",
    "        \n",
    "        poke(uut.io.in.funcSel(0), 0)\n",
    "        poke(uut.io.in.funcSel(1), 0)\n",
    "        poke(uut.io.in.funcSel(2), 1)\n",
    "        poke(uut.io.in.funcSel(3), 0)\n",
    "        expect(uut.io.out, 3)\n",
    "        \n",
    "        poke(uut.io.in.funcSel(0), 0)\n",
    "        poke(uut.io.in.funcSel(1), 0)\n",
    "        poke(uut.io.in.funcSel(2), 0)\n",
    "        poke(uut.io.in.funcSel(3), 1)\n",
    "        expect(uut.io.out, 5)\n",
    "    }\n",
    "}"
   ]
  },
  {
   "cell_type": "markdown",
   "metadata": {},
   "source": [
    "## Nonlinear Unit"
   ]
  },
  {
   "cell_type": "code",
   "execution_count": 17,
   "metadata": {},
   "outputs": [
    {
     "data": {
      "text/plain": [
       "defined \u001b[32mclass\u001b[39m \u001b[36mNLUConfig\u001b[39m\r\n",
       "defined \u001b[32mclass\u001b[39m \u001b[36mNLUInputs\u001b[39m\r\n",
       "defined \u001b[32mclass\u001b[39m \u001b[36mNLU\u001b[39m"
      ]
     },
     "execution_count": 17,
     "metadata": {},
     "output_type": "execute_result"
    }
   ],
   "source": [
    "class NLUConfig(val dataWidth: Int, val funcs: List[String]) {\n",
    "    \n",
    "    val supportedFuncs = List(\"Identity\", \"ReLu\")\n",
    "    val identityError = \"NLU functions must explicitly include Identity.\"\n",
    "    val functionError = \"Unsupported Function\"\n",
    "    \n",
    "    require(funcs.contains(\"Identity\"), identityError)\n",
    "    for(x <- funcs)(require(supportedFuncs.contains(x), functionError))\n",
    "    \n",
    "    val reluSupp = funcs.contains(\"ReLu\")\n",
    "    val numFuncs = funcs.length\n",
    "}\n",
    "\n",
    "class NLUInputs(c: NLUConfig) extends Bundle {\n",
    "    \n",
    "    override def cloneType = (new NLUInputs(c)).asInstanceOf[this.type]\n",
    "    \n",
    "    val data = SInt(c.dataWidth.W)\n",
    "    val fSel = Vec(c.numFuncs, Bool())\n",
    "}\n",
    "\n",
    "class NLU(c: NLUConfig) extends Module {\n",
    "    \n",
    "    val io = IO(new Bundle {\n",
    "        val in  = Input(new NLUInputs(c))\n",
    "        val out = Output(SInt(c.dataWidth.W))\n",
    "    })\n",
    "    \n",
    "    val idRes   = Some(Wire(SInt(c.dataWidth.W)))\n",
    "    val reluRes = if(c.reluSupp) Some(Wire(SInt(c.dataWidth.W))) else None\n",
    "    \n",
    "    idRes.get := io.in.data\n",
    "    \n",
    "    if (c.reluSupp) {\n",
    "        when (io.in.data > 0.S) {\n",
    "            reluRes.get := io.in.data\n",
    "        } .otherwise {\n",
    "            reluRes.get := 0.S\n",
    "        }\n",
    "    }\n",
    "    \n",
    "    val inters = (idRes :: reluRes :: Nil) filter ( _.isDefined ) map ( _.get )\n",
    "    io.out := PriorityMux(io.in.fSel, inters)\n",
    "}"
   ]
  },
  {
   "cell_type": "code",
   "execution_count": 18,
   "metadata": {},
   "outputs": [
    {
     "name": "stdout",
     "output_type": "stream",
     "text": [
      "[\u001b[35minfo\u001b[0m] [0.000] Elaborating design...\n",
      "[\u001b[35minfo\u001b[0m] [0.006] Done elaborating.\n",
      "Total FIRRTL Compile Time: 10.1 ms\n",
      "Total FIRRTL Compile Time: 7.5 ms\n",
      "End of dependency graph\n",
      "Circuit state created\n",
      "[\u001b[35minfo\u001b[0m] [0.000] SEED 1532742557080\n",
      "test cmd16WrapperHelperNLU Success: 4 tests passed in 5 cycles taking 0.003257 seconds\n",
      "[\u001b[35minfo\u001b[0m] [0.004] RAN 0 CYCLES PASSED\n"
     ]
    },
    {
     "data": {
      "text/plain": [
       "\u001b[36mnluFuncs\u001b[39m: \u001b[32mList\u001b[39m[\u001b[32mString\u001b[39m] = \u001b[33mList\u001b[39m(\u001b[32m\"Identity\"\u001b[39m, \u001b[32m\"ReLu\"\u001b[39m)\r\n",
       "\u001b[36mnluCon\u001b[39m: \u001b[32mNLUConfig\u001b[39m = $sess.cmd16Wrapper$Helper$NLUConfig@904b8ac\r\n",
       "\u001b[36mres17_2\u001b[39m: \u001b[32mBoolean\u001b[39m = \u001b[32mtrue\u001b[39m"
      ]
     },
     "execution_count": 18,
     "metadata": {},
     "output_type": "execute_result"
    }
   ],
   "source": [
    "val nluFuncs = \"Identity\" :: \"ReLu\" :: Nil\n",
    "val nluCon = new NLUConfig(dataWidth = 8, funcs = nluFuncs)\n",
    "\n",
    "Driver(() => new NLU(nluCon)) {\n",
    "    uut => new PeekPokeTester(uut) {\n",
    "        \n",
    "        poke(uut.io.in.data, 5)\n",
    "        \n",
    "        poke(uut.io.in.fSel(0), 1)\n",
    "        poke(uut.io.in.fSel(1), 0)\n",
    "        expect(uut.io.out, 5)\n",
    "        \n",
    "        poke(uut.io.in.fSel(0), 0)\n",
    "        poke(uut.io.in.fSel(1), 1)\n",
    "        expect(uut.io.out, 5)\n",
    "        \n",
    "        poke(uut.io.in.data, -4)\n",
    "        \n",
    "        poke(uut.io.in.fSel(0), 1)\n",
    "        poke(uut.io.in.fSel(1), 0)\n",
    "        expect(uut.io.out, -4)\n",
    "        \n",
    "        poke(uut.io.in.fSel(0), 0)\n",
    "        poke(uut.io.in.fSel(1), 1)\n",
    "        expect(uut.io.out, 0)\n",
    "    }\n",
    "}"
   ]
  },
  {
   "cell_type": "markdown",
   "metadata": {},
   "source": [
    "## Control"
   ]
  },
  {
   "cell_type": "markdown",
   "metadata": {},
   "source": [
    "### State Machine"
   ]
  },
  {
   "cell_type": "markdown",
   "metadata": {},
   "source": [
    "#### Definition"
   ]
  },
  {
   "cell_type": "code",
   "execution_count": 19,
   "metadata": {},
   "outputs": [
    {
     "data": {
      "text/plain": [
       "defined \u001b[32mclass\u001b[39m \u001b[36mStateMachineConfig\u001b[39m\r\n",
       "defined \u001b[32mclass\u001b[39m \u001b[36mStateMachine\u001b[39m"
      ]
     },
     "execution_count": 19,
     "metadata": {},
     "output_type": "execute_result"
    }
   ],
   "source": [
    "class StateMachineConfig(\n",
    "        val numStates: Int, \n",
    "        val numCtrlSigs: Int, \n",
    "        val stateMap: (UInt, UInt, StateMachineConfig) => UInt) {\n",
    "    \n",
    "    val stateWidth = log2Up(numStates)\n",
    "    val ctrlWidth = log2Up(numCtrlSigs)\n",
    "}\n",
    "\n",
    "class StateMachine(c: StateMachineConfig) extends Module {\n",
    "    \n",
    "    val stateWidth: Int = log2Up(c.numStates)\n",
    "    \n",
    "    val io = IO(new Bundle {\n",
    "        val control = Input (UInt(c.ctrlWidth.W ))\n",
    "        val out     = Output(UInt(c.stateWidth.W))\n",
    "    })\n",
    "    \n",
    "    val register = RegInit(0.U(c.stateWidth.W))\n",
    "    register := c.stateMap(register, io.control, c)\n",
    "    io.out := register\n",
    "}"
   ]
  },
  {
   "cell_type": "markdown",
   "metadata": {},
   "source": [
    "#### Example"
   ]
  },
  {
   "cell_type": "code",
   "execution_count": 20,
   "metadata": {},
   "outputs": [
    {
     "data": {
      "text/plain": [
       "defined \u001b[32mfunction\u001b[39m \u001b[36mexampleStateMap\u001b[39m"
      ]
     },
     "execution_count": 20,
     "metadata": {},
     "output_type": "execute_result"
    }
   ],
   "source": [
    "def exampleStateMap(state: UInt, control: UInt, c: StateMachineConfig): UInt = {\n",
    "    \n",
    "    val nextState = Wire(UInt(c.stateWidth.W))\n",
    "    \n",
    "    when      (state === 0.U & control === 0.U) { nextState := 0.U }\n",
    "    .elsewhen (state === 0.U & control === 1.U) { nextState := 1.U }\n",
    "    .elsewhen (state === 1.U & control === 0.U) { nextState := 0.U }\n",
    "    .elsewhen (state === 1.U & control === 1.U) { nextState := 1.U }\n",
    "    .otherwise { nextState := 0.U }\n",
    "    \n",
    "    nextState\n",
    "}"
   ]
  },
  {
   "cell_type": "markdown",
   "metadata": {},
   "source": [
    "#### Verification"
   ]
  },
  {
   "cell_type": "code",
   "execution_count": 21,
   "metadata": {},
   "outputs": [
    {
     "name": "stdout",
     "output_type": "stream",
     "text": [
      "[\u001b[35minfo\u001b[0m] [0.000] Elaborating design...\n",
      "[\u001b[35minfo\u001b[0m] [0.008] Done elaborating.\n",
      "Total FIRRTL Compile Time: 14.2 ms\n",
      "Total FIRRTL Compile Time: 12.3 ms\n",
      "End of dependency graph\n",
      "Circuit state created\n",
      "[\u001b[35minfo\u001b[0m] [0.000] SEED 1532742566012\n",
      "test cmd18WrapperHelperStateMachine Success: 5 tests passed in 9 cycles taking 0.003020 seconds\n",
      "[\u001b[35minfo\u001b[0m] [0.004] RAN 4 CYCLES PASSED\n"
     ]
    },
    {
     "data": {
      "text/plain": [
       "\u001b[36mexampleStateMachineConfig\u001b[39m: \u001b[32mStateMachineConfig\u001b[39m = $sess.cmd18Wrapper$Helper$StateMachineConfig@d559fe0\r\n",
       "\u001b[36mres20_1\u001b[39m: \u001b[32mBoolean\u001b[39m = \u001b[32mtrue\u001b[39m"
      ]
     },
     "execution_count": 21,
     "metadata": {},
     "output_type": "execute_result"
    }
   ],
   "source": [
    "val exampleStateMachineConfig = new StateMachineConfig(2, 2, exampleStateMap)\n",
    "\n",
    "Driver(() => new StateMachine(exampleStateMachineConfig)) {\n",
    "    uut => new PeekPokeTester(uut) {\n",
    "        poke(uut.io.control, 0)\n",
    "        expect(uut.io.out, 0)\n",
    "        \n",
    "        // 0 -> 1\n",
    "        poke(uut.io.control, 1)\n",
    "        step(1)\n",
    "        expect(uut.io.out, 1)\n",
    "        \n",
    "        // 1 -> 1\n",
    "        poke(uut.io.control, 1)\n",
    "        step(1)\n",
    "        expect(uut.io.out, 1)\n",
    "        \n",
    "        // 1 -> 0\n",
    "        poke(uut.io.control, 0)\n",
    "        step(1)\n",
    "        expect(uut.io.out, 0)\n",
    "        \n",
    "        // 0 -> 0\n",
    "        poke(uut.io.control, 0)\n",
    "        step(1)\n",
    "        expect(uut.io.out, 0)\n",
    "    }\n",
    "}"
   ]
  },
  {
   "cell_type": "markdown",
   "metadata": {},
   "source": [
    "### Decoder"
   ]
  },
  {
   "cell_type": "markdown",
   "metadata": {},
   "source": [
    "#### Definition"
   ]
  },
  {
   "cell_type": "code",
   "execution_count": 42,
   "metadata": {},
   "outputs": [
    {
     "data": {
      "text/plain": [
       "defined \u001b[32mclass\u001b[39m \u001b[36mDecoderConfig\u001b[39m\r\n",
       "defined \u001b[32mclass\u001b[39m \u001b[36mMemoryControl\u001b[39m\r\n",
       "defined \u001b[32mclass\u001b[39m \u001b[36mProcessControl\u001b[39m\r\n",
       "defined \u001b[32mclass\u001b[39m \u001b[36mDecoder\u001b[39m"
      ]
     },
     "execution_count": 42,
     "metadata": {},
     "output_type": "execute_result"
    }
   ],
   "source": [
    "class DecoderConfig(\n",
    "        val weightPRFConfig: PRFConfig,\n",
    "        val actvtnPRFConfig: PRFConfig,\n",
    "        val intrnlPRFConfig: PRFConfig,\n",
    "        val ipuConfig: IPUConfig,\n",
    "        val aluConfig: ALUConfig,\n",
    "        val nluConfig: NLUConfig,\n",
    "        val smConfig: StateMachineConfig,\n",
    "        val decodeWeightPRF: (UInt, PRFConfig) => Data,\n",
    "        val decodeActvtnPRF: (UInt, PRFConfig) => Data,\n",
    "        val decodeIntrnlPRF: (UInt, PRFConfig) => Data,\n",
    "        val decodeIPU: (UInt, IPUConfig) => Data,\n",
    "        val decodeALU: (UInt, ALUConfig) => Data,\n",
    "        val decodeNLU: (UInt, NLUConfig) => Data)\n",
    "\n",
    "class MemoryControl(c: DecoderConfig) extends Bundle {\n",
    "    \n",
    "    override def cloneType = (new MemoryControl(c)).asInstanceOf[this.type]\n",
    "    \n",
    "    val weightPRF = Output(new PRFControl(c.weightPRFConfig))\n",
    "    val actvtnPRF = Output(new PRFControl(c.actvtnPRFConfig))\n",
    "    val intrnlPRF = Output(new PRFControl(c.intrnlPRFConfig))\n",
    "}\n",
    "\n",
    "class ProcessControl(c: DecoderConfig) extends Bundle {\n",
    "    \n",
    "    override def cloneType = (new ProcessControl(c)).asInstanceOf[this.type]\n",
    "    \n",
    "    val aluFSel = Output(Vec(c.aluConfig.numFuncs, Bool()))\n",
    "    val nluFSel = Output(Vec(c.nluConfig.numFuncs, Bool()))\n",
    "    \n",
    "    val ports = c.weightPRFConfig.ports\n",
    "    val bpFirm = c.ipuConfig.bpFirm\n",
    "    \n",
    "    val ipuBpSel = if (bpFirm) Some(Output(Vec(ports, Bool()))) else None\n",
    "}\n",
    "\n",
    "class Decoder(c: DecoderConfig) extends Module {\n",
    "    \n",
    "    val io = IO(new Bundle {\n",
    "        val state = Input(UInt(c.smConfig.stateWidth.W))\n",
    "        val mem = Output(new MemoryControl(c))\n",
    "        val proc = Output(new ProcessControl(c))\n",
    "    })\n",
    "    \n",
    "    io.mem.weightPRF <> c.decodeWeightPRF(io.state, c.weightPRFConfig)\n",
    "    io.mem.actvtnPRF <> c.decodeActvtnPRF(io.state, c.actvtnPRFConfig)\n",
    "    io.mem.intrnlPRF <> c.decodeIntrnlPRF(io.state, c.intrnlPRFConfig)\n",
    "    \n",
    "    if (c.ipuConfig.bpFirm) { \n",
    "        io.proc.ipuBpSel.get := c.decodeIPU(io.state, c.ipuConfig)\n",
    "    }\n",
    "    \n",
    "    io.proc.aluFSel := c.decodeALU(io.state, c.aluConfig)\n",
    "    io.proc.nluFSel := c.decodeNLU(io.state, c.nluConfig)\n",
    "}"
   ]
  },
  {
   "cell_type": "markdown",
   "metadata": {},
   "source": [
    "#### Example"
   ]
  },
  {
   "cell_type": "code",
   "execution_count": 26,
   "metadata": {},
   "outputs": [
    {
     "data": {
      "text/plain": [
       "defined \u001b[32mfunction\u001b[39m \u001b[36mexampleDecodeWeightPRF\u001b[39m\r\n",
       "defined \u001b[32mfunction\u001b[39m \u001b[36mexampleDecodeActvtnPRF\u001b[39m\r\n",
       "defined \u001b[32mfunction\u001b[39m \u001b[36mexampleDecodeIntrnlPRF\u001b[39m\r\n",
       "defined \u001b[32mfunction\u001b[39m \u001b[36mexampleDecodeIPU\u001b[39m\r\n",
       "defined \u001b[32mfunction\u001b[39m \u001b[36mexampleDecodeALU\u001b[39m\r\n",
       "defined \u001b[32mfunction\u001b[39m \u001b[36mexampleDecodeNLU\u001b[39m"
      ]
     },
     "execution_count": 26,
     "metadata": {},
     "output_type": "execute_result"
    }
   ],
   "source": [
    "def exampleDecodeWeightPRF(state: UInt, c: PRFConfig) = {\n",
    "    \n",
    "    val data = Wire(new PRFControl(c))\n",
    "    \n",
    "    when (state === 0.U) {\n",
    "        data.rf.foreach { k =>\n",
    "            k.wEnable   := true.B\n",
    "            k.rEnable   := true.B\n",
    "            k.wAddr     := 1.U\n",
    "            k.rAddrInt  := 2.U\n",
    "            k.rAddrExt  := 3.U\n",
    "            if (k.bpSel.isDefined) { k.bpSel.get := true.B }\n",
    "        }\n",
    "    } .otherwise {\n",
    "        data.rf.foreach { k =>\n",
    "            k.wEnable   := false.B\n",
    "            k.rEnable   := false.B\n",
    "            k.wAddr     := 4.U\n",
    "            k.rAddrInt  := 5.U\n",
    "            k.rAddrExt  := 6.U\n",
    "            if (k.bpSel.isDefined) { k.bpSel.get := false.B }\n",
    "        }\n",
    "    }\n",
    "    \n",
    "    data\n",
    "}\n",
    "\n",
    "def exampleDecodeActvtnPRF(state: UInt, c: PRFConfig) = {\n",
    "    \n",
    "    val data = Wire(new PRFControl(c))\n",
    "    \n",
    "    when (state === 0.U) {\n",
    "        data.rf.foreach { k =>\n",
    "            k.wEnable   := true.B\n",
    "            k.rEnable   := true.B\n",
    "            k.wAddr     := 1.U\n",
    "            k.rAddrInt  := 2.U\n",
    "            k.rAddrExt  := 3.U\n",
    "            if (k.bpSel.isDefined) { k.bpSel.get := true.B }\n",
    "        }\n",
    "    } .otherwise {\n",
    "        data.rf.foreach { k =>\n",
    "            k.wEnable   := false.B\n",
    "            k.rEnable   := false.B\n",
    "            k.wAddr     := 4.U\n",
    "            k.rAddrInt  := 5.U\n",
    "            k.rAddrExt  := 6.U\n",
    "            if (k.bpSel.isDefined) { k.bpSel.get := false.B }\n",
    "        }\n",
    "    }\n",
    "    \n",
    "    data\n",
    "}\n",
    "\n",
    "def exampleDecodeIntrnlPRF(state: UInt, c: PRFConfig) = {\n",
    "    \n",
    "    val data = Wire(new PRFControl(c))\n",
    "    \n",
    "    when (state === 0.U) {\n",
    "        data.rf.foreach { k =>\n",
    "            k.wEnable   := true.B\n",
    "            k.rEnable   := true.B\n",
    "            k.wAddr     := 1.U\n",
    "            k.rAddrInt  := 2.U\n",
    "            k.rAddrExt  := 3.U\n",
    "            if(k.bpSel.isDefined) { k.bpSel.get := true.B }\n",
    "            if(k.inSel.isDefined) { k.inSel.get := Vec(List(true.B, false.B)) }\n",
    "        }\n",
    "    } .otherwise {\n",
    "        data.rf.foreach { k =>\n",
    "            k.wEnable   := false.B\n",
    "            k.rEnable   := false.B\n",
    "            k.wAddr     := 4.U\n",
    "            k.rAddrInt  := 5.U\n",
    "            k.rAddrExt  := 6.U\n",
    "            if(k.bpSel.isDefined) { k.bpSel.get := false.B }\n",
    "            if(k.inSel.isDefined) { k.inSel.get := Vec(List(false.B, true.B)) }\n",
    "        }\n",
    "    }\n",
    "    \n",
    "    data\n",
    "}\n",
    "\n",
    "def exampleDecodeIPU(state: UInt, c: IPUConfig) = {\n",
    "    \n",
    "    val data = Wire(Vec(c.width, Bool()))\n",
    "    \n",
    "    when (state === 0.U) {\n",
    "        data := Vec(1.U :: 0.U :: Nil)\n",
    "    } .otherwise {\n",
    "        data := Vec(0.U :: 1.U :: Nil)\n",
    "    }\n",
    "    \n",
    "    data\n",
    "}\n",
    "\n",
    "def exampleDecodeALU(state: UInt, c: ALUConfig) = {\n",
    "    \n",
    "    val data = Wire(Vec(c.numFuncs, Bool()))\n",
    "    \n",
    "    when (state === 0.U) {\n",
    "        data := Vec(1.U :: 0.U :: 0.U :: 0.U :: Nil)\n",
    "    } .otherwise {\n",
    "        data := Vec(0.U :: 1.U :: 0.U :: 0.U :: Nil)\n",
    "    }\n",
    "    \n",
    "    data\n",
    "}\n",
    "\n",
    "def exampleDecodeNLU(state: UInt, c: NLUConfig) = {\n",
    "    \n",
    "    val data = Wire(Vec(c.numFuncs, Bool()))\n",
    "    \n",
    "    when (state === 0.U) {\n",
    "        data := Vec(1.U :: 0.U :: Nil)\n",
    "    } .otherwise {\n",
    "        data := Vec(0.U :: 1.U :: Nil)\n",
    "    }\n",
    "    \n",
    "    data\n",
    "}\n"
   ]
  },
  {
   "cell_type": "markdown",
   "metadata": {},
   "source": [
    "#### Verification"
   ]
  },
  {
   "cell_type": "code",
   "execution_count": 61,
   "metadata": {},
   "outputs": [
    {
     "name": "stdout",
     "output_type": "stream",
     "text": [
      "[\u001b[35minfo\u001b[0m] [0.000] Elaborating design...\n",
      "[\u001b[35minfo\u001b[0m] [0.007] Done elaborating.\n",
      "Total FIRRTL Compile Time: 21.3 ms\n",
      "Total FIRRTL Compile Time: 19.1 ms\n",
      "End of dependency graph\n",
      "Circuit state created\n",
      "[\u001b[35minfo\u001b[0m] [0.000] SEED 1532744283984\n",
      "test cmd41WrapperHelperDecoder Success: 52 tests passed in 7 cycles taking 0.014456 seconds\n",
      "[\u001b[35minfo\u001b[0m] [0.011] RAN 2 CYCLES PASSED\n"
     ]
    },
    {
     "data": {
      "text/plain": [
       "\u001b[36mexampleDecoderConfig\u001b[39m: \u001b[32mDecoderConfig\u001b[39m = $sess.cmd41Wrapper$Helper$DecoderConfig@1c257d9f\r\n",
       "\u001b[36mres60_1\u001b[39m: \u001b[32mBoolean\u001b[39m = \u001b[32mtrue\u001b[39m"
      ]
     },
     "execution_count": 61,
     "metadata": {},
     "output_type": "execute_result"
    }
   ],
   "source": [
    "// TODO: require IPU width == weightPRF width == actvtnPRF width\n",
    "// TODO: require IPUConfig \"Firm\" if ALUConfig \"Add\" or \"Max\"\n",
    "\n",
    "val exampleDecoderConfig = new DecoderConfig(\n",
    "    new PRFConfig(2, 8, 4, 1, \"Soft\"),\n",
    "    new PRFConfig(2, 8, 4, 1, \"Soft\"),\n",
    "    new PRFConfig(1, 8, 4, 2, \"Soft\"),\n",
    "    new IPUConfig(2, 8, \"Firm\"),\n",
    "    new ALUConfig(8, List(\"Identity\", \"Add\", \"Max\", \"Accumulate\")),\n",
    "    new NLUConfig(8, List(\"Identity\", \"ReLu\")),\n",
    "    new StateMachineConfig(4, 4, exampleStateMap),\n",
    "    exampleDecodeWeightPRF,\n",
    "    exampleDecodeActvtnPRF,\n",
    "    exampleDecodeIntrnlPRF,\n",
    "    exampleDecodeIPU,\n",
    "    exampleDecodeALU,\n",
    "    exampleDecodeNLU\n",
    ")\n",
    "\n",
    "\n",
    "Driver(() => new Decoder(exampleDecoderConfig)) {\n",
    "    \n",
    "    uut => new PeekPokeTester(uut) {\n",
    "        \n",
    "        poke(uut.io.state, 0.U)\n",
    "        step(1)\n",
    "        \n",
    "        expect(uut.io.mem.weightPRF.rf(0).wEnable, true.B)\n",
    "        expect(uut.io.mem.weightPRF.rf(0).rEnable, true.B)\n",
    "        expect(uut.io.mem.weightPRF.rf(0).wAddr, 1.U)\n",
    "        expect(uut.io.mem.weightPRF.rf(0).rAddrInt, 2.U)\n",
    "        expect(uut.io.mem.weightPRF.rf(0).rAddrExt, 3.U)\n",
    "        expect(uut.io.mem.weightPRF.rf(0).bpSel.get, true.B)\n",
    "        \n",
    "        expect(uut.io.mem.actvtnPRF.rf(0).wEnable, true.B)\n",
    "        expect(uut.io.mem.actvtnPRF.rf(0).rEnable, true.B)\n",
    "        expect(uut.io.mem.actvtnPRF.rf(0).wAddr, 1.U)\n",
    "        expect(uut.io.mem.actvtnPRF.rf(0).rAddrInt, 2.U)\n",
    "        expect(uut.io.mem.actvtnPRF.rf(0).rAddrExt, 3.U)\n",
    "        expect(uut.io.mem.actvtnPRF.rf(0).bpSel.get, true.B)\n",
    "        \n",
    "        expect(uut.io.proc.ipuBpSel.get(0), 1)\n",
    "        expect(uut.io.proc.ipuBpSel.get(1), 0)\n",
    "        \n",
    "        expect(uut.io.proc.aluFSel(0), 1)\n",
    "        expect(uut.io.proc.aluFSel(1), 0)\n",
    "        expect(uut.io.proc.aluFSel(2), 0)\n",
    "        expect(uut.io.proc.aluFSel(3), 0)\n",
    "        \n",
    "        expect(uut.io.mem.intrnlPRF.rf(0).wEnable, true.B)\n",
    "        expect(uut.io.mem.intrnlPRF.rf(0).rEnable, true.B)\n",
    "        expect(uut.io.mem.intrnlPRF.rf(0).wAddr, 1.U)\n",
    "        expect(uut.io.mem.intrnlPRF.rf(0).rAddrInt, 2.U)\n",
    "        expect(uut.io.mem.intrnlPRF.rf(0).rAddrExt, 3.U)\n",
    "        expect(uut.io.mem.intrnlPRF.rf(0).bpSel.get, true.B)\n",
    "        \n",
    "        expect(uut.io.proc.nluFSel(0), 1)\n",
    "        expect(uut.io.proc.nluFSel(1), 0)\n",
    "        \n",
    "        poke(uut.io.state, 1.U) \n",
    "        step(1)\n",
    "        \n",
    "        expect(uut.io.mem.weightPRF.rf(0).wEnable, false.B)\n",
    "        expect(uut.io.mem.weightPRF.rf(0).rEnable, false.B)\n",
    "        expect(uut.io.mem.weightPRF.rf(0).wAddr, 4.U)\n",
    "        expect(uut.io.mem.weightPRF.rf(0).rAddrInt, 5.U)\n",
    "        expect(uut.io.mem.weightPRF.rf(0).rAddrExt, 6.U)\n",
    "        expect(uut.io.mem.weightPRF.rf(0).bpSel.get, false.B)\n",
    "        \n",
    "        expect(uut.io.mem.actvtnPRF.rf(0).wEnable, false.B)\n",
    "        expect(uut.io.mem.actvtnPRF.rf(0).rEnable, false.B)\n",
    "        expect(uut.io.mem.actvtnPRF.rf(0).wAddr, 4.U)\n",
    "        expect(uut.io.mem.actvtnPRF.rf(0).rAddrInt, 5.U)\n",
    "        expect(uut.io.mem.actvtnPRF.rf(0).rAddrExt, 6.U)\n",
    "        expect(uut.io.mem.actvtnPRF.rf(0).bpSel.get, false.B)\n",
    "        \n",
    "        expect(uut.io.proc.ipuBpSel.get(0), 0)\n",
    "        expect(uut.io.proc.ipuBpSel.get(1), 1)\n",
    "        \n",
    "        expect(uut.io.proc.aluFSel(0), 0)\n",
    "        expect(uut.io.proc.aluFSel(1), 1)\n",
    "        expect(uut.io.proc.aluFSel(2), 0)\n",
    "        expect(uut.io.proc.aluFSel(3), 0)\n",
    "        \n",
    "        expect(uut.io.mem.intrnlPRF.rf(0).wEnable, false.B)\n",
    "        expect(uut.io.mem.intrnlPRF.rf(0).rEnable, false.B)\n",
    "        expect(uut.io.mem.intrnlPRF.rf(0).wAddr, 4.U)\n",
    "        expect(uut.io.mem.intrnlPRF.rf(0).rAddrInt, 5.U)\n",
    "        expect(uut.io.mem.intrnlPRF.rf(0).rAddrExt, 6.U)\n",
    "        expect(uut.io.mem.intrnlPRF.rf(0).bpSel.get, false.B)\n",
    "        \n",
    "        expect(uut.io.proc.nluFSel(0), 0)\n",
    "        expect(uut.io.proc.nluFSel(1), 1)\n",
    "        \n",
    "    }\n",
    "}\n"
   ]
  },
  {
   "cell_type": "markdown",
   "metadata": {},
   "source": [
    "## PE"
   ]
  },
  {
   "cell_type": "markdown",
   "metadata": {},
   "source": [
    "#### Definition"
   ]
  },
  {
   "cell_type": "code",
   "execution_count": null,
   "metadata": {},
   "outputs": [],
   "source": [
    "class PEConfig(\n",
    "        val stateMachineConfig: StateMachineConfig,\n",
    "        val decoderConfig: DecoderConfig,\n",
    "        val prfConfig: PRFConfig,\n",
    "        val ipuConfig: IPUConfig,\n",
    "        val aluConfig: ALUConfig,\n",
    "        val nluConfig: NLUConfig)\n",
    "\n",
    "class nPE(stateMap: Map[(UInt, UInt), UInt], extrnl_ctrl_width: Int, // State Machine\n",
    "          decode: (UInt, String) => Data, RFports: Int, weightRFBP: String, actvtnRFBP: String, datawidth: Int, addrwidth: Int,\n",
    "          aluFuncs: List[String], nluFuncs: List[String], intrnlRFBP: String\n",
    "         ) extends Module {\n",
    "    \n",
    "    val io = IO(new Bundle {\n",
    "        val extrnl_ctrl   = Input (SInt(extrnl_ctrl_width.W))\n",
    "        val weightRF_in   = Input (Vec(RFports, SInt(datawidth.W)))\n",
    "        val actvtnRF_in   = Input (Vec(RFports, SInt(datawidth.W)))\n",
    "        val intrnlRF_in   = Input (SInt(datawidth.W))\n",
    "        val weightRF_2NoC = Output(Vec(RFports, SInt(datawidth.W)))\n",
    "        val actvtnRF_2NoC = Output(Vec(RFports, SInt(datawidth.W)))\n",
    "        val intrnlRF_2NoC = Output(SInt(datawidth.W))\n",
    "        val output        = Output(SInt(datawidth.W))\n",
    "    })\n",
    "    \n",
    "    val stateMachine = new StateMachine(stateMap, extrnl_ctrl_width)\n",
    "    stateMachine.io.control := io.extrnl_ctrl\n",
    "    \n",
    "    val decoder = new Decoder(decode, log2Up(stateMap.size), \n",
    "                              RFports, datawidth, addrwidth, aluFuncs, nluFuncs)\n",
    "    decoder.io.state := stateMachine.io.state\n",
    "    \n",
    "    \n",
    "    // Weight RF\n",
    "    val weightRF = new pRF(RFports, weightRFBP, datawidth, addrwidth)\n",
    "    \n",
    "    // Mandatory Control\n",
    "    weightRF.io.in.wEnable\n",
    "    weightRF.io.in.rEnable\n",
    "    weightRF.io.in.wAddr\n",
    "    weightRF.io.in.rAddrInt\n",
    "    weightRF.io.in.rAddrExt\n",
    "    \n",
    "    \n",
    "    weightRF.io.write_en    := decoder.io.weightRF_wen\n",
    "    weightRF.io.read_en     := decoder.io.weightRF_ren\n",
    "    weightRF.io.waddr       := decoder.io.weightRF_waddr\n",
    "    weightRF.io.raddr_int   := decoder.io.weightRF_raddr_int\n",
    "    weightRF.io.raddr_ext   := decoder.io.weightRF_raddr_ext\n",
    "    \n",
    "    // Optional Control\n",
    "    if ( weightRF.io.bp_slct.isDefined ) { weightRF.io.bp_slct.get := decoder.io.weightRF_bp_slct_get }\n",
    "    \n",
    "    // Mandatory Outputs\n",
    "    weightRF.io.wdata := io.weightRF_in\n",
    "    \n",
    "    // Optional Outputs\n",
    "    io.weightRF_2NoC  := weightRF.io.rdata_ext\n",
    "    \n",
    "    // Activation RF\n",
    "    val actvtnRF = new pRF(RFports, actvtnRFBP, datawidth, addrwidth)\n",
    "    \n",
    "    // Mandatory Control\n",
    "    actvtnRF.io.write_en    := decoder.io.actvtnRF_wen\n",
    "    actvtnRF.io.read_en     := decoder.io.actvtnRF_ren\n",
    "    actvtnRF.io.waddr       := decoder.io.actvtnRF_waddr\n",
    "    actvtnRF.io.raddr_int   := decoder.io.actvtnRF_raddr_int\n",
    "    actvtnRF.io.raddr_ext   := decoder.io.actvtnRF_raddr_ext\n",
    "    \n",
    "    // Optional Control\n",
    "    if ( actvtnRF.io.bp_slct.isDefined ) { actvtnRF.io.bp_slct.get := decoder.io.actvtnRF_bp_slct_get }\n",
    "    \n",
    "    // Mandatory Outputs\n",
    "    actvtnRF.io.wdata := io.weightRF_in\n",
    "    \n",
    "    // Optional Outputs\n",
    "    io.actvtnRF_2NoC     := actvtnRF.io.rdata_ext\n",
    "       \n",
    "    val ipuBP = if(aluFuncs.contains(\"Add\") || aluFuncs.contains(\"Max\")) \"Firm\" else \"None\" \n",
    "    val ipu   = new IPU(RFports, ipuBP, datawidth)\n",
    "    if (ipu.io.sel.isDefined) { ipu.io.sel.get := decoder.io.ipu_sel_get }\n",
    "    ipu.io.in1 := weightRF.io.rdata_int\n",
    "    ipu.io.in2 := actvtnRF.io.rdata_int\n",
    "    \n",
    "    val alu = new ALU(aluFuncs, datawidth)\n",
    "    alu.io.func_slct := decoder.io.alu_func_slct\n",
    "    alu.io.innr_prod := ipu.io.out\n",
    "    if(alu.io.weight_bp.isDefined) alu.io.weight_bp.get := ipu.io.bp1.get\n",
    "    if(alu.io.actvtn_bp.isDefined) alu.io.actvtn_bp.get := ipu.io.bp2.get\n",
    "    \n",
    "    val intrnlRF = new pRF(1, intrnlRFBP, datawidth, addrwidth)\n",
    "    intrnlRF.io.write_en  := decoder.io.intrnlRF_write_en\n",
    "    intrnlRF.io.read_en   := decoder.io.intrnlRF_read_en\n",
    "    intrnlRF.io.waddr     := decoder.io.intrnlRF_waddr\n",
    "    intrnlRF.io.raddr_int := decoder.io.intrnlRF_raddr_int\n",
    "    intrnlRF.io.raddr_ext := decoder.io.intrnlRF_raddr_ext\n",
    "    if (intrnlRF.io.bp_slct.isDefined) { intrnlRF.io.bp_slct.get := decoder.io.intrnlRF_bp_slct_get }\n",
    "    intrnlRF.io.wdata := Mux(decoder.io.intrnlRF_wdata_slct, alu.io.output, io.intrnlRF_in)\n",
    "    io.intrnlRF_2NoC := intrnlRF.io.rdata_ext\n",
    "    if(alu.io.rf_feedbk.isDefined) alu.io.rf_feedbk.get := intrnlRF.io.rdata_int\n",
    "    \n",
    "    val nlu = new NonlinearUnit(nluFuncs, datawidth)\n",
    "    nlu.io.fslct := decoder.io.nlu_func_slct\n",
    "    nlu.io.input     := intrnlRF.io.rdata_int\n",
    "    io.output        := nlu.io.outpt\n",
    "    \n",
    "    // Woot woot\n",
    "}"
   ]
  },
  {
   "cell_type": "markdown",
   "metadata": {},
   "source": [
    "#### Verification"
   ]
  },
  {
   "cell_type": "code",
   "execution_count": null,
   "metadata": {},
   "outputs": [],
   "source": []
  },
  {
   "cell_type": "code",
   "execution_count": null,
   "metadata": {},
   "outputs": [],
   "source": []
  },
  {
   "cell_type": "markdown",
   "metadata": {},
   "source": [
    "## Future Plans\n",
    "* Verify everything using Golden Models"
   ]
  }
 ],
 "metadata": {
  "kernelspec": {
   "display_name": "Scala",
   "language": "scala",
   "name": "scala"
  },
  "language_info": {
   "codemirror_mode": "text/x-scala",
   "file_extension": ".scala",
   "mimetype": "text/x-scala",
   "name": "scala211",
   "nbconvert_exporter": "script",
   "pygments_lexer": "scala",
   "version": "2.11.11"
  }
 },
 "nbformat": 4,
 "nbformat_minor": 2
}
