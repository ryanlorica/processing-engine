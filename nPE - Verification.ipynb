{
 "cells": [
  {
   "cell_type": "markdown",
   "metadata": {},
   "source": [
    "# nPE: A Configurable Processing Engine\n",
    "#### Verification\n",
    "___"
   ]
  },
  {
   "cell_type": "markdown",
   "metadata": {},
   "source": [
    "## Setup"
   ]
  },
  {
   "cell_type": "code",
   "execution_count": 4,
   "metadata": {},
   "outputs": [
    {
     "name": "stdout",
     "output_type": "stream",
     "text": [
      "Compiling Main.sc\n"
     ]
    },
    {
     "data": {
      "text/plain": [
       "\u001b[36mpath\u001b[39m: \u001b[32mString\u001b[39m = \u001b[32m\"\"\"\n",
       "C:\\Users\\RyanL\\OneDrive\\Research\\SEAL\\nPE/source/load-ivy.sc\n",
       "\"\"\"\u001b[39m"
      ]
     },
     "execution_count": 4,
     "metadata": {},
     "output_type": "execute_result"
    }
   ],
   "source": [
    "val path = System.getProperty(\"user.dir\") + \"/source/load-ivy.sc\"\n",
    "interp.load.module(ammonite.ops.Path(java.nio.file.FileSystems.getDefault().getPath(path)))"
   ]
  },
  {
   "cell_type": "code",
   "execution_count": 5,
   "metadata": {},
   "outputs": [
    {
     "data": {
      "text/plain": [
       "\u001b[32mimport \u001b[39m\u001b[36mchisel3._\r\n",
       "\u001b[39m\r\n",
       "\u001b[32mimport \u001b[39m\u001b[36mchisel3.util._\r\n",
       "\u001b[39m\r\n",
       "\u001b[32mimport \u001b[39m\u001b[36mchisel3.iotesters.{ChiselFlatSpec, Driver, PeekPokeTester}\r\n",
       "\r\n",
       "\u001b[39m\r\n",
       "\u001b[32mimport \u001b[39m\u001b[36mscala.math.pow\u001b[39m"
      ]
     },
     "execution_count": 5,
     "metadata": {},
     "output_type": "execute_result"
    }
   ],
   "source": [
    "import chisel3._\n",
    "import chisel3.util._\n",
    "import chisel3.iotesters.{ChiselFlatSpec, Driver, PeekPokeTester}\n",
    "\n",
    "import scala.math.pow"
   ]
  },
  {
   "cell_type": "markdown",
   "metadata": {},
   "source": [
    "## Parallel Register File"
   ]
  },
  {
   "cell_type": "markdown",
   "metadata": {},
   "source": [
    "### Single Register File"
   ]
  },
  {
   "cell_type": "code",
   "execution_count": 3,
   "metadata": {},
   "outputs": [
    {
     "data": {
      "text/plain": [
       "defined \u001b[32mclass\u001b[39m \u001b[36mRF\u001b[39m"
      ]
     },
     "execution_count": 3,
     "metadata": {},
     "output_type": "execute_result"
    }
   ],
   "source": [
    "class RF (datawidth: Int, addrwidth: Int) extends Module {\n",
    "  \n",
    "    val io = IO(new Bundle {\n",
    "        val write_en  = Input (Bool())\n",
    "        val read_en   = Input (Bool())\n",
    "        val waddr     = Input (UInt(addrwidth.W))\n",
    "        val wdata     = Input (SInt(datawidth.W))\n",
    "        val raddr_int = Input (UInt(addrwidth.W))\n",
    "        val raddr_ext = Input (UInt(addrwidth.W))\n",
    "        val rdata_int = Output(SInt(datawidth.W))\n",
    "        val rdata_ext = Output(SInt(datawidth.W))\n",
    "    })\n",
    "    \n",
    "    val registers  = RegInit(Vec(Seq.fill(pow(2, addrwidth).toInt) { 0.S(addrwidth.W) }))\n",
    "    \n",
    "    when(io.write_en) {\n",
    "        registers(io.waddr) := io.wdata\n",
    "    }\n",
    "    \n",
    "    when(io.read_en) {\n",
    "        io.rdata_int := registers(io.raddr_int)\n",
    "        io.rdata_ext := registers(io.raddr_ext)\n",
    "    } .otherwise {\n",
    "        io.rdata_int := 0.S\n",
    "        io.rdata_ext := 0.S\n",
    "    }\n",
    "}"
   ]
  },
  {
   "cell_type": "code",
   "execution_count": null,
   "metadata": {},
   "outputs": [],
   "source": []
  },
  {
   "cell_type": "markdown",
   "metadata": {},
   "source": [
    "### Putting them Together"
   ]
  },
  {
   "cell_type": "code",
   "execution_count": null,
   "metadata": {},
   "outputs": [],
   "source": [
    "class pRF(ports: Int, bypass: String, datawidth: Int, addrwidth: Int) extends Module {\n",
    "    \n",
    "    require(List(\"None\", \"Soft\", \"Hard\").contains(bypass))\n",
    "    \n",
    "    val io = IO(new Bundle {\n",
    "        val write_en  = Input (Vec(ports, Bool()))\n",
    "        val read_en   = Input (Vec(ports, Bool()))\n",
    "        val waddr     = Input (Vec(ports, UInt(addrwidth.W)))\n",
    "        val wdata     = Input (Vec(ports, SInt(datawidth.W)))\n",
    "        val raddr_int = Input (Vec(ports, UInt(addrwidth.W)))\n",
    "        val raddr_ext = Input (Vec(ports, UInt(addrwidth.W)))\n",
    "        val rdata_int = Output(Vec(ports, SInt(datawidth.W)))\n",
    "        val rdata_ext = Output(Vec(ports, SInt(datawidth.W)))\n",
    "        val bp_slct   = if (bypass == \"Soft\") Some(Input(Vec(ports, Bool()))) else None\n",
    "    })\n",
    "    \n",
    "    if(bypass == \"None\" || bypass == \"Soft\") {\n",
    "        \n",
    "        val rf = Seq.fill(ports){ new RF(datawidth, addrwidth) }\n",
    "        \n",
    "        rf.zipWithIndex.map{ case (x: RF, i: Int) => {\n",
    "            \n",
    "            x.io.write_en  := io.write_en(i)\n",
    "            x.io.read_en   := io.read_en(i)\n",
    "            x.io.waddr     := io.waddr(i)\n",
    "            x.io.wdata     := io.wdata(i)\n",
    "            x.io.raddr_int := io.raddr_int(i)\n",
    "            x.io.raddr_ext := io.raddr_ext(i)\n",
    "            \n",
    "            when (io.bp_slct.getOrElse(Seq.fill(ports){ false.B })(i)) {\n",
    "                io.rdata_int(i) := x.io.rdata_int\n",
    "                io.rdata_ext(i) := x.io.rdata_ext\n",
    "            } .otherwise {\n",
    "                io.rdata_int(i) := x.io.wdata\n",
    "                io.rdata_ext(i) := x.io.wdata\n",
    "            }\n",
    "        }}\n",
    "        \n",
    "    } else if(bypass == \"Hard\") {\n",
    "        io.rdata_int := io.wdata\n",
    "        io.rdata_ext := io.wdata\n",
    "    }\n",
    "}"
   ]
  },
  {
   "cell_type": "code",
   "execution_count": null,
   "metadata": {},
   "outputs": [],
   "source": []
  },
  {
   "cell_type": "markdown",
   "metadata": {},
   "source": [
    "## Inner Product Unit"
   ]
  },
  {
   "cell_type": "markdown",
   "metadata": {},
   "source": [
    "### Parallel Multiplier"
   ]
  },
  {
   "cell_type": "code",
   "execution_count": 14,
   "metadata": {},
   "outputs": [
    {
     "data": {
      "text/plain": [
       "defined \u001b[32mclass\u001b[39m \u001b[36mpMultiplier\u001b[39m"
      ]
     },
     "execution_count": 14,
     "metadata": {},
     "output_type": "execute_result"
    }
   ],
   "source": [
    "class pMultiplier(width: Int, bitwidth: Int) extends Module {\n",
    "    \n",
    "    require(width >= 1, \"Width must be at least one.\")\n",
    "    require(bitwidth >= 1, \"Bitwidth must be at least one.\")\n",
    "    \n",
    "    val io = IO(new Bundle {\n",
    "        val in1 = Input (Vec(width, SInt(bitwidth.W)))\n",
    "        val in2 = Input (Vec(width, SInt(bitwidth.W)))\n",
    "        val out = Output(Vec(width, SInt(bitwidth.W)))\n",
    "    })\n",
    "    \n",
    "    io.out := (io.in1 zip io.in2).map { case(a, b) => a * b }\n",
    "}"
   ]
  },
  {
   "cell_type": "code",
   "execution_count": 20,
   "metadata": {},
   "outputs": [
    {
     "name": "stdout",
     "output_type": "stream",
     "text": [
      "[\u001b[35minfo\u001b[0m] [0.000] Elaborating design...\n",
      "[\u001b[35minfo\u001b[0m] [0.001] Done elaborating.\n",
      "Total FIRRTL Compile Time: 11.5 ms\n",
      "Total FIRRTL Compile Time: 9.6 ms\n",
      "End of dependency graph\n",
      "Circuit state created\n",
      "[\u001b[35minfo\u001b[0m] [0.000] SEED 1531516643331\n",
      "test cmd13WrapperHelperpMultiplier Success: 4 tests passed in 5 cycles taking 0.004315 seconds\n",
      "[\u001b[35minfo\u001b[0m] [0.003] RAN 0 CYCLES PASSED\n"
     ]
    },
    {
     "data": {
      "text/plain": [
       "\u001b[36mres19\u001b[39m: \u001b[32mBoolean\u001b[39m = \u001b[32mtrue\u001b[39m"
      ]
     },
     "execution_count": 20,
     "metadata": {},
     "output_type": "execute_result"
    }
   ],
   "source": [
    "Driver(() => new pMultiplier(4, 8)) {\n",
    "    uut => new PeekPokeTester(uut) {\n",
    "        poke(uut.io.in1(0), 1) \n",
    "        poke(uut.io.in2(0), 2)\n",
    "        expect(uut.io.out(0), 2)\n",
    "        \n",
    "        poke(uut.io.in1(1), 3) \n",
    "        poke(uut.io.in2(1), 4)\n",
    "        expect(uut.io.out(1), 12)\n",
    "        \n",
    "        poke(uut.io.in1(2), 5)\n",
    "        poke(uut.io.in2(2), 6)\n",
    "        expect(uut.io.out(2), 30)\n",
    "        \n",
    "        poke(uut.io.in1(3), 7)\n",
    "        poke(uut.io.in2(3), 8)\n",
    "        expect(uut.io.out(3), 56)\n",
    "  }\n",
    "}"
   ]
  },
  {
   "cell_type": "markdown",
   "metadata": {},
   "source": [
    "### Additive Reduction Tree"
   ]
  },
  {
   "cell_type": "code",
   "execution_count": 6,
   "metadata": {},
   "outputs": [
    {
     "data": {
      "text/plain": [
       "defined \u001b[32mfunction\u001b[39m \u001b[36mnonassocPairwiseReduce\u001b[39m\r\n",
       "defined \u001b[32mclass\u001b[39m \u001b[36mAdditiveRT\u001b[39m"
      ]
     },
     "execution_count": 6,
     "metadata": {},
     "output_type": "execute_result"
    }
   ],
   "source": [
    "// Recursively creates a balanced syntax tree\n",
    "def nonassocPairwiseReduce[A](xs: List[A], op: (A, A) => A): A = {\n",
    "  xs match {\n",
    "    case Nil => throw new IllegalArgumentException\n",
    "    case List(singleElem) => singleElem\n",
    "    case sthElse => {\n",
    "      val grouped = sthElse.grouped(2).toList\n",
    "      val pairwiseOpd = for (g <- grouped) yield {\n",
    "        g match {\n",
    "          case List(a, b) => op(a, b)\n",
    "          case List(x) => x\n",
    "        }\n",
    "      }\n",
    "      nonassocPairwiseReduce(pairwiseOpd, op)\n",
    "    }\n",
    "  }\n",
    "}\n",
    "\n",
    "\n",
    "class AdditiveRT(width: Int, bitwidth: Int) extends Module {\n",
    "\n",
    "    require(width >= 1, \"Width must be at least one.\")\n",
    "    require(bitwidth >= 1, \"Bitwidth must be at least one.\")\n",
    "    \n",
    "    val io = IO(new Bundle {\n",
    "        val in  = Input (Vec(width, SInt(bitwidth.W)))\n",
    "        val out = Output(SInt(bitwidth.W))\n",
    "    })\n",
    "    \n",
    "    io.out := nonassocPairwiseReduce(io.in toList, (x: SInt, y: SInt) => x + y)\n",
    "}"
   ]
  },
  {
   "cell_type": "code",
   "execution_count": 13,
   "metadata": {},
   "outputs": [
    {
     "name": "stdout",
     "output_type": "stream",
     "text": [
      "[\u001b[35minfo\u001b[0m] [0.000] Elaborating design...\n",
      "[\u001b[35minfo\u001b[0m] [0.002] Done elaborating.\n",
      "Total FIRRTL Compile Time: 11.5 ms\n",
      "Total FIRRTL Compile Time: 9.6 ms\n",
      "End of dependency graph\n",
      "Circuit state created\n",
      "[\u001b[35minfo\u001b[0m] [0.000] SEED 1531516373702\n",
      "test cmd5WrapperHelperAdditiveRT Success: 1 tests passed in 5 cycles taking 0.003067 seconds\n",
      "[\u001b[35minfo\u001b[0m] [0.001] RAN 0 CYCLES PASSED\n"
     ]
    },
    {
     "data": {
      "text/plain": [
       "\u001b[36mres12\u001b[39m: \u001b[32mBoolean\u001b[39m = \u001b[32mtrue\u001b[39m"
      ]
     },
     "execution_count": 13,
     "metadata": {},
     "output_type": "execute_result"
    }
   ],
   "source": [
    "Driver(() => new AdditiveRT(4, 8)) {\n",
    "  uut => new PeekPokeTester(uut) {\n",
    "    poke(uut.io.in(0), 1) \n",
    "    poke(uut.io.in(1), 2)\n",
    "    poke(uut.io.in(2), 8) \n",
    "    poke(uut.io.in(3), 9) \n",
    "    expect(uut.io.out, 20)\n",
    "  }\n",
    "}"
   ]
  },
  {
   "cell_type": "markdown",
   "metadata": {},
   "source": [
    "### Putting them Together"
   ]
  },
  {
   "cell_type": "code",
   "execution_count": null,
   "metadata": {},
   "outputs": [],
   "source": [
    "def checkparamsIPU(width: Int, bypass: String, bitwidth: Int) {\n",
    "    require(width >= 1, \"Width must be at least one.\")\n",
    "    require(List(\"None\", \"Firm\").contains(bypass), \"Bypass must be \\\"None\\\" or \\\"Firm\\\"\")\n",
    "    require(bitwidth >= 0, \"Data bitwidth must be non-negative\")\n",
    "}\n",
    "\n",
    "\n",
    "class IPU(width: Int, bypass: String, bitwidth: Int) extends Module {\n",
    "    \n",
    "    checkparamsIPU(width, bypass, bitwidth)\n",
    "    \n",
    "    val io = IO(new Bundle {\n",
    "        val in1 = Input(Vec(width, SInt(bitwidth.W)))\n",
    "        val in2 = Input(Vec(width, SInt(bitwidth.W)))\n",
    "        val out = Output(UInt(bitwidth.W))\n",
    "        val sel = if(bypass == \"Firm\") Some(Input(Vec(width, Bool()))) else None\n",
    "        val bp1 = if(bypass == \"Firm\") Some(Output(UInt(bitwidth.W)))  else None\n",
    "        val bp2 = if(bypass == \"Firm\") Some(Output(UInt(bitwidth.W)))  else None\n",
    "    })\n",
    "    \n",
    "    val pM = new pMultiplier(width, bitwidth)\n",
    "    pM.io.in1 := io.in1\n",
    "    pM.io.in2 := io.in2\n",
    "    \n",
    "    val aRT = new AdditiveRT(width, bitwidth)\n",
    "    aRT.io.in := pM.io.out\n",
    "    \n",
    "    io.out := aRT.io.out\n",
    "    \n",
    "    if (bypass == \"Firm\") {\n",
    "        io.bp1.get := PriorityMux(io.sel.get, io.in1)\n",
    "        io.bp2.get := PriorityMux(io.sel.get, io.in2)\n",
    "    }\n",
    "}"
   ]
  },
  {
   "cell_type": "code",
   "execution_count": null,
   "metadata": {},
   "outputs": [],
   "source": []
  },
  {
   "cell_type": "markdown",
   "metadata": {},
   "source": [
    "## ALU"
   ]
  },
  {
   "cell_type": "code",
   "execution_count": null,
   "metadata": {},
   "outputs": [],
   "source": [
    "def checkparamsALU(funcs: List[String], datawidth: Int) {\n",
    "    require(funcs.contains(\"Identity\"), \"ALU functions must explicitly include Identity.\")\n",
    "    val supportedFuncs = List(\"Identity\", \"Add\", \"Max\", \"Accumulate\")\n",
    "    for(x <- funcs)(require(supportedFuncs.contains(x), \"Unsupported Function\"))\n",
    "}\n",
    "\n",
    "class ALU(funcs: List[String], datawidth: Int) extends Module {\n",
    "    \n",
    "    checkparamsALU(funcs, datawidth)\n",
    " \n",
    "    val io = IO(new Bundle {\n",
    "        val innr_prod = Input(SInt(datawidth.W))\n",
    "        val func_slct = Input(Vec(funcs.length, Bool()))\n",
    "        val output    = Output(SInt(datawidth.W))\n",
    "        val weight_bp = if(List(\"Add\", \"Max\").contains(funcs)) Some(Input(SInt(datawidth.W))) else None\n",
    "        val actvtn_bp = if(List(\"Add\", \"Max\").contains(funcs)) Some(Input(SInt(datawidth.W))) else None\n",
    "        val rf_feedbk = if(funcs.contains(\"Accumulate\"))       Some(Input(SInt(datawidth.W))) else None\n",
    "    })\n",
    "    \n",
    "    val idnOut = Some(Wire(SInt(datawidth.W)))\n",
    "    val addOut = if(funcs.contains(\"Add\"))        Some(Wire(SInt(datawidth.W))) else None\n",
    "    val maxOut = if(funcs.contains(\"Max\"))        Some(Wire(SInt(datawidth.W))) else None\n",
    "    val accOut = if(funcs.contains(\"Accumulate\")) Some(Wire(SInt(datawidth.W))) else None\n",
    "    \n",
    "    idnOut.get := io.innr_prod\n",
    "    \n",
    "    if (funcs.contains(\"Add\")       ) { addOut.get := io.weight_bp.get + io.actvtn_bp.get }\n",
    "    if (funcs.contains(\"Accumulate\")) { accOut.get := io.innr_prod + io.rf_feedbk.get }\n",
    "    if (funcs.contains(\"Max\")       ) {\n",
    "        when (io.weight_bp.get > io.weight_bp.get) {\n",
    "            maxOut.get := io.weight_bp.get\n",
    "        } .otherwise {\n",
    "            maxOut.get := io.actvtn_bp.get\n",
    "        }\n",
    "    }\n",
    "    \n",
    "    val inters = (idnOut:: addOut :: maxOut :: accOut :: Nil) filter ( _.isDefined ) map ( _.get )\n",
    "    io.output := PriorityMux(io.func_slct, inters)\n",
    "}"
   ]
  },
  {
   "cell_type": "code",
   "execution_count": null,
   "metadata": {},
   "outputs": [],
   "source": []
  },
  {
   "cell_type": "markdown",
   "metadata": {},
   "source": [
    "## Nonlinear Unit"
   ]
  },
  {
   "cell_type": "code",
   "execution_count": null,
   "metadata": {},
   "outputs": [],
   "source": [
    "def checkparamsNLU(funcs: List[String], datawidth: Int) {\n",
    "    require(funcs.contains(\"Identity\"), \"NLU functions must explicitly include Identity.\")\n",
    "    val supportedFuncs = List(\"Identity\", \"ReLu\")\n",
    "    for(x <- funcs)(require(supportedFuncs.contains(x), \"Unsupported Function\"))\n",
    "}\n",
    "\n",
    "class NonlinearUnit(funcs: List[String], datawidth: Int) extends Module {\n",
    "    \n",
    "    checkparamsNLU(funcs, datawidth)\n",
    "    \n",
    "    val io = IO(new Bundle {\n",
    "        val input = Input(SInt(datawidth.W))\n",
    "        val fslct = Input(Vec(funcs.length, Bool()))\n",
    "        val outpt = Output(SInt(datawidth.W))\n",
    "    })\n",
    "    \n",
    "    val idntOut = Some(Wire(SInt(datawidth.W)))\n",
    "    val reluOut = if(funcs.contains(\"ReLu\")) Some(Wire(SInt(datawidth.W))) else None\n",
    "    \n",
    "    idntOut.get := io.input\n",
    "    if (funcs.contains(\"ReLu\")) {\n",
    "        when (io.input > 0.S) {\n",
    "            reluOut.get := io.input\n",
    "        } .otherwise {\n",
    "            reluOut.get := 0.S\n",
    "        }\n",
    "    }\n",
    "    \n",
    "    val inters = (idntOut :: reluOut :: Nil) filter ( _.isDefined ) map ( _.get )\n",
    "    io.outpt := PriorityMux(io.fslct, inters)\n",
    "}"
   ]
  },
  {
   "cell_type": "code",
   "execution_count": null,
   "metadata": {},
   "outputs": [],
   "source": []
  },
  {
   "cell_type": "markdown",
   "metadata": {},
   "source": [
    "## PE"
   ]
  },
  {
   "cell_type": "code",
   "execution_count": null,
   "metadata": {},
   "outputs": [],
   "source": []
  },
  {
   "cell_type": "code",
   "execution_count": null,
   "metadata": {},
   "outputs": [],
   "source": []
  }
 ],
 "metadata": {
  "kernelspec": {
   "display_name": "Scala",
   "language": "scala",
   "name": "scala"
  },
  "language_info": {
   "codemirror_mode": "text/x-scala",
   "file_extension": ".scala",
   "mimetype": "text/x-scala",
   "name": "scala211",
   "nbconvert_exporter": "script",
   "pygments_lexer": "scala",
   "version": "2.11.11"
  }
 },
 "nbformat": 4,
 "nbformat_minor": 2
}
