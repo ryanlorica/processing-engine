{
 "cells": [
  {
   "cell_type": "markdown",
   "metadata": {},
   "source": [
    "# nPE: A Configurable Processing Engine\n",
    "#### Verification | Version 0.3.1 | Updated 2018.7.24\n",
    "___"
   ]
  },
  {
   "cell_type": "markdown",
   "metadata": {},
   "source": [
    "## Setup"
   ]
  },
  {
   "cell_type": "code",
   "execution_count": 1,
   "metadata": {},
   "outputs": [
    {
     "data": {
      "text/plain": [
       "\u001b[36mpath\u001b[39m: \u001b[32mString\u001b[39m = \u001b[32m\"\"\"\n",
       "C:\\Users\\RyanL\\OneDrive\\Research\\SEAL\\processing-engine/source/load-ivy.sc\n",
       "\"\"\"\u001b[39m"
      ]
     },
     "execution_count": 1,
     "metadata": {},
     "output_type": "execute_result"
    }
   ],
   "source": [
    "val path = System.getProperty(\"user.dir\") + \"/source/load-ivy.sc\"\n",
    "interp.load.module(ammonite.ops.Path(java.nio.file.FileSystems.getDefault().getPath(path)))"
   ]
  },
  {
   "cell_type": "code",
   "execution_count": 2,
   "metadata": {},
   "outputs": [
    {
     "data": {
      "text/plain": [
       "\u001b[32mimport \u001b[39m\u001b[36mchisel3._\r\n",
       "\u001b[39m\r\n",
       "\u001b[32mimport \u001b[39m\u001b[36mchisel3.util._\r\n",
       "\u001b[39m\r\n",
       "\u001b[32mimport \u001b[39m\u001b[36mchisel3.iotesters.{ChiselFlatSpec, Driver, PeekPokeTester}\r\n",
       "\r\n",
       "\u001b[39m\r\n",
       "\u001b[32mimport \u001b[39m\u001b[36mscala.math.pow\u001b[39m"
      ]
     },
     "execution_count": 2,
     "metadata": {},
     "output_type": "execute_result"
    }
   ],
   "source": [
    "import chisel3._\n",
    "import chisel3.util._\n",
    "import chisel3.iotesters.{ChiselFlatSpec, Driver, PeekPokeTester}\n",
    "\n",
    "import scala.math.pow"
   ]
  },
  {
   "cell_type": "markdown",
   "metadata": {},
   "source": [
    "## Parallel Register File"
   ]
  },
  {
   "cell_type": "markdown",
   "metadata": {},
   "source": [
    "### Single Register File"
   ]
  },
  {
   "cell_type": "markdown",
   "metadata": {},
   "source": [
    "#### Definition"
   ]
  },
  {
   "cell_type": "code",
   "execution_count": 71,
   "metadata": {},
   "outputs": [
    {
     "data": {
      "text/plain": [
       "defined \u001b[32mclass\u001b[39m \u001b[36mRF\u001b[39m"
      ]
     },
     "execution_count": 71,
     "metadata": {},
     "output_type": "execute_result"
    }
   ],
   "source": [
    "// class RFInputs(datawidth: Int, addrwidth: Int) {\n",
    "//     val wEnable  = Input (Bool())\n",
    "//     val rEnable  = Input (Bool())\n",
    "//     val wAddr    = Input (UInt(addrwidth.W))\n",
    "//     val wData    = Input (SInt(datawidth.W))\n",
    "//     val rAddrInt = Input (UInt(addrwidth.W))\n",
    "//     val rAddrExt = Input (UInt(addrwidth.W))\n",
    "// }\n",
    "\n",
    "class RF (dataWidth: Int, addrWidth: Int) extends Module {\n",
    "  \n",
    "    val io = IO(new Bundle {\n",
    "        val wEnable  = Input (Bool())\n",
    "        val rEnable  = Input (Bool())\n",
    "        val wAddr    = Input (UInt(addrWidth.W))\n",
    "        val wData    = Input (SInt(dataWidth.W))\n",
    "        val rAddrInt = Input (UInt(addrWidth.W))\n",
    "        val rAddrExt = Input (UInt(addrWidth.W))\n",
    "        val rDataInt = Output(SInt(dataWidth.W))\n",
    "        val rDataExt = Output(SInt(dataWidth.W))\n",
    "    })\n",
    "    \n",
    "    val registers  = RegInit(Vec(Seq.fill(pow(2, addrWidth).toInt) { 0.S(addrWidth.W) }))\n",
    "    \n",
    "    when(io.wEnable) {\n",
    "        registers(io.wAddr) := io.wData\n",
    "    }\n",
    "    \n",
    "    when(io.rEnable) {\n",
    "        io.rDataInt := registers(io.rAddrInt)\n",
    "        io.rDataExt := registers(io.rAddrExt)\n",
    "    } .otherwise {\n",
    "        io.rDataInt := 0.S\n",
    "        io.rDataExt := 0.S\n",
    "    }\n",
    "}"
   ]
  },
  {
   "cell_type": "markdown",
   "metadata": {},
   "source": [
    "#### Verification"
   ]
  },
  {
   "cell_type": "code",
   "execution_count": 93,
   "metadata": {},
   "outputs": [
    {
     "name": "stdout",
     "output_type": "stream",
     "text": [
      "[\u001b[35minfo\u001b[0m] [0.000] Elaborating design...\n",
      "[\u001b[35minfo\u001b[0m] [0.001] Done elaborating.\n",
      "Total FIRRTL Compile Time: 15.4 ms\n",
      "Total FIRRTL Compile Time: 11.1 ms\n",
      "End of dependency graph\n",
      "Circuit state created\n",
      "[\u001b[35minfo\u001b[0m] [0.000] SEED 1532540505437\n",
      "test cmd70WrapperHelperRF Success: 7 tests passed in 8 cycles taking 0.004849 seconds\n",
      "[\u001b[35minfo\u001b[0m] [0.004] RAN 3 CYCLES PASSED\n"
     ]
    },
    {
     "data": {
      "text/plain": [
       "\u001b[36mres92\u001b[39m: \u001b[32mBoolean\u001b[39m = \u001b[32mtrue\u001b[39m"
      ]
     },
     "execution_count": 93,
     "metadata": {},
     "output_type": "execute_result"
    }
   ],
   "source": [
    "Driver(() => new RF(8, 4)) {\n",
    "    uut => new PeekPokeTester(uut) {\n",
    "         \n",
    "        poke(uut.io.wEnable, true)   \n",
    "        poke(uut.io.rEnable, true)\n",
    "\n",
    "        poke(uut.io.wAddr, 1)\n",
    "        poke(uut.io.wData, 1)\n",
    "        \n",
    "        step(1)\n",
    "        \n",
    "        // Read\n",
    "        poke(uut.io.rAddrInt, 1)\n",
    "        expect(uut.io.rDataInt, 1)\n",
    "        \n",
    "        poke(uut.io.rAddrExt, 1)\n",
    "        expect(uut.io.rDataExt, 1)\n",
    "        \n",
    "        // Write\n",
    "        poke(uut.io.wAddr, 2)\n",
    "        poke(uut.io.wData, 2)\n",
    "        \n",
    "        step(1)\n",
    "        \n",
    "        // Read\n",
    "        poke(uut.io.rAddrInt, 1)\n",
    "        expect(uut.io.rDataInt, 1)\n",
    "        \n",
    "        poke(uut.io.rAddrExt, 2)\n",
    "        expect(uut.io.rDataExt, 2)\n",
    "        \n",
    "        // Write\n",
    "        poke(uut.io.wAddr, 3)\n",
    "        poke(uut.io.wData, 3)\n",
    "        \n",
    "        step(1)\n",
    "        \n",
    "        // Read\n",
    "        poke(uut.io.rAddrInt, 1)\n",
    "        expect(uut.io.rDataInt, 1)\n",
    "        \n",
    "        poke(uut.io.rAddrExt, 2)\n",
    "        expect(uut.io.rDataExt, 2)\n",
    "        \n",
    "        poke(uut.io.rAddrInt, 3)\n",
    "        expect(uut.io.rDataInt, 3)\n",
    "    }\n",
    "}"
   ]
  },
  {
   "cell_type": "markdown",
   "metadata": {},
   "source": [
    "### Putting them Together"
   ]
  },
  {
   "cell_type": "markdown",
   "metadata": {},
   "source": [
    "#### Definition"
   ]
  },
  {
   "cell_type": "code",
   "execution_count": 149,
   "metadata": {},
   "outputs": [
    {
     "data": {
      "text/plain": [
       "defined \u001b[32mclass\u001b[39m \u001b[36mPRF\u001b[39m"
      ]
     },
     "execution_count": 149,
     "metadata": {},
     "output_type": "execute_result"
    }
   ],
   "source": [
    "class PRF(ports: Int, bypass: String, dataWidth: Int, addrWidth: Int) extends Module {\n",
    "    \n",
    "    require(List(\"None\", \"Soft\", \"Hard\").contains(bypass))\n",
    "    \n",
    "    val io = IO(new Bundle {\n",
    "        val wEnable  = Input (Vec(ports, Bool()))\n",
    "        val rEnable  = Input (Vec(ports, Bool()))\n",
    "        val wAddr    = Input (Vec(ports, UInt(addrWidth.W)))\n",
    "        val wData    = Input (Vec(ports, SInt(dataWidth.W)))\n",
    "        val rAddrInt = Input (Vec(ports, UInt(addrWidth.W)))\n",
    "        val rAddrExt = Input (Vec(ports, UInt(addrWidth.W)))\n",
    "        val rDataInt = Output(Vec(ports, SInt(dataWidth.W)))\n",
    "        val rDataExt = Output(Vec(ports, SInt(dataWidth.W)))\n",
    "        val bpSel    = if (bypass == \"Soft\") Some(Input(Vec(ports, Bool()))) else None\n",
    "    })\n",
    "    \n",
    "    if (bypass == \"None\" || bypass == \"Soft\") {\n",
    "        \n",
    "        val rf = Seq.fill(ports){ Module(new RF(dataWidth, addrWidth)) }\n",
    "        \n",
    "        rf.zipWithIndex.map{ case (x: RF, i: Int) => {\n",
    "            \n",
    "            x.io.wEnable  := io.wEnable(i)\n",
    "            x.io.rEnable  := io.rEnable(i)\n",
    "            x.io.wAddr    := io.wAddr(i)\n",
    "            x.io.wData    := io.wData(i)\n",
    "            x.io.rAddrInt := io.rAddrInt(i)\n",
    "            x.io.rAddrExt := io.rAddrExt(i)\n",
    "            \n",
    "            when (io.bpSel.getOrElse(Seq.fill(ports){ false.B })(i)) {\n",
    "                io.rDataInt(i) := x.io.wData\n",
    "                io.rDataExt(i) := x.io.wData\n",
    "            } .otherwise {\n",
    "                io.rDataInt(i) := x.io.rDataInt\n",
    "                io.rDataExt(i) := x.io.rDataExt\n",
    "            }\n",
    "        }}\n",
    "        \n",
    "    } else if (bypass == \"Hard\") {\n",
    "        io.rDataInt := io.wData\n",
    "        io.rDataExt := io.wData\n",
    "    }\n",
    "}"
   ]
  },
  {
   "cell_type": "markdown",
   "metadata": {},
   "source": [
    "#### Verification"
   ]
  },
  {
   "cell_type": "code",
   "execution_count": 168,
   "metadata": {},
   "outputs": [
    {
     "name": "stdout",
     "output_type": "stream",
     "text": [
      "[\u001b[35minfo\u001b[0m] [0.000] Elaborating design...\n",
      "[\u001b[35minfo\u001b[0m] [0.002] Done elaborating.\n",
      "Total FIRRTL Compile Time: 20.2 ms\n",
      "Total FIRRTL Compile Time: 20.4 ms\n",
      "End of dependency graph\n",
      "Circuit state created\n",
      "[\u001b[35minfo\u001b[0m] [0.000] SEED 1532541556613\n",
      "test cmd148WrapperHelperPRF Success: 18 tests passed in 8 cycles taking 0.018508 seconds\n",
      "[\u001b[35minfo\u001b[0m] [0.015] RAN 3 CYCLES PASSED\n"
     ]
    },
    {
     "data": {
      "text/plain": [
       "\u001b[36mres167\u001b[39m: \u001b[32mBoolean\u001b[39m = \u001b[32mtrue\u001b[39m"
      ]
     },
     "execution_count": 168,
     "metadata": {},
     "output_type": "execute_result"
    }
   ],
   "source": [
    "Driver(() => new PRF(2, \"Soft\", 8, 4)) {\n",
    "    uut => new PeekPokeTester(uut) {\n",
    "         \n",
    "        poke(uut.io.wEnable(0), true)  \n",
    "        poke(uut.io.wEnable(1), true) \n",
    "        poke(uut.io.rEnable(0), true)\n",
    "        poke(uut.io.rEnable(1), true)\n",
    "        poke(uut.io.bpSel.get(0), false)\n",
    "        poke(uut.io.bpSel.get(1), false)\n",
    "\n",
    "        poke(uut.io.wAddr(0), 1)\n",
    "        poke(uut.io.wAddr(1), 1)\n",
    "        poke(uut.io.wData(0), 1)\n",
    "        poke(uut.io.wData(1), 1)\n",
    "        \n",
    "        step(1)\n",
    "        \n",
    "        // Read\n",
    "        poke(uut.io.rAddrInt(0), 1)\n",
    "        poke(uut.io.rAddrInt(1), 1)\n",
    "        expect(uut.io.rDataInt(0), 1)\n",
    "        expect(uut.io.rDataInt(1), 1)\n",
    "        \n",
    "        poke(uut.io.rAddrExt(0), 1)\n",
    "        poke(uut.io.rAddrExt(1), 1)\n",
    "        expect(uut.io.rDataExt(0), 1)\n",
    "        expect(uut.io.rDataExt(1), 1)\n",
    "        \n",
    "        // Write\n",
    "        poke(uut.io.wAddr(0), 2)\n",
    "        poke(uut.io.wAddr(1), 2)\n",
    "        poke(uut.io.wData(0), 2)\n",
    "        poke(uut.io.wData(1), 2)\n",
    "        \n",
    "        step(1)\n",
    "        \n",
    "        // Read\n",
    "        poke(uut.io.rAddrInt(0), 1)\n",
    "        poke(uut.io.rAddrInt(1), 1)\n",
    "        expect(uut.io.rDataInt(0), 1)\n",
    "        expect(uut.io.rDataInt(1), 1)\n",
    "        \n",
    "        poke(uut.io.rAddrExt(0), 2)\n",
    "        poke(uut.io.rAddrExt(1), 2)\n",
    "        expect(uut.io.rDataExt(0), 2)\n",
    "        expect(uut.io.rDataExt(1), 2)\n",
    "        \n",
    "        // Write\n",
    "        poke(uut.io.wAddr(0), 3)\n",
    "        poke(uut.io.wAddr(1), 3)\n",
    "        poke(uut.io.wData(0), 3)\n",
    "        poke(uut.io.wData(1), 3)\n",
    "        \n",
    "        step(1)\n",
    "        \n",
    "        // Read\n",
    "        poke(uut.io.rAddrInt(0), 1)\n",
    "        poke(uut.io.rAddrInt(1), 1)\n",
    "        expect(uut.io.rDataInt(0), 1)\n",
    "        expect(uut.io.rDataInt(1), 1)\n",
    "        \n",
    "        poke(uut.io.rAddrExt(0), 2)\n",
    "        poke(uut.io.rAddrExt(1), 2)\n",
    "        expect(uut.io.rDataExt(0), 2)\n",
    "        expect(uut.io.rDataExt(1), 2)\n",
    "        \n",
    "        poke(uut.io.rAddrInt(0), 3)\n",
    "        poke(uut.io.rAddrInt(1), 3)\n",
    "        expect(uut.io.rDataInt(0), 3)\n",
    "        expect(uut.io.rDataInt(1), 3)\n",
    "        \n",
    "        // Bypass\n",
    "        poke(uut.io.bpSel.get(0), true)\n",
    "        poke(uut.io.bpSel.get(1), false)\n",
    "        poke(uut.io.wData(0), 10)\n",
    "        poke(uut.io.wData(1), 10)\n",
    "        expect(uut.io.rDataInt(0), 10)\n",
    "        expect(uut.io.rDataInt(1), 3)\n",
    "        expect(uut.io.rDataExt(0), 10)\n",
    "        expect(uut.io.rDataExt(1), 2)\n",
    "    }\n",
    "}"
   ]
  },
  {
   "cell_type": "markdown",
   "metadata": {},
   "source": [
    "## Inner Product Unit"
   ]
  },
  {
   "cell_type": "markdown",
   "metadata": {},
   "source": [
    "### Parallel Multiplier"
   ]
  },
  {
   "cell_type": "code",
   "execution_count": 7,
   "metadata": {},
   "outputs": [
    {
     "data": {
      "text/plain": [
       "defined \u001b[32mclass\u001b[39m \u001b[36mpMultiplier\u001b[39m"
      ]
     },
     "execution_count": 7,
     "metadata": {},
     "output_type": "execute_result"
    }
   ],
   "source": [
    "class pMultiplier(width: Int, bitwidth: Int) extends Module {\n",
    "    \n",
    "    require(width >= 1, \"Width must be at least one.\")\n",
    "    require(bitwidth >= 1, \"Bitwidth must be at least one.\")\n",
    "    \n",
    "    val io = IO(new Bundle {\n",
    "        val in1 = Input (Vec(width, SInt(bitwidth.W)))\n",
    "        val in2 = Input (Vec(width, SInt(bitwidth.W)))\n",
    "        val out = Output(Vec(width, SInt(bitwidth.W)))\n",
    "    })\n",
    "    \n",
    "    io.out := (io.in1 zip io.in2).map { case(a, b) => a * b }\n",
    "}"
   ]
  },
  {
   "cell_type": "code",
   "execution_count": 8,
   "metadata": {},
   "outputs": [
    {
     "name": "stdout",
     "output_type": "stream",
     "text": [
      "[\u001b[35minfo\u001b[0m] [0.000] Elaborating design...\n",
      "[\u001b[35minfo\u001b[0m] [0.018] Done elaborating.\n",
      "Total FIRRTL Compile Time: 256.8 ms\n",
      "Total FIRRTL Compile Time: 17.1 ms\n",
      "End of dependency graph\n",
      "Circuit state created\n",
      "[\u001b[35minfo\u001b[0m] [0.001] SEED 1532537592109\n",
      "test cmd6WrapperHelperpMultiplier Success: 4 tests passed in 5 cycles taking 0.020276 seconds\n",
      "[\u001b[35minfo\u001b[0m] [0.006] RAN 0 CYCLES PASSED\n"
     ]
    },
    {
     "data": {
      "text/plain": [
       "\u001b[36mres7\u001b[39m: \u001b[32mBoolean\u001b[39m = \u001b[32mtrue\u001b[39m"
      ]
     },
     "execution_count": 8,
     "metadata": {},
     "output_type": "execute_result"
    }
   ],
   "source": [
    "Driver(() => new pMultiplier(4, 8)) {\n",
    "    uut => new PeekPokeTester(uut) {\n",
    "        poke(uut.io.in1(0), 1) \n",
    "        poke(uut.io.in2(0), 2)\n",
    "        expect(uut.io.out(0), 2)\n",
    "        \n",
    "        poke(uut.io.in1(1), 3) \n",
    "        poke(uut.io.in2(1), 4)\n",
    "        expect(uut.io.out(1), 12)\n",
    "        \n",
    "        poke(uut.io.in1(2), 5)\n",
    "        poke(uut.io.in2(2), 6)\n",
    "        expect(uut.io.out(2), 30)\n",
    "        \n",
    "        poke(uut.io.in1(3), 7)\n",
    "        poke(uut.io.in2(3), 8)\n",
    "        expect(uut.io.out(3), 56)\n",
    "  }\n",
    "}"
   ]
  },
  {
   "cell_type": "markdown",
   "metadata": {},
   "source": [
    "### Additive Reduction Tree"
   ]
  },
  {
   "cell_type": "code",
   "execution_count": 80,
   "metadata": {},
   "outputs": [
    {
     "data": {
      "text/plain": [
       "defined \u001b[32mfunction\u001b[39m \u001b[36mnonassocPairwiseReduce\u001b[39m\r\n",
       "defined \u001b[32mclass\u001b[39m \u001b[36mAdditiveRT\u001b[39m"
      ]
     },
     "execution_count": 80,
     "metadata": {},
     "output_type": "execute_result"
    }
   ],
   "source": [
    "// Recursively creates a balanced syntax tree\n",
    "def nonassocPairwiseReduce[A](xs: List[A], op: (A, A) => A): A = {\n",
    "  xs match {\n",
    "    case Nil => throw new IllegalArgumentException\n",
    "    case List(singleElem) => singleElem\n",
    "    case sthElse => {\n",
    "      val grouped = sthElse.grouped(2).toList\n",
    "      val pairwiseOpd = for (g <- grouped) yield {\n",
    "        g match {\n",
    "          case List(a, b) => op(a, b)\n",
    "          case List(x) => x\n",
    "        }\n",
    "      }\n",
    "      nonassocPairwiseReduce(pairwiseOpd, op)\n",
    "    }\n",
    "  }\n",
    "}\n",
    "\n",
    "\n",
    "class AdditiveRT(width: Int, bitwidth: Int) extends Module {\n",
    "\n",
    "    require(width >= 1, \"Width must be at least one.\")\n",
    "    require(bitwidth >= 1, \"Bitwidth must be at least one.\")\n",
    "    \n",
    "    val io = IO(new Bundle {\n",
    "        val in  = Input (Vec(width, SInt(bitwidth.W)))\n",
    "        val out = Output(SInt(bitwidth.W))\n",
    "    })\n",
    "    \n",
    "    io.out := nonassocPairwiseReduce(io.in toList, (x: SInt, y: SInt) => x + y)\n",
    "}"
   ]
  },
  {
   "cell_type": "code",
   "execution_count": 71,
   "metadata": {},
   "outputs": [
    {
     "name": "stdout",
     "output_type": "stream",
     "text": [
      "[\u001b[35minfo\u001b[0m] [0.000] Elaborating design...\n",
      "[\u001b[35minfo\u001b[0m] [0.015] Done elaborating.\n",
      "Total FIRRTL Compile Time: 21.9 ms\n",
      "\n",
      "module cmd69WrapperHelperAdditiveRT( // @[:@3.2]\n",
      "  input        clock, // @[:@4.4]\n",
      "  input        reset, // @[:@5.4]\n",
      "  input  [3:0] io_in_0, // @[:@6.4]\n",
      "  input  [3:0] io_in_1, // @[:@6.4]\n",
      "  input  [3:0] io_in_2, // @[:@6.4]\n",
      "  input  [3:0] io_in_3, // @[:@6.4]\n",
      "  output [3:0] io_out // @[:@6.4]\n",
      ");\n",
      "  wire [4:0] _T_12; // @[cmd69.sc 29:76:@8.4]\n",
      "  wire [3:0] _T_13; // @[cmd69.sc 29:76:@9.4]\n",
      "  wire [3:0] _T_14; // @[cmd69.sc 29:76:@10.4]\n",
      "  wire [4:0] _T_15; // @[cmd69.sc 29:76:@11.4]\n",
      "  wire [3:0] _T_16; // @[cmd69.sc 29:76:@12.4]\n",
      "  wire [3:0] _T_17; // @[cmd69.sc 29:76:@13.4]\n",
      "  wire [4:0] _T_18; // @[cmd69.sc 29:76:@14.4]\n",
      "  wire [3:0] _T_19; // @[cmd69.sc 29:76:@15.4]\n",
      "  wire [3:0] _T_20; // @[cmd69.sc 29:76:@16.4]\n",
      "  assign _T_12 = $signed(io_in_0) + $signed(io_in_1); // @[cmd69.sc 29:76:@8.4]\n",
      "  assign _T_13 = _T_12[3:0]; // @[cmd69.sc 29:76:@9.4]\n",
      "  assign _T_14 = $signed(_T_13); // @[cmd69.sc 29:76:@10.4]\n",
      "  assign _T_15 = $signed(io_in_2) + $signed(io_in_3); // @[cmd69.sc 29:76:@11.4]\n",
      "  assign _T_16 = _T_15[3:0]; // @[cmd69.sc 29:76:@12.4]\n",
      "  assign _T_17 = $signed(_T_16); // @[cmd69.sc 29:76:@13.4]\n",
      "  assign _T_18 = $signed(_T_14) + $signed(_T_17); // @[cmd69.sc 29:76:@14.4]\n",
      "  assign _T_19 = _T_18[3:0]; // @[cmd69.sc 29:76:@15.4]\n",
      "  assign _T_20 = $signed(_T_19); // @[cmd69.sc 29:76:@16.4]\n",
      "  assign io_out = _T_20;\n",
      "endmodule\n",
      "\n"
     ]
    }
   ],
   "source": [
    "println(getVerilog(new AdditiveRT(4, 4)))"
   ]
  },
  {
   "cell_type": "code",
   "execution_count": 81,
   "metadata": {},
   "outputs": [
    {
     "name": "stdout",
     "output_type": "stream",
     "text": [
      "[\u001b[35minfo\u001b[0m] [0.000] Elaborating design...\n",
      "[\u001b[35minfo\u001b[0m] [0.004] Done elaborating.\n",
      "Total FIRRTL Compile Time: 10.1 ms\n",
      "Total FIRRTL Compile Time: 7.6 ms\n",
      "End of dependency graph\n",
      "Circuit state created\n",
      "[\u001b[35minfo\u001b[0m] [0.001] SEED 1532476679064\n",
      "test cmd79WrapperHelperAdditiveRT Success: 1 tests passed in 5 cycles taking 0.004422 seconds\n",
      "[\u001b[35minfo\u001b[0m] [0.002] RAN 0 CYCLES PASSED\n"
     ]
    },
    {
     "data": {
      "text/plain": [
       "\u001b[36mres80\u001b[39m: \u001b[32mBoolean\u001b[39m = \u001b[32mtrue\u001b[39m"
      ]
     },
     "execution_count": 81,
     "metadata": {},
     "output_type": "execute_result"
    }
   ],
   "source": [
    "Driver(() => new AdditiveRT(4, 8)) {\n",
    "  uut => new PeekPokeTester(uut) {\n",
    "    poke(uut.io.in(0), 1) \n",
    "    poke(uut.io.in(1), 2)\n",
    "    poke(uut.io.in(2), 8) \n",
    "    poke(uut.io.in(3), 9) \n",
    "    expect(uut.io.out, 20)\n",
    "  }\n",
    "}"
   ]
  },
  {
   "cell_type": "markdown",
   "metadata": {},
   "source": [
    "### Putting them Together"
   ]
  },
  {
   "cell_type": "code",
   "execution_count": 7,
   "metadata": {},
   "outputs": [
    {
     "data": {
      "text/plain": [
       "defined \u001b[32mfunction\u001b[39m \u001b[36mcheckparamsIPU\u001b[39m\r\n",
       "defined \u001b[32mclass\u001b[39m \u001b[36mIPU\u001b[39m"
      ]
     },
     "execution_count": 7,
     "metadata": {},
     "output_type": "execute_result"
    }
   ],
   "source": [
    "def checkparamsIPU(width: Int, bypass: String, bitwidth: Int) {\n",
    "    require(width >= 1, \"Width must be at least one.\")\n",
    "    require(List(\"None\", \"Firm\").contains(bypass), \"Bypass must be \\\"None\\\" or \\\"Firm\\\"\")\n",
    "    require(bitwidth >= 0, \"Data bitwidth must be non-negative\")\n",
    "}\n",
    "\n",
    "\n",
    "class IPU(width: Int, bypass: String, bitwidth: Int) extends Module {\n",
    "    \n",
    "    checkparamsIPU(width, bypass, bitwidth)\n",
    "    \n",
    "    val io = IO(new Bundle {\n",
    "        val in1 = Input(Vec(width, SInt(bitwidth.W)))\n",
    "        val in2 = Input(Vec(width, SInt(bitwidth.W)))\n",
    "        val out = Output(UInt(bitwidth.W))\n",
    "        val sel = if(bypass == \"Firm\") Some(Input(Vec(width, Bool()))) else None\n",
    "        val bp1 = if(bypass == \"Firm\") Some(Output(UInt(bitwidth.W)))  else None\n",
    "        val bp2 = if(bypass == \"Firm\") Some(Output(UInt(bitwidth.W)))  else None\n",
    "    })\n",
    "    \n",
    "    val pM = new pMultiplier(width, bitwidth)\n",
    "    pM.io.in1 := io.in1\n",
    "    pM.io.in2 := io.in2\n",
    "    \n",
    "    val aRT = new AdditiveRT(width, bitwidth)\n",
    "    aRT.io.in := pM.io.out\n",
    "    \n",
    "    io.out := aRT.io.out\n",
    "    \n",
    "    if (bypass == \"Firm\") {\n",
    "        io.bp1.get := PriorityMux(io.sel.get, io.in1)\n",
    "        io.bp2.get := PriorityMux(io.sel.get, io.in2)\n",
    "    }\n",
    "}"
   ]
  },
  {
   "cell_type": "code",
   "execution_count": null,
   "metadata": {},
   "outputs": [],
   "source": []
  },
  {
   "cell_type": "markdown",
   "metadata": {},
   "source": [
    "## ALU"
   ]
  },
  {
   "cell_type": "code",
   "execution_count": 8,
   "metadata": {},
   "outputs": [
    {
     "data": {
      "text/plain": [
       "defined \u001b[32mfunction\u001b[39m \u001b[36mcheckparamsALU\u001b[39m\r\n",
       "defined \u001b[32mclass\u001b[39m \u001b[36mALU\u001b[39m"
      ]
     },
     "execution_count": 8,
     "metadata": {},
     "output_type": "execute_result"
    }
   ],
   "source": [
    "def checkparamsALU(funcs: List[String], datawidth: Int) {\n",
    "    require(funcs.contains(\"Identity\"), \"ALU functions must explicitly include Identity.\")\n",
    "    val supportedFuncs = List(\"Identity\", \"Add\", \"Max\", \"Accumulate\")\n",
    "    for(x <- funcs)(require(supportedFuncs.contains(x), \"Unsupported Function\"))\n",
    "}\n",
    "\n",
    "class ALU(funcs: List[String], datawidth: Int) extends Module {\n",
    "    \n",
    "    checkparamsALU(funcs, datawidth)\n",
    " \n",
    "    val io = IO(new Bundle {\n",
    "        val innr_prod = Input(SInt(datawidth.W))\n",
    "        val func_slct = Input(Vec(funcs.length, Bool()))\n",
    "        val output    = Output(SInt(datawidth.W))\n",
    "        val weight_bp = if(List(\"Add\", \"Max\").contains(funcs)) Some(Input(SInt(datawidth.W))) else None\n",
    "        val actvtn_bp = if(List(\"Add\", \"Max\").contains(funcs)) Some(Input(SInt(datawidth.W))) else None\n",
    "        val rf_feedbk = if(funcs.contains(\"Accumulate\"))       Some(Input(SInt(datawidth.W))) else None\n",
    "    })\n",
    "    \n",
    "    val idnOut = Some(Wire(SInt(datawidth.W)))\n",
    "    val addOut = if(funcs.contains(\"Add\"))        Some(Wire(SInt(datawidth.W))) else None\n",
    "    val maxOut = if(funcs.contains(\"Max\"))        Some(Wire(SInt(datawidth.W))) else None\n",
    "    val accOut = if(funcs.contains(\"Accumulate\")) Some(Wire(SInt(datawidth.W))) else None\n",
    "    \n",
    "    idnOut.get := io.innr_prod\n",
    "    \n",
    "    if (funcs.contains(\"Add\")       ) { addOut.get := io.weight_bp.get + io.actvtn_bp.get }\n",
    "    if (funcs.contains(\"Accumulate\")) { accOut.get := io.innr_prod + io.rf_feedbk.get }\n",
    "    if (funcs.contains(\"Max\")       ) {\n",
    "        when (io.weight_bp.get > io.weight_bp.get) {\n",
    "            maxOut.get := io.weight_bp.get\n",
    "        } .otherwise {\n",
    "            maxOut.get := io.actvtn_bp.get\n",
    "        }\n",
    "    }\n",
    "    \n",
    "    val inters = (idnOut:: addOut :: maxOut :: accOut :: Nil) filter ( _.isDefined ) map ( _.get )\n",
    "    io.output := PriorityMux(io.func_slct, inters)\n",
    "}"
   ]
  },
  {
   "cell_type": "code",
   "execution_count": null,
   "metadata": {},
   "outputs": [],
   "source": []
  },
  {
   "cell_type": "markdown",
   "metadata": {},
   "source": [
    "## Nonlinear Unit"
   ]
  },
  {
   "cell_type": "code",
   "execution_count": 9,
   "metadata": {},
   "outputs": [
    {
     "data": {
      "text/plain": [
       "defined \u001b[32mfunction\u001b[39m \u001b[36mcheckparamsNLU\u001b[39m\r\n",
       "defined \u001b[32mclass\u001b[39m \u001b[36mNonlinearUnit\u001b[39m"
      ]
     },
     "execution_count": 9,
     "metadata": {},
     "output_type": "execute_result"
    }
   ],
   "source": [
    "def checkparamsNLU(funcs: List[String], datawidth: Int) {\n",
    "    require(funcs.contains(\"Identity\"), \"NLU functions must explicitly include Identity.\")\n",
    "    val supportedFuncs = List(\"Identity\", \"ReLu\")\n",
    "    for(x <- funcs)(require(supportedFuncs.contains(x), \"Unsupported Function\"))\n",
    "}\n",
    "\n",
    "class NonlinearUnit(funcs: List[String], datawidth: Int) extends Module {\n",
    "    \n",
    "    checkparamsNLU(funcs, datawidth)\n",
    "    \n",
    "    val io = IO(new Bundle {\n",
    "        val input = Input(SInt(datawidth.W))\n",
    "        val fslct = Input(Vec(funcs.length, Bool()))\n",
    "        val outpt = Output(SInt(datawidth.W))\n",
    "    })\n",
    "    \n",
    "    val idntOut = Some(Wire(SInt(datawidth.W)))\n",
    "    val reluOut = if(funcs.contains(\"ReLu\")) Some(Wire(SInt(datawidth.W))) else None\n",
    "    \n",
    "    idntOut.get := io.input\n",
    "    if (funcs.contains(\"ReLu\")) {\n",
    "        when (io.input > 0.S) {\n",
    "            reluOut.get := io.input\n",
    "        } .otherwise {\n",
    "            reluOut.get := 0.S\n",
    "        }\n",
    "    }\n",
    "    \n",
    "    val inters = (idntOut :: reluOut :: Nil) filter ( _.isDefined ) map ( _.get )\n",
    "    io.outpt := PriorityMux(io.fslct, inters)\n",
    "}"
   ]
  },
  {
   "cell_type": "code",
   "execution_count": null,
   "metadata": {},
   "outputs": [],
   "source": []
  },
  {
   "cell_type": "markdown",
   "metadata": {},
   "source": [
    "## State Machine"
   ]
  },
  {
   "cell_type": "code",
   "execution_count": 133,
   "metadata": {},
   "outputs": [
    {
     "data": {
      "text/plain": [
       "defined \u001b[32mclass\u001b[39m \u001b[36mStateMachine\u001b[39m"
      ]
     },
     "execution_count": 133,
     "metadata": {},
     "output_type": "execute_result"
    }
   ],
   "source": [
    "class StateMachine(nextState: Map[(UInt, UInt), UInt], ctrlWidth: Int) extends Module {\n",
    "    \n",
    "    val stateWidth: Int = log2Up(nextState.size)\n",
    "    \n",
    "    val io = IO(new Bundle {\n",
    "        val control = Input (UInt(ctrlWidth.W ))\n",
    "        val state   = Output(UInt(stateWidth.W))\n",
    "    })\n",
    "    \n",
    "    val register = RegInit(0.U(stateWidth.W))\n",
    "    register := nextState((io.state, io.control))\n",
    "    io.state := register\n",
    "}"
   ]
  },
  {
   "cell_type": "code",
   "execution_count": null,
   "metadata": {},
   "outputs": [],
   "source": []
  },
  {
   "cell_type": "markdown",
   "metadata": {},
   "source": [
    "## Decoder"
   ]
  },
  {
   "cell_type": "code",
   "execution_count": 134,
   "metadata": {},
   "outputs": [
    {
     "data": {
      "text/plain": [
       "defined \u001b[32mclass\u001b[39m \u001b[36mDecoder\u001b[39m"
      ]
     },
     "execution_count": 134,
     "metadata": {},
     "output_type": "execute_result"
    }
   ],
   "source": [
    "class Decoder(decode: (UInt, String) => Data,\n",
    "              statewidth: Int,\n",
    "              ports: Int, datawidth: Int, addrwidth: Int,\n",
    "              aluFuncs: List[String], \n",
    "              nluFuncs: List[String]) extends Module {\n",
    "    \n",
    "    val io = IO(new Bundle {\n",
    "        \n",
    "        val state = Input(UInt(statewidth.W))\n",
    "        \n",
    "        val weightRF_wen         = Output(Vec(ports, Bool()))\n",
    "        val weightRF_ren         = Output(Vec(ports, Bool()))\n",
    "        val weightRF_waddr       = Output(Vec(ports, UInt(addrwidth.W)))\n",
    "        val weightRF_raddr_int   = Output(Vec(ports, UInt(addrwidth.W)))\n",
    "        val weightRF_raddr_ext   = Output(Vec(ports, UInt(addrwidth.W)))\n",
    "        val weightRF_bp_slct_get = Output(Vec(ports, Bool()))\n",
    "        \n",
    "        val actvtnRF_wen         = Output(Vec(ports, Bool()))\n",
    "        val actvtnRF_ren         = Output(Vec(ports, Bool()))\n",
    "        val actvtnRF_waddr       = Output(Vec(ports, UInt(addrwidth)))\n",
    "        val actvtnRF_raddr_int   = Output(Vec(ports, UInt(addrwidth)))\n",
    "        val actvtnRF_raddr_ext   = Output(Vec(ports, UInt(addrwidth)))\n",
    "        val actvtnRF_bp_slct_get = Output(Vec(ports, Bool()))\n",
    "        \n",
    "        val ipu_sel_get   = Output(Vec(ports, Bool()))\n",
    "        \n",
    "        val alu_func_slct = Output(Vec(aluFuncs.length, Bool()))\n",
    "        \n",
    "        val intrnlRF_write_en    = Output(Vec(ports, Bool()))\n",
    "        val intrnlRF_read_en     = Output(Vec(ports, Bool()))\n",
    "        val intrnlRF_waddr       = Output(Vec(ports, UInt(addrwidth)))\n",
    "        val intrnlRF_raddr_int   = Output(Vec(ports, UInt(addrwidth)))\n",
    "        val intrnlRF_raddr_ext   = Output(Vec(ports, UInt(addrwidth)))\n",
    "        val intrnlRF_bp_slct_get = Output(Vec(ports, Bool()))\n",
    "        val intrnlRF_wdata_slct  = Output(Bool())\n",
    "        \n",
    "        val nlu_func_slct = Output(Vec(nluFuncs.length, Bool()))\n",
    "        \n",
    "    })\n",
    "    \n",
    "    io.weightRF_wen         := decode(io.state, \"weightRF_wen\")\n",
    "    io.weightRF_ren         := decode(io.state, \"weightRF_ren\")\n",
    "    io.weightRF_waddr       := decode(io.state, \"weightRF_waddr\")\n",
    "    io.weightRF_raddr_int   := decode(io.state, \"weightRF_raddr_int\")\n",
    "    io.weightRF_raddr_ext   := decode(io.state, \"weightRF_raddr_ext\")\n",
    "    io.weightRF_bp_slct_get := decode(io.state, \"weightRF_bp_slct_get\")\n",
    "\n",
    "}"
   ]
  },
  {
   "cell_type": "code",
   "execution_count": 125,
   "metadata": {},
   "outputs": [
    {
     "data": {
      "text/plain": [
       "defined \u001b[32mfunction\u001b[39m \u001b[36mdecode\u001b[39m"
      ]
     },
     "execution_count": 125,
     "metadata": {},
     "output_type": "execute_result"
    }
   ],
   "source": [
    "def decode(state: UInt, output: String): Data = {\n",
    "    \n",
    "    // Set Types\n",
    "    val data = output match {\n",
    "        case \"weightRF_wen\"         => Wire(Vec(2, Bool()))\n",
    "        case \"weightRF_ren\"         => Wire(Vec(2, Bool()))\n",
    "        case \"weightRF_waddr\"       => Wire(Vec(2, UInt(8.W)))\n",
    "        case \"weightRF_raddr_int\"   => Wire(Vec(2, UInt(8.W)))\n",
    "        case \"weightRF_raddr_ext\"   => Wire(Vec(2, UInt(8.W)))\n",
    "        case \"weightRF_bp_slct_get\" => Wire(Vec(2, Bool()))\n",
    "    }\n",
    "    \n",
    "    // Set Values\n",
    "    when(state === 0.U) {\n",
    "        data := { output match {\n",
    "            case \"weightRF_wen\"         => Vec.fill(2){true.B}\n",
    "            case \"weightRF_ren\"         => Vec.fill(2){true.B}\n",
    "            case \"weightRF_waddr\"       => Vec.fill(2){1.U}\n",
    "            case \"weightRF_raddr_int\"   => Vec.fill(2){2.U}\n",
    "            case \"weightRF_raddr_ext\"   => Vec.fill(2){3.U}\n",
    "            case \"weightRF_bp_slct_get\" => Vec.fill(2){true.B}\n",
    "        }}\n",
    "    } \n",
    "\n",
    "    .otherwise {\n",
    "        data := { output match {\n",
    "             case \"weightRF_wen\"         => Vec.fill(2){false.B}\n",
    "             case \"weightRF_ren\"         => Vec.fill(2){false.B}\n",
    "             case \"weightRF_waddr\"       => Vec.fill(2){4.U}\n",
    "             case \"weightRF_raddr_int\"   => Vec.fill(2){5.U}\n",
    "             case \"weightRF_raddr_ext\"   => Vec.fill(2){6.U}\n",
    "             case \"weightRF_bp_slct_get\" => Vec.fill(2){false.B}\n",
    "         }}\n",
    "    }\n",
    "    \n",
    "    data\n",
    "}"
   ]
  },
  {
   "cell_type": "code",
   "execution_count": 131,
   "metadata": {},
   "outputs": [
    {
     "name": "stdout",
     "output_type": "stream",
     "text": [
      "[\u001b[35minfo\u001b[0m] [0.000] Elaborating design...\n",
      "[\u001b[35minfo\u001b[0m] [0.002] Done elaborating.\n",
      "Total FIRRTL Compile Time: 21.5 ms\n",
      "\n",
      "module cmd123WrapperHelperDecoder( // @[:@3.2]\n",
      "  input        clock, // @[:@4.4]\n",
      "  input        reset, // @[:@5.4]\n",
      "  input  [3:0] io_state, // @[:@6.4]\n",
      "  output       io_weightRF_wen_0, // @[:@6.4]\n",
      "  output       io_weightRF_wen_1, // @[:@6.4]\n",
      "  output       io_weightRF_ren_0, // @[:@6.4]\n",
      "  output       io_weightRF_ren_1, // @[:@6.4]\n",
      "  output [3:0] io_weightRF_waddr_0, // @[:@6.4]\n",
      "  output [3:0] io_weightRF_waddr_1, // @[:@6.4]\n",
      "  output [3:0] io_weightRF_raddr_int_0, // @[:@6.4]\n",
      "  output [3:0] io_weightRF_raddr_int_1, // @[:@6.4]\n",
      "  output [3:0] io_weightRF_raddr_ext_0, // @[:@6.4]\n",
      "  output [3:0] io_weightRF_raddr_ext_1, // @[:@6.4]\n",
      "  output       io_weightRF_bp_slct_get_0, // @[:@6.4]\n",
      "  output       io_weightRF_bp_slct_get_1 // @[:@6.4]\n",
      ");\n",
      "  wire  _T_48_0; // @[cmd124.sc 5:44:@8.4]\n",
      "  wire  _T_48_1; // @[cmd124.sc 5:44:@8.4]\n",
      "  wire  _T_54; // @[cmd124.sc 14:16:@9.4]\n",
      "  wire  _T_76_0; // @[cmd124.sc 6:44:@26.4]\n",
      "  wire  _T_76_1; // @[cmd124.sc 6:44:@26.4]\n",
      "  wire [7:0] _T_104_0; // @[cmd124.sc 7:44:@44.4]\n",
      "  wire [7:0] _T_104_1; // @[cmd124.sc 7:44:@44.4]\n",
      "  wire [2:0] _GEN_4; // @[cmd124.sc 14:25:@46.4]\n",
      "  wire [7:0] _T_132_0; // @[cmd124.sc 8:44:@62.4]\n",
      "  wire [7:0] _T_132_1; // @[cmd124.sc 8:44:@62.4]\n",
      "  wire [2:0] _GEN_6; // @[cmd124.sc 14:25:@64.4]\n",
      "  wire [7:0] _T_160_0; // @[cmd124.sc 9:44:@80.4]\n",
      "  wire [7:0] _T_160_1; // @[cmd124.sc 9:44:@80.4]\n",
      "  wire [2:0] _GEN_8; // @[cmd124.sc 14:25:@82.4]\n",
      "  wire  _T_188_0; // @[cmd124.sc 10:44:@98.4]\n",
      "  wire  _T_188_1; // @[cmd124.sc 10:44:@98.4]\n",
      "  assign _T_54 = io_state == 4'h0; // @[cmd124.sc 14:16:@9.4]\n",
      "  assign _GEN_4 = _T_54 ? 3'h1 : 3'h4; // @[cmd124.sc 14:25:@46.4]\n",
      "  assign _GEN_6 = _T_54 ? 3'h2 : 3'h5; // @[cmd124.sc 14:25:@64.4]\n",
      "  assign _GEN_8 = _T_54 ? 3'h3 : 3'h6; // @[cmd124.sc 14:25:@82.4]\n",
      "  assign io_weightRF_wen_0 = _T_48_0;\n",
      "  assign io_weightRF_wen_1 = _T_48_1;\n",
      "  assign io_weightRF_ren_0 = _T_76_0;\n",
      "  assign io_weightRF_ren_1 = _T_76_1;\n",
      "  assign io_weightRF_waddr_0 = _T_104_0[3:0];\n",
      "  assign io_weightRF_waddr_1 = _T_104_1[3:0];\n",
      "  assign io_weightRF_raddr_int_0 = _T_132_0[3:0];\n",
      "  assign io_weightRF_raddr_int_1 = _T_132_1[3:0];\n",
      "  assign io_weightRF_raddr_ext_0 = _T_160_0[3:0];\n",
      "  assign io_weightRF_raddr_ext_1 = _T_160_1[3:0];\n",
      "  assign io_weightRF_bp_slct_get_0 = _T_188_0;\n",
      "  assign io_weightRF_bp_slct_get_1 = _T_188_1;\n",
      "  assign _T_48_0 = _T_54;\n",
      "  assign _T_48_1 = _T_54;\n",
      "  assign _T_76_0 = _T_54;\n",
      "  assign _T_76_1 = _T_54;\n",
      "  assign _T_104_0 = {{5'd0}, _GEN_4};\n",
      "  assign _T_104_1 = {{5'd0}, _GEN_4};\n",
      "  assign _T_132_0 = {{5'd0}, _GEN_6};\n",
      "  assign _T_132_1 = {{5'd0}, _GEN_6};\n",
      "  assign _T_160_0 = {{5'd0}, _GEN_8};\n",
      "  assign _T_160_1 = {{5'd0}, _GEN_8};\n",
      "  assign _T_188_0 = _T_54;\n",
      "  assign _T_188_1 = _T_54;\n",
      "endmodule\n",
      "\n"
     ]
    }
   ],
   "source": [
    "println(getVerilog(new Decoder(decode, statewidth=4, ports=2,\n",
    "                        datawidth=4, addrwidth=4,\n",
    "                        aluFuncs=List(\"None\"),\n",
    "                        nluFuncs=List(\"None\"))))"
   ]
  },
  {
   "cell_type": "code",
   "execution_count": 130,
   "metadata": {},
   "outputs": [
    {
     "name": "stdout",
     "output_type": "stream",
     "text": [
      "[\u001b[35minfo\u001b[0m] [0.000] Elaborating design...\n",
      "[\u001b[35minfo\u001b[0m] [0.005] Done elaborating.\n",
      "Total FIRRTL Compile Time: 21.9 ms\n",
      "Total FIRRTL Compile Time: 16.4 ms\n",
      "End of dependency graph\n",
      "Circuit state created\n",
      "[\u001b[35minfo\u001b[0m] [0.000] SEED 1532479097135\n",
      "test cmd123WrapperHelperDecoder Success: 12 tests passed in 7 cycles taking 0.012984 seconds\n",
      "[\u001b[35minfo\u001b[0m] [0.009] RAN 2 CYCLES PASSED\n"
     ]
    },
    {
     "data": {
      "text/plain": [
       "\u001b[36mres129\u001b[39m: \u001b[32mBoolean\u001b[39m = \u001b[32mtrue\u001b[39m"
      ]
     },
     "execution_count": 130,
     "metadata": {},
     "output_type": "execute_result"
    }
   ],
   "source": [
    "Driver(() => new Decoder(decode, statewidth=4, ports=2,\n",
    "                        datawidth=4, addrwidth=4,\n",
    "                        aluFuncs=List(\"None\"),\n",
    "                        nluFuncs=List(\"None\"))) {\n",
    "    \n",
    "    uut => new PeekPokeTester(uut) {\n",
    "        \n",
    "        \n",
    "        poke(uut.io.state, 0.U)\n",
    "        step(1)\n",
    "        \n",
    "        expect(uut.io.weightRF_wen(0), true.B)\n",
    "        expect(uut.io.weightRF_ren(0), true.B)\n",
    "        expect(uut.io.weightRF_waddr(0), 1.U)\n",
    "        expect(uut.io.weightRF_raddr_int(0), 2.U)\n",
    "        expect(uut.io.weightRF_raddr_ext(0), 3.U)\n",
    "        expect(uut.io.weightRF_bp_slct_get(0), true.B)\n",
    "        \n",
    "        poke(uut.io.state, 1.U) \n",
    "        step(1)\n",
    "        \n",
    "        expect(uut.io.weightRF_wen(0), false.B)\n",
    "        expect(uut.io.weightRF_ren(0), false.B)\n",
    "        expect(uut.io.weightRF_waddr(0), 4.U)\n",
    "        expect(uut.io.weightRF_raddr_int(0), 5.U)\n",
    "        expect(uut.io.weightRF_raddr_ext(0), 6.U)\n",
    "        expect(uut.io.weightRF_bp_slct_get(0), false.B)\n",
    "        \n",
    "    }\n",
    "}\n"
   ]
  },
  {
   "cell_type": "code",
   "execution_count": null,
   "metadata": {},
   "outputs": [],
   "source": []
  }
 ],
 "metadata": {
  "kernelspec": {
   "display_name": "Scala",
   "language": "scala",
   "name": "scala"
  },
  "language_info": {
   "codemirror_mode": "text/x-scala",
   "file_extension": ".scala",
   "mimetype": "text/x-scala",
   "name": "scala211",
   "nbconvert_exporter": "script",
   "pygments_lexer": "scala",
   "version": "2.11.11"
  }
 },
 "nbformat": 4,
 "nbformat_minor": 2
}
