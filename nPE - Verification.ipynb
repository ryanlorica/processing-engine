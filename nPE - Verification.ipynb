{
 "cells": [
  {
   "cell_type": "markdown",
   "metadata": {},
   "source": [
    "# nPE: A Configurable Processing Engine\n",
    "#### Verification | Version 0.5.1 | Updated 2018.7.26\n",
    "___"
   ]
  },
  {
   "cell_type": "markdown",
   "metadata": {},
   "source": [
    "## Setup"
   ]
  },
  {
   "cell_type": "code",
   "execution_count": 1,
   "metadata": {},
   "outputs": [
    {
     "data": {
      "text/plain": [
       "\u001b[36mpath\u001b[39m: \u001b[32mString\u001b[39m = \u001b[32m\"\"\"\n",
       "C:\\Users\\RyanL\\OneDrive\\Research\\SEAL\\processing-engine/source/load-ivy.sc\n",
       "\"\"\"\u001b[39m"
      ]
     },
     "execution_count": 1,
     "metadata": {},
     "output_type": "execute_result"
    }
   ],
   "source": [
    "val path = System.getProperty(\"user.dir\") + \"/source/load-ivy.sc\"\n",
    "interp.load.module(ammonite.ops.Path(java.nio.file.FileSystems.getDefault().getPath(path)))"
   ]
  },
  {
   "cell_type": "code",
   "execution_count": 2,
   "metadata": {},
   "outputs": [
    {
     "data": {
      "text/plain": [
       "\u001b[32mimport \u001b[39m\u001b[36mchisel3._\r\n",
       "\u001b[39m\r\n",
       "\u001b[32mimport \u001b[39m\u001b[36mchisel3.util._\r\n",
       "\u001b[39m\r\n",
       "\u001b[32mimport \u001b[39m\u001b[36mchisel3.iotesters.{ChiselFlatSpec, Driver, PeekPokeTester}\r\n",
       "\r\n",
       "\u001b[39m\r\n",
       "\u001b[32mimport \u001b[39m\u001b[36mscala.math.pow\u001b[39m"
      ]
     },
     "execution_count": 2,
     "metadata": {},
     "output_type": "execute_result"
    }
   ],
   "source": [
    "import chisel3._\n",
    "import chisel3.util._\n",
    "import chisel3.iotesters.{ChiselFlatSpec, Driver, PeekPokeTester}\n",
    "\n",
    "import scala.math.pow"
   ]
  },
  {
   "cell_type": "markdown",
   "metadata": {},
   "source": [
    "## Parallel Register File"
   ]
  },
  {
   "cell_type": "markdown",
   "metadata": {},
   "source": [
    "### Single Register File"
   ]
  },
  {
   "cell_type": "markdown",
   "metadata": {},
   "source": [
    "#### Definition"
   ]
  },
  {
   "cell_type": "code",
   "execution_count": 84,
   "metadata": {},
   "outputs": [
    {
     "data": {
      "text/plain": [
       "defined \u001b[32mclass\u001b[39m \u001b[36mRFControl\u001b[39m\r\n",
       "defined \u001b[32mclass\u001b[39m \u001b[36mRFOutputs\u001b[39m\r\n",
       "defined \u001b[32mclass\u001b[39m \u001b[36mRF\u001b[39m"
      ]
     },
     "execution_count": 84,
     "metadata": {},
     "output_type": "execute_result"
    }
   ],
   "source": [
    "class RFControl(addrWidth: Int, bpSupp: Boolean) extends Bundle {\n",
    "    \n",
    "    override def cloneType = (new RFControl(addrWidth, bpSupp)).asInstanceOf[this.type]\n",
    "    \n",
    "    val wEnable  = Bool()\n",
    "    val rEnable  = Bool()\n",
    "    val wAddr    = UInt(addrWidth.W)\n",
    "    val rAddrInt = UInt(addrWidth.W)\n",
    "    val rAddrExt = UInt(addrWidth.W)\n",
    "    val bpSel    = if (bpSupp) Some(Bool()) else None\n",
    "}\n",
    "\n",
    "class RFOutputs(dataWidth: Int) extends Bundle {\n",
    "    \n",
    "    override def cloneType = (new RFOutputs(dataWidth)).asInstanceOf[this.type]\n",
    "    \n",
    "    val int = SInt(dataWidth.W)\n",
    "    val ext = SInt(dataWidth.W)\n",
    "}\n",
    "\n",
    "class RF(dataWidth: Int, addrWidth: Int, bpSupp: Boolean) extends Module {\n",
    "  \n",
    "    val io = IO(new Bundle {\n",
    "        val control = Input(new RFControl(addrWidth, bpSupp))\n",
    "        val dataIn  = Input(SInt(dataWidth.W))\n",
    "        val dataOut = Output(new RFOutputs(dataWidth))\n",
    "    })\n",
    "    \n",
    "    val registers = RegInit(Vec(Seq.fill(pow(2, addrWidth).toInt) { 0.S(addrWidth.W) }))\n",
    "    \n",
    "    when (io.control.wEnable) {\n",
    "        registers(io.control.wAddr) := io.dataIn\n",
    "    }\n",
    "    \n",
    "    when (io.control.rEnable) {\n",
    "        when(io.control.bpSel.getOrElse(false.B)) {\n",
    "            io.dataOut.int := io.dataIn\n",
    "            io.dataOut.ext := io.dataIn\n",
    "        } .otherwise {\n",
    "            io.dataOut.int := registers(io.control.rAddrInt)\n",
    "            io.dataOut.ext := registers(io.control.rAddrExt)\n",
    "        }\n",
    "    } .otherwise {\n",
    "        io.dataOut.int := 0.S\n",
    "        io.dataOut.ext := 0.S\n",
    "    }\n",
    "}"
   ]
  },
  {
   "cell_type": "markdown",
   "metadata": {},
   "source": [
    "#### Verification"
   ]
  },
  {
   "cell_type": "code",
   "execution_count": 87,
   "metadata": {},
   "outputs": [
    {
     "name": "stdout",
     "output_type": "stream",
     "text": [
      "[\u001b[35minfo\u001b[0m] [0.000] Elaborating design...\n",
      "[\u001b[35minfo\u001b[0m] [0.003] Done elaborating.\n",
      "Total FIRRTL Compile Time: 35.5 ms\n",
      "Total FIRRTL Compile Time: 30.8 ms\n",
      "End of dependency graph\n",
      "Circuit state created\n",
      "[\u001b[35minfo\u001b[0m] [0.000] SEED 1532642051802\n",
      "test cmd83WrapperHelperRF Success: 11 tests passed in 9 cycles taking 0.016142 seconds\n",
      "[\u001b[35minfo\u001b[0m] [0.013] RAN 4 CYCLES PASSED\n"
     ]
    },
    {
     "data": {
      "text/plain": [
       "\u001b[36mres86\u001b[39m: \u001b[32mBoolean\u001b[39m = \u001b[32mtrue\u001b[39m"
      ]
     },
     "execution_count": 87,
     "metadata": {},
     "output_type": "execute_result"
    }
   ],
   "source": [
    "Driver(() => new RF(8, 4, true)) {\n",
    "    uut => new PeekPokeTester(uut) {\n",
    "         \n",
    "        poke(uut.io.control.bpSel.get, false)\n",
    "        poke(uut.io.control.wEnable, true)   \n",
    "        poke(uut.io.control.rEnable, true)\n",
    "\n",
    "        poke(uut.io.control.wAddr, 1)\n",
    "        poke(uut.io.dataIn, 1)\n",
    "        \n",
    "        step(1)\n",
    "        \n",
    "        poke(uut.io.control.rAddrInt, 1)\n",
    "        expect(uut.io.dataOut.int, 1)\n",
    "        \n",
    "        poke(uut.io.control.rAddrExt, 1)\n",
    "        expect(uut.io.dataOut.ext, 1)\n",
    "        \n",
    "        poke(uut.io.control.wAddr, 2)\n",
    "        poke(uut.io.dataIn, 2)\n",
    "        \n",
    "        step(1)\n",
    "        \n",
    "        poke(uut.io.control.rAddrInt, 1)\n",
    "        expect(uut.io.dataOut.int, 1)\n",
    "        \n",
    "        poke(uut.io.control.rAddrExt, 2)\n",
    "        expect(uut.io.dataOut.ext, 2)\n",
    "        \n",
    "        poke(uut.io.control.wAddr, 3)\n",
    "        poke(uut.io.dataIn, 3)\n",
    "        \n",
    "        step(1)\n",
    "        \n",
    "        poke(uut.io.control.rAddrInt, 1)\n",
    "        expect(uut.io.dataOut.int, 1)\n",
    "        \n",
    "        poke(uut.io.control.rAddrExt, 2)\n",
    "        expect(uut.io.dataOut.ext, 2)\n",
    "        \n",
    "        poke(uut.io.control.rAddrInt, 3)\n",
    "        expect(uut.io.dataOut.int, 3)\n",
    "        \n",
    "        step(1)\n",
    "        \n",
    "        poke(uut.io.control.bpSel.get, true)\n",
    "        poke(uut.io.dataIn, 10)\n",
    "        expect(uut.io.dataOut.int, 10)\n",
    "        expect(uut.io.dataOut.ext, 10)\n",
    "        \n",
    "        poke(uut.io.control.bpSel.get, false)\n",
    "        expect(uut.io.dataOut.int, 3)\n",
    "        expect(uut.io.dataOut.ext, 2)\n",
    "        \n",
    "    }\n",
    "}"
   ]
  },
  {
   "cell_type": "markdown",
   "metadata": {},
   "source": [
    "### Putting them Together"
   ]
  },
  {
   "cell_type": "markdown",
   "metadata": {},
   "source": [
    "#### Definition"
   ]
  },
  {
   "cell_type": "code",
   "execution_count": 90,
   "metadata": {},
   "outputs": [
    {
     "data": {
      "text/plain": [
       "defined \u001b[32mclass\u001b[39m \u001b[36mPRFControl\u001b[39m\r\n",
       "defined \u001b[32mclass\u001b[39m \u001b[36mPRF\u001b[39m"
      ]
     },
     "execution_count": 90,
     "metadata": {},
     "output_type": "execute_result"
    }
   ],
   "source": [
    "class PRFControl(ports: Int, addrWidth: Int, bpSoft: Boolean) extends Bundle {\n",
    "    \n",
    "    override def cloneType = (new PRFControl(ports, addrWidth, bpSoft)).asInstanceOf[this.type]\n",
    "    \n",
    "    val rf = Vec(ports, new RFControl(addrWidth, bpSoft))\n",
    "}\n",
    "\n",
    "class PRF(ports: Int, dataWidth: Int, addrWidth: Int, bp: String) extends Module {\n",
    "    \n",
    "    require(List(\"None\", \"Soft\", \"Hard\") contains bp)\n",
    "    \n",
    "    val bpNone = (bp == \"None\")\n",
    "    val bpSoft = (bp == \"Soft\")\n",
    "    val bpHard = (bp == \"Hard\")\n",
    "    \n",
    "    val io = IO(new Bundle {\n",
    "        val control = Input(new PRFControl(ports, addrWidth, bpSoft))\n",
    "        val dataIn = Input(Vec(ports, SInt(dataWidth.W)))\n",
    "        val dataOut = Output(Vec(ports, new RFOutputs(dataWidth)))\n",
    "    })\n",
    "    \n",
    "    if (bpNone || bpSoft) {\n",
    "        \n",
    "        val rf = Seq.fill(ports){ Module(new RF(dataWidth, addrWidth, bpSoft)) }\n",
    "        \n",
    "        rf.zipWithIndex.map {\n",
    "            case (x: RF, i: Int) => { \n",
    "                x.io.control <> io.control.rf(i)\n",
    "                x.io.dataIn := io.dataIn(i)\n",
    "                \n",
    "                io.dataOut(i) <> x.io.dataOut\n",
    "            } \n",
    "        }\n",
    "        \n",
    "    } else if (bpHard) {\n",
    "        for (i <- 0 until ports) {\n",
    "            io.dataOut(i).int := io.dataIn(i)\n",
    "            io.dataOut(i).ext := io.dataIn(i)\n",
    "        }\n",
    "    }\n",
    "}"
   ]
  },
  {
   "cell_type": "markdown",
   "metadata": {},
   "source": [
    "#### Verification"
   ]
  },
  {
   "cell_type": "code",
   "execution_count": 91,
   "metadata": {},
   "outputs": [
    {
     "name": "stdout",
     "output_type": "stream",
     "text": [
      "[\u001b[35minfo\u001b[0m] [0.000] Elaborating design...\n",
      "[\u001b[35minfo\u001b[0m] [0.019] Done elaborating.\n",
      "Total FIRRTL Compile Time: 100.5 ms\n",
      "Total FIRRTL Compile Time: 53.0 ms\n",
      "End of dependency graph\n",
      "Circuit state created\n",
      "[\u001b[35minfo\u001b[0m] [0.000] SEED 1532642544269\n",
      "test cmd89WrapperHelperPRF Success: 18 tests passed in 8 cycles taking 0.039429 seconds\n",
      "[\u001b[35minfo\u001b[0m] [0.034] RAN 3 CYCLES PASSED\n"
     ]
    },
    {
     "data": {
      "text/plain": [
       "\u001b[36mres90\u001b[39m: \u001b[32mBoolean\u001b[39m = \u001b[32mtrue\u001b[39m"
      ]
     },
     "execution_count": 91,
     "metadata": {},
     "output_type": "execute_result"
    }
   ],
   "source": [
    "Driver(() => new PRF(2, 8, 4, \"Soft\")) {\n",
    "    uut => new PeekPokeTester(uut) {\n",
    "         \n",
    "        poke(uut.io.control.rf(0).wEnable, true)  \n",
    "        poke(uut.io.control.rf(1).wEnable, true) \n",
    "        poke(uut.io.control.rf(0).rEnable, true)\n",
    "        poke(uut.io.control.rf(1).rEnable, true)\n",
    "        poke(uut.io.control.rf(0).bpSel.get, false)\n",
    "        poke(uut.io.control.rf(1).bpSel.get, false)\n",
    "\n",
    "        poke(uut.io.control.rf(0).wAddr, 1)\n",
    "        poke(uut.io.control.rf(1).wAddr, 1)\n",
    "        poke(uut.io.dataIn(0), 1)\n",
    "        poke(uut.io.dataIn(1), 1)\n",
    "        \n",
    "        step(1)\n",
    "        \n",
    "        // Read\n",
    "        poke(uut.io.control.rf(0).rAddrInt, 1)\n",
    "        poke(uut.io.control.rf(1).rAddrInt, 1)\n",
    "        expect(uut.io.dataOut(0).int, 1)\n",
    "        expect(uut.io.dataOut(1).int, 1)\n",
    "        \n",
    "        poke(uut.io.control.rf(0).rAddrExt, 1)\n",
    "        poke(uut.io.control.rf(1).rAddrExt, 1)\n",
    "        expect(uut.io.dataOut(0).ext, 1)\n",
    "        expect(uut.io.dataOut(1).ext, 1)\n",
    "        \n",
    "        // Write\n",
    "        poke(uut.io.control.rf(0).wAddr, 2)\n",
    "        poke(uut.io.control.rf(1).wAddr, 2)\n",
    "        poke(uut.io.dataIn(0), 2)\n",
    "        poke(uut.io.dataIn(1), 2)\n",
    "        \n",
    "        step(1)\n",
    "        \n",
    "        // Read\n",
    "        poke(uut.io.control.rf(0).rAddrInt, 1)\n",
    "        poke(uut.io.control.rf(1).rAddrInt, 1)\n",
    "        expect(uut.io.dataOut(0).int, 1)\n",
    "        expect(uut.io.dataOut(1).int, 1)\n",
    "        \n",
    "        poke(uut.io.control.rf(0).rAddrExt, 2)\n",
    "        poke(uut.io.control.rf(1).rAddrExt, 2)\n",
    "        expect(uut.io.dataOut(0).ext, 2)\n",
    "        expect(uut.io.dataOut(1).ext, 2)\n",
    "        \n",
    "        // Write\n",
    "        poke(uut.io.control.rf(0).wAddr, 3)\n",
    "        poke(uut.io.control.rf(1).wAddr, 3)\n",
    "        poke(uut.io.dataIn(0), 3)\n",
    "        poke(uut.io.dataIn(1), 3)\n",
    "        \n",
    "        step(1)\n",
    "        \n",
    "        // Read\n",
    "        poke(uut.io.control.rf(0).rAddrInt, 1)\n",
    "        poke(uut.io.control.rf(1).rAddrInt, 1)\n",
    "        expect(uut.io.dataOut(0).int, 1)\n",
    "        expect(uut.io.dataOut(1).int, 1)\n",
    "        \n",
    "        poke(uut.io.control.rf(0).rAddrExt, 2)\n",
    "        poke(uut.io.control.rf(1).rAddrExt, 2)\n",
    "        expect(uut.io.dataOut(0).ext, 2)\n",
    "        expect(uut.io.dataOut(1).ext, 2)\n",
    "        \n",
    "        poke(uut.io.control.rf(0).rAddrInt, 3)\n",
    "        poke(uut.io.control.rf(1).rAddrInt, 3)\n",
    "        expect(uut.io.dataOut(0).int, 3)\n",
    "        expect(uut.io.dataOut(1).int, 3)\n",
    "        \n",
    "        // Bypass\n",
    "        poke(uut.io.control.rf(0).bpSel.get, true)\n",
    "        poke(uut.io.control.rf(1).bpSel.get, false)\n",
    "        poke(uut.io.dataIn(0), 10)\n",
    "        poke(uut.io.dataIn(1), 10)\n",
    "        expect(uut.io.dataOut(0).int, 10)\n",
    "        expect(uut.io.dataOut(1).int, 3)\n",
    "        expect(uut.io.dataOut(0).ext, 10)\n",
    "        expect(uut.io.dataOut(1).ext, 2)\n",
    "    }\n",
    "}"
   ]
  },
  {
   "cell_type": "markdown",
   "metadata": {},
   "source": [
    "## Inner Product Unit"
   ]
  },
  {
   "cell_type": "markdown",
   "metadata": {},
   "source": [
    "### Parallel Multiplier"
   ]
  },
  {
   "cell_type": "markdown",
   "metadata": {},
   "source": [
    "#### Definition"
   ]
  },
  {
   "cell_type": "code",
   "execution_count": 23,
   "metadata": {},
   "outputs": [
    {
     "data": {
      "text/plain": [
       "defined \u001b[32mfunction\u001b[39m \u001b[36mcheckParamsPMult\u001b[39m\r\n",
       "defined \u001b[32mclass\u001b[39m \u001b[36mPMultInputs\u001b[39m\r\n",
       "defined \u001b[32mclass\u001b[39m \u001b[36mPMult\u001b[39m"
      ]
     },
     "execution_count": 23,
     "metadata": {},
     "output_type": "execute_result"
    }
   ],
   "source": [
    "def checkParamsPMult(numPairs: Int, bitWidth: Int) {\n",
    "    require(numPairs >= 1, \"Must have at least one pair of multiplicands.\")\n",
    "    require(bitWidth >= 1, \"Bitwidth must be at least one.\")\n",
    "}\n",
    "\n",
    "class PMultInputs(numPairs: Int, bitWidth: Int) extends Bundle {\n",
    "    val left  = Input(Vec(numPairs, SInt(bitWidth.W)))\n",
    "    val right = Input(Vec(numPairs, SInt(bitWidth.W)))\n",
    "}\n",
    "\n",
    "class PMult(numPairs: Int, bitWidth: Int) extends Module {\n",
    "    \n",
    "    val io = IO(new Bundle {\n",
    "        val in   = new PMultInputs(numPairs, bitWidth)\n",
    "        val prod = Output(Vec(numPairs, SInt(bitWidth.W)))\n",
    "    })\n",
    "    \n",
    "    io.prod := (io.in.left zip io.in.right).map { case(a, b) => a * b }\n",
    "}"
   ]
  },
  {
   "cell_type": "markdown",
   "metadata": {},
   "source": [
    "#### Verification"
   ]
  },
  {
   "cell_type": "code",
   "execution_count": 24,
   "metadata": {},
   "outputs": [
    {
     "name": "stdout",
     "output_type": "stream",
     "text": [
      "[\u001b[35minfo\u001b[0m] [0.000] Elaborating design...\n",
      "[\u001b[35minfo\u001b[0m] [0.007] Done elaborating.\n",
      "Total FIRRTL Compile Time: 11.5 ms\n",
      "Total FIRRTL Compile Time: 8.4 ms\n",
      "End of dependency graph\n",
      "Circuit state created\n",
      "[\u001b[35minfo\u001b[0m] [0.000] SEED 1532630375683\n",
      "test cmd22WrapperHelperPMult Success: 4 tests passed in 5 cycles taking 0.003763 seconds\n",
      "[\u001b[35minfo\u001b[0m] [0.000] RAN 0 CYCLES PASSED\n"
     ]
    },
    {
     "data": {
      "text/plain": [
       "\u001b[36mres23\u001b[39m: \u001b[32mBoolean\u001b[39m = \u001b[32mtrue\u001b[39m"
      ]
     },
     "execution_count": 24,
     "metadata": {},
     "output_type": "execute_result"
    }
   ],
   "source": [
    "Driver(() => new PMult(4, 8)) {\n",
    "    uut => new PeekPokeTester(uut) {\n",
    "        poke(uut.io.in.left(0), 1) \n",
    "        poke(uut.io.in.right(0), 2)\n",
    "        \n",
    "        poke(uut.io.in.left(1), 3) \n",
    "        poke(uut.io.in.right(1), 4)\n",
    "        \n",
    "        poke(uut.io.in.left(2), 5)\n",
    "        poke(uut.io.in.right(2), 6)\n",
    "        \n",
    "        poke(uut.io.in.left(3), 7)\n",
    "        poke(uut.io.in.right(3), 8)\n",
    "        \n",
    "        expect(uut.io.prod(0), 2)\n",
    "        expect(uut.io.prod(1), 12)\n",
    "        expect(uut.io.prod(2), 30)\n",
    "        expect(uut.io.prod(3), 56)\n",
    "  }\n",
    "}"
   ]
  },
  {
   "cell_type": "markdown",
   "metadata": {},
   "source": [
    "### Additive Reduction Tree"
   ]
  },
  {
   "cell_type": "markdown",
   "metadata": {},
   "source": [
    "#### Definition"
   ]
  },
  {
   "cell_type": "code",
   "execution_count": 25,
   "metadata": {},
   "outputs": [
    {
     "data": {
      "text/plain": [
       "defined \u001b[32mfunction\u001b[39m \u001b[36mnonassocPairwiseReduce\u001b[39m\r\n",
       "defined \u001b[32mfunction\u001b[39m \u001b[36mcheckParamsAdditiveRT\u001b[39m\r\n",
       "defined \u001b[32mclass\u001b[39m \u001b[36mAdditiveRT\u001b[39m"
      ]
     },
     "execution_count": 25,
     "metadata": {},
     "output_type": "execute_result"
    }
   ],
   "source": [
    "// Recursively creates a balanced syntax tree\n",
    "def nonassocPairwiseReduce[A](xs: List[A], op: (A, A) => A): A = {\n",
    "  xs match {\n",
    "    case Nil => throw new IllegalArgumentException\n",
    "    case List(singleElem) => singleElem\n",
    "    case sthElse => {\n",
    "      val grouped = sthElse.grouped(2).toList\n",
    "      val pairwiseOpd = for (g <- grouped) yield {\n",
    "        g match {\n",
    "          case List(a, b) => op(a, b)\n",
    "          case List(x) => x\n",
    "        }\n",
    "      }\n",
    "      nonassocPairwiseReduce(pairwiseOpd, op)\n",
    "    }\n",
    "  }\n",
    "}\n",
    "\n",
    "def checkParamsAdditiveRT(numAddends: Int, bitWidth: Int): Unit = {\n",
    "    require(numAddends >= 1, \"Number of addends must be at least one.\")\n",
    "    require(bitWidth >= 1, \"Bitwidth must be at least one.\")\n",
    "}\n",
    "\n",
    "\n",
    "class AdditiveRT(numAddends: Int, bitWidth: Int) extends Module {\n",
    "\n",
    "    checkParamsAdditiveRT(numAddends, bitWidth)\n",
    "    \n",
    "    val io = IO(new Bundle {\n",
    "        val in  = Input(Vec(numAddends, SInt(bitWidth.W)))\n",
    "        val sum = Output(SInt(bitWidth.W))\n",
    "    })\n",
    "    \n",
    "    io.sum := nonassocPairwiseReduce(io.in toList, (x: SInt, y: SInt) => x + y)\n",
    "}"
   ]
  },
  {
   "cell_type": "markdown",
   "metadata": {},
   "source": [
    "#### Verilog"
   ]
  },
  {
   "cell_type": "code",
   "execution_count": 16,
   "metadata": {},
   "outputs": [
    {
     "name": "stdout",
     "output_type": "stream",
     "text": [
      "[\u001b[35minfo\u001b[0m] [0.000] Elaborating design...\n",
      "[\u001b[35minfo\u001b[0m] [0.006] Done elaborating.\n",
      "Total FIRRTL Compile Time: 129.9 ms\n",
      "\n",
      "module cmd14WrapperHelperAdditiveRT( // @[:@3.2]\n",
      "  input        clock, // @[:@4.4]\n",
      "  input        reset, // @[:@5.4]\n",
      "  input  [3:0] io_in_0, // @[:@6.4]\n",
      "  input  [3:0] io_in_1, // @[:@6.4]\n",
      "  input  [3:0] io_in_2, // @[:@6.4]\n",
      "  input  [3:0] io_in_3, // @[:@6.4]\n",
      "  output [3:0] io_out // @[:@6.4]\n",
      ");\n",
      "  wire [4:0] _T_12; // @[cmd14.sc 29:76:@8.4]\n",
      "  wire [3:0] _T_13; // @[cmd14.sc 29:76:@9.4]\n",
      "  wire [3:0] _T_14; // @[cmd14.sc 29:76:@10.4]\n",
      "  wire [4:0] _T_15; // @[cmd14.sc 29:76:@11.4]\n",
      "  wire [3:0] _T_16; // @[cmd14.sc 29:76:@12.4]\n",
      "  wire [3:0] _T_17; // @[cmd14.sc 29:76:@13.4]\n",
      "  wire [4:0] _T_18; // @[cmd14.sc 29:76:@14.4]\n",
      "  wire [3:0] _T_19; // @[cmd14.sc 29:76:@15.4]\n",
      "  wire [3:0] _T_20; // @[cmd14.sc 29:76:@16.4]\n",
      "  assign _T_12 = $signed(io_in_0) + $signed(io_in_1); // @[cmd14.sc 29:76:@8.4]\n",
      "  assign _T_13 = _T_12[3:0]; // @[cmd14.sc 29:76:@9.4]\n",
      "  assign _T_14 = $signed(_T_13); // @[cmd14.sc 29:76:@10.4]\n",
      "  assign _T_15 = $signed(io_in_2) + $signed(io_in_3); // @[cmd14.sc 29:76:@11.4]\n",
      "  assign _T_16 = _T_15[3:0]; // @[cmd14.sc 29:76:@12.4]\n",
      "  assign _T_17 = $signed(_T_16); // @[cmd14.sc 29:76:@13.4]\n",
      "  assign _T_18 = $signed(_T_14) + $signed(_T_17); // @[cmd14.sc 29:76:@14.4]\n",
      "  assign _T_19 = _T_18[3:0]; // @[cmd14.sc 29:76:@15.4]\n",
      "  assign _T_20 = $signed(_T_19); // @[cmd14.sc 29:76:@16.4]\n",
      "  assign io_out = _T_20;\n",
      "endmodule\n",
      "\n",
      "[\u001b[35minfo\u001b[0m] [0.000] Elaborating design...\n",
      "[\u001b[35minfo\u001b[0m] [0.002] Done elaborating.\n",
      "Total FIRRTL Compile Time: 14.6 ms\n",
      "\n",
      "module cmd14WrapperHelperAdditiveRT( // @[:@3.2]\n",
      "  input        clock, // @[:@4.4]\n",
      "  input        reset, // @[:@5.4]\n",
      "  input  [3:0] io_in_0, // @[:@6.4]\n",
      "  input  [3:0] io_in_1, // @[:@6.4]\n",
      "  input  [3:0] io_in_2, // @[:@6.4]\n",
      "  input  [3:0] io_in_3, // @[:@6.4]\n",
      "  input  [3:0] io_in_4, // @[:@6.4]\n",
      "  input  [3:0] io_in_5, // @[:@6.4]\n",
      "  output [3:0] io_out // @[:@6.4]\n",
      ");\n",
      "  wire [4:0] _T_14; // @[cmd14.sc 29:76:@8.4]\n",
      "  wire [3:0] _T_15; // @[cmd14.sc 29:76:@9.4]\n",
      "  wire [3:0] _T_16; // @[cmd14.sc 29:76:@10.4]\n",
      "  wire [4:0] _T_17; // @[cmd14.sc 29:76:@11.4]\n",
      "  wire [3:0] _T_18; // @[cmd14.sc 29:76:@12.4]\n",
      "  wire [3:0] _T_19; // @[cmd14.sc 29:76:@13.4]\n",
      "  wire [4:0] _T_20; // @[cmd14.sc 29:76:@14.4]\n",
      "  wire [3:0] _T_21; // @[cmd14.sc 29:76:@15.4]\n",
      "  wire [3:0] _T_22; // @[cmd14.sc 29:76:@16.4]\n",
      "  wire [4:0] _T_23; // @[cmd14.sc 29:76:@17.4]\n",
      "  wire [3:0] _T_24; // @[cmd14.sc 29:76:@18.4]\n",
      "  wire [3:0] _T_25; // @[cmd14.sc 29:76:@19.4]\n",
      "  wire [4:0] _T_26; // @[cmd14.sc 29:76:@20.4]\n",
      "  wire [3:0] _T_27; // @[cmd14.sc 29:76:@21.4]\n",
      "  wire [3:0] _T_28; // @[cmd14.sc 29:76:@22.4]\n",
      "  assign _T_14 = $signed(io_in_0) + $signed(io_in_1); // @[cmd14.sc 29:76:@8.4]\n",
      "  assign _T_15 = _T_14[3:0]; // @[cmd14.sc 29:76:@9.4]\n",
      "  assign _T_16 = $signed(_T_15); // @[cmd14.sc 29:76:@10.4]\n",
      "  assign _T_17 = $signed(io_in_2) + $signed(io_in_3); // @[cmd14.sc 29:76:@11.4]\n",
      "  assign _T_18 = _T_17[3:0]; // @[cmd14.sc 29:76:@12.4]\n",
      "  assign _T_19 = $signed(_T_18); // @[cmd14.sc 29:76:@13.4]\n",
      "  assign _T_20 = $signed(io_in_4) + $signed(io_in_5); // @[cmd14.sc 29:76:@14.4]\n",
      "  assign _T_21 = _T_20[3:0]; // @[cmd14.sc 29:76:@15.4]\n",
      "  assign _T_22 = $signed(_T_21); // @[cmd14.sc 29:76:@16.4]\n",
      "  assign _T_23 = $signed(_T_16) + $signed(_T_19); // @[cmd14.sc 29:76:@17.4]\n",
      "  assign _T_24 = _T_23[3:0]; // @[cmd14.sc 29:76:@18.4]\n",
      "  assign _T_25 = $signed(_T_24); // @[cmd14.sc 29:76:@19.4]\n",
      "  assign _T_26 = $signed(_T_25) + $signed(_T_22); // @[cmd14.sc 29:76:@20.4]\n",
      "  assign _T_27 = _T_26[3:0]; // @[cmd14.sc 29:76:@21.4]\n",
      "  assign _T_28 = $signed(_T_27); // @[cmd14.sc 29:76:@22.4]\n",
      "  assign io_out = _T_28;\n",
      "endmodule\n",
      "\n"
     ]
    }
   ],
   "source": [
    "println(getVerilog(new AdditiveRT(4, 4)))\n",
    "println(getVerilog(new AdditiveRT(6, 4)))"
   ]
  },
  {
   "cell_type": "markdown",
   "metadata": {},
   "source": [
    "#### Verification"
   ]
  },
  {
   "cell_type": "code",
   "execution_count": 26,
   "metadata": {},
   "outputs": [
    {
     "name": "stdout",
     "output_type": "stream",
     "text": [
      "[\u001b[35minfo\u001b[0m] [0.000] Elaborating design...\n",
      "[\u001b[35minfo\u001b[0m] [0.006] Done elaborating.\n",
      "Total FIRRTL Compile Time: 7.9 ms\n",
      "Total FIRRTL Compile Time: 8.1 ms\n",
      "End of dependency graph\n",
      "Circuit state created\n",
      "[\u001b[35minfo\u001b[0m] [0.000] SEED 1532630396193\n",
      "test cmd24WrapperHelperAdditiveRT Success: 2 tests passed in 5 cycles taking 0.002699 seconds\n",
      "[\u001b[35minfo\u001b[0m] [0.004] RAN 0 CYCLES PASSED\n"
     ]
    },
    {
     "data": {
      "text/plain": [
       "\u001b[36mres25\u001b[39m: \u001b[32mBoolean\u001b[39m = \u001b[32mtrue\u001b[39m"
      ]
     },
     "execution_count": 26,
     "metadata": {},
     "output_type": "execute_result"
    }
   ],
   "source": [
    "Driver(() => new AdditiveRT(4, 8)) {\n",
    "    uut => new PeekPokeTester(uut) {\n",
    "        poke(uut.io.in(0), 1) \n",
    "        poke(uut.io.in(1), 2)\n",
    "        poke(uut.io.in(2), 8) \n",
    "        poke(uut.io.in(3), 9) \n",
    "        expect(uut.io.sum, 20)\n",
    "        \n",
    "        poke(uut.io.in(0), 1) \n",
    "        poke(uut.io.in(1), 2)\n",
    "        poke(uut.io.in(2), 8) \n",
    "        poke(uut.io.in(3), 9) \n",
    "        expect(uut.io.sum, 20)\n",
    "    }\n",
    "}"
   ]
  },
  {
   "cell_type": "markdown",
   "metadata": {},
   "source": [
    "### Putting them Together"
   ]
  },
  {
   "cell_type": "markdown",
   "metadata": {},
   "source": [
    "#### Definition"
   ]
  },
  {
   "cell_type": "code",
   "execution_count": 31,
   "metadata": {},
   "outputs": [
    {
     "data": {
      "text/plain": [
       "defined \u001b[32mfunction\u001b[39m \u001b[36mcheckParamsIPU\u001b[39m\r\n",
       "defined \u001b[32mclass\u001b[39m \u001b[36mIPUInputs\u001b[39m\r\n",
       "defined \u001b[32mclass\u001b[39m \u001b[36mIPUOutputs\u001b[39m\r\n",
       "defined \u001b[32mclass\u001b[39m \u001b[36mIPU\u001b[39m"
      ]
     },
     "execution_count": 31,
     "metadata": {},
     "output_type": "execute_result"
    }
   ],
   "source": [
    "def checkParamsIPU(width: Int, bitWidth: Int, bp: String) {\n",
    "    val bpError = \"Bypass must be \\\"None\\\" or \\\"Firm\\\"\"\n",
    "    val widthError = \"Width must be at least one\"\n",
    "    val bitWidthError = \"Data bitwidth must be non-negative\"\n",
    "    \n",
    "    val bpTypes = List(\"None\", \"Firm\")\n",
    "    \n",
    "    require(width >= 1, widthError)\n",
    "    require(bpTypes.contains(bp), bpError)\n",
    "    require(bitWidth >= 0, bitWidthError)\n",
    "}\n",
    "\n",
    "class IPUInputs(width: Int, bitWidth: Int, bpFirm: Boolean) extends Bundle {\n",
    "    val data = new PMultInputs(width, bitWidth)\n",
    "    val sel  = if (bpFirm) Some(Input(Vec(width, Bool()))) else None\n",
    "}\n",
    "\n",
    "class IPUOutputs(bitWidth: Int, bpFirm: Boolean) extends Bundle {\n",
    "    val innerProd = Output(SInt(bitWidth.W))\n",
    "    \n",
    "    val bpLeft  = if (bpFirm) Some(Output(SInt(bitWidth.W)))  else None\n",
    "    val bpRight = if (bpFirm) Some(Output(SInt(bitWidth.W)))  else None\n",
    "}\n",
    "\n",
    "\n",
    "class IPU(width: Int, bitWidth: Int, bypassType: String) extends Module {\n",
    "    \n",
    "    checkParamsIPU(width, bitWidth, bypassType)\n",
    "    \n",
    "    val bpFirm = (bypassType == \"Firm\")\n",
    "    \n",
    "    val io = IO(new Bundle {\n",
    "        val in  = new IPUInputs(width, bitWidth, bpFirm)\n",
    "        val out = new IPUOutputs(bitWidth, bpFirm)\n",
    "    })\n",
    "    \n",
    "    val pMult = Module(new PMult(width, bitWidth))\n",
    "    pMult.io.in <> io.in.data\n",
    "    \n",
    "    val additiveRT = Module(new AdditiveRT(width, bitWidth))\n",
    "    additiveRT.io.in := pMult.io.prod\n",
    "    \n",
    "    io.out.innerProd := additiveRT.io.sum\n",
    "    \n",
    "    if (bpFirm) {\n",
    "        io.out.bpLeft.get  := PriorityMux(io.in.sel.get, io.in.data.left)\n",
    "        io.out.bpRight.get := PriorityMux(io.in.sel.get, io.in.data.right)\n",
    "    }\n",
    "}"
   ]
  },
  {
   "cell_type": "markdown",
   "metadata": {},
   "source": [
    "#### Verification"
   ]
  },
  {
   "cell_type": "code",
   "execution_count": 34,
   "metadata": {},
   "outputs": [
    {
     "name": "stdout",
     "output_type": "stream",
     "text": [
      "[\u001b[35minfo\u001b[0m] [0.000] Elaborating design...\n",
      "[\u001b[35minfo\u001b[0m] [0.008] Done elaborating.\n",
      "Total FIRRTL Compile Time: 30.7 ms\n",
      "Total FIRRTL Compile Time: 20.8 ms\n",
      "End of dependency graph\n",
      "Circuit state created\n",
      "[\u001b[35minfo\u001b[0m] [0.000] SEED 1532631762495\n",
      "test cmd30WrapperHelperIPU Success: 5 tests passed in 5 cycles taking 0.009510 seconds\n",
      "[\u001b[35minfo\u001b[0m] [0.004] RAN 0 CYCLES PASSED\n"
     ]
    },
    {
     "data": {
      "text/plain": [
       "\u001b[36mres33\u001b[39m: \u001b[32mBoolean\u001b[39m = \u001b[32mtrue\u001b[39m"
      ]
     },
     "execution_count": 34,
     "metadata": {},
     "output_type": "execute_result"
    }
   ],
   "source": [
    "Driver(() => new IPU(width=4, bypassType=\"Firm\", bitWidth=8)) {\n",
    "    uut => new PeekPokeTester(uut) {\n",
    "        \n",
    "        poke(uut.io.in.sel.get(0), 0)\n",
    "        poke(uut.io.in.sel.get(1), 0)\n",
    "        poke(uut.io.in.sel.get(2), 0)\n",
    "        poke(uut.io.in.sel.get(3), 0)\n",
    "        \n",
    "        poke(uut.io.in.data.left(0), 1)\n",
    "        poke(uut.io.in.data.left(1), 2)\n",
    "        poke(uut.io.in.data.left(2), 3)\n",
    "        poke(uut.io.in.data.left(3), 4)\n",
    "        \n",
    "        poke(uut.io.in.data.right(0), 5)\n",
    "        poke(uut.io.in.data.right(1), 6)\n",
    "        poke(uut.io.in.data.right(2), 7)\n",
    "        poke(uut.io.in.data.right(3), 8)\n",
    "        \n",
    "        expect(uut.io.out.innerProd, 70)\n",
    "        \n",
    "        poke(uut.io.in.sel.get(0), 0)\n",
    "        poke(uut.io.in.sel.get(1), 1)\n",
    "        poke(uut.io.in.sel.get(2), 0)\n",
    "        poke(uut.io.in.sel.get(3), 0)\n",
    "        \n",
    "        expect(uut.io.out.bpLeft.get, 2)\n",
    "        expect(uut.io.out.bpRight.get, 6)\n",
    "        \n",
    "        poke(uut.io.in.sel.get(0), 0)\n",
    "        poke(uut.io.in.sel.get(1), 0)\n",
    "        poke(uut.io.in.sel.get(2), 1)\n",
    "        poke(uut.io.in.sel.get(3), 0)\n",
    "        \n",
    "        expect(uut.io.out.bpLeft.get, 3)\n",
    "        expect(uut.io.out.bpRight.get, 7)\n",
    "    }\n",
    "}"
   ]
  },
  {
   "cell_type": "markdown",
   "metadata": {},
   "source": [
    "## ALU"
   ]
  },
  {
   "cell_type": "markdown",
   "metadata": {},
   "source": [
    "#### Definition"
   ]
  },
  {
   "cell_type": "code",
   "execution_count": 37,
   "metadata": {},
   "outputs": [
    {
     "data": {
      "text/plain": [
       "defined \u001b[32mfunction\u001b[39m \u001b[36mcheckparamsALU\u001b[39m\r\n",
       "defined \u001b[32mclass\u001b[39m \u001b[36mALUInputs\u001b[39m\r\n",
       "defined \u001b[32mclass\u001b[39m \u001b[36mALU\u001b[39m"
      ]
     },
     "execution_count": 37,
     "metadata": {},
     "output_type": "execute_result"
    }
   ],
   "source": [
    "def checkparamsALU(datawidth: Int, funcs: List[String]) {\n",
    "    val identityError = \"ALU functions must explicitly include Identity.\"\n",
    "    val functionError = \"Unsupported Error\"\n",
    "    val supportedFuncs = List(\"Identity\", \"Add\", \"Max\", \"Accumulate\")\n",
    "    \n",
    "    require(funcs.contains(\"Identity\"), identityError)\n",
    "    for(x <- funcs) { require(supportedFuncs.contains(x), functionError) }\n",
    "}\n",
    "\n",
    "class ALUInputs(dataWidth: Int, numFuncs: Int, accSupp: Boolean, addBypassIn: Boolean) extends Bundle {\n",
    "    val innerProd = Input(SInt(dataWidth.W))\n",
    "    val funcSel = Input(Vec(numFuncs, Bool()))\n",
    "    \n",
    "    val weightBp     = if(addBypassIn) Some(Input(SInt(dataWidth.W))) else None\n",
    "    val actvtnBp     = if(addBypassIn) Some(Input(SInt(dataWidth.W))) else None\n",
    "    val rfFeedback   = if(accSupp)     Some(Input(SInt(dataWidth.W))) else None\n",
    "}\n",
    "\n",
    "class ALU(dataWidth: Int, funcs: List[String]) extends Module {\n",
    "    \n",
    "    checkparamsALU(dataWidth, funcs)\n",
    "    \n",
    "    val addSupp = funcs.contains(\"Add\")\n",
    "    val maxSupp = funcs.contains(\"Max\")\n",
    "    val accSupp = funcs.contains(\"Accumulate\")\n",
    "    val addBypassIn = addSupp || maxSupp\n",
    " \n",
    "    val io = IO(new Bundle {\n",
    "        val in = new ALUInputs(dataWidth, funcs.length, accSupp, addBypassIn)\n",
    "        val out = Output(SInt(dataWidth.W))\n",
    "    })\n",
    "    \n",
    "    val idnOut = Some(Wire(SInt(dataWidth.W)))\n",
    "    val addOut = if(addSupp) Some(Wire(SInt(dataWidth.W))) else None\n",
    "    val maxOut = if(maxSupp) Some(Wire(SInt(dataWidth.W))) else None\n",
    "    val accOut = if(accSupp) Some(Wire(SInt(dataWidth.W))) else None\n",
    "    \n",
    "    idnOut.get := io.in.innerProd\n",
    "    \n",
    "    if (addSupp) { addOut.get := io.in.weightBp.get + io.in.actvtnBp.get }\n",
    "    if (accSupp) { accOut.get := io.in.innerProd + io.in.rfFeedback.get }\n",
    "    if (maxSupp) {\n",
    "        when (io.in.weightBp.get > io.in.actvtnBp.get) {\n",
    "            maxOut.get := io.in.weightBp.get\n",
    "        } .otherwise {\n",
    "            maxOut.get := io.in.actvtnBp.get\n",
    "        }\n",
    "    }\n",
    "    \n",
    "    val inters = (idnOut :: addOut :: maxOut :: accOut :: Nil) filter ( _.isDefined ) map ( _.get )\n",
    "    io.out := PriorityMux(io.in.funcSel, inters)\n",
    "}"
   ]
  },
  {
   "cell_type": "markdown",
   "metadata": {},
   "source": [
    "#### Verification"
   ]
  },
  {
   "cell_type": "code",
   "execution_count": 41,
   "metadata": {},
   "outputs": [
    {
     "name": "stdout",
     "output_type": "stream",
     "text": [
      "[\u001b[35minfo\u001b[0m] [0.000] Elaborating design...\n",
      "[\u001b[35minfo\u001b[0m] [0.000] Done elaborating.\n",
      "Total FIRRTL Compile Time: 10.9 ms\n",
      "Total FIRRTL Compile Time: 9.6 ms\n",
      "End of dependency graph\n",
      "Circuit state created\n",
      "[\u001b[35minfo\u001b[0m] [0.000] SEED 1532633052133\n",
      "test cmd36WrapperHelperALU Success: 4 tests passed in 5 cycles taking 0.003677 seconds\n",
      "[\u001b[35minfo\u001b[0m] [0.005] RAN 0 CYCLES PASSED\n"
     ]
    },
    {
     "data": {
      "text/plain": [
       "\u001b[36mfuncs\u001b[39m: \u001b[32mList\u001b[39m[\u001b[32mString\u001b[39m] = \u001b[33mList\u001b[39m(\u001b[32m\"Identity\"\u001b[39m, \u001b[32m\"Add\"\u001b[39m, \u001b[32m\"Max\"\u001b[39m, \u001b[32m\"Accumulate\"\u001b[39m)\r\n",
       "\u001b[36mres40_1\u001b[39m: \u001b[32mBoolean\u001b[39m = \u001b[32mtrue\u001b[39m"
      ]
     },
     "execution_count": 41,
     "metadata": {},
     "output_type": "execute_result"
    }
   ],
   "source": [
    "val funcs = \"Identity\" :: \"Add\" :: \"Max\" :: \"Accumulate\" :: Nil\n",
    "\n",
    "Driver(() => new ALU(8, funcs)) {\n",
    "    uut => new PeekPokeTester(uut) {\n",
    "        \n",
    "        poke(uut.io.in.innerProd, 1)\n",
    "        poke(uut.io.in.weightBp.get, 2)\n",
    "        poke(uut.io.in.actvtnBp.get, 3)\n",
    "        poke(uut.io.in.rfFeedback.get, 4)\n",
    "        \n",
    "        poke(uut.io.in.funcSel(0), 1)\n",
    "        poke(uut.io.in.funcSel(1), 0)\n",
    "        poke(uut.io.in.funcSel(2), 0)\n",
    "        poke(uut.io.in.funcSel(3), 0)\n",
    "        expect(uut.io.out, 1)\n",
    "        \n",
    "        poke(uut.io.in.funcSel(0), 0)\n",
    "        poke(uut.io.in.funcSel(1), 1)\n",
    "        poke(uut.io.in.funcSel(2), 0)\n",
    "        poke(uut.io.in.funcSel(3), 0)\n",
    "        expect(uut.io.out, 5)\n",
    "        \n",
    "        poke(uut.io.in.funcSel(0), 0)\n",
    "        poke(uut.io.in.funcSel(1), 0)\n",
    "        poke(uut.io.in.funcSel(2), 1)\n",
    "        poke(uut.io.in.funcSel(3), 0)\n",
    "        expect(uut.io.out, 3)\n",
    "        \n",
    "        poke(uut.io.in.funcSel(0), 0)\n",
    "        poke(uut.io.in.funcSel(1), 0)\n",
    "        poke(uut.io.in.funcSel(2), 0)\n",
    "        poke(uut.io.in.funcSel(3), 1)\n",
    "        expect(uut.io.out, 5)\n",
    "    }\n",
    "}"
   ]
  },
  {
   "cell_type": "markdown",
   "metadata": {},
   "source": [
    "## Nonlinear Unit"
   ]
  },
  {
   "cell_type": "code",
   "execution_count": 45,
   "metadata": {},
   "outputs": [
    {
     "data": {
      "text/plain": [
       "defined \u001b[32mfunction\u001b[39m \u001b[36mcheckparamsNLU\u001b[39m\r\n",
       "defined \u001b[32mclass\u001b[39m \u001b[36mNLUInputs\u001b[39m\r\n",
       "defined \u001b[32mclass\u001b[39m \u001b[36mNLU\u001b[39m"
      ]
     },
     "execution_count": 45,
     "metadata": {},
     "output_type": "execute_result"
    }
   ],
   "source": [
    "def checkparamsNLU(datawidth: Int, funcs: List[String]) {\n",
    "    val supportedFuncs = List(\"Identity\", \"ReLu\")\n",
    "    val identityError = \"NLU functions must explicitly include Identity.\"\n",
    "    val functionError = \"Unsupported Function\"\n",
    "    \n",
    "    require(funcs.contains(\"Identity\"), identityError)\n",
    "    for(x <- funcs)(require(supportedFuncs.contains(x), functionError))\n",
    "}\n",
    "\n",
    "class NLUInputs(dataWidth: Int, reluSupp: Boolean) {\n",
    "    val data = Input(SInt(dataWidth.W))\n",
    "    val fSel = Input(Vec(funcs.length, Bool()))\n",
    "}\n",
    "\n",
    "class NLU(dataWidth: Int, funcs: List[String]) extends Module {\n",
    "    \n",
    "    checkparamsNLU(dataWidth, funcs)\n",
    "    \n",
    "    val reluSupp = funcs.contains(\"ReLu\")\n",
    "    \n",
    "    val io = IO(new Bundle {\n",
    "        val in  = new NLUInputs(dataWidth, reluSupp)\n",
    "        val out = Output(SInt(dataWidth.W))\n",
    "    })\n",
    "    \n",
    "    val idRes   = Some(Wire(SInt(dataWidth.W)))\n",
    "    val reluRes = if(reluSupp) Some(Wire(SInt(dataWidth.W))) else None\n",
    "    \n",
    "    idRes.get := io.in.data\n",
    "    \n",
    "    if (reluSupp) {\n",
    "        when (io.in.data > 0.S) {\n",
    "            reluRes.get := io.data\n",
    "        } .otherwise {\n",
    "            reluRes.get := 0.S\n",
    "        }\n",
    "    }\n",
    "    \n",
    "    val inters = (idRes :: reluRes :: Nil) filter ( _.isDefined ) map ( _.get )\n",
    "    io.out := PriorityMux(io.in.fSel, inters)\n",
    "}"
   ]
  },
  {
   "cell_type": "code",
   "execution_count": null,
   "metadata": {},
   "outputs": [],
   "source": []
  },
  {
   "cell_type": "markdown",
   "metadata": {},
   "source": [
    "## Control"
   ]
  },
  {
   "cell_type": "markdown",
   "metadata": {},
   "source": [
    "### State Machine"
   ]
  },
  {
   "cell_type": "markdown",
   "metadata": {},
   "source": [
    "#### Definition"
   ]
  },
  {
   "cell_type": "code",
   "execution_count": 340,
   "metadata": {},
   "outputs": [
    {
     "data": {
      "text/plain": [
       "defined \u001b[32mclass\u001b[39m \u001b[36mStateMachine\u001b[39m"
      ]
     },
     "execution_count": 340,
     "metadata": {},
     "output_type": "execute_result"
    }
   ],
   "source": [
    "class StateMachine(numStates: Int, nextState: (UInt, UInt, Int) => UInt, ctrlWidth: Int) extends Module {\n",
    "    \n",
    "    val stateWidth: Int = log2Up(numStates)\n",
    "    \n",
    "    val io = IO(new Bundle {\n",
    "        val control = Input (UInt(ctrlWidth.W ))\n",
    "        val out     = Output(UInt(stateWidth.W))\n",
    "    })\n",
    "    \n",
    "    val register = RegInit(0.U(stateWidth.W))\n",
    "    register := nextState(register, io.control, ctrlWidth)\n",
    "    io.out := register\n",
    "}"
   ]
  },
  {
   "cell_type": "markdown",
   "metadata": {},
   "source": [
    "#### Example"
   ]
  },
  {
   "cell_type": "code",
   "execution_count": 341,
   "metadata": {},
   "outputs": [
    {
     "data": {
      "text/plain": [
       "defined \u001b[32mfunction\u001b[39m \u001b[36mstateMap\u001b[39m"
      ]
     },
     "execution_count": 341,
     "metadata": {},
     "output_type": "execute_result"
    }
   ],
   "source": [
    "def stateMap(state: UInt, control: UInt, stateWidth: Int): UInt = {\n",
    "    \n",
    "    val nextState = Wire(UInt(stateWidth.W))\n",
    "    \n",
    "    when      (state === 0.U & control === 0.U) { nextState := 0.U }\n",
    "    .elsewhen (state === 0.U & control === 1.U) { nextState := 1.U }\n",
    "    .elsewhen (state === 1.U & control === 0.U) { nextState := 0.U }\n",
    "    .elsewhen (state === 1.U & control === 1.U) { nextState := 1.U }\n",
    "    .otherwise { nextState := 0.U }\n",
    "    \n",
    "    nextState\n",
    "}"
   ]
  },
  {
   "cell_type": "markdown",
   "metadata": {},
   "source": [
    "#### Verification"
   ]
  },
  {
   "cell_type": "code",
   "execution_count": 343,
   "metadata": {},
   "outputs": [
    {
     "name": "stdout",
     "output_type": "stream",
     "text": [
      "[\u001b[35minfo\u001b[0m] [0.000] Elaborating design...\n",
      "[\u001b[35minfo\u001b[0m] [0.002] Done elaborating.\n",
      "Total FIRRTL Compile Time: 10.1 ms\n",
      "Total FIRRTL Compile Time: 12.5 ms\n",
      "End of dependency graph\n",
      "Circuit state created\n",
      "[\u001b[35minfo\u001b[0m] [0.000] SEED 1532561171036\n",
      "test cmd339WrapperHelperStateMachine Success: 5 tests passed in 9 cycles taking 0.004398 seconds\n",
      "[\u001b[35minfo\u001b[0m] [0.004] RAN 4 CYCLES PASSED\n"
     ]
    },
    {
     "data": {
      "text/plain": [
       "\u001b[36mres342\u001b[39m: \u001b[32mBoolean\u001b[39m = \u001b[32mtrue\u001b[39m"
      ]
     },
     "execution_count": 343,
     "metadata": {},
     "output_type": "execute_result"
    }
   ],
   "source": [
    "Driver(() => new StateMachine(2, stateMap, 4)) {\n",
    "    uut => new PeekPokeTester(uut) {\n",
    "        poke(uut.io.control, 0)\n",
    "        expect(uut.io.out, 0)\n",
    "        \n",
    "        // 0 -> 1\n",
    "        poke(uut.io.control, 1)\n",
    "        step(1)\n",
    "        expect(uut.io.out, 1)\n",
    "        \n",
    "        // 1 -> 1\n",
    "        poke(uut.io.control, 1)\n",
    "        step(1)\n",
    "        expect(uut.io.out, 1)\n",
    "        \n",
    "        // 1 -> 0\n",
    "        poke(uut.io.control, 0)\n",
    "        step(1)\n",
    "        expect(uut.io.out, 0)\n",
    "        \n",
    "        // 0 -> 0\n",
    "        poke(uut.io.control, 0)\n",
    "        step(1)\n",
    "        expect(uut.io.out, 0)\n",
    "    }\n",
    "}"
   ]
  },
  {
   "cell_type": "markdown",
   "metadata": {},
   "source": [
    "### Decoder"
   ]
  },
  {
   "cell_type": "markdown",
   "metadata": {},
   "source": [
    "#### Definition"
   ]
  },
  {
   "cell_type": "code",
   "execution_count": 78,
   "metadata": {},
   "outputs": [
    {
     "name": "stderr",
     "output_type": "stream",
     "text": [
      "cmd78.sc:15: not enough arguments for constructor PRFControl: (ports: Int, addrWidth: Int, bpSoft: Boolean)cmd78Wrapper.this.cmd75.wrapper.PRFControl.\n",
      "Unspecified value parameter bpSoft.\n",
      "        val weightPRFControl = Output(new PRFControl(ports, addrwidth))\n",
      "                                      ^cmd78.sc:16: not enough arguments for constructor PRFControl: (ports: Int, addrWidth: Int, bpSoft: Boolean)cmd78Wrapper.this.cmd75.wrapper.PRFControl.\n",
      "Unspecified value parameter bpSoft.\n",
      "        val actvtnPRFControl = Output(new PRFControl(ports, addrwidth))\n",
      "                                      ^cmd78.sc:21: not enough arguments for constructor PRFControl: (ports: Int, addrWidth: Int, bpSoft: Boolean)cmd78Wrapper.this.cmd75.wrapper.PRFControl.\n",
      "Unspecified value parameter bpSoft.\n",
      "        val intrnlPRFControl = Output(new PRFControl(ports, addrwidth))\n",
      "                                      ^"
     ]
    },
    {
     "ename": "",
     "evalue": "",
     "output_type": "error",
     "traceback": [
      "Compilation Failed"
     ]
    }
   ],
   "source": [
    "class Decoder(\n",
    "    ports: Int,\n",
    "    datawidth: Int,\n",
    "    addrwidth: Int,\n",
    "    statewidth: Int,\n",
    "    aluFuncs: List[String], \n",
    "    nluFuncs: List[String],\n",
    "    decode: (UInt, String) => Data)\n",
    "  extends Module {\n",
    "    \n",
    "    val io = IO(new Bundle {\n",
    "        \n",
    "        val state = Input(UInt(statewidth.W))\n",
    "        \n",
    "        val weightPRFControl = Output(new PRFControl(ports, addrwidth))\n",
    "        val actvtnPRFControl = Output(new PRFControl(ports, addrwidth))\n",
    "        \n",
    "        val ipuSelGet = Output(Vec(ports, Bool()))\n",
    "        val aluFuncSel = Output(Vec(aluFuncs.length, Bool()))\n",
    "        \n",
    "        val intrnlPRFControl = Output(new PRFControl(ports, addrwidth))\n",
    "        val intrnlPRFDataSel = Output(Bool())\n",
    "        \n",
    "        val nluFuncSel = Output(Vec(nluFuncs.length, Bool()))\n",
    "        \n",
    "    })\n",
    "    \n",
    "    // Refactor this to use bulk connections\n",
    "    io.weightPRFControl.wEnable  := decode(io.state, \"weightPRF wEnable\")\n",
    "    io.weightPRFControl.rEnable  := decode(io.state, \"weightPRF rEnable\")\n",
    "    io.weightPRFControl.wAddr    := decode(io.state, \"weightPRF wAddr\")\n",
    "    io.weightPRFControl.rAddrInt := decode(io.state, \"weightPRF rAddrInt\")\n",
    "    io.weightPRFControl.rAddrExt := decode(io.state, \"weightPRF rAddrExt\")\n",
    "    io.weightPRFControl.bpSelGet := decode(io.state, \"weightPRF bpSelGet\")\n",
    "    \n",
    "    io.actvtnPRFControl.wEnable  := decode(io.state, \"actvtnPRF wEnable\")\n",
    "    io.actvtnPRFControl.rEnable  := decode(io.state, \"actvtnPRF rEnable\")\n",
    "    io.actvtnPRFControl.wAddr    := decode(io.state, \"actvtnPRF wAddr\")\n",
    "    io.actvtnPRFControl.rAddrInt := decode(io.state, \"actvtnPRF rAddrInt\")\n",
    "    io.actvtnPRFControl.rAddrExt := decode(io.state, \"actvtnPRF rAddrExt\")\n",
    "    io.actvtnPRFControl.bpSelGet := decode(io.state, \"actvtnPRF bpSelGet\")\n",
    "    \n",
    "    io.ipuSelGet  := decode(io.state, \"ipuSelGet\")\n",
    "    io.aluFuncSel := decode(io.state, \"aluFuncSel\")\n",
    "    \n",
    "    io.intrnlPRFControl.wEnable  := decode(io.state, \"intrnlPRF wEnable\")\n",
    "    io.intrnlPRFControl.rEnable  := decode(io.state, \"intrnlPRF rEnable\")\n",
    "    io.intrnlPRFControl.wAddr    := decode(io.state, \"intrnlPRF wAddr\")\n",
    "    io.intrnlPRFControl.rAddrInt := decode(io.state, \"intrnlPRF rAddrInt\")\n",
    "    io.intrnlPRFControl.rAddrExt := decode(io.state, \"intrnlPRF rAddrExt\")\n",
    "    io.intrnlPRFControl.bpSelGet := decode(io.state, \"intrnlPRF bpSelGet\")\n",
    "    io.intrnlPRFDataSel          := decode(io.state, \"intrnlPRF dataSel\")\n",
    "    \n",
    "    io.nluFuncSel := decode(io.state, \"nluFuncSel\")\n",
    "}"
   ]
  },
  {
   "cell_type": "markdown",
   "metadata": {},
   "source": [
    "#### Example"
   ]
  },
  {
   "cell_type": "code",
   "execution_count": 48,
   "metadata": {},
   "outputs": [
    {
     "data": {
      "text/plain": [
       "defined \u001b[32mfunction\u001b[39m \u001b[36mdecode\u001b[39m"
      ]
     },
     "execution_count": 48,
     "metadata": {},
     "output_type": "execute_result"
    }
   ],
   "source": [
    "def decode(state: UInt, output: String): Data = {\n",
    "    \n",
    "    // Set Types\n",
    "    val data = output match {\n",
    "        case \"weightPRF wEnable\"  => Wire(Vec(2, Bool()))\n",
    "        case \"weightPRF rEnable\"  => Wire(Vec(2, Bool()))\n",
    "        case \"weightPRF wAddr\"    => Wire(Vec(2, UInt(8.W)))\n",
    "        case \"weightPRF rAddrInt\" => Wire(Vec(2, UInt(8.W)))\n",
    "        case \"weightPRF rAddrExt\" => Wire(Vec(2, UInt(8.W)))\n",
    "        case \"weightPRF bpSelGet\" => Wire(Vec(2, Bool()))\n",
    "        \n",
    "        case \"actvtnPRF wEnable\"  => Wire(Vec(2, Bool()))\n",
    "        case \"actvtnPRF rEnable\"  => Wire(Vec(2, Bool()))\n",
    "        case \"actvtnPRF wAddr\"    => Wire(Vec(2, UInt(8.W)))\n",
    "        case \"actvtnPRF rAddrInt\" => Wire(Vec(2, UInt(8.W)))\n",
    "        case \"actvtnPRF rAddrExt\" => Wire(Vec(2, UInt(8.W)))\n",
    "        case \"actvtnPRF bpSelGet\" => Wire(Vec(2, Bool()))\n",
    "        \n",
    "        case \"ipuSelGet\"         => Wire(Vec(2, Bool()))\n",
    "        case \"aluFuncSel\"        => Wire(Vec(4, Bool()))\n",
    "         \n",
    "        case \"intrnlPRF wEnable\"  => Wire(Vec(2, Bool()))\n",
    "        case \"intrnlPRF rEnable\"  => Wire(Vec(2, Bool()))\n",
    "        case \"intrnlPRF wAddr\"    => Wire(Vec(2, UInt(8.W)))\n",
    "        case \"intrnlPRF rAddrInt\" => Wire(Vec(2, UInt(8.W)))\n",
    "        case \"intrnlPRF rAddrExt\" => Wire(Vec(2, UInt(8.W)))\n",
    "        case \"intrnlPRF bpSelGet\" => Wire(Vec(2, Bool()))\n",
    "        case \"intrnlPRF dataSel\"  => Wire(Bool())\n",
    "        \n",
    "        case \"nluFuncSel\"        => Wire(Vec(2, Bool()))\n",
    "                                    \n",
    "    }\n",
    "    \n",
    "    // Set Values\n",
    "    when(state === 0.U) {\n",
    "        data := { output match {\n",
    "            case \"weightPRF wEnable\"  => Vec.fill(2){true.B}\n",
    "            case \"weightPRF rEnable\"  => Vec.fill(2){true.B}\n",
    "            case \"weightPRF wAddr\"    => Vec.fill(2){1.U}\n",
    "            case \"weightPRF rAddrInt\" => Vec.fill(2){2.U}\n",
    "            case \"weightPRF rAddrExt\" => Vec.fill(2){3.U}\n",
    "            case \"weightPRF bpSelGet\" => Vec.fill(2){true.B}\n",
    "            \n",
    "            case \"actvtnPRF wEnable\"  => Vec.fill(2){true.B}\n",
    "            case \"actvtnPRF rEnable\"  => Vec.fill(2){true.B}\n",
    "            case \"actvtnPRF wAddr\"    => Vec.fill(2){1.U}\n",
    "            case \"actvtnPRF rAddrInt\" => Vec.fill(2){2.U}\n",
    "            case \"actvtnPRF rAddrExt\" => Vec.fill(2){3.U}\n",
    "            case \"actvtnPRF bpSelGet\" => Vec.fill(2){true.B}\n",
    "            \n",
    "            case \"ipuSelGet\"         => Vec(1.U :: 0.U :: Nil)\n",
    "            case \"aluFuncSel\"        => Vec(1.U :: 0.U :: 0.U :: 0.U :: Nil)\n",
    "            \n",
    "            case \"intrnlPRF wEnable\"  => Vec.fill(2){true.B}\n",
    "            case \"intrnlPRF rEnable\"  => Vec.fill(2){true.B}\n",
    "            case \"intrnlPRF wAddr\"    => Vec.fill(2){1.U}\n",
    "            case \"intrnlPRF rAddrInt\" => Vec.fill(2){2.U}\n",
    "            case \"intrnlPRF rAddrExt\" => Vec.fill(2){3.U}\n",
    "            case \"intrnlPRF bpSelGet\" => Vec.fill(2){true.B}\n",
    "            case \"intrnlPRF dataSel\"  => true.B\n",
    "            \n",
    "            case \"nluFuncSel\"        => Vec(1.U :: 0.U :: Nil)\n",
    "        }}\n",
    "    } \n",
    "\n",
    "    .otherwise {\n",
    "        data := { output match {\n",
    "            case \"weightPRF wEnable\"  => Vec.fill(2){false.B}\n",
    "            case \"weightPRF rEnable\"  => Vec.fill(2){false.B}\n",
    "            case \"weightPRF wAddr\"    => Vec.fill(2){4.U}\n",
    "            case \"weightPRF rAddrInt\" => Vec.fill(2){5.U}\n",
    "            case \"weightPRF rAddrExt\" => Vec.fill(2){6.U}\n",
    "            case \"weightPRF bpSelGet\" => Vec.fill(2){false.B}\n",
    "            \n",
    "            case \"actvtnPRF wEnable\"  => Vec.fill(2){false.B}\n",
    "            case \"actvtnPRF rEnable\"  => Vec.fill(2){false.B}\n",
    "            case \"actvtnPRF wAddr\"    => Vec.fill(2){4.U}\n",
    "            case \"actvtnPRF rAddrInt\" => Vec.fill(2){5.U}\n",
    "            case \"actvtnPRF rAddrExt\" => Vec.fill(2){6.U}\n",
    "            case \"actvtnPRF bpSelGet\" => Vec.fill(2){false.B}\n",
    "            \n",
    "            case \"ipuSelGet\"         => Vec(0.U :: 1.U :: Nil)\n",
    "            case \"aluFuncSel\"        => Vec(0.U :: 1.U :: 0.U :: 0.U :: Nil)\n",
    "            \n",
    "            case \"intrnlPRF wEnable\"  => Vec.fill(2){false.B}\n",
    "            case \"intrnlPRF rEnable\"  => Vec.fill(2){false.B}\n",
    "            case \"intrnlPRF wAddr\"    => Vec.fill(2){4.U}\n",
    "            case \"intrnlPRF rAddrInt\" => Vec.fill(2){5.U}\n",
    "            case \"intrnlPRF rAddrExt\" => Vec.fill(2){6.U}\n",
    "            case \"intrnlPRF bpSelGet\" => Vec.fill(2){false.B}\n",
    "            case \"intrnlPRF dataSel\"  => false.B\n",
    "            \n",
    "            case \"nluFuncSel\"        => Vec(0.U :: 1.U :: Nil)\n",
    "        }}\n",
    "    }\n",
    "    \n",
    "    data\n",
    "}"
   ]
  },
  {
   "cell_type": "markdown",
   "metadata": {},
   "source": [
    "#### Verification"
   ]
  },
  {
   "cell_type": "code",
   "execution_count": 49,
   "metadata": {},
   "outputs": [
    {
     "name": "stdout",
     "output_type": "stream",
     "text": [
      "[\u001b[35minfo\u001b[0m] [0.000] Elaborating design...\n",
      "[\u001b[35minfo\u001b[0m] [0.044] Done elaborating.\n",
      "Total FIRRTL Compile Time: 76.8 ms\n",
      "Total FIRRTL Compile Time: 62.9 ms\n",
      "End of dependency graph\n",
      "Circuit state created\n",
      "[\u001b[35minfo\u001b[0m] [0.000] SEED 1532634311657\n",
      "test cmd45WrapperHelperDecoder Success: 52 tests passed in 7 cycles taking 0.033776 seconds\n",
      "[\u001b[35minfo\u001b[0m] [0.025] RAN 2 CYCLES PASSED\n"
     ]
    },
    {
     "data": {
      "text/plain": [
       "\u001b[36mres48\u001b[39m: \u001b[32mBoolean\u001b[39m = \u001b[32mtrue\u001b[39m"
      ]
     },
     "execution_count": 49,
     "metadata": {},
     "output_type": "execute_result"
    }
   ],
   "source": [
    "Driver(() => new Decoder(decode, statewidth=4, ports=2,\n",
    "                        datawidth=4, addrwidth=4,\n",
    "                        aluFuncs=List(\"Identity\", \"Add\", \"Max\", \"Accumulate\"),\n",
    "                        nluFuncs=List(\"Identity\", \"ReLu\"))) {\n",
    "    \n",
    "    uut => new PeekPokeTester(uut) {\n",
    "        \n",
    "        \n",
    "        poke(uut.io.state, 0.U)\n",
    "        step(1)\n",
    "        \n",
    "        expect(uut.io.weightPRFControl.wEnable(0), true.B)\n",
    "        expect(uut.io.weightPRFControl.rEnable(0), true.B)\n",
    "        expect(uut.io.weightPRFControl.wAddr(0), 1.U)\n",
    "        expect(uut.io.weightPRFControl.rAddrInt(0), 2.U)\n",
    "        expect(uut.io.weightPRFControl.rAddrExt(0), 3.U)\n",
    "        expect(uut.io.weightPRFControl.bpSelGet(0), true.B)\n",
    "        \n",
    "        expect(uut.io.actvtnPRFControl.wEnable(0), true.B)\n",
    "        expect(uut.io.actvtnPRFControl.rEnable(0), true.B)\n",
    "        expect(uut.io.actvtnPRFControl.wAddr(0), 1.U)\n",
    "        expect(uut.io.actvtnPRFControl.rAddrInt(0), 2.U)\n",
    "        expect(uut.io.actvtnPRFControl.rAddrExt(0), 3.U)\n",
    "        expect(uut.io.actvtnPRFControl.bpSelGet(0), true.B)\n",
    "        \n",
    "        expect(uut.io.ipuSelGet(0), 1)\n",
    "        expect(uut.io.ipuSelGet(1), 0)\n",
    "        \n",
    "        expect(uut.io.aluFuncSel(0), 1)\n",
    "        expect(uut.io.aluFuncSel(1), 0)\n",
    "        expect(uut.io.aluFuncSel(2), 0)\n",
    "        expect(uut.io.aluFuncSel(3), 0)\n",
    "        \n",
    "        expect(uut.io.intrnlPRFControl.wEnable(0), true.B)\n",
    "        expect(uut.io.intrnlPRFControl.rEnable(0), true.B)\n",
    "        expect(uut.io.intrnlPRFControl.wAddr(0), 1.U)\n",
    "        expect(uut.io.intrnlPRFControl.rAddrInt(0), 2.U)\n",
    "        expect(uut.io.intrnlPRFControl.rAddrExt(0), 3.U)\n",
    "        expect(uut.io.intrnlPRFControl.bpSelGet(0), true.B)\n",
    "        \n",
    "        expect(uut.io.nluFuncSel(0), 1)\n",
    "        expect(uut.io.nluFuncSel(1), 0)\n",
    "        \n",
    "        poke(uut.io.state, 1.U) \n",
    "        step(1)\n",
    "        \n",
    "        expect(uut.io.weightPRFControl.wEnable(0), false.B)\n",
    "        expect(uut.io.weightPRFControl.rEnable(0), false.B)\n",
    "        expect(uut.io.weightPRFControl.wAddr(0), 4.U)\n",
    "        expect(uut.io.weightPRFControl.rAddrInt(0), 5.U)\n",
    "        expect(uut.io.weightPRFControl.rAddrExt(0), 6.U)\n",
    "        expect(uut.io.weightPRFControl.bpSelGet(0), false.B)\n",
    "        \n",
    "        expect(uut.io.actvtnPRFControl.wEnable(0), false.B)\n",
    "        expect(uut.io.actvtnPRFControl.rEnable(0), false.B)\n",
    "        expect(uut.io.actvtnPRFControl.wAddr(0), 4.U)\n",
    "        expect(uut.io.actvtnPRFControl.rAddrInt(0), 5.U)\n",
    "        expect(uut.io.actvtnPRFControl.rAddrExt(0), 6.U)\n",
    "        expect(uut.io.actvtnPRFControl.bpSelGet(0), false.B)\n",
    "        \n",
    "        expect(uut.io.ipuSelGet(0), 0)\n",
    "        expect(uut.io.ipuSelGet(1), 1)\n",
    "        \n",
    "        expect(uut.io.aluFuncSel(0), 0)\n",
    "        expect(uut.io.aluFuncSel(1), 1)\n",
    "        expect(uut.io.aluFuncSel(2), 0)\n",
    "        expect(uut.io.aluFuncSel(3), 0)\n",
    "        \n",
    "        expect(uut.io.intrnlPRFControl.wEnable(0), false.B)\n",
    "        expect(uut.io.intrnlPRFControl.rEnable(0), false.B)\n",
    "        expect(uut.io.intrnlPRFControl.wAddr(0), 4.U)\n",
    "        expect(uut.io.intrnlPRFControl.rAddrInt(0), 5.U)\n",
    "        expect(uut.io.intrnlPRFControl.rAddrExt(0), 6.U)\n",
    "        expect(uut.io.intrnlPRFControl.bpSelGet(0), false.B)\n",
    "        \n",
    "        expect(uut.io.nluFuncSel(0), 0)\n",
    "        expect(uut.io.nluFuncSel(1), 1)\n",
    "        \n",
    "    }\n",
    "}\n"
   ]
  },
  {
   "cell_type": "markdown",
   "metadata": {},
   "source": [
    "## PE"
   ]
  },
  {
   "cell_type": "markdown",
   "metadata": {},
   "source": [
    "#### Definition"
   ]
  },
  {
   "cell_type": "code",
   "execution_count": null,
   "metadata": {},
   "outputs": [],
   "source": [
    "class nPE(stateMap: Map[(UInt, UInt), UInt], extrnl_ctrl_width: Int, // State Machine\n",
    "          decode: (UInt, String) => Data, RFports: Int, weightRFBP: String, actvtnRFBP: String, datawidth: Int, addrwidth: Int,\n",
    "          aluFuncs: List[String], nluFuncs: List[String], intrnlRFBP: String\n",
    "         ) extends Module {\n",
    "    \n",
    "    val io = IO(new Bundle {\n",
    "        val extrnl_ctrl   = Input (SInt(extrnl_ctrl_width.W))\n",
    "        val weightRF_in   = Input (Vec(RFports, SInt(datawidth.W)))\n",
    "        val actvtnRF_in   = Input (Vec(RFports, SInt(datawidth.W)))\n",
    "        val intrnlRF_in   = Input (SInt(datawidth.W))\n",
    "        val weightRF_2NoC = Output(Vec(RFports, SInt(datawidth.W)))\n",
    "        val actvtnRF_2NoC = Output(Vec(RFports, SInt(datawidth.W)))\n",
    "        val intrnlRF_2NoC = Output(SInt(datawidth.W))\n",
    "        val output        = Output(SInt(datawidth.W))\n",
    "    })\n",
    "    \n",
    "    val stateMachine = new StateMachine(stateMap, extrnl_ctrl_width)\n",
    "    stateMachine.io.control := io.extrnl_ctrl\n",
    "    \n",
    "    val decoder = new Decoder(decode, log2Up(stateMap.size), \n",
    "                              RFports, datawidth, addrwidth, aluFuncs, nluFuncs)\n",
    "    decoder.io.state := stateMachine.io.state\n",
    "    \n",
    "    \n",
    "    // Weight RF\n",
    "    val weightRF = new pRF(RFports, weightRFBP, datawidth, addrwidth)\n",
    "    \n",
    "    // Mandatory Control\n",
    "    weightRF.io.in.wEnable\n",
    "    weightRF.io.in.rEnable\n",
    "    weightRF.io.in.wAddr\n",
    "    weightRF.io.in.rAddrInt\n",
    "    weightRF.io.in.rAddrExt\n",
    "    \n",
    "    \n",
    "    weightRF.io.write_en    := decoder.io.weightRF_wen\n",
    "    weightRF.io.read_en     := decoder.io.weightRF_ren\n",
    "    weightRF.io.waddr       := decoder.io.weightRF_waddr\n",
    "    weightRF.io.raddr_int   := decoder.io.weightRF_raddr_int\n",
    "    weightRF.io.raddr_ext   := decoder.io.weightRF_raddr_ext\n",
    "    \n",
    "    // Optional Control\n",
    "    if ( weightRF.io.bp_slct.isDefined ) { weightRF.io.bp_slct.get := decoder.io.weightRF_bp_slct_get }\n",
    "    \n",
    "    // Mandatory Outputs\n",
    "    weightRF.io.wdata := io.weightRF_in\n",
    "    \n",
    "    // Optional Outputs\n",
    "    io.weightRF_2NoC  := weightRF.io.rdata_ext\n",
    "    \n",
    "    // Activation RF\n",
    "    val actvtnRF = new pRF(RFports, actvtnRFBP, datawidth, addrwidth)\n",
    "    \n",
    "    // Mandatory Control\n",
    "    actvtnRF.io.write_en    := decoder.io.actvtnRF_wen\n",
    "    actvtnRF.io.read_en     := decoder.io.actvtnRF_ren\n",
    "    actvtnRF.io.waddr       := decoder.io.actvtnRF_waddr\n",
    "    actvtnRF.io.raddr_int   := decoder.io.actvtnRF_raddr_int\n",
    "    actvtnRF.io.raddr_ext   := decoder.io.actvtnRF_raddr_ext\n",
    "    \n",
    "    // Optional Control\n",
    "    if ( actvtnRF.io.bp_slct.isDefined ) { actvtnRF.io.bp_slct.get := decoder.io.actvtnRF_bp_slct_get }\n",
    "    \n",
    "    // Mandatory Outputs\n",
    "    actvtnRF.io.wdata := io.weightRF_in\n",
    "    \n",
    "    // Optional Outputs\n",
    "    io.actvtnRF_2NoC     := actvtnRF.io.rdata_ext\n",
    "       \n",
    "    val ipuBP = if(aluFuncs.contains(\"Add\") || aluFuncs.contains(\"Max\")) \"Firm\" else \"None\" \n",
    "    val ipu   = new IPU(RFports, ipuBP, datawidth)\n",
    "    if (ipu.io.sel.isDefined) { ipu.io.sel.get := decoder.io.ipu_sel_get }\n",
    "    ipu.io.in1 := weightRF.io.rdata_int\n",
    "    ipu.io.in2 := actvtnRF.io.rdata_int\n",
    "    \n",
    "    val alu = new ALU(aluFuncs, datawidth)\n",
    "    alu.io.func_slct := decoder.io.alu_func_slct\n",
    "    alu.io.innr_prod := ipu.io.out\n",
    "    if(alu.io.weight_bp.isDefined) alu.io.weight_bp.get := ipu.io.bp1.get\n",
    "    if(alu.io.actvtn_bp.isDefined) alu.io.actvtn_bp.get := ipu.io.bp2.get\n",
    "    \n",
    "    val intrnlRF = new pRF(1, intrnlRFBP, datawidth, addrwidth)\n",
    "    intrnlRF.io.write_en  := decoder.io.intrnlRF_write_en\n",
    "    intrnlRF.io.read_en   := decoder.io.intrnlRF_read_en\n",
    "    intrnlRF.io.waddr     := decoder.io.intrnlRF_waddr\n",
    "    intrnlRF.io.raddr_int := decoder.io.intrnlRF_raddr_int\n",
    "    intrnlRF.io.raddr_ext := decoder.io.intrnlRF_raddr_ext\n",
    "    if (intrnlRF.io.bp_slct.isDefined) { intrnlRF.io.bp_slct.get := decoder.io.intrnlRF_bp_slct_get }\n",
    "    intrnlRF.io.wdata := Mux(decoder.io.intrnlRF_wdata_slct, alu.io.output, io.intrnlRF_in)\n",
    "    io.intrnlRF_2NoC := intrnlRF.io.rdata_ext\n",
    "    if(alu.io.rf_feedbk.isDefined) alu.io.rf_feedbk.get := intrnlRF.io.rdata_int\n",
    "    \n",
    "    val nlu = new NonlinearUnit(nluFuncs, datawidth)\n",
    "    nlu.io.fslct := decoder.io.nlu_func_slct\n",
    "    nlu.io.input     := intrnlRF.io.rdata_int\n",
    "    io.output        := nlu.io.outpt\n",
    "    \n",
    "    // Woot woot\n",
    "}"
   ]
  },
  {
   "cell_type": "markdown",
   "metadata": {},
   "source": [
    "#### Verification"
   ]
  },
  {
   "cell_type": "code",
   "execution_count": null,
   "metadata": {},
   "outputs": [],
   "source": []
  },
  {
   "cell_type": "markdown",
   "metadata": {},
   "source": [
    "## Future Plans\n",
    "* Verify everything using Golden Models"
   ]
  }
 ],
 "metadata": {
  "kernelspec": {
   "display_name": "Scala",
   "language": "scala",
   "name": "scala"
  },
  "language_info": {
   "codemirror_mode": "text/x-scala",
   "file_extension": ".scala",
   "mimetype": "text/x-scala",
   "name": "scala211",
   "nbconvert_exporter": "script",
   "pygments_lexer": "scala",
   "version": "2.11.11"
  }
 },
 "nbformat": 4,
 "nbformat_minor": 2
}
