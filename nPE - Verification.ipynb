{
 "cells": [
  {
   "cell_type": "markdown",
   "metadata": {},
   "source": [
    "# nPE: A Configurable Processing Engine\n",
    "#### Verification | Version 0.4.1 | Updated 2018.7.25\n",
    "___"
   ]
  },
  {
   "cell_type": "markdown",
   "metadata": {},
   "source": [
    "## Setup"
   ]
  },
  {
   "cell_type": "code",
   "execution_count": 1,
   "metadata": {},
   "outputs": [
    {
     "data": {
      "text/plain": [
       "\u001b[36mpath\u001b[39m: \u001b[32mString\u001b[39m = \u001b[32m\"\"\"\n",
       "C:\\Users\\RyanL\\OneDrive\\Research\\SEAL\\processing-engine/source/load-ivy.sc\n",
       "\"\"\"\u001b[39m"
      ]
     },
     "execution_count": 1,
     "metadata": {},
     "output_type": "execute_result"
    }
   ],
   "source": [
    "val path = System.getProperty(\"user.dir\") + \"/source/load-ivy.sc\"\n",
    "interp.load.module(ammonite.ops.Path(java.nio.file.FileSystems.getDefault().getPath(path)))"
   ]
  },
  {
   "cell_type": "code",
   "execution_count": 2,
   "metadata": {},
   "outputs": [
    {
     "data": {
      "text/plain": [
       "\u001b[32mimport \u001b[39m\u001b[36mchisel3._\r\n",
       "\u001b[39m\r\n",
       "\u001b[32mimport \u001b[39m\u001b[36mchisel3.util._\r\n",
       "\u001b[39m\r\n",
       "\u001b[32mimport \u001b[39m\u001b[36mchisel3.iotesters.{ChiselFlatSpec, Driver, PeekPokeTester}\r\n",
       "\r\n",
       "\u001b[39m\r\n",
       "\u001b[32mimport \u001b[39m\u001b[36mscala.math.pow\u001b[39m"
      ]
     },
     "execution_count": 2,
     "metadata": {},
     "output_type": "execute_result"
    }
   ],
   "source": [
    "import chisel3._\n",
    "import chisel3.util._\n",
    "import chisel3.iotesters.{ChiselFlatSpec, Driver, PeekPokeTester}\n",
    "\n",
    "import scala.math.pow"
   ]
  },
  {
   "cell_type": "markdown",
   "metadata": {},
   "source": [
    "## Parallel Register File"
   ]
  },
  {
   "cell_type": "markdown",
   "metadata": {},
   "source": [
    "### Single Register File"
   ]
  },
  {
   "cell_type": "markdown",
   "metadata": {},
   "source": [
    "#### Definition"
   ]
  },
  {
   "cell_type": "code",
   "execution_count": 192,
   "metadata": {},
   "outputs": [
    {
     "data": {
      "text/plain": [
       "defined \u001b[32mclass\u001b[39m \u001b[36mRFInputs\u001b[39m\r\n",
       "defined \u001b[32mclass\u001b[39m \u001b[36mRFOutputs\u001b[39m\r\n",
       "defined \u001b[32mclass\u001b[39m \u001b[36mRF\u001b[39m"
      ]
     },
     "execution_count": 192,
     "metadata": {},
     "output_type": "execute_result"
    }
   ],
   "source": [
    "class RFInputs(dataWidth: Int, addrWidth: Int) extends Bundle {\n",
    "    \n",
    "    override def cloneType = (new RFInputs(dataWidth, addrWidth)).asInstanceOf[this.type]\n",
    "    \n",
    "    val wEnable  = Input(Bool())\n",
    "    val rEnable  = Input(Bool())\n",
    "    val wAddr    = Input(UInt(addrWidth.W))\n",
    "    val wData    = Input(SInt(dataWidth.W))\n",
    "    val rAddrInt = Input(UInt(addrWidth.W))\n",
    "    val rAddrExt = Input(UInt(addrWidth.W))\n",
    "}\n",
    "\n",
    "class RFOutputs(dataWidth: Int) extends Bundle {\n",
    "    \n",
    "    override def cloneType = (new RFOutputs(dataWidth)).asInstanceOf[this.type]\n",
    "    \n",
    "    val rDataInt = Output(SInt(dataWidth.W))\n",
    "    val rDataExt = Output(SInt(dataWidth.W))\n",
    "}\n",
    "\n",
    "class RF (dataWidth: Int, addrWidth: Int) extends Module {\n",
    "  \n",
    "    val io = IO(new Bundle {\n",
    "        val in  = new RFInputs(dataWidth, addrWidth)\n",
    "        val out = new RFOutputs(dataWidth)\n",
    "    })\n",
    "    \n",
    "    val registers  = RegInit(Vec(Seq.fill(pow(2, addrWidth).toInt) { 0.S(addrWidth.W) }))\n",
    "    \n",
    "    when(io.in.wEnable) {\n",
    "        registers(io.in.wAddr) := io.in.wData\n",
    "    }\n",
    "    \n",
    "    when(io.in.rEnable) {\n",
    "        io.out.rDataInt := registers(io.in.rAddrInt)\n",
    "        io.out.rDataExt := registers(io.in.rAddrExt)\n",
    "    } .otherwise {\n",
    "        io.out.rDataInt := 0.S\n",
    "        io.out.rDataExt := 0.S\n",
    "    }\n",
    "}"
   ]
  },
  {
   "cell_type": "markdown",
   "metadata": {},
   "source": [
    "#### Verification"
   ]
  },
  {
   "cell_type": "code",
   "execution_count": 198,
   "metadata": {},
   "outputs": [
    {
     "name": "stdout",
     "output_type": "stream",
     "text": [
      "[\u001b[35minfo\u001b[0m] [0.000] Elaborating design...\n",
      "[\u001b[35minfo\u001b[0m] [0.001] Done elaborating.\n",
      "Total FIRRTL Compile Time: 16.0 ms\n",
      "Total FIRRTL Compile Time: 39.9 ms\n",
      "End of dependency graph\n",
      "Circuit state created\n",
      "[\u001b[35minfo\u001b[0m] [0.000] SEED 1532543988458\n",
      "test cmd191WrapperHelperRF Success: 7 tests passed in 8 cycles taking 0.006531 seconds\n",
      "[\u001b[35minfo\u001b[0m] [0.005] RAN 3 CYCLES PASSED\n"
     ]
    },
    {
     "data": {
      "text/plain": [
       "\u001b[36mres197\u001b[39m: \u001b[32mBoolean\u001b[39m = \u001b[32mtrue\u001b[39m"
      ]
     },
     "execution_count": 198,
     "metadata": {},
     "output_type": "execute_result"
    }
   ],
   "source": [
    "Driver(() => new RF(8, 4)) {\n",
    "    uut => new PeekPokeTester(uut) {\n",
    "         \n",
    "        poke(uut.io.in.wEnable, true)   \n",
    "        poke(uut.io.in.rEnable, true)\n",
    "\n",
    "        poke(uut.io.in.wAddr, 1)\n",
    "        poke(uut.io.in.wData, 1)\n",
    "        \n",
    "        step(1)\n",
    "        \n",
    "        // Read\n",
    "        poke(uut.io.in.rAddrInt, 1)\n",
    "        expect(uut.io.out.rDataInt, 1)\n",
    "        \n",
    "        poke(uut.io.in.rAddrExt, 1)\n",
    "        expect(uut.io.out.rDataExt, 1)\n",
    "        \n",
    "        // Write\n",
    "        poke(uut.io.in.wAddr, 2)\n",
    "        poke(uut.io.in.wData, 2)\n",
    "        \n",
    "        step(1)\n",
    "        \n",
    "        // Read\n",
    "        poke(uut.io.in.rAddrInt, 1)\n",
    "        expect(uut.io.out.rDataInt, 1)\n",
    "        \n",
    "        poke(uut.io.in.rAddrExt, 2)\n",
    "        expect(uut.io.out.rDataExt, 2)\n",
    "        \n",
    "        // Write\n",
    "        poke(uut.io.in.wAddr, 3)\n",
    "        poke(uut.io.in.wData, 3)\n",
    "        \n",
    "        step(1)\n",
    "        \n",
    "        // Read\n",
    "        poke(uut.io.in.rAddrInt, 1)\n",
    "        expect(uut.io.out.rDataInt, 1)\n",
    "        \n",
    "        poke(uut.io.in.rAddrExt, 2)\n",
    "        expect(uut.io.out.rDataExt, 2)\n",
    "        \n",
    "        poke(uut.io.in.rAddrInt, 3)\n",
    "        expect(uut.io.out.rDataInt, 3)\n",
    "    }\n",
    "}"
   ]
  },
  {
   "cell_type": "markdown",
   "metadata": {},
   "source": [
    "### Putting them Together"
   ]
  },
  {
   "cell_type": "markdown",
   "metadata": {},
   "source": [
    "#### Definition"
   ]
  },
  {
   "cell_type": "code",
   "execution_count": 199,
   "metadata": {},
   "outputs": [
    {
     "data": {
      "text/plain": [
       "defined \u001b[32mclass\u001b[39m \u001b[36mPRF\u001b[39m"
      ]
     },
     "execution_count": 199,
     "metadata": {},
     "output_type": "execute_result"
    }
   ],
   "source": [
    "class PRF(ports: Int, bypass: String, dataWidth: Int, addrWidth: Int) extends Module {\n",
    "    \n",
    "    require(List(\"None\", \"Soft\", \"Hard\").contains(bypass))\n",
    "    \n",
    "    val io = IO(new Bundle {\n",
    "        val in    = Vec(ports, new RFInputs(dataWidth, addrWidth))\n",
    "        val out   = Vec(ports, new RFOutputs(dataWidth))\n",
    "        val bpSel = if (bypass == \"Soft\") Some(Input(Vec(ports, Bool()))) else None\n",
    "    })\n",
    "    \n",
    "    if (bypass == \"None\" || bypass == \"Soft\") {\n",
    "        \n",
    "        val rf = Seq.fill(ports){ Module(new RF(dataWidth, addrWidth)) }\n",
    "        \n",
    "        rf.zipWithIndex.map{ case (x: RF, i: Int) => {\n",
    "            \n",
    "            x.io.in.wEnable  := io.in(i).wEnable\n",
    "            x.io.in.rEnable  := io.in(i).rEnable\n",
    "            x.io.in.wAddr    := io.in(i).wAddr\n",
    "            x.io.in.wData    := io.in(i).wData\n",
    "            x.io.in.rAddrInt := io.in(i).rAddrInt\n",
    "            x.io.in.rAddrExt := io.in(i).rAddrExt\n",
    "            \n",
    "            when (io.bpSel.getOrElse(Seq.fill(ports){ false.B })(i)) {\n",
    "                io.out(i).rDataInt := x.io.in.wData\n",
    "                io.out(i).rDataExt := x.io.in.wData\n",
    "            } .otherwise {\n",
    "                io.out(i).rDataInt := x.io.out.rDataInt\n",
    "                io.out(i).rDataExt := x.io.out.rDataExt\n",
    "            }\n",
    "        }}\n",
    "        \n",
    "    } else if (bypass == \"Hard\") {\n",
    "        for(i <- 0 until ports) {\n",
    "            io.out(i).rDataInt := io.in(i).wData\n",
    "            io.out(i).rDataExt := io.in(i).wData\n",
    "        }\n",
    "    }\n",
    "}"
   ]
  },
  {
   "cell_type": "markdown",
   "metadata": {},
   "source": [
    "#### Verification"
   ]
  },
  {
   "cell_type": "code",
   "execution_count": 221,
   "metadata": {},
   "outputs": [
    {
     "name": "stdout",
     "output_type": "stream",
     "text": [
      "[\u001b[35minfo\u001b[0m] [0.000] Elaborating design...\n",
      "[\u001b[35minfo\u001b[0m] [0.003] Done elaborating.\n",
      "Total FIRRTL Compile Time: 17.5 ms\n",
      "Total FIRRTL Compile Time: 15.0 ms\n",
      "End of dependency graph\n",
      "Circuit state created\n",
      "[\u001b[35minfo\u001b[0m] [0.000] SEED 1532544633432\n",
      "test cmd198WrapperHelperPRF Success: 18 tests passed in 8 cycles taking 0.014417 seconds\n",
      "[\u001b[35minfo\u001b[0m] [0.012] RAN 3 CYCLES PASSED\n"
     ]
    },
    {
     "data": {
      "text/plain": [
       "\u001b[36mres220\u001b[39m: \u001b[32mBoolean\u001b[39m = \u001b[32mtrue\u001b[39m"
      ]
     },
     "execution_count": 221,
     "metadata": {},
     "output_type": "execute_result"
    }
   ],
   "source": [
    "Driver(() => new PRF(2, \"Soft\", 8, 4)) {\n",
    "    uut => new PeekPokeTester(uut) {\n",
    "         \n",
    "        poke(uut.io.in(0).wEnable, true)  \n",
    "        poke(uut.io.in(1).wEnable, true) \n",
    "        poke(uut.io.in(0).rEnable, true)\n",
    "        poke(uut.io.in(1).rEnable, true)\n",
    "        poke(uut.io.bpSel.get(0), false)\n",
    "        poke(uut.io.bpSel.get(1), false)\n",
    "\n",
    "        poke(uut.io.in(0).wAddr, 1)\n",
    "        poke(uut.io.in(1).wAddr, 1)\n",
    "        poke(uut.io.in(0).wData, 1)\n",
    "        poke(uut.io.in(1).wData, 1)\n",
    "        \n",
    "        step(1)\n",
    "        \n",
    "        // Read\n",
    "        poke(uut.io.in(0).rAddrInt, 1)\n",
    "        poke(uut.io.in(1).rAddrInt, 1)\n",
    "        expect(uut.io.out(0).rDataInt, 1)\n",
    "        expect(uut.io.out(1).rDataInt, 1)\n",
    "        \n",
    "        poke(uut.io.in(0).rAddrExt, 1)\n",
    "        poke(uut.io.in(1).rAddrExt, 1)\n",
    "        expect(uut.io.out(0).rDataExt, 1)\n",
    "        expect(uut.io.out(1).rDataExt, 1)\n",
    "        \n",
    "        // Write\n",
    "        poke(uut.io.in(0).wAddr, 2)\n",
    "        poke(uut.io.in(1).wAddr, 2)\n",
    "        poke(uut.io.in(0).wData, 2)\n",
    "        poke(uut.io.in(1).wData, 2)\n",
    "        \n",
    "        step(1)\n",
    "        \n",
    "        // Read\n",
    "        poke(uut.io.in(0)rAddrInt, 1)\n",
    "        poke(uut.io.in(1).rAddrInt, 1)\n",
    "        expect(uut.io.out(0).rDataInt, 1)\n",
    "        expect(uut.io.out(1).rDataInt, 1)\n",
    "        \n",
    "        poke(uut.io.in(0).rAddrExt, 2)\n",
    "        poke(uut.io.in(1).rAddrExt, 2)\n",
    "        expect(uut.io.out(0).rDataExt, 2)\n",
    "        expect(uut.io.out(1).rDataExt, 2)\n",
    "        \n",
    "        // Write\n",
    "        poke(uut.io.in(0).wAddr, 3)\n",
    "        poke(uut.io.in(1).wAddr, 3)\n",
    "        poke(uut.io.in(0).wData, 3)\n",
    "        poke(uut.io.in(1).wData, 3)\n",
    "        \n",
    "        step(1)\n",
    "        \n",
    "        // Read\n",
    "        poke(uut.io.in(0).rAddrInt, 1)\n",
    "        poke(uut.io.in(1).rAddrInt, 1)\n",
    "        expect(uut.io.out(0).rDataInt, 1)\n",
    "        expect(uut.io.out(1).rDataInt, 1)\n",
    "        \n",
    "        poke(uut.io.in(0).rAddrExt, 2)\n",
    "        poke(uut.io.in(1).rAddrExt, 2)\n",
    "        expect(uut.io.out(0).rDataExt, 2)\n",
    "        expect(uut.io.out(1).rDataExt, 2)\n",
    "        \n",
    "        poke(uut.io.in(0).rAddrInt, 3)\n",
    "        poke(uut.io.in(1).rAddrInt, 3)\n",
    "        expect(uut.io.out(0).rDataInt, 3)\n",
    "        expect(uut.io.out(1).rDataInt, 3)\n",
    "        \n",
    "        // Bypass\n",
    "        poke(uut.io.bpSel.get(0), true)\n",
    "        poke(uut.io.bpSel.get(1), false)\n",
    "        poke(uut.io.in(0).wData, 10)\n",
    "        poke(uut.io.in(1).wData, 10)\n",
    "        expect(uut.io.out(0).rDataInt, 10)\n",
    "        expect(uut.io.out(1).rDataInt, 3)\n",
    "        expect(uut.io.out(0).rDataExt, 10)\n",
    "        expect(uut.io.out(1).rDataExt, 2)\n",
    "    }\n",
    "}"
   ]
  },
  {
   "cell_type": "markdown",
   "metadata": {},
   "source": [
    "## Inner Product Unit"
   ]
  },
  {
   "cell_type": "markdown",
   "metadata": {},
   "source": [
    "### Parallel Multiplier"
   ]
  },
  {
   "cell_type": "markdown",
   "metadata": {},
   "source": [
    "#### Definition"
   ]
  },
  {
   "cell_type": "code",
   "execution_count": 233,
   "metadata": {},
   "outputs": [
    {
     "data": {
      "text/plain": [
       "defined \u001b[32mclass\u001b[39m \u001b[36mPMultiplier\u001b[39m"
      ]
     },
     "execution_count": 233,
     "metadata": {},
     "output_type": "execute_result"
    }
   ],
   "source": [
    "class PMultiplier(numPairs: Int, bitWidth: Int) extends Module {\n",
    "    \n",
    "    require(numPairs >= 1, \"Must have at least one pair of multiplicands.\")\n",
    "    require(bitWidth >= 1, \"Bitwidth must be at least one.\")\n",
    "    \n",
    "    val io = IO(new Bundle {\n",
    "        val in1 = Input (Vec(numPairs, SInt(bitWidth.W)))\n",
    "        val in2 = Input (Vec(numPairs, SInt(bitWidth.W)))\n",
    "        val out = Output(Vec(numPairs, SInt(bitWidth.W)))\n",
    "    })\n",
    "    \n",
    "    io.out := (io.in1 zip io.in2).map { case(a, b) => a * b }\n",
    "}"
   ]
  },
  {
   "cell_type": "markdown",
   "metadata": {},
   "source": [
    "#### Verification"
   ]
  },
  {
   "cell_type": "code",
   "execution_count": 234,
   "metadata": {},
   "outputs": [
    {
     "name": "stdout",
     "output_type": "stream",
     "text": [
      "[\u001b[35minfo\u001b[0m] [0.000] Elaborating design...\n",
      "[\u001b[35minfo\u001b[0m] [0.002] Done elaborating.\n",
      "Total FIRRTL Compile Time: 2.9 ms\n",
      "Total FIRRTL Compile Time: 2.5 ms\n",
      "End of dependency graph\n",
      "Circuit state created\n",
      "[\u001b[35minfo\u001b[0m] [0.000] SEED 1532545425580\n",
      "test cmd232WrapperHelperPMultiplier Success: 4 tests passed in 5 cycles taking 0.002662 seconds\n",
      "[\u001b[35minfo\u001b[0m] [0.002] RAN 0 CYCLES PASSED\n"
     ]
    },
    {
     "data": {
      "text/plain": [
       "\u001b[36mres233\u001b[39m: \u001b[32mBoolean\u001b[39m = \u001b[32mtrue\u001b[39m"
      ]
     },
     "execution_count": 234,
     "metadata": {},
     "output_type": "execute_result"
    }
   ],
   "source": [
    "Driver(() => new PMultiplier(4, 8)) {\n",
    "    uut => new PeekPokeTester(uut) {\n",
    "        poke(uut.io.in1(0), 1) \n",
    "        poke(uut.io.in2(0), 2)\n",
    "        \n",
    "        poke(uut.io.in1(1), 3) \n",
    "        poke(uut.io.in2(1), 4)\n",
    "        \n",
    "        poke(uut.io.in1(2), 5)\n",
    "        poke(uut.io.in2(2), 6)\n",
    "        \n",
    "        poke(uut.io.in1(3), 7)\n",
    "        poke(uut.io.in2(3), 8)\n",
    "        \n",
    "        expect(uut.io.out(0), 2)\n",
    "        expect(uut.io.out(1), 12)\n",
    "        expect(uut.io.out(2), 30)\n",
    "        expect(uut.io.out(3), 56)\n",
    "  }\n",
    "}"
   ]
  },
  {
   "cell_type": "markdown",
   "metadata": {},
   "source": [
    "### Additive Reduction Tree"
   ]
  },
  {
   "cell_type": "markdown",
   "metadata": {},
   "source": [
    "#### Definition"
   ]
  },
  {
   "cell_type": "code",
   "execution_count": 235,
   "metadata": {},
   "outputs": [
    {
     "data": {
      "text/plain": [
       "defined \u001b[32mfunction\u001b[39m \u001b[36mnonassocPairwiseReduce\u001b[39m\r\n",
       "defined \u001b[32mclass\u001b[39m \u001b[36mAdditiveRT\u001b[39m"
      ]
     },
     "execution_count": 235,
     "metadata": {},
     "output_type": "execute_result"
    }
   ],
   "source": [
    "// Recursively creates a balanced syntax tree\n",
    "def nonassocPairwiseReduce[A](xs: List[A], op: (A, A) => A): A = {\n",
    "  xs match {\n",
    "    case Nil => throw new IllegalArgumentException\n",
    "    case List(singleElem) => singleElem\n",
    "    case sthElse => {\n",
    "      val grouped = sthElse.grouped(2).toList\n",
    "      val pairwiseOpd = for (g <- grouped) yield {\n",
    "        g match {\n",
    "          case List(a, b) => op(a, b)\n",
    "          case List(x) => x\n",
    "        }\n",
    "      }\n",
    "      nonassocPairwiseReduce(pairwiseOpd, op)\n",
    "    }\n",
    "  }\n",
    "}\n",
    "\n",
    "\n",
    "class AdditiveRT(numAddends: Int, bitWidth: Int) extends Module {\n",
    "\n",
    "    require(numAddends >= 1, \"Number of addends must be at least one.\")\n",
    "    require(bitWidth >= 1, \"Bitwidth must be at least one.\")\n",
    "    \n",
    "    val io = IO(new Bundle {\n",
    "        val in  = Input (Vec(numAddends, SInt(bitWidth.W)))\n",
    "        val out = Output(SInt(bitWidth.W))\n",
    "    })\n",
    "    \n",
    "    io.out := nonassocPairwiseReduce(io.in toList, (x: SInt, y: SInt) => x + y)\n",
    "}"
   ]
  },
  {
   "cell_type": "markdown",
   "metadata": {},
   "source": [
    "#### Verilog"
   ]
  },
  {
   "cell_type": "code",
   "execution_count": 236,
   "metadata": {},
   "outputs": [
    {
     "name": "stdout",
     "output_type": "stream",
     "text": [
      "[\u001b[35minfo\u001b[0m] [0.000] Elaborating design...\n",
      "[\u001b[35minfo\u001b[0m] [0.003] Done elaborating.\n",
      "Total FIRRTL Compile Time: 109.2 ms\n",
      "\n",
      "module cmd234WrapperHelperAdditiveRT( // @[:@3.2]\n",
      "  input        clock, // @[:@4.4]\n",
      "  input        reset, // @[:@5.4]\n",
      "  input  [3:0] io_in_0, // @[:@6.4]\n",
      "  input  [3:0] io_in_1, // @[:@6.4]\n",
      "  input  [3:0] io_in_2, // @[:@6.4]\n",
      "  input  [3:0] io_in_3, // @[:@6.4]\n",
      "  output [3:0] io_out // @[:@6.4]\n",
      ");\n",
      "  wire [4:0] _T_12; // @[cmd234.sc 29:76:@8.4]\n",
      "  wire [3:0] _T_13; // @[cmd234.sc 29:76:@9.4]\n",
      "  wire [3:0] _T_14; // @[cmd234.sc 29:76:@10.4]\n",
      "  wire [4:0] _T_15; // @[cmd234.sc 29:76:@11.4]\n",
      "  wire [3:0] _T_16; // @[cmd234.sc 29:76:@12.4]\n",
      "  wire [3:0] _T_17; // @[cmd234.sc 29:76:@13.4]\n",
      "  wire [4:0] _T_18; // @[cmd234.sc 29:76:@14.4]\n",
      "  wire [3:0] _T_19; // @[cmd234.sc 29:76:@15.4]\n",
      "  wire [3:0] _T_20; // @[cmd234.sc 29:76:@16.4]\n",
      "  assign _T_12 = $signed(io_in_0) + $signed(io_in_1); // @[cmd234.sc 29:76:@8.4]\n",
      "  assign _T_13 = _T_12[3:0]; // @[cmd234.sc 29:76:@9.4]\n",
      "  assign _T_14 = $signed(_T_13); // @[cmd234.sc 29:76:@10.4]\n",
      "  assign _T_15 = $signed(io_in_2) + $signed(io_in_3); // @[cmd234.sc 29:76:@11.4]\n",
      "  assign _T_16 = _T_15[3:0]; // @[cmd234.sc 29:76:@12.4]\n",
      "  assign _T_17 = $signed(_T_16); // @[cmd234.sc 29:76:@13.4]\n",
      "  assign _T_18 = $signed(_T_14) + $signed(_T_17); // @[cmd234.sc 29:76:@14.4]\n",
      "  assign _T_19 = _T_18[3:0]; // @[cmd234.sc 29:76:@15.4]\n",
      "  assign _T_20 = $signed(_T_19); // @[cmd234.sc 29:76:@16.4]\n",
      "  assign io_out = _T_20;\n",
      "endmodule\n",
      "\n",
      "[\u001b[35minfo\u001b[0m] [0.000] Elaborating design...\n",
      "[\u001b[35minfo\u001b[0m] [0.001] Done elaborating.\n",
      "Total FIRRTL Compile Time: 9.2 ms\n",
      "\n",
      "module cmd234WrapperHelperAdditiveRT( // @[:@3.2]\n",
      "  input        clock, // @[:@4.4]\n",
      "  input        reset, // @[:@5.4]\n",
      "  input  [3:0] io_in_0, // @[:@6.4]\n",
      "  input  [3:0] io_in_1, // @[:@6.4]\n",
      "  input  [3:0] io_in_2, // @[:@6.4]\n",
      "  input  [3:0] io_in_3, // @[:@6.4]\n",
      "  input  [3:0] io_in_4, // @[:@6.4]\n",
      "  input  [3:0] io_in_5, // @[:@6.4]\n",
      "  output [3:0] io_out // @[:@6.4]\n",
      ");\n",
      "  wire [4:0] _T_14; // @[cmd234.sc 29:76:@8.4]\n",
      "  wire [3:0] _T_15; // @[cmd234.sc 29:76:@9.4]\n",
      "  wire [3:0] _T_16; // @[cmd234.sc 29:76:@10.4]\n",
      "  wire [4:0] _T_17; // @[cmd234.sc 29:76:@11.4]\n",
      "  wire [3:0] _T_18; // @[cmd234.sc 29:76:@12.4]\n",
      "  wire [3:0] _T_19; // @[cmd234.sc 29:76:@13.4]\n",
      "  wire [4:0] _T_20; // @[cmd234.sc 29:76:@14.4]\n",
      "  wire [3:0] _T_21; // @[cmd234.sc 29:76:@15.4]\n",
      "  wire [3:0] _T_22; // @[cmd234.sc 29:76:@16.4]\n",
      "  wire [4:0] _T_23; // @[cmd234.sc 29:76:@17.4]\n",
      "  wire [3:0] _T_24; // @[cmd234.sc 29:76:@18.4]\n",
      "  wire [3:0] _T_25; // @[cmd234.sc 29:76:@19.4]\n",
      "  wire [4:0] _T_26; // @[cmd234.sc 29:76:@20.4]\n",
      "  wire [3:0] _T_27; // @[cmd234.sc 29:76:@21.4]\n",
      "  wire [3:0] _T_28; // @[cmd234.sc 29:76:@22.4]\n",
      "  assign _T_14 = $signed(io_in_0) + $signed(io_in_1); // @[cmd234.sc 29:76:@8.4]\n",
      "  assign _T_15 = _T_14[3:0]; // @[cmd234.sc 29:76:@9.4]\n",
      "  assign _T_16 = $signed(_T_15); // @[cmd234.sc 29:76:@10.4]\n",
      "  assign _T_17 = $signed(io_in_2) + $signed(io_in_3); // @[cmd234.sc 29:76:@11.4]\n",
      "  assign _T_18 = _T_17[3:0]; // @[cmd234.sc 29:76:@12.4]\n",
      "  assign _T_19 = $signed(_T_18); // @[cmd234.sc 29:76:@13.4]\n",
      "  assign _T_20 = $signed(io_in_4) + $signed(io_in_5); // @[cmd234.sc 29:76:@14.4]\n",
      "  assign _T_21 = _T_20[3:0]; // @[cmd234.sc 29:76:@15.4]\n",
      "  assign _T_22 = $signed(_T_21); // @[cmd234.sc 29:76:@16.4]\n",
      "  assign _T_23 = $signed(_T_16) + $signed(_T_19); // @[cmd234.sc 29:76:@17.4]\n",
      "  assign _T_24 = _T_23[3:0]; // @[cmd234.sc 29:76:@18.4]\n",
      "  assign _T_25 = $signed(_T_24); // @[cmd234.sc 29:76:@19.4]\n",
      "  assign _T_26 = $signed(_T_25) + $signed(_T_22); // @[cmd234.sc 29:76:@20.4]\n",
      "  assign _T_27 = _T_26[3:0]; // @[cmd234.sc 29:76:@21.4]\n",
      "  assign _T_28 = $signed(_T_27); // @[cmd234.sc 29:76:@22.4]\n",
      "  assign io_out = _T_28;\n",
      "endmodule\n",
      "\n"
     ]
    }
   ],
   "source": [
    "println(getVerilog(new AdditiveRT(4, 4)))\n",
    "println(getVerilog(new AdditiveRT(6, 4)))"
   ]
  },
  {
   "cell_type": "markdown",
   "metadata": {},
   "source": [
    "#### Verification"
   ]
  },
  {
   "cell_type": "code",
   "execution_count": 237,
   "metadata": {},
   "outputs": [
    {
     "name": "stdout",
     "output_type": "stream",
     "text": [
      "[\u001b[35minfo\u001b[0m] [0.000] Elaborating design...\n",
      "[\u001b[35minfo\u001b[0m] [0.001] Done elaborating.\n",
      "Total FIRRTL Compile Time: 2.6 ms\n",
      "Total FIRRTL Compile Time: 2.1 ms\n",
      "End of dependency graph\n",
      "Circuit state created\n",
      "[\u001b[35minfo\u001b[0m] [0.000] SEED 1532545575458\n",
      "test cmd234WrapperHelperAdditiveRT Success: 2 tests passed in 5 cycles taking 0.001228 seconds\n",
      "[\u001b[35minfo\u001b[0m] [0.001] RAN 0 CYCLES PASSED\n"
     ]
    },
    {
     "data": {
      "text/plain": [
       "\u001b[36mres236\u001b[39m: \u001b[32mBoolean\u001b[39m = \u001b[32mtrue\u001b[39m"
      ]
     },
     "execution_count": 237,
     "metadata": {},
     "output_type": "execute_result"
    }
   ],
   "source": [
    "Driver(() => new AdditiveRT(4, 8)) {\n",
    "    uut => new PeekPokeTester(uut) {\n",
    "        poke(uut.io.in(0), 1) \n",
    "        poke(uut.io.in(1), 2)\n",
    "        poke(uut.io.in(2), 8) \n",
    "        poke(uut.io.in(3), 9) \n",
    "        expect(uut.io.out, 20)\n",
    "        \n",
    "        poke(uut.io.in(0), 1) \n",
    "        poke(uut.io.in(1), 2)\n",
    "        poke(uut.io.in(2), 8) \n",
    "        poke(uut.io.in(3), 9) \n",
    "        expect(uut.io.out, 20)\n",
    "    }\n",
    "}"
   ]
  },
  {
   "cell_type": "markdown",
   "metadata": {},
   "source": [
    "### Putting them Together"
   ]
  },
  {
   "cell_type": "markdown",
   "metadata": {},
   "source": [
    "#### Definition"
   ]
  },
  {
   "cell_type": "code",
   "execution_count": 244,
   "metadata": {},
   "outputs": [
    {
     "data": {
      "text/plain": [
       "defined \u001b[32mfunction\u001b[39m \u001b[36mcheckparamsIPU\u001b[39m\r\n",
       "defined \u001b[32mclass\u001b[39m \u001b[36mIPU\u001b[39m"
      ]
     },
     "execution_count": 244,
     "metadata": {},
     "output_type": "execute_result"
    }
   ],
   "source": [
    "def checkparamsIPU(width: Int, bypassType: String, bitWidth: Int) {\n",
    "    require(width >= 1, \"Width must be at least one.\")\n",
    "    require(List(\"None\", \"Firm\").contains(bypassType), \"Bypass must be \\\"None\\\" or \\\"Firm\\\"\")\n",
    "    require(bitWidth >= 0, \"Data bitwidth must be non-negative\")\n",
    "}\n",
    "\n",
    "\n",
    "class IPU(width: Int, bypassType: String, bitWidth: Int) extends Module {\n",
    "    \n",
    "    checkparamsIPU(width, bypassType, bitWidth)\n",
    "    \n",
    "    val io = IO(new Bundle {\n",
    "        val in1 = Input(Vec(width, SInt(bitWidth.W)))\n",
    "        val in2 = Input(Vec(width, SInt(bitWidth.W)))\n",
    "        val out = Output(SInt(bitWidth.W))\n",
    "        val sel = if(bypassType == \"Firm\") Some(Input(Vec(width, Bool()))) else None\n",
    "        val bp1 = if(bypassType == \"Firm\") Some(Output(SInt(bitWidth.W)))  else None\n",
    "        val bp2 = if(bypassType == \"Firm\") Some(Output(SInt(bitWidth.W)))  else None\n",
    "    })\n",
    "    \n",
    "    val pM = Module(new PMultiplier(width, bitWidth))\n",
    "    pM.io.in1 := io.in1\n",
    "    pM.io.in2 := io.in2\n",
    "    \n",
    "    val aRT = Module(new AdditiveRT(width, bitWidth))\n",
    "    aRT.io.in := pM.io.out\n",
    "    \n",
    "    io.out := aRT.io.out\n",
    "    \n",
    "    if (bypassType == \"Firm\") {\n",
    "        io.bp1.get := PriorityMux(io.sel.get, io.in1)\n",
    "        io.bp2.get := PriorityMux(io.sel.get, io.in2)\n",
    "    }\n",
    "}"
   ]
  },
  {
   "cell_type": "markdown",
   "metadata": {},
   "source": [
    "#### Verification"
   ]
  },
  {
   "cell_type": "code",
   "execution_count": 259,
   "metadata": {},
   "outputs": [
    {
     "name": "stdout",
     "output_type": "stream",
     "text": [
      "[\u001b[35minfo\u001b[0m] [0.000] Elaborating design...\n",
      "[\u001b[35minfo\u001b[0m] [0.001] Done elaborating.\n",
      "Total FIRRTL Compile Time: 6.7 ms\n",
      "Total FIRRTL Compile Time: 6.2 ms\n",
      "End of dependency graph\n",
      "Circuit state created\n",
      "[\u001b[35minfo\u001b[0m] [0.000] SEED 1532546560594\n",
      "test cmd243WrapperHelperIPU Success: 5 tests passed in 5 cycles taking 0.002253 seconds\n",
      "[\u001b[35minfo\u001b[0m] [0.002] RAN 0 CYCLES PASSED\n"
     ]
    },
    {
     "data": {
      "text/plain": [
       "\u001b[36mres258\u001b[39m: \u001b[32mBoolean\u001b[39m = \u001b[32mtrue\u001b[39m"
      ]
     },
     "execution_count": 259,
     "metadata": {},
     "output_type": "execute_result"
    }
   ],
   "source": [
    "Driver(() => new IPU(width=4, bypassType=\"Firm\", bitWidth=8)) {\n",
    "    uut => new PeekPokeTester(uut) {\n",
    "        \n",
    "        poke(uut.io.sel.get(0), 0)\n",
    "        poke(uut.io.sel.get(1), 0)\n",
    "        poke(uut.io.sel.get(2), 0)\n",
    "        poke(uut.io.sel.get(3), 0)\n",
    "        \n",
    "        poke(uut.io.in1(0), 1)\n",
    "        poke(uut.io.in1(1), 2)\n",
    "        poke(uut.io.in1(2), 3)\n",
    "        poke(uut.io.in1(3), 4)\n",
    "        \n",
    "        poke(uut.io.in2(0), 5)\n",
    "        poke(uut.io.in2(1), 6)\n",
    "        poke(uut.io.in2(2), 7)\n",
    "        poke(uut.io.in2(3), 8)\n",
    "        \n",
    "        expect(uut.io.out, 70)\n",
    "        \n",
    "        poke(uut.io.sel.get(0), 0)\n",
    "        poke(uut.io.sel.get(1), 1)\n",
    "        poke(uut.io.sel.get(2), 0)\n",
    "        poke(uut.io.sel.get(3), 0)\n",
    "        \n",
    "        expect(uut.io.bp1.get, 2)\n",
    "        expect(uut.io.bp2.get, 6)\n",
    "        \n",
    "        poke(uut.io.sel.get(0), 0)\n",
    "        poke(uut.io.sel.get(1), 0)\n",
    "        poke(uut.io.sel.get(2), 1)\n",
    "        poke(uut.io.sel.get(3), 0)\n",
    "        \n",
    "        expect(uut.io.bp1.get, 3)\n",
    "        expect(uut.io.bp2.get, 7)\n",
    "    }\n",
    "}"
   ]
  },
  {
   "cell_type": "markdown",
   "metadata": {},
   "source": [
    "## ALU"
   ]
  },
  {
   "cell_type": "markdown",
   "metadata": {},
   "source": [
    "#### Definition"
   ]
  },
  {
   "cell_type": "code",
   "execution_count": 281,
   "metadata": {},
   "outputs": [
    {
     "data": {
      "text/plain": [
       "defined \u001b[32mfunction\u001b[39m \u001b[36mcheckparamsALU\u001b[39m\r\n",
       "defined \u001b[32mclass\u001b[39m \u001b[36mALU\u001b[39m"
      ]
     },
     "execution_count": 281,
     "metadata": {},
     "output_type": "execute_result"
    }
   ],
   "source": [
    "def checkparamsALU(funcs: List[String], datawidth: Int) {\n",
    "    require(funcs.contains(\"Identity\"), \"ALU functions must explicitly include Identity.\")\n",
    "    val supportedFuncs = List(\"Identity\", \"Add\", \"Max\", \"Accumulate\")\n",
    "    for(x <- funcs)(require(supportedFuncs.contains(x), \"Unsupported Function\"))\n",
    "}\n",
    "\n",
    "class ALU(funcs: List[String], dataWidth: Int) extends Module {\n",
    "    \n",
    "    checkparamsALU(funcs, dataWidth)\n",
    "    \n",
    "    val addBypassIn = List(\"Add\", \"Max\").intersect(funcs).nonEmpty\n",
    "    val addFeedback = funcs.contains(\"Accumulate\")\n",
    " \n",
    "    val io = IO(new Bundle {\n",
    "        val innerProduct = Input(SInt(dataWidth.W))\n",
    "        val funcSel      = Input(Vec(funcs.length, Bool()))\n",
    "        val output       = Output(SInt(dataWidth.W))\n",
    "        val weightBp     = if(addBypassIn) Some(Input(SInt(dataWidth.W))) else None\n",
    "        val actvtnBp     = if(addBypassIn) Some(Input(SInt(dataWidth.W))) else None\n",
    "        val rfFeedback   = if(addFeedback) Some(Input(SInt(dataWidth.W))) else None\n",
    "    })\n",
    "    \n",
    "    val idnOut = Some(Wire(SInt(dataWidth.W)))\n",
    "    val addOut = if(funcs.contains(\"Add\"))        Some(Wire(SInt(dataWidth.W))) else None\n",
    "    val maxOut = if(funcs.contains(\"Max\"))        Some(Wire(SInt(dataWidth.W))) else None\n",
    "    val accOut = if(funcs.contains(\"Accumulate\")) Some(Wire(SInt(dataWidth.W))) else None\n",
    "    \n",
    "    idnOut.get := io.innerProduct\n",
    "    \n",
    "    if (funcs.contains(\"Add\")       ) { addOut.get := io.weightBp.get + io.actvtnBp.get }\n",
    "    if (funcs.contains(\"Accumulate\")) { accOut.get := io.innerProduct + io.rfFeedback.get }\n",
    "    if (funcs.contains(\"Max\")       ) {\n",
    "        when (io.weightBp.get > io.actvtnBp.get) {\n",
    "            maxOut.get := io.weightBp.get\n",
    "        } .otherwise {\n",
    "            maxOut.get := io.actvtnBp.get\n",
    "        }\n",
    "    }\n",
    "    \n",
    "    val inters = (idnOut :: addOut :: maxOut :: accOut :: Nil) filter ( _.isDefined ) map ( _.get )\n",
    "    io.output := PriorityMux(io.funcSel, inters)\n",
    "}"
   ]
  },
  {
   "cell_type": "markdown",
   "metadata": {},
   "source": [
    "#### Verification"
   ]
  },
  {
   "cell_type": "code",
   "execution_count": 287,
   "metadata": {},
   "outputs": [
    {
     "name": "stdout",
     "output_type": "stream",
     "text": [
      "[\u001b[35minfo\u001b[0m] [0.000] Elaborating design...\n",
      "[\u001b[35minfo\u001b[0m] [0.001] Done elaborating.\n",
      "Total FIRRTL Compile Time: 5.0 ms\n",
      "Total FIRRTL Compile Time: 4.2 ms\n",
      "End of dependency graph\n",
      "Circuit state created\n",
      "[\u001b[35minfo\u001b[0m] [0.000] SEED 1532556227733\n",
      "test cmd280WrapperHelperALU Success: 4 tests passed in 5 cycles taking 0.002605 seconds\n",
      "[\u001b[35minfo\u001b[0m] [0.002] RAN 0 CYCLES PASSED\n"
     ]
    },
    {
     "data": {
      "text/plain": [
       "\u001b[36mfuncs\u001b[39m: \u001b[32mList\u001b[39m[\u001b[32mString\u001b[39m] = \u001b[33mList\u001b[39m(\u001b[32m\"Identity\"\u001b[39m, \u001b[32m\"Add\"\u001b[39m, \u001b[32m\"Max\"\u001b[39m, \u001b[32m\"Accumulate\"\u001b[39m)\r\n",
       "\u001b[36mres286_1\u001b[39m: \u001b[32mBoolean\u001b[39m = \u001b[32mtrue\u001b[39m"
      ]
     },
     "execution_count": 287,
     "metadata": {},
     "output_type": "execute_result"
    }
   ],
   "source": [
    "val funcs = \"Identity\" :: \"Add\" :: \"Max\" :: \"Accumulate\" :: Nil\n",
    "\n",
    "Driver(() => new ALU(funcs, 8)) {\n",
    "    uut => new PeekPokeTester(uut) {\n",
    "        \n",
    "        poke(uut.io.innerProduct, 1)\n",
    "        poke(uut.io.weightBp.get, 2)\n",
    "        poke(uut.io.actvtnBp.get, 3)\n",
    "        poke(uut.io.rfFeedback.get, 4)\n",
    "        \n",
    "        poke(uut.io.funcSel(0), 1)\n",
    "        poke(uut.io.funcSel(1), 0)\n",
    "        poke(uut.io.funcSel(2), 0)\n",
    "        poke(uut.io.funcSel(3), 0)\n",
    "        expect(uut.io.output, 1)\n",
    "        \n",
    "        poke(uut.io.funcSel(0), 0)\n",
    "        poke(uut.io.funcSel(1), 1)\n",
    "        poke(uut.io.funcSel(2), 0)\n",
    "        poke(uut.io.funcSel(3), 0)\n",
    "        expect(uut.io.output, 5)\n",
    "        \n",
    "        poke(uut.io.funcSel(0), 0)\n",
    "        poke(uut.io.funcSel(1), 0)\n",
    "        poke(uut.io.funcSel(2), 1)\n",
    "        poke(uut.io.funcSel(3), 0)\n",
    "        expect(uut.io.output, 3)\n",
    "        \n",
    "        poke(uut.io.funcSel(0), 0)\n",
    "        poke(uut.io.funcSel(1), 0)\n",
    "        poke(uut.io.funcSel(2), 0)\n",
    "        poke(uut.io.funcSel(3), 1)\n",
    "        expect(uut.io.output, 5)\n",
    "    }\n",
    "}"
   ]
  },
  {
   "cell_type": "markdown",
   "metadata": {},
   "source": [
    "## Nonlinear Unit"
   ]
  },
  {
   "cell_type": "code",
   "execution_count": 9,
   "metadata": {},
   "outputs": [
    {
     "data": {
      "text/plain": [
       "defined \u001b[32mfunction\u001b[39m \u001b[36mcheckparamsNLU\u001b[39m\r\n",
       "defined \u001b[32mclass\u001b[39m \u001b[36mNonlinearUnit\u001b[39m"
      ]
     },
     "execution_count": 9,
     "metadata": {},
     "output_type": "execute_result"
    }
   ],
   "source": [
    "def checkparamsNLU(funcs: List[String], datawidth: Int) {\n",
    "    require(funcs.contains(\"Identity\"), \"NLU functions must explicitly include Identity.\")\n",
    "    val supportedFuncs = List(\"Identity\", \"ReLu\")\n",
    "    for(x <- funcs)(require(supportedFuncs.contains(x), \"Unsupported Function\"))\n",
    "}\n",
    "\n",
    "class NonlinearUnit(funcs: List[String], datawidth: Int) extends Module {\n",
    "    \n",
    "    checkparamsNLU(funcs, datawidth)\n",
    "    \n",
    "    val io = IO(new Bundle {\n",
    "        val input = Input(SInt(datawidth.W))\n",
    "        val fslct = Input(Vec(funcs.length, Bool()))\n",
    "        val outpt = Output(SInt(datawidth.W))\n",
    "    })\n",
    "    \n",
    "    val idntOut = Some(Wire(SInt(datawidth.W)))\n",
    "    val reluOut = if(funcs.contains(\"ReLu\")) Some(Wire(SInt(datawidth.W))) else None\n",
    "    \n",
    "    idntOut.get := io.input\n",
    "    if (funcs.contains(\"ReLu\")) {\n",
    "        when (io.input > 0.S) {\n",
    "            reluOut.get := io.input\n",
    "        } .otherwise {\n",
    "            reluOut.get := 0.S\n",
    "        }\n",
    "    }\n",
    "    \n",
    "    val inters = (idntOut :: reluOut :: Nil) filter ( _.isDefined ) map ( _.get )\n",
    "    io.outpt := PriorityMux(io.fslct, inters)\n",
    "}"
   ]
  },
  {
   "cell_type": "code",
   "execution_count": null,
   "metadata": {},
   "outputs": [],
   "source": []
  },
  {
   "cell_type": "markdown",
   "metadata": {},
   "source": [
    "## Control"
   ]
  },
  {
   "cell_type": "markdown",
   "metadata": {},
   "source": [
    "### State Machine"
   ]
  },
  {
   "cell_type": "markdown",
   "metadata": {},
   "source": [
    "#### Definition"
   ]
  },
  {
   "cell_type": "code",
   "execution_count": 133,
   "metadata": {},
   "outputs": [
    {
     "data": {
      "text/plain": [
       "defined \u001b[32mclass\u001b[39m \u001b[36mStateMachine\u001b[39m"
      ]
     },
     "execution_count": 133,
     "metadata": {},
     "output_type": "execute_result"
    }
   ],
   "source": [
    "class StateMachine(nextState: Map[(UInt, UInt), UInt], ctrlWidth: Int) extends Module {\n",
    "    \n",
    "    val stateWidth: Int = log2Up(nextState.size)\n",
    "    \n",
    "    val io = IO(new Bundle {\n",
    "        val control = Input (UInt(ctrlWidth.W ))\n",
    "        val state   = Output(UInt(stateWidth.W))\n",
    "    })\n",
    "    \n",
    "    val register = RegInit(0.U(stateWidth.W))\n",
    "    register := nextState((io.state, io.control))\n",
    "    io.state := register\n",
    "}"
   ]
  },
  {
   "cell_type": "markdown",
   "metadata": {},
   "source": [
    "### Example"
   ]
  },
  {
   "cell_type": "code",
   "execution_count": null,
   "metadata": {},
   "outputs": [],
   "source": []
  },
  {
   "cell_type": "markdown",
   "metadata": {},
   "source": [
    "#### Verification"
   ]
  },
  {
   "cell_type": "code",
   "execution_count": null,
   "metadata": {},
   "outputs": [],
   "source": []
  },
  {
   "cell_type": "markdown",
   "metadata": {},
   "source": [
    "### Decoder"
   ]
  },
  {
   "cell_type": "markdown",
   "metadata": {},
   "source": [
    "#### Definition"
   ]
  },
  {
   "cell_type": "code",
   "execution_count": 134,
   "metadata": {},
   "outputs": [
    {
     "data": {
      "text/plain": [
       "defined \u001b[32mclass\u001b[39m \u001b[36mDecoder\u001b[39m"
      ]
     },
     "execution_count": 134,
     "metadata": {},
     "output_type": "execute_result"
    }
   ],
   "source": [
    "class Decoder(decode: (UInt, String) => Data,\n",
    "              statewidth: Int,\n",
    "              ports: Int, datawidth: Int, addrwidth: Int,\n",
    "              aluFuncs: List[String], \n",
    "              nluFuncs: List[String]) extends Module {\n",
    "    \n",
    "    val io = IO(new Bundle {\n",
    "        \n",
    "        val state = Input(UInt(statewidth.W))\n",
    "        \n",
    "        val weightRF_wen         = Output(Vec(ports, Bool()))\n",
    "        val weightRF_ren         = Output(Vec(ports, Bool()))\n",
    "        val weightRF_waddr       = Output(Vec(ports, UInt(addrwidth.W)))\n",
    "        val weightRF_raddr_int   = Output(Vec(ports, UInt(addrwidth.W)))\n",
    "        val weightRF_raddr_ext   = Output(Vec(ports, UInt(addrwidth.W)))\n",
    "        val weightRF_bp_slct_get = Output(Vec(ports, Bool()))\n",
    "        \n",
    "        val actvtnRF_wen         = Output(Vec(ports, Bool()))\n",
    "        val actvtnRF_ren         = Output(Vec(ports, Bool()))\n",
    "        val actvtnRF_waddr       = Output(Vec(ports, UInt(addrwidth)))\n",
    "        val actvtnRF_raddr_int   = Output(Vec(ports, UInt(addrwidth)))\n",
    "        val actvtnRF_raddr_ext   = Output(Vec(ports, UInt(addrwidth)))\n",
    "        val actvtnRF_bp_slct_get = Output(Vec(ports, Bool()))\n",
    "        \n",
    "        val ipu_sel_get   = Output(Vec(ports, Bool()))\n",
    "        \n",
    "        val alu_func_slct = Output(Vec(aluFuncs.length, Bool()))\n",
    "        \n",
    "        val intrnlRF_write_en    = Output(Vec(ports, Bool()))\n",
    "        val intrnlRF_read_en     = Output(Vec(ports, Bool()))\n",
    "        val intrnlRF_waddr       = Output(Vec(ports, UInt(addrwidth)))\n",
    "        val intrnlRF_raddr_int   = Output(Vec(ports, UInt(addrwidth)))\n",
    "        val intrnlRF_raddr_ext   = Output(Vec(ports, UInt(addrwidth)))\n",
    "        val intrnlRF_bp_slct_get = Output(Vec(ports, Bool()))\n",
    "        val intrnlRF_wdata_slct  = Output(Bool())\n",
    "        \n",
    "        val nlu_func_slct = Output(Vec(nluFuncs.length, Bool()))\n",
    "        \n",
    "    })\n",
    "    \n",
    "    io.weightRF_wen         := decode(io.state, \"weightRF_wen\")\n",
    "    io.weightRF_ren         := decode(io.state, \"weightRF_ren\")\n",
    "    io.weightRF_waddr       := decode(io.state, \"weightRF_waddr\")\n",
    "    io.weightRF_raddr_int   := decode(io.state, \"weightRF_raddr_int\")\n",
    "    io.weightRF_raddr_ext   := decode(io.state, \"weightRF_raddr_ext\")\n",
    "    io.weightRF_bp_slct_get := decode(io.state, \"weightRF_bp_slct_get\")\n",
    "\n",
    "}"
   ]
  },
  {
   "cell_type": "markdown",
   "metadata": {},
   "source": [
    "#### Example"
   ]
  },
  {
   "cell_type": "code",
   "execution_count": 125,
   "metadata": {},
   "outputs": [
    {
     "data": {
      "text/plain": [
       "defined \u001b[32mfunction\u001b[39m \u001b[36mdecode\u001b[39m"
      ]
     },
     "execution_count": 125,
     "metadata": {},
     "output_type": "execute_result"
    }
   ],
   "source": [
    "def decode(state: UInt, output: String): Data = {\n",
    "    \n",
    "    // Set Types\n",
    "    val data = output match {\n",
    "        case \"weightRF_wen\"         => Wire(Vec(2, Bool()))\n",
    "        case \"weightRF_ren\"         => Wire(Vec(2, Bool()))\n",
    "        case \"weightRF_waddr\"       => Wire(Vec(2, UInt(8.W)))\n",
    "        case \"weightRF_raddr_int\"   => Wire(Vec(2, UInt(8.W)))\n",
    "        case \"weightRF_raddr_ext\"   => Wire(Vec(2, UInt(8.W)))\n",
    "        case \"weightRF_bp_slct_get\" => Wire(Vec(2, Bool()))\n",
    "    }\n",
    "    \n",
    "    // Set Values\n",
    "    when(state === 0.U) {\n",
    "        data := { output match {\n",
    "            case \"weightRF_wen\"         => Vec.fill(2){true.B}\n",
    "            case \"weightRF_ren\"         => Vec.fill(2){true.B}\n",
    "            case \"weightRF_waddr\"       => Vec.fill(2){1.U}\n",
    "            case \"weightRF_raddr_int\"   => Vec.fill(2){2.U}\n",
    "            case \"weightRF_raddr_ext\"   => Vec.fill(2){3.U}\n",
    "            case \"weightRF_bp_slct_get\" => Vec.fill(2){true.B}\n",
    "        }}\n",
    "    } \n",
    "\n",
    "    .otherwise {\n",
    "        data := { output match {\n",
    "             case \"weightRF_wen\"         => Vec.fill(2){false.B}\n",
    "             case \"weightRF_ren\"         => Vec.fill(2){false.B}\n",
    "             case \"weightRF_waddr\"       => Vec.fill(2){4.U}\n",
    "             case \"weightRF_raddr_int\"   => Vec.fill(2){5.U}\n",
    "             case \"weightRF_raddr_ext\"   => Vec.fill(2){6.U}\n",
    "             case \"weightRF_bp_slct_get\" => Vec.fill(2){false.B}\n",
    "         }}\n",
    "    }\n",
    "    \n",
    "    data\n",
    "}"
   ]
  },
  {
   "cell_type": "markdown",
   "metadata": {},
   "source": [
    "#### Verilog"
   ]
  },
  {
   "cell_type": "code",
   "execution_count": 131,
   "metadata": {},
   "outputs": [
    {
     "name": "stdout",
     "output_type": "stream",
     "text": [
      "[\u001b[35minfo\u001b[0m] [0.000] Elaborating design...\n",
      "[\u001b[35minfo\u001b[0m] [0.002] Done elaborating.\n",
      "Total FIRRTL Compile Time: 21.5 ms\n",
      "\n",
      "module cmd123WrapperHelperDecoder( // @[:@3.2]\n",
      "  input        clock, // @[:@4.4]\n",
      "  input        reset, // @[:@5.4]\n",
      "  input  [3:0] io_state, // @[:@6.4]\n",
      "  output       io_weightRF_wen_0, // @[:@6.4]\n",
      "  output       io_weightRF_wen_1, // @[:@6.4]\n",
      "  output       io_weightRF_ren_0, // @[:@6.4]\n",
      "  output       io_weightRF_ren_1, // @[:@6.4]\n",
      "  output [3:0] io_weightRF_waddr_0, // @[:@6.4]\n",
      "  output [3:0] io_weightRF_waddr_1, // @[:@6.4]\n",
      "  output [3:0] io_weightRF_raddr_int_0, // @[:@6.4]\n",
      "  output [3:0] io_weightRF_raddr_int_1, // @[:@6.4]\n",
      "  output [3:0] io_weightRF_raddr_ext_0, // @[:@6.4]\n",
      "  output [3:0] io_weightRF_raddr_ext_1, // @[:@6.4]\n",
      "  output       io_weightRF_bp_slct_get_0, // @[:@6.4]\n",
      "  output       io_weightRF_bp_slct_get_1 // @[:@6.4]\n",
      ");\n",
      "  wire  _T_48_0; // @[cmd124.sc 5:44:@8.4]\n",
      "  wire  _T_48_1; // @[cmd124.sc 5:44:@8.4]\n",
      "  wire  _T_54; // @[cmd124.sc 14:16:@9.4]\n",
      "  wire  _T_76_0; // @[cmd124.sc 6:44:@26.4]\n",
      "  wire  _T_76_1; // @[cmd124.sc 6:44:@26.4]\n",
      "  wire [7:0] _T_104_0; // @[cmd124.sc 7:44:@44.4]\n",
      "  wire [7:0] _T_104_1; // @[cmd124.sc 7:44:@44.4]\n",
      "  wire [2:0] _GEN_4; // @[cmd124.sc 14:25:@46.4]\n",
      "  wire [7:0] _T_132_0; // @[cmd124.sc 8:44:@62.4]\n",
      "  wire [7:0] _T_132_1; // @[cmd124.sc 8:44:@62.4]\n",
      "  wire [2:0] _GEN_6; // @[cmd124.sc 14:25:@64.4]\n",
      "  wire [7:0] _T_160_0; // @[cmd124.sc 9:44:@80.4]\n",
      "  wire [7:0] _T_160_1; // @[cmd124.sc 9:44:@80.4]\n",
      "  wire [2:0] _GEN_8; // @[cmd124.sc 14:25:@82.4]\n",
      "  wire  _T_188_0; // @[cmd124.sc 10:44:@98.4]\n",
      "  wire  _T_188_1; // @[cmd124.sc 10:44:@98.4]\n",
      "  assign _T_54 = io_state == 4'h0; // @[cmd124.sc 14:16:@9.4]\n",
      "  assign _GEN_4 = _T_54 ? 3'h1 : 3'h4; // @[cmd124.sc 14:25:@46.4]\n",
      "  assign _GEN_6 = _T_54 ? 3'h2 : 3'h5; // @[cmd124.sc 14:25:@64.4]\n",
      "  assign _GEN_8 = _T_54 ? 3'h3 : 3'h6; // @[cmd124.sc 14:25:@82.4]\n",
      "  assign io_weightRF_wen_0 = _T_48_0;\n",
      "  assign io_weightRF_wen_1 = _T_48_1;\n",
      "  assign io_weightRF_ren_0 = _T_76_0;\n",
      "  assign io_weightRF_ren_1 = _T_76_1;\n",
      "  assign io_weightRF_waddr_0 = _T_104_0[3:0];\n",
      "  assign io_weightRF_waddr_1 = _T_104_1[3:0];\n",
      "  assign io_weightRF_raddr_int_0 = _T_132_0[3:0];\n",
      "  assign io_weightRF_raddr_int_1 = _T_132_1[3:0];\n",
      "  assign io_weightRF_raddr_ext_0 = _T_160_0[3:0];\n",
      "  assign io_weightRF_raddr_ext_1 = _T_160_1[3:0];\n",
      "  assign io_weightRF_bp_slct_get_0 = _T_188_0;\n",
      "  assign io_weightRF_bp_slct_get_1 = _T_188_1;\n",
      "  assign _T_48_0 = _T_54;\n",
      "  assign _T_48_1 = _T_54;\n",
      "  assign _T_76_0 = _T_54;\n",
      "  assign _T_76_1 = _T_54;\n",
      "  assign _T_104_0 = {{5'd0}, _GEN_4};\n",
      "  assign _T_104_1 = {{5'd0}, _GEN_4};\n",
      "  assign _T_132_0 = {{5'd0}, _GEN_6};\n",
      "  assign _T_132_1 = {{5'd0}, _GEN_6};\n",
      "  assign _T_160_0 = {{5'd0}, _GEN_8};\n",
      "  assign _T_160_1 = {{5'd0}, _GEN_8};\n",
      "  assign _T_188_0 = _T_54;\n",
      "  assign _T_188_1 = _T_54;\n",
      "endmodule\n",
      "\n"
     ]
    }
   ],
   "source": [
    "println(getVerilog(new Decoder(decode, statewidth=4, ports=2,\n",
    "                        datawidth=4, addrwidth=4,\n",
    "                        aluFuncs=List(\"None\"),\n",
    "                        nluFuncs=List(\"None\"))))"
   ]
  },
  {
   "cell_type": "markdown",
   "metadata": {},
   "source": [
    "#### Verification"
   ]
  },
  {
   "cell_type": "code",
   "execution_count": 130,
   "metadata": {},
   "outputs": [
    {
     "name": "stdout",
     "output_type": "stream",
     "text": [
      "[\u001b[35minfo\u001b[0m] [0.000] Elaborating design...\n",
      "[\u001b[35minfo\u001b[0m] [0.005] Done elaborating.\n",
      "Total FIRRTL Compile Time: 21.9 ms\n",
      "Total FIRRTL Compile Time: 16.4 ms\n",
      "End of dependency graph\n",
      "Circuit state created\n",
      "[\u001b[35minfo\u001b[0m] [0.000] SEED 1532479097135\n",
      "test cmd123WrapperHelperDecoder Success: 12 tests passed in 7 cycles taking 0.012984 seconds\n",
      "[\u001b[35minfo\u001b[0m] [0.009] RAN 2 CYCLES PASSED\n"
     ]
    },
    {
     "data": {
      "text/plain": [
       "\u001b[36mres129\u001b[39m: \u001b[32mBoolean\u001b[39m = \u001b[32mtrue\u001b[39m"
      ]
     },
     "execution_count": 130,
     "metadata": {},
     "output_type": "execute_result"
    }
   ],
   "source": [
    "Driver(() => new Decoder(decode, statewidth=4, ports=2,\n",
    "                        datawidth=4, addrwidth=4,\n",
    "                        aluFuncs=List(\"None\"),\n",
    "                        nluFuncs=List(\"None\"))) {\n",
    "    \n",
    "    uut => new PeekPokeTester(uut) {\n",
    "        \n",
    "        \n",
    "        poke(uut.io.state, 0.U)\n",
    "        step(1)\n",
    "        \n",
    "        expect(uut.io.weightRF_wen(0), true.B)\n",
    "        expect(uut.io.weightRF_ren(0), true.B)\n",
    "        expect(uut.io.weightRF_waddr(0), 1.U)\n",
    "        expect(uut.io.weightRF_raddr_int(0), 2.U)\n",
    "        expect(uut.io.weightRF_raddr_ext(0), 3.U)\n",
    "        expect(uut.io.weightRF_bp_slct_get(0), true.B)\n",
    "        \n",
    "        poke(uut.io.state, 1.U) \n",
    "        step(1)\n",
    "        \n",
    "        expect(uut.io.weightRF_wen(0), false.B)\n",
    "        expect(uut.io.weightRF_ren(0), false.B)\n",
    "        expect(uut.io.weightRF_waddr(0), 4.U)\n",
    "        expect(uut.io.weightRF_raddr_int(0), 5.U)\n",
    "        expect(uut.io.weightRF_raddr_ext(0), 6.U)\n",
    "        expect(uut.io.weightRF_bp_slct_get(0), false.B)\n",
    "        \n",
    "    }\n",
    "}\n"
   ]
  },
  {
   "cell_type": "code",
   "execution_count": null,
   "metadata": {},
   "outputs": [],
   "source": []
  }
 ],
 "metadata": {
  "kernelspec": {
   "display_name": "Scala",
   "language": "scala",
   "name": "scala"
  },
  "language_info": {
   "codemirror_mode": "text/x-scala",
   "file_extension": ".scala",
   "mimetype": "text/x-scala",
   "name": "scala211",
   "nbconvert_exporter": "script",
   "pygments_lexer": "scala",
   "version": "2.11.11"
  }
 },
 "nbformat": 4,
 "nbformat_minor": 2
}
