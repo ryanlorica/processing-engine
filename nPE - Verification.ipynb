{
 "cells": [
  {
   "cell_type": "markdown",
   "metadata": {},
   "source": [
    "# nPE: A Configurable Processing Engine\n",
    "#### Verification | Version 0.4.1 | Updated 2018.7.25\n",
    "___"
   ]
  },
  {
   "cell_type": "markdown",
   "metadata": {},
   "source": [
    "## Setup"
   ]
  },
  {
   "cell_type": "code",
   "execution_count": 1,
   "metadata": {},
   "outputs": [
    {
     "data": {
      "text/plain": [
       "\u001b[36mpath\u001b[39m: \u001b[32mString\u001b[39m = \u001b[32m\"\"\"\n",
       "C:\\Users\\RyanL\\OneDrive\\Research\\SEAL\\processing-engine/source/load-ivy.sc\n",
       "\"\"\"\u001b[39m"
      ]
     },
     "execution_count": 1,
     "metadata": {},
     "output_type": "execute_result"
    }
   ],
   "source": [
    "val path = System.getProperty(\"user.dir\") + \"/source/load-ivy.sc\"\n",
    "interp.load.module(ammonite.ops.Path(java.nio.file.FileSystems.getDefault().getPath(path)))"
   ]
  },
  {
   "cell_type": "code",
   "execution_count": 2,
   "metadata": {},
   "outputs": [
    {
     "data": {
      "text/plain": [
       "\u001b[32mimport \u001b[39m\u001b[36mchisel3._\r\n",
       "\u001b[39m\r\n",
       "\u001b[32mimport \u001b[39m\u001b[36mchisel3.util._\r\n",
       "\u001b[39m\r\n",
       "\u001b[32mimport \u001b[39m\u001b[36mchisel3.iotesters.{ChiselFlatSpec, Driver, PeekPokeTester}\r\n",
       "\r\n",
       "\u001b[39m\r\n",
       "\u001b[32mimport \u001b[39m\u001b[36mscala.math.pow\u001b[39m"
      ]
     },
     "execution_count": 2,
     "metadata": {},
     "output_type": "execute_result"
    }
   ],
   "source": [
    "import chisel3._\n",
    "import chisel3.util._\n",
    "import chisel3.iotesters.{ChiselFlatSpec, Driver, PeekPokeTester}\n",
    "\n",
    "import scala.math.pow"
   ]
  },
  {
   "cell_type": "markdown",
   "metadata": {},
   "source": [
    "## Parallel Register File"
   ]
  },
  {
   "cell_type": "markdown",
   "metadata": {},
   "source": [
    "### Single Register File"
   ]
  },
  {
   "cell_type": "markdown",
   "metadata": {},
   "source": [
    "#### Definition"
   ]
  },
  {
   "cell_type": "code",
   "execution_count": 3,
   "metadata": {},
   "outputs": [
    {
     "data": {
      "text/plain": [
       "defined \u001b[32mclass\u001b[39m \u001b[36mRFInputs\u001b[39m\r\n",
       "defined \u001b[32mclass\u001b[39m \u001b[36mRFOutputs\u001b[39m\r\n",
       "defined \u001b[32mclass\u001b[39m \u001b[36mRF\u001b[39m"
      ]
     },
     "execution_count": 3,
     "metadata": {},
     "output_type": "execute_result"
    }
   ],
   "source": [
    "class RFInputs(dataWidth: Int, addrWidth: Int) extends Bundle {\n",
    "    \n",
    "    override def cloneType = (new RFInputs(dataWidth, addrWidth)).asInstanceOf[this.type]\n",
    "    \n",
    "    val wEnable  = Input(Bool())\n",
    "    val rEnable  = Input(Bool())\n",
    "    val wAddr    = Input(UInt(addrWidth.W))\n",
    "    val wData    = Input(SInt(dataWidth.W))\n",
    "    val rAddrInt = Input(UInt(addrWidth.W))\n",
    "    val rAddrExt = Input(UInt(addrWidth.W))\n",
    "}\n",
    "\n",
    "class RFOutputs(dataWidth: Int) extends Bundle {\n",
    "    \n",
    "    override def cloneType = (new RFOutputs(dataWidth)).asInstanceOf[this.type]\n",
    "    \n",
    "    val rDataInt = Output(SInt(dataWidth.W))\n",
    "    val rDataExt = Output(SInt(dataWidth.W))\n",
    "}\n",
    "\n",
    "class RF(dataWidth: Int, addrWidth: Int) extends Module {\n",
    "  \n",
    "    val io = IO(new Bundle {\n",
    "        val in  = new RFInputs(dataWidth, addrWidth)\n",
    "        val out = new RFOutputs(dataWidth)\n",
    "    })\n",
    "    \n",
    "    val registers = RegInit(Vec(Seq.fill(pow(2, addrWidth).toInt) { 0.S(addrWidth.W) }))\n",
    "    \n",
    "    when (io.in.wEnable) {\n",
    "        registers(io.in.wAddr) := io.in.wData\n",
    "    }\n",
    "    \n",
    "    when (io.in.rEnable) {\n",
    "        io.out.rDataInt := registers(io.in.rAddrInt)\n",
    "        io.out.rDataExt := registers(io.in.rAddrExt)\n",
    "    } .otherwise {\n",
    "        io.out.rDataInt := 0.S\n",
    "        io.out.rDataExt := 0.S\n",
    "    }\n",
    "}"
   ]
  },
  {
   "cell_type": "markdown",
   "metadata": {},
   "source": [
    "#### Verification"
   ]
  },
  {
   "cell_type": "code",
   "execution_count": 4,
   "metadata": {},
   "outputs": [
    {
     "name": "stdout",
     "output_type": "stream",
     "text": [
      "[\u001b[35minfo\u001b[0m] [0.001] Elaborating design...\n",
      "[\u001b[35minfo\u001b[0m] [0.152] Done elaborating.\n",
      "Total FIRRTL Compile Time: 642.2 ms\n",
      "Total FIRRTL Compile Time: 360.7 ms\n",
      "End of dependency graph\n",
      "Circuit state created\n",
      "[\u001b[35minfo\u001b[0m] [0.005] SEED 1532626454710\n",
      "test cmd2WrapperHelperRF Success: 7 tests passed in 8 cycles taking 0.271931 seconds\n",
      "[\u001b[35minfo\u001b[0m] [0.158] RAN 3 CYCLES PASSED\n"
     ]
    },
    {
     "data": {
      "text/plain": [
       "\u001b[36mres3\u001b[39m: \u001b[32mBoolean\u001b[39m = \u001b[32mtrue\u001b[39m"
      ]
     },
     "execution_count": 4,
     "metadata": {},
     "output_type": "execute_result"
    }
   ],
   "source": [
    "Driver(() => new RF(8, 4)) {\n",
    "    uut => new PeekPokeTester(uut) {\n",
    "         \n",
    "        poke(uut.io.in.wEnable, true)   \n",
    "        poke(uut.io.in.rEnable, true)\n",
    "\n",
    "        poke(uut.io.in.wAddr, 1)\n",
    "        poke(uut.io.in.wData, 1)\n",
    "        \n",
    "        step(1)\n",
    "        \n",
    "        // Read\n",
    "        poke(uut.io.in.rAddrInt, 1)\n",
    "        expect(uut.io.out.rDataInt, 1)\n",
    "        \n",
    "        poke(uut.io.in.rAddrExt, 1)\n",
    "        expect(uut.io.out.rDataExt, 1)\n",
    "        \n",
    "        // Write\n",
    "        poke(uut.io.in.wAddr, 2)\n",
    "        poke(uut.io.in.wData, 2)\n",
    "        \n",
    "        step(1)\n",
    "        \n",
    "        // Read\n",
    "        poke(uut.io.in.rAddrInt, 1)\n",
    "        expect(uut.io.out.rDataInt, 1)\n",
    "        \n",
    "        poke(uut.io.in.rAddrExt, 2)\n",
    "        expect(uut.io.out.rDataExt, 2)\n",
    "        \n",
    "        // Write\n",
    "        poke(uut.io.in.wAddr, 3)\n",
    "        poke(uut.io.in.wData, 3)\n",
    "        \n",
    "        step(1)\n",
    "        \n",
    "        // Read\n",
    "        poke(uut.io.in.rAddrInt, 1)\n",
    "        expect(uut.io.out.rDataInt, 1)\n",
    "        \n",
    "        poke(uut.io.in.rAddrExt, 2)\n",
    "        expect(uut.io.out.rDataExt, 2)\n",
    "        \n",
    "        poke(uut.io.in.rAddrInt, 3)\n",
    "        expect(uut.io.out.rDataInt, 3)\n",
    "    }\n",
    "}"
   ]
  },
  {
   "cell_type": "markdown",
   "metadata": {},
   "source": [
    "### Putting them Together"
   ]
  },
  {
   "cell_type": "markdown",
   "metadata": {},
   "source": [
    "#### Definition"
   ]
  },
  {
   "cell_type": "code",
   "execution_count": 12,
   "metadata": {},
   "outputs": [
    {
     "data": {
      "text/plain": [
       "defined \u001b[32mclass\u001b[39m \u001b[36mPRFInputs\u001b[39m\r\n",
       "defined \u001b[32mclass\u001b[39m \u001b[36mPRFOutputs\u001b[39m\r\n",
       "defined \u001b[32mclass\u001b[39m \u001b[36mPRF\u001b[39m"
      ]
     },
     "execution_count": 12,
     "metadata": {},
     "output_type": "execute_result"
    }
   ],
   "source": [
    "class PRFInputs(ports: Int, dataWidth: Int, addrWidth: Int, bpSoft: Boolean) extends Bundle {\n",
    "    \n",
    "    override def cloneType = \n",
    "      ( new PRFInputs(ports, dataWidth, addrWidth, bpSoft) ).asInstanceOf[this.type]\n",
    "    \n",
    "    val rf    = Vec(ports, new RFInputs(dataWidth, addrWidth))\n",
    "    val bpSel = if (bpSoft) Some(Input(Vec(ports, Bool()))) else None\n",
    "}\n",
    "\n",
    "class PRFOutputs(ports: Int, dataWidth: Int) extends Bundle {\n",
    "    \n",
    "    override def cloneType = (new PRFOutputs(ports, dataWidth)).asInstanceOf[this.type]\n",
    "    \n",
    "    val rf = Vec(ports, new RFOutputs(dataWidth))\n",
    "}\n",
    "\n",
    "class PRF(ports: Int, dataWidth: Int, addrWidth: Int, bp: String) extends Module {\n",
    "    \n",
    "    require(List(\"None\", \"Soft\", \"Hard\") contains bp)\n",
    "    \n",
    "    val bpNone = (bp == \"None\")\n",
    "    val bpSoft = (bp == \"Soft\")\n",
    "    val bpHard = (bp == \"Hard\")\n",
    "    \n",
    "    val io = IO(new Bundle {\n",
    "        val in    = new PRFInputs(ports, dataWidth, addrWidth, bpSoft)\n",
    "        val out   = new PRFOutputs(ports, dataWidth)\n",
    "    })\n",
    "    \n",
    "    if (bpNone || bpSoft) {\n",
    "        \n",
    "        val rf = Seq.fill(ports){ Module(new RF(dataWidth, addrWidth)) }\n",
    "        val bpWDefault = io.in.bpSel.getOrElse(Seq.fill(ports){ false.B })\n",
    "        \n",
    "        rf.zipWithIndex.map{\n",
    "            case (x: RF, i: Int) => { \n",
    "                x.io.in <> io.in.rf(i)\n",
    "            \n",
    "                when (bpWDefault(i)) {\n",
    "                    io.out.rf(i).rDataInt := x.io.in.wData\n",
    "                    io.out.rf(i).rDataExt := x.io.in.wData\n",
    "                } .otherwise {\n",
    "                    io.out.rf(i) <> x.io.out\n",
    "                }\n",
    "            } \n",
    "        }\n",
    "        \n",
    "    } else if (bpHard) {\n",
    "        for (i <- 0 until ports) {\n",
    "            io.out.rf(i).rDataInt := io.in.rf(i).wData\n",
    "            io.out.rf(i).rDataExt := io.in.rf(i).wData\n",
    "        }\n",
    "    }\n",
    "}"
   ]
  },
  {
   "cell_type": "markdown",
   "metadata": {},
   "source": [
    "#### Verification"
   ]
  },
  {
   "cell_type": "code",
   "execution_count": 11,
   "metadata": {},
   "outputs": [
    {
     "name": "stdout",
     "output_type": "stream",
     "text": [
      "[\u001b[35minfo\u001b[0m] [0.000] Elaborating design...\n",
      "[\u001b[35minfo\u001b[0m] [0.024] Done elaborating.\n",
      "Total FIRRTL Compile Time: 96.1 ms\n",
      "Total FIRRTL Compile Time: 43.9 ms\n",
      "End of dependency graph\n",
      "Circuit state created\n",
      "[\u001b[35minfo\u001b[0m] [0.000] SEED 1532627575772\n",
      "test cmd8WrapperHelperPRF Success: 18 tests passed in 8 cycles taking 0.053443 seconds\n",
      "[\u001b[35minfo\u001b[0m] [0.044] RAN 3 CYCLES PASSED\n"
     ]
    },
    {
     "data": {
      "text/plain": [
       "\u001b[36mres10\u001b[39m: \u001b[32mBoolean\u001b[39m = \u001b[32mtrue\u001b[39m"
      ]
     },
     "execution_count": 11,
     "metadata": {},
     "output_type": "execute_result"
    }
   ],
   "source": [
    "Driver(() => new PRF(2, 8, 4, \"Soft\")) {\n",
    "    uut => new PeekPokeTester(uut) {\n",
    "         \n",
    "        poke(uut.io.in.rf(0).wEnable, true)  \n",
    "        poke(uut.io.in.rf(1).wEnable, true) \n",
    "        poke(uut.io.in.rf(0).rEnable, true)\n",
    "        poke(uut.io.in.rf(1).rEnable, true)\n",
    "        poke(uut.io.in.bpSel.get(0), false)\n",
    "        poke(uut.io.in.bpSel.get(1), false)\n",
    "\n",
    "        poke(uut.io.in.rf(0).wAddr, 1)\n",
    "        poke(uut.io.in.rf(1).wAddr, 1)\n",
    "        poke(uut.io.in.rf(0).wData, 1)\n",
    "        poke(uut.io.in.rf(1).wData, 1)\n",
    "        \n",
    "        step(1)\n",
    "        \n",
    "        // Read\n",
    "        poke(uut.io.in.rf(0).rAddrInt, 1)\n",
    "        poke(uut.io.in.rf(1).rAddrInt, 1)\n",
    "        expect(uut.io.out.rf(0).rDataInt, 1)\n",
    "        expect(uut.io.out.rf(1).rDataInt, 1)\n",
    "        \n",
    "        poke(uut.io.in.rf(0).rAddrExt, 1)\n",
    "        poke(uut.io.in.rf(1).rAddrExt, 1)\n",
    "        expect(uut.io.out.rf(0).rDataExt, 1)\n",
    "        expect(uut.io.out.rf(1).rDataExt, 1)\n",
    "        \n",
    "        // Write\n",
    "        poke(uut.io.in.rf(0).wAddr, 2)\n",
    "        poke(uut.io.in.rf(1).wAddr, 2)\n",
    "        poke(uut.io.in.rf(0).wData, 2)\n",
    "        poke(uut.io.in.rf(1).wData, 2)\n",
    "        \n",
    "        step(1)\n",
    "        \n",
    "        // Read\n",
    "        poke(uut.io.in.rf(0).rAddrInt, 1)\n",
    "        poke(uut.io.in.rf(1).rAddrInt, 1)\n",
    "        expect(uut.io.out.rf(0).rDataInt, 1)\n",
    "        expect(uut.io.out.rf(1).rDataInt, 1)\n",
    "        \n",
    "        poke(uut.io.in.rf(0).rAddrExt, 2)\n",
    "        poke(uut.io.in.rf(1).rAddrExt, 2)\n",
    "        expect(uut.io.out.rf(0).rDataExt, 2)\n",
    "        expect(uut.io.out.rf(1).rDataExt, 2)\n",
    "        \n",
    "        // Write\n",
    "        poke(uut.io.in.rf(0).wAddr, 3)\n",
    "        poke(uut.io.in.rf(1).wAddr, 3)\n",
    "        poke(uut.io.in.rf(0).wData, 3)\n",
    "        poke(uut.io.in.rf(1).wData, 3)\n",
    "        \n",
    "        step(1)\n",
    "        \n",
    "        // Read\n",
    "        poke(uut.io.in.rf(0).rAddrInt, 1)\n",
    "        poke(uut.io.in.rf(1).rAddrInt, 1)\n",
    "        expect(uut.io.out.rf(0).rDataInt, 1)\n",
    "        expect(uut.io.out.rf(1).rDataInt, 1)\n",
    "        \n",
    "        poke(uut.io.in.rf(0).rAddrExt, 2)\n",
    "        poke(uut.io.in.rf(1).rAddrExt, 2)\n",
    "        expect(uut.io.out.rf(0).rDataExt, 2)\n",
    "        expect(uut.io.out.rf(1).rDataExt, 2)\n",
    "        \n",
    "        poke(uut.io.in.rf(0).rAddrInt, 3)\n",
    "        poke(uut.io.in.rf(1).rAddrInt, 3)\n",
    "        expect(uut.io.out.rf(0).rDataInt, 3)\n",
    "        expect(uut.io.out.rf(1).rDataInt, 3)\n",
    "        \n",
    "        // Bypass\n",
    "        poke(uut.io.in.bpSel.get(0), true)\n",
    "        poke(uut.io.in.bpSel.get(1), false)\n",
    "        poke(uut.io.in.rf(0).wData, 10)\n",
    "        poke(uut.io.in.rf(1).wData, 10)\n",
    "        expect(uut.io.out.rf(0).rDataInt, 10)\n",
    "        expect(uut.io.out.rf(1).rDataInt, 3)\n",
    "        expect(uut.io.out.rf(0).rDataExt, 10)\n",
    "        expect(uut.io.out.rf(1).rDataExt, 2)\n",
    "    }\n",
    "}"
   ]
  },
  {
   "cell_type": "markdown",
   "metadata": {},
   "source": [
    "## Inner Product Unit"
   ]
  },
  {
   "cell_type": "markdown",
   "metadata": {},
   "source": [
    "### Parallel Multiplier"
   ]
  },
  {
   "cell_type": "markdown",
   "metadata": {},
   "source": [
    "#### Definition"
   ]
  },
  {
   "cell_type": "code",
   "execution_count": 233,
   "metadata": {},
   "outputs": [
    {
     "data": {
      "text/plain": [
       "defined \u001b[32mclass\u001b[39m \u001b[36mPMultiplier\u001b[39m"
      ]
     },
     "execution_count": 233,
     "metadata": {},
     "output_type": "execute_result"
    }
   ],
   "source": [
    "class PMultiplier(numPairs: Int, bitWidth: Int) extends Module {\n",
    "    \n",
    "    require(numPairs >= 1, \"Must have at least one pair of multiplicands.\")\n",
    "    require(bitWidth >= 1, \"Bitwidth must be at least one.\")\n",
    "    \n",
    "    val io = IO(new Bundle {\n",
    "        val in1 = Input (Vec(numPairs, SInt(bitWidth.W)))\n",
    "        val in2 = Input (Vec(numPairs, SInt(bitWidth.W)))\n",
    "        val out = Output(Vec(numPairs, SInt(bitWidth.W)))\n",
    "    })\n",
    "    \n",
    "    io.out := (io.in1 zip io.in2).map { case(a, b) => a * b }\n",
    "}"
   ]
  },
  {
   "cell_type": "markdown",
   "metadata": {},
   "source": [
    "#### Verification"
   ]
  },
  {
   "cell_type": "code",
   "execution_count": 234,
   "metadata": {},
   "outputs": [
    {
     "name": "stdout",
     "output_type": "stream",
     "text": [
      "[\u001b[35minfo\u001b[0m] [0.000] Elaborating design...\n",
      "[\u001b[35minfo\u001b[0m] [0.002] Done elaborating.\n",
      "Total FIRRTL Compile Time: 2.9 ms\n",
      "Total FIRRTL Compile Time: 2.5 ms\n",
      "End of dependency graph\n",
      "Circuit state created\n",
      "[\u001b[35minfo\u001b[0m] [0.000] SEED 1532545425580\n",
      "test cmd232WrapperHelperPMultiplier Success: 4 tests passed in 5 cycles taking 0.002662 seconds\n",
      "[\u001b[35minfo\u001b[0m] [0.002] RAN 0 CYCLES PASSED\n"
     ]
    },
    {
     "data": {
      "text/plain": [
       "\u001b[36mres233\u001b[39m: \u001b[32mBoolean\u001b[39m = \u001b[32mtrue\u001b[39m"
      ]
     },
     "execution_count": 234,
     "metadata": {},
     "output_type": "execute_result"
    }
   ],
   "source": [
    "Driver(() => new PMultiplier(4, 8)) {\n",
    "    uut => new PeekPokeTester(uut) {\n",
    "        poke(uut.io.in1(0), 1) \n",
    "        poke(uut.io.in2(0), 2)\n",
    "        \n",
    "        poke(uut.io.in1(1), 3) \n",
    "        poke(uut.io.in2(1), 4)\n",
    "        \n",
    "        poke(uut.io.in1(2), 5)\n",
    "        poke(uut.io.in2(2), 6)\n",
    "        \n",
    "        poke(uut.io.in1(3), 7)\n",
    "        poke(uut.io.in2(3), 8)\n",
    "        \n",
    "        expect(uut.io.out(0), 2)\n",
    "        expect(uut.io.out(1), 12)\n",
    "        expect(uut.io.out(2), 30)\n",
    "        expect(uut.io.out(3), 56)\n",
    "  }\n",
    "}"
   ]
  },
  {
   "cell_type": "markdown",
   "metadata": {},
   "source": [
    "### Additive Reduction Tree"
   ]
  },
  {
   "cell_type": "markdown",
   "metadata": {},
   "source": [
    "#### Definition"
   ]
  },
  {
   "cell_type": "code",
   "execution_count": 235,
   "metadata": {},
   "outputs": [
    {
     "data": {
      "text/plain": [
       "defined \u001b[32mfunction\u001b[39m \u001b[36mnonassocPairwiseReduce\u001b[39m\r\n",
       "defined \u001b[32mclass\u001b[39m \u001b[36mAdditiveRT\u001b[39m"
      ]
     },
     "execution_count": 235,
     "metadata": {},
     "output_type": "execute_result"
    }
   ],
   "source": [
    "// Recursively creates a balanced syntax tree\n",
    "def nonassocPairwiseReduce[A](xs: List[A], op: (A, A) => A): A = {\n",
    "  xs match {\n",
    "    case Nil => throw new IllegalArgumentException\n",
    "    case List(singleElem) => singleElem\n",
    "    case sthElse => {\n",
    "      val grouped = sthElse.grouped(2).toList\n",
    "      val pairwiseOpd = for (g <- grouped) yield {\n",
    "        g match {\n",
    "          case List(a, b) => op(a, b)\n",
    "          case List(x) => x\n",
    "        }\n",
    "      }\n",
    "      nonassocPairwiseReduce(pairwiseOpd, op)\n",
    "    }\n",
    "  }\n",
    "}\n",
    "\n",
    "\n",
    "class AdditiveRT(numAddends: Int, bitWidth: Int) extends Module {\n",
    "\n",
    "    require(numAddends >= 1, \"Number of addends must be at least one.\")\n",
    "    require(bitWidth >= 1, \"Bitwidth must be at least one.\")\n",
    "    \n",
    "    val io = IO(new Bundle {\n",
    "        val in  = Input (Vec(numAddends, SInt(bitWidth.W)))\n",
    "        val out = Output(SInt(bitWidth.W))\n",
    "    })\n",
    "    \n",
    "    io.out := nonassocPairwiseReduce(io.in toList, (x: SInt, y: SInt) => x + y)\n",
    "}"
   ]
  },
  {
   "cell_type": "markdown",
   "metadata": {},
   "source": [
    "#### Verilog"
   ]
  },
  {
   "cell_type": "code",
   "execution_count": 236,
   "metadata": {},
   "outputs": [
    {
     "name": "stdout",
     "output_type": "stream",
     "text": [
      "[\u001b[35minfo\u001b[0m] [0.000] Elaborating design...\n",
      "[\u001b[35minfo\u001b[0m] [0.003] Done elaborating.\n",
      "Total FIRRTL Compile Time: 109.2 ms\n",
      "\n",
      "module cmd234WrapperHelperAdditiveRT( // @[:@3.2]\n",
      "  input        clock, // @[:@4.4]\n",
      "  input        reset, // @[:@5.4]\n",
      "  input  [3:0] io_in_0, // @[:@6.4]\n",
      "  input  [3:0] io_in_1, // @[:@6.4]\n",
      "  input  [3:0] io_in_2, // @[:@6.4]\n",
      "  input  [3:0] io_in_3, // @[:@6.4]\n",
      "  output [3:0] io_out // @[:@6.4]\n",
      ");\n",
      "  wire [4:0] _T_12; // @[cmd234.sc 29:76:@8.4]\n",
      "  wire [3:0] _T_13; // @[cmd234.sc 29:76:@9.4]\n",
      "  wire [3:0] _T_14; // @[cmd234.sc 29:76:@10.4]\n",
      "  wire [4:0] _T_15; // @[cmd234.sc 29:76:@11.4]\n",
      "  wire [3:0] _T_16; // @[cmd234.sc 29:76:@12.4]\n",
      "  wire [3:0] _T_17; // @[cmd234.sc 29:76:@13.4]\n",
      "  wire [4:0] _T_18; // @[cmd234.sc 29:76:@14.4]\n",
      "  wire [3:0] _T_19; // @[cmd234.sc 29:76:@15.4]\n",
      "  wire [3:0] _T_20; // @[cmd234.sc 29:76:@16.4]\n",
      "  assign _T_12 = $signed(io_in_0) + $signed(io_in_1); // @[cmd234.sc 29:76:@8.4]\n",
      "  assign _T_13 = _T_12[3:0]; // @[cmd234.sc 29:76:@9.4]\n",
      "  assign _T_14 = $signed(_T_13); // @[cmd234.sc 29:76:@10.4]\n",
      "  assign _T_15 = $signed(io_in_2) + $signed(io_in_3); // @[cmd234.sc 29:76:@11.4]\n",
      "  assign _T_16 = _T_15[3:0]; // @[cmd234.sc 29:76:@12.4]\n",
      "  assign _T_17 = $signed(_T_16); // @[cmd234.sc 29:76:@13.4]\n",
      "  assign _T_18 = $signed(_T_14) + $signed(_T_17); // @[cmd234.sc 29:76:@14.4]\n",
      "  assign _T_19 = _T_18[3:0]; // @[cmd234.sc 29:76:@15.4]\n",
      "  assign _T_20 = $signed(_T_19); // @[cmd234.sc 29:76:@16.4]\n",
      "  assign io_out = _T_20;\n",
      "endmodule\n",
      "\n",
      "[\u001b[35minfo\u001b[0m] [0.000] Elaborating design...\n",
      "[\u001b[35minfo\u001b[0m] [0.001] Done elaborating.\n",
      "Total FIRRTL Compile Time: 9.2 ms\n",
      "\n",
      "module cmd234WrapperHelperAdditiveRT( // @[:@3.2]\n",
      "  input        clock, // @[:@4.4]\n",
      "  input        reset, // @[:@5.4]\n",
      "  input  [3:0] io_in_0, // @[:@6.4]\n",
      "  input  [3:0] io_in_1, // @[:@6.4]\n",
      "  input  [3:0] io_in_2, // @[:@6.4]\n",
      "  input  [3:0] io_in_3, // @[:@6.4]\n",
      "  input  [3:0] io_in_4, // @[:@6.4]\n",
      "  input  [3:0] io_in_5, // @[:@6.4]\n",
      "  output [3:0] io_out // @[:@6.4]\n",
      ");\n",
      "  wire [4:0] _T_14; // @[cmd234.sc 29:76:@8.4]\n",
      "  wire [3:0] _T_15; // @[cmd234.sc 29:76:@9.4]\n",
      "  wire [3:0] _T_16; // @[cmd234.sc 29:76:@10.4]\n",
      "  wire [4:0] _T_17; // @[cmd234.sc 29:76:@11.4]\n",
      "  wire [3:0] _T_18; // @[cmd234.sc 29:76:@12.4]\n",
      "  wire [3:0] _T_19; // @[cmd234.sc 29:76:@13.4]\n",
      "  wire [4:0] _T_20; // @[cmd234.sc 29:76:@14.4]\n",
      "  wire [3:0] _T_21; // @[cmd234.sc 29:76:@15.4]\n",
      "  wire [3:0] _T_22; // @[cmd234.sc 29:76:@16.4]\n",
      "  wire [4:0] _T_23; // @[cmd234.sc 29:76:@17.4]\n",
      "  wire [3:0] _T_24; // @[cmd234.sc 29:76:@18.4]\n",
      "  wire [3:0] _T_25; // @[cmd234.sc 29:76:@19.4]\n",
      "  wire [4:0] _T_26; // @[cmd234.sc 29:76:@20.4]\n",
      "  wire [3:0] _T_27; // @[cmd234.sc 29:76:@21.4]\n",
      "  wire [3:0] _T_28; // @[cmd234.sc 29:76:@22.4]\n",
      "  assign _T_14 = $signed(io_in_0) + $signed(io_in_1); // @[cmd234.sc 29:76:@8.4]\n",
      "  assign _T_15 = _T_14[3:0]; // @[cmd234.sc 29:76:@9.4]\n",
      "  assign _T_16 = $signed(_T_15); // @[cmd234.sc 29:76:@10.4]\n",
      "  assign _T_17 = $signed(io_in_2) + $signed(io_in_3); // @[cmd234.sc 29:76:@11.4]\n",
      "  assign _T_18 = _T_17[3:0]; // @[cmd234.sc 29:76:@12.4]\n",
      "  assign _T_19 = $signed(_T_18); // @[cmd234.sc 29:76:@13.4]\n",
      "  assign _T_20 = $signed(io_in_4) + $signed(io_in_5); // @[cmd234.sc 29:76:@14.4]\n",
      "  assign _T_21 = _T_20[3:0]; // @[cmd234.sc 29:76:@15.4]\n",
      "  assign _T_22 = $signed(_T_21); // @[cmd234.sc 29:76:@16.4]\n",
      "  assign _T_23 = $signed(_T_16) + $signed(_T_19); // @[cmd234.sc 29:76:@17.4]\n",
      "  assign _T_24 = _T_23[3:0]; // @[cmd234.sc 29:76:@18.4]\n",
      "  assign _T_25 = $signed(_T_24); // @[cmd234.sc 29:76:@19.4]\n",
      "  assign _T_26 = $signed(_T_25) + $signed(_T_22); // @[cmd234.sc 29:76:@20.4]\n",
      "  assign _T_27 = _T_26[3:0]; // @[cmd234.sc 29:76:@21.4]\n",
      "  assign _T_28 = $signed(_T_27); // @[cmd234.sc 29:76:@22.4]\n",
      "  assign io_out = _T_28;\n",
      "endmodule\n",
      "\n"
     ]
    }
   ],
   "source": [
    "println(getVerilog(new AdditiveRT(4, 4)))\n",
    "println(getVerilog(new AdditiveRT(6, 4)))"
   ]
  },
  {
   "cell_type": "markdown",
   "metadata": {},
   "source": [
    "#### Verification"
   ]
  },
  {
   "cell_type": "code",
   "execution_count": 237,
   "metadata": {},
   "outputs": [
    {
     "name": "stdout",
     "output_type": "stream",
     "text": [
      "[\u001b[35minfo\u001b[0m] [0.000] Elaborating design...\n",
      "[\u001b[35minfo\u001b[0m] [0.001] Done elaborating.\n",
      "Total FIRRTL Compile Time: 2.6 ms\n",
      "Total FIRRTL Compile Time: 2.1 ms\n",
      "End of dependency graph\n",
      "Circuit state created\n",
      "[\u001b[35minfo\u001b[0m] [0.000] SEED 1532545575458\n",
      "test cmd234WrapperHelperAdditiveRT Success: 2 tests passed in 5 cycles taking 0.001228 seconds\n",
      "[\u001b[35minfo\u001b[0m] [0.001] RAN 0 CYCLES PASSED\n"
     ]
    },
    {
     "data": {
      "text/plain": [
       "\u001b[36mres236\u001b[39m: \u001b[32mBoolean\u001b[39m = \u001b[32mtrue\u001b[39m"
      ]
     },
     "execution_count": 237,
     "metadata": {},
     "output_type": "execute_result"
    }
   ],
   "source": [
    "Driver(() => new AdditiveRT(4, 8)) {\n",
    "    uut => new PeekPokeTester(uut) {\n",
    "        poke(uut.io.in(0), 1) \n",
    "        poke(uut.io.in(1), 2)\n",
    "        poke(uut.io.in(2), 8) \n",
    "        poke(uut.io.in(3), 9) \n",
    "        expect(uut.io.out, 20)\n",
    "        \n",
    "        poke(uut.io.in(0), 1) \n",
    "        poke(uut.io.in(1), 2)\n",
    "        poke(uut.io.in(2), 8) \n",
    "        poke(uut.io.in(3), 9) \n",
    "        expect(uut.io.out, 20)\n",
    "    }\n",
    "}"
   ]
  },
  {
   "cell_type": "markdown",
   "metadata": {},
   "source": [
    "### Putting them Together"
   ]
  },
  {
   "cell_type": "markdown",
   "metadata": {},
   "source": [
    "#### Definition"
   ]
  },
  {
   "cell_type": "code",
   "execution_count": 244,
   "metadata": {},
   "outputs": [
    {
     "data": {
      "text/plain": [
       "defined \u001b[32mfunction\u001b[39m \u001b[36mcheckparamsIPU\u001b[39m\r\n",
       "defined \u001b[32mclass\u001b[39m \u001b[36mIPU\u001b[39m"
      ]
     },
     "execution_count": 244,
     "metadata": {},
     "output_type": "execute_result"
    }
   ],
   "source": [
    "def checkparamsIPU(width: Int, bypassType: String, bitWidth: Int) {\n",
    "    require(width >= 1, \"Width must be at least one.\")\n",
    "    require(List(\"None\", \"Firm\").contains(bypassType), \"Bypass must be \\\"None\\\" or \\\"Firm\\\"\")\n",
    "    require(bitWidth >= 0, \"Data bitwidth must be non-negative\")\n",
    "}\n",
    "\n",
    "\n",
    "class IPU(width: Int, bypassType: String, bitWidth: Int) extends Module {\n",
    "    \n",
    "    checkparamsIPU(width, bypassType, bitWidth)\n",
    "    \n",
    "    val io = IO(new Bundle {\n",
    "        val in1 = Input(Vec(width, SInt(bitWidth.W)))\n",
    "        val in2 = Input(Vec(width, SInt(bitWidth.W)))\n",
    "        val out = Output(SInt(bitWidth.W))\n",
    "        val sel = if(bypassType == \"Firm\") Some(Input(Vec(width, Bool()))) else None\n",
    "        val bp1 = if(bypassType == \"Firm\") Some(Output(SInt(bitWidth.W)))  else None\n",
    "        val bp2 = if(bypassType == \"Firm\") Some(Output(SInt(bitWidth.W)))  else None\n",
    "    })\n",
    "    \n",
    "    val pM = Module(new PMultiplier(width, bitWidth))\n",
    "    pM.io.in1 := io.in1\n",
    "    pM.io.in2 := io.in2\n",
    "    \n",
    "    val aRT = Module(new AdditiveRT(width, bitWidth))\n",
    "    aRT.io.in := pM.io.out\n",
    "    \n",
    "    io.out := aRT.io.out\n",
    "    \n",
    "    if (bypassType == \"Firm\") {\n",
    "        io.bp1.get := PriorityMux(io.sel.get, io.in1)\n",
    "        io.bp2.get := PriorityMux(io.sel.get, io.in2)\n",
    "    }\n",
    "}"
   ]
  },
  {
   "cell_type": "markdown",
   "metadata": {},
   "source": [
    "#### Verification"
   ]
  },
  {
   "cell_type": "code",
   "execution_count": 259,
   "metadata": {},
   "outputs": [
    {
     "name": "stdout",
     "output_type": "stream",
     "text": [
      "[\u001b[35minfo\u001b[0m] [0.000] Elaborating design...\n",
      "[\u001b[35minfo\u001b[0m] [0.001] Done elaborating.\n",
      "Total FIRRTL Compile Time: 6.7 ms\n",
      "Total FIRRTL Compile Time: 6.2 ms\n",
      "End of dependency graph\n",
      "Circuit state created\n",
      "[\u001b[35minfo\u001b[0m] [0.000] SEED 1532546560594\n",
      "test cmd243WrapperHelperIPU Success: 5 tests passed in 5 cycles taking 0.002253 seconds\n",
      "[\u001b[35minfo\u001b[0m] [0.002] RAN 0 CYCLES PASSED\n"
     ]
    },
    {
     "data": {
      "text/plain": [
       "\u001b[36mres258\u001b[39m: \u001b[32mBoolean\u001b[39m = \u001b[32mtrue\u001b[39m"
      ]
     },
     "execution_count": 259,
     "metadata": {},
     "output_type": "execute_result"
    }
   ],
   "source": [
    "Driver(() => new IPU(width=4, bypassType=\"Firm\", bitWidth=8)) {\n",
    "    uut => new PeekPokeTester(uut) {\n",
    "        \n",
    "        poke(uut.io.sel.get(0), 0)\n",
    "        poke(uut.io.sel.get(1), 0)\n",
    "        poke(uut.io.sel.get(2), 0)\n",
    "        poke(uut.io.sel.get(3), 0)\n",
    "        \n",
    "        poke(uut.io.in1(0), 1)\n",
    "        poke(uut.io.in1(1), 2)\n",
    "        poke(uut.io.in1(2), 3)\n",
    "        poke(uut.io.in1(3), 4)\n",
    "        \n",
    "        poke(uut.io.in2(0), 5)\n",
    "        poke(uut.io.in2(1), 6)\n",
    "        poke(uut.io.in2(2), 7)\n",
    "        poke(uut.io.in2(3), 8)\n",
    "        \n",
    "        expect(uut.io.out, 70)\n",
    "        \n",
    "        poke(uut.io.sel.get(0), 0)\n",
    "        poke(uut.io.sel.get(1), 1)\n",
    "        poke(uut.io.sel.get(2), 0)\n",
    "        poke(uut.io.sel.get(3), 0)\n",
    "        \n",
    "        expect(uut.io.bp1.get, 2)\n",
    "        expect(uut.io.bp2.get, 6)\n",
    "        \n",
    "        poke(uut.io.sel.get(0), 0)\n",
    "        poke(uut.io.sel.get(1), 0)\n",
    "        poke(uut.io.sel.get(2), 1)\n",
    "        poke(uut.io.sel.get(3), 0)\n",
    "        \n",
    "        expect(uut.io.bp1.get, 3)\n",
    "        expect(uut.io.bp2.get, 7)\n",
    "    }\n",
    "}"
   ]
  },
  {
   "cell_type": "markdown",
   "metadata": {},
   "source": [
    "## ALU"
   ]
  },
  {
   "cell_type": "markdown",
   "metadata": {},
   "source": [
    "#### Definition"
   ]
  },
  {
   "cell_type": "code",
   "execution_count": 281,
   "metadata": {},
   "outputs": [
    {
     "data": {
      "text/plain": [
       "defined \u001b[32mfunction\u001b[39m \u001b[36mcheckparamsALU\u001b[39m\r\n",
       "defined \u001b[32mclass\u001b[39m \u001b[36mALU\u001b[39m"
      ]
     },
     "execution_count": 281,
     "metadata": {},
     "output_type": "execute_result"
    }
   ],
   "source": [
    "def checkparamsALU(funcs: List[String], datawidth: Int) {\n",
    "    require(funcs.contains(\"Identity\"), \"ALU functions must explicitly include Identity.\")\n",
    "    val supportedFuncs = List(\"Identity\", \"Add\", \"Max\", \"Accumulate\")\n",
    "    for(x <- funcs)(require(supportedFuncs.contains(x), \"Unsupported Function\"))\n",
    "}\n",
    "\n",
    "class ALU(funcs: List[String], dataWidth: Int) extends Module {\n",
    "    \n",
    "    checkparamsALU(funcs, dataWidth)\n",
    "    \n",
    "    val addBypassIn = List(\"Add\", \"Max\").intersect(funcs).nonEmpty\n",
    "    val addFeedback = funcs.contains(\"Accumulate\")\n",
    " \n",
    "    val io = IO(new Bundle {\n",
    "        val innerProduct = Input(SInt(dataWidth.W))\n",
    "        val funcSel      = Input(Vec(funcs.length, Bool()))\n",
    "        val output       = Output(SInt(dataWidth.W))\n",
    "        val weightBp     = if(addBypassIn) Some(Input(SInt(dataWidth.W))) else None\n",
    "        val actvtnBp     = if(addBypassIn) Some(Input(SInt(dataWidth.W))) else None\n",
    "        val rfFeedback   = if(addFeedback) Some(Input(SInt(dataWidth.W))) else None\n",
    "    })\n",
    "    \n",
    "    val idnOut = Some(Wire(SInt(dataWidth.W)))\n",
    "    val addOut = if(funcs.contains(\"Add\"))        Some(Wire(SInt(dataWidth.W))) else None\n",
    "    val maxOut = if(funcs.contains(\"Max\"))        Some(Wire(SInt(dataWidth.W))) else None\n",
    "    val accOut = if(funcs.contains(\"Accumulate\")) Some(Wire(SInt(dataWidth.W))) else None\n",
    "    \n",
    "    idnOut.get := io.innerProduct\n",
    "    \n",
    "    if (funcs.contains(\"Add\")       ) { addOut.get := io.weightBp.get + io.actvtnBp.get }\n",
    "    if (funcs.contains(\"Accumulate\")) { accOut.get := io.innerProduct + io.rfFeedback.get }\n",
    "    if (funcs.contains(\"Max\")       ) {\n",
    "        when (io.weightBp.get > io.actvtnBp.get) {\n",
    "            maxOut.get := io.weightBp.get\n",
    "        } .otherwise {\n",
    "            maxOut.get := io.actvtnBp.get\n",
    "        }\n",
    "    }\n",
    "    \n",
    "    val inters = (idnOut :: addOut :: maxOut :: accOut :: Nil) filter ( _.isDefined ) map ( _.get )\n",
    "    io.output := PriorityMux(io.funcSel, inters)\n",
    "}"
   ]
  },
  {
   "cell_type": "markdown",
   "metadata": {},
   "source": [
    "#### Verification"
   ]
  },
  {
   "cell_type": "code",
   "execution_count": 287,
   "metadata": {},
   "outputs": [
    {
     "name": "stdout",
     "output_type": "stream",
     "text": [
      "[\u001b[35minfo\u001b[0m] [0.000] Elaborating design...\n",
      "[\u001b[35minfo\u001b[0m] [0.001] Done elaborating.\n",
      "Total FIRRTL Compile Time: 5.0 ms\n",
      "Total FIRRTL Compile Time: 4.2 ms\n",
      "End of dependency graph\n",
      "Circuit state created\n",
      "[\u001b[35minfo\u001b[0m] [0.000] SEED 1532556227733\n",
      "test cmd280WrapperHelperALU Success: 4 tests passed in 5 cycles taking 0.002605 seconds\n",
      "[\u001b[35minfo\u001b[0m] [0.002] RAN 0 CYCLES PASSED\n"
     ]
    },
    {
     "data": {
      "text/plain": [
       "\u001b[36mfuncs\u001b[39m: \u001b[32mList\u001b[39m[\u001b[32mString\u001b[39m] = \u001b[33mList\u001b[39m(\u001b[32m\"Identity\"\u001b[39m, \u001b[32m\"Add\"\u001b[39m, \u001b[32m\"Max\"\u001b[39m, \u001b[32m\"Accumulate\"\u001b[39m)\r\n",
       "\u001b[36mres286_1\u001b[39m: \u001b[32mBoolean\u001b[39m = \u001b[32mtrue\u001b[39m"
      ]
     },
     "execution_count": 287,
     "metadata": {},
     "output_type": "execute_result"
    }
   ],
   "source": [
    "val funcs = \"Identity\" :: \"Add\" :: \"Max\" :: \"Accumulate\" :: Nil\n",
    "\n",
    "Driver(() => new ALU(funcs, 8)) {\n",
    "    uut => new PeekPokeTester(uut) {\n",
    "        \n",
    "        poke(uut.io.innerProduct, 1)\n",
    "        poke(uut.io.weightBp.get, 2)\n",
    "        poke(uut.io.actvtnBp.get, 3)\n",
    "        poke(uut.io.rfFeedback.get, 4)\n",
    "        \n",
    "        poke(uut.io.funcSel(0), 1)\n",
    "        poke(uut.io.funcSel(1), 0)\n",
    "        poke(uut.io.funcSel(2), 0)\n",
    "        poke(uut.io.funcSel(3), 0)\n",
    "        expect(uut.io.output, 1)\n",
    "        \n",
    "        poke(uut.io.funcSel(0), 0)\n",
    "        poke(uut.io.funcSel(1), 1)\n",
    "        poke(uut.io.funcSel(2), 0)\n",
    "        poke(uut.io.funcSel(3), 0)\n",
    "        expect(uut.io.output, 5)\n",
    "        \n",
    "        poke(uut.io.funcSel(0), 0)\n",
    "        poke(uut.io.funcSel(1), 0)\n",
    "        poke(uut.io.funcSel(2), 1)\n",
    "        poke(uut.io.funcSel(3), 0)\n",
    "        expect(uut.io.output, 3)\n",
    "        \n",
    "        poke(uut.io.funcSel(0), 0)\n",
    "        poke(uut.io.funcSel(1), 0)\n",
    "        poke(uut.io.funcSel(2), 0)\n",
    "        poke(uut.io.funcSel(3), 1)\n",
    "        expect(uut.io.output, 5)\n",
    "    }\n",
    "}"
   ]
  },
  {
   "cell_type": "markdown",
   "metadata": {},
   "source": [
    "## Nonlinear Unit"
   ]
  },
  {
   "cell_type": "code",
   "execution_count": 9,
   "metadata": {},
   "outputs": [
    {
     "data": {
      "text/plain": [
       "defined \u001b[32mfunction\u001b[39m \u001b[36mcheckparamsNLU\u001b[39m\r\n",
       "defined \u001b[32mclass\u001b[39m \u001b[36mNonlinearUnit\u001b[39m"
      ]
     },
     "execution_count": 9,
     "metadata": {},
     "output_type": "execute_result"
    }
   ],
   "source": [
    "def checkparamsNLU(funcs: List[String], datawidth: Int) {\n",
    "    require(funcs.contains(\"Identity\"), \"NLU functions must explicitly include Identity.\")\n",
    "    val supportedFuncs = List(\"Identity\", \"ReLu\")\n",
    "    for(x <- funcs)(require(supportedFuncs.contains(x), \"Unsupported Function\"))\n",
    "}\n",
    "\n",
    "class NonlinearUnit(funcs: List[String], datawidth: Int) extends Module {\n",
    "    \n",
    "    checkparamsNLU(funcs, datawidth)\n",
    "    \n",
    "    val io = IO(new Bundle {\n",
    "        val input = Input(SInt(datawidth.W))\n",
    "        val fslct = Input(Vec(funcs.length, Bool()))\n",
    "        val outpt = Output(SInt(datawidth.W))\n",
    "    })\n",
    "    \n",
    "    val idntOut = Some(Wire(SInt(datawidth.W)))\n",
    "    val reluOut = if(funcs.contains(\"ReLu\")) Some(Wire(SInt(datawidth.W))) else None\n",
    "    \n",
    "    idntOut.get := io.input\n",
    "    if (funcs.contains(\"ReLu\")) {\n",
    "        when (io.input > 0.S) {\n",
    "            reluOut.get := io.input\n",
    "        } .otherwise {\n",
    "            reluOut.get := 0.S\n",
    "        }\n",
    "    }\n",
    "    \n",
    "    val inters = (idntOut :: reluOut :: Nil) filter ( _.isDefined ) map ( _.get )\n",
    "    io.outpt := PriorityMux(io.fslct, inters)\n",
    "}"
   ]
  },
  {
   "cell_type": "code",
   "execution_count": null,
   "metadata": {},
   "outputs": [],
   "source": []
  },
  {
   "cell_type": "markdown",
   "metadata": {},
   "source": [
    "## Control"
   ]
  },
  {
   "cell_type": "markdown",
   "metadata": {},
   "source": [
    "### State Machine"
   ]
  },
  {
   "cell_type": "markdown",
   "metadata": {},
   "source": [
    "#### Definition"
   ]
  },
  {
   "cell_type": "code",
   "execution_count": 340,
   "metadata": {},
   "outputs": [
    {
     "data": {
      "text/plain": [
       "defined \u001b[32mclass\u001b[39m \u001b[36mStateMachine\u001b[39m"
      ]
     },
     "execution_count": 340,
     "metadata": {},
     "output_type": "execute_result"
    }
   ],
   "source": [
    "class StateMachine(numStates: Int, nextState: (UInt, UInt, Int) => UInt, ctrlWidth: Int) extends Module {\n",
    "    \n",
    "    val stateWidth: Int = log2Up(numStates)\n",
    "    \n",
    "    val io = IO(new Bundle {\n",
    "        val control = Input (UInt(ctrlWidth.W ))\n",
    "        val out     = Output(UInt(stateWidth.W))\n",
    "    })\n",
    "    \n",
    "    val register = RegInit(0.U(stateWidth.W))\n",
    "    register := nextState(register, io.control, ctrlWidth)\n",
    "    io.out := register\n",
    "}"
   ]
  },
  {
   "cell_type": "markdown",
   "metadata": {},
   "source": [
    "#### Example"
   ]
  },
  {
   "cell_type": "code",
   "execution_count": 341,
   "metadata": {},
   "outputs": [
    {
     "data": {
      "text/plain": [
       "defined \u001b[32mfunction\u001b[39m \u001b[36mstateMap\u001b[39m"
      ]
     },
     "execution_count": 341,
     "metadata": {},
     "output_type": "execute_result"
    }
   ],
   "source": [
    "def stateMap(state: UInt, control: UInt, stateWidth: Int): UInt = {\n",
    "    \n",
    "    val nextState = Wire(UInt(stateWidth.W))\n",
    "    \n",
    "    when     (state === 0.U & control === 0.U) { nextState := 0.U }\n",
    "    .elsewhen(state === 0.U & control === 1.U) { nextState := 1.U }\n",
    "    .elsewhen(state === 1.U & control === 0.U) { nextState := 0.U }\n",
    "    .elsewhen(state === 1.U & control === 1.U) { nextState := 1.U }\n",
    "    .otherwise { nextState := 0.U }\n",
    "    \n",
    "    nextState\n",
    "}"
   ]
  },
  {
   "cell_type": "markdown",
   "metadata": {},
   "source": [
    "#### Verification"
   ]
  },
  {
   "cell_type": "code",
   "execution_count": 343,
   "metadata": {},
   "outputs": [
    {
     "name": "stdout",
     "output_type": "stream",
     "text": [
      "[\u001b[35minfo\u001b[0m] [0.000] Elaborating design...\n",
      "[\u001b[35minfo\u001b[0m] [0.002] Done elaborating.\n",
      "Total FIRRTL Compile Time: 10.1 ms\n",
      "Total FIRRTL Compile Time: 12.5 ms\n",
      "End of dependency graph\n",
      "Circuit state created\n",
      "[\u001b[35minfo\u001b[0m] [0.000] SEED 1532561171036\n",
      "test cmd339WrapperHelperStateMachine Success: 5 tests passed in 9 cycles taking 0.004398 seconds\n",
      "[\u001b[35minfo\u001b[0m] [0.004] RAN 4 CYCLES PASSED\n"
     ]
    },
    {
     "data": {
      "text/plain": [
       "\u001b[36mres342\u001b[39m: \u001b[32mBoolean\u001b[39m = \u001b[32mtrue\u001b[39m"
      ]
     },
     "execution_count": 343,
     "metadata": {},
     "output_type": "execute_result"
    }
   ],
   "source": [
    "Driver(() => new StateMachine(2, stateMap, 4)) {\n",
    "    uut => new PeekPokeTester(uut) {\n",
    "        poke(uut.io.control, 0)\n",
    "        expect(uut.io.out, 0)\n",
    "        \n",
    "        // 0 -> 1\n",
    "        poke(uut.io.control, 1)\n",
    "        step(1)\n",
    "        expect(uut.io.out, 1)\n",
    "        \n",
    "        // 1 -> 1\n",
    "        poke(uut.io.control, 1)\n",
    "        step(1)\n",
    "        expect(uut.io.out, 1)\n",
    "        \n",
    "        // 1 -> 0\n",
    "        poke(uut.io.control, 0)\n",
    "        step(1)\n",
    "        expect(uut.io.out, 0)\n",
    "        \n",
    "        // 0 -> 0\n",
    "        poke(uut.io.control, 0)\n",
    "        step(1)\n",
    "        expect(uut.io.out, 0)\n",
    "    }\n",
    "}"
   ]
  },
  {
   "cell_type": "markdown",
   "metadata": {},
   "source": [
    "### Decoder"
   ]
  },
  {
   "cell_type": "markdown",
   "metadata": {},
   "source": [
    "#### Definition"
   ]
  },
  {
   "cell_type": "code",
   "execution_count": 362,
   "metadata": {},
   "outputs": [
    {
     "data": {
      "text/plain": [
       "defined \u001b[32mclass\u001b[39m \u001b[36mRFControl\u001b[39m\r\n",
       "defined \u001b[32mclass\u001b[39m \u001b[36mDecoder\u001b[39m"
      ]
     },
     "execution_count": 362,
     "metadata": {},
     "output_type": "execute_result"
    }
   ],
   "source": [
    "class RFControl(ports: Int, addrWidth: Int) extends Bundle {\n",
    "    \n",
    "    override def cloneType = (new RFControl(ports, addrWidth)).asInstanceOf[this.type]\n",
    "    \n",
    "    val wEnable  = Output(Vec(ports, Bool()))\n",
    "    val rEnable  = Output(Vec(ports, Bool()))\n",
    "    val wAddr    = Output(Vec(ports, UInt(addrWidth.W)))\n",
    "    val rAddrInt = Output(Vec(ports, UInt(addrWidth.W)))\n",
    "    val rAddrExt = Output(Vec(ports, UInt(addrWidth.W)))\n",
    "    val bpSelGet = Output(Vec(ports, Bool()))\n",
    "}\n",
    "\n",
    "class Decoder(decode: (UInt, String) => Data,\n",
    "              statewidth: Int,\n",
    "              ports: Int, datawidth: Int, addrwidth: Int,\n",
    "              aluFuncs: List[String], \n",
    "              nluFuncs: List[String]) extends Module {\n",
    "    \n",
    "    val io = IO(new Bundle {\n",
    "        \n",
    "        val state = Input(UInt(statewidth.W))\n",
    "        \n",
    "        val weightRFControl = new RFControl(ports, addrwidth)\n",
    "        val actvtnRFControl = new RFControl(ports, addrwidth)\n",
    "        \n",
    "        val ipuSelGet       = Output(Vec(ports, Bool()))\n",
    "        val aluFuncSel      = Output(Vec(aluFuncs.length, Bool()))\n",
    "        \n",
    "        val intrnlRFControl = new RFControl(ports, addrwidth)\n",
    "        val intrnlRFDataSel = Output(Bool())\n",
    "        \n",
    "        val nluFuncSel      = Output(Vec(nluFuncs.length, Bool()))\n",
    "        \n",
    "    })\n",
    "    \n",
    "    // Refactor this to use bulk connections\n",
    "    io.weightRFControl.wEnable  := decode(io.state, \"weightRF wEnable\")\n",
    "    io.weightRFControl.rEnable  := decode(io.state, \"weightRF rEnable\")\n",
    "    io.weightRFControl.wAddr    := decode(io.state, \"weightRF wAddr\")\n",
    "    io.weightRFControl.rAddrInt := decode(io.state, \"weightRF rAddrInt\")\n",
    "    io.weightRFControl.rAddrExt := decode(io.state, \"weightRF rAddrExt\")\n",
    "    io.weightRFControl.bpSelGet := decode(io.state, \"weightRF bpSelGet\")\n",
    "    \n",
    "    io.actvtnRFControl.wEnable  := decode(io.state, \"actvtnRF wEnable\")\n",
    "    io.actvtnRFControl.rEnable  := decode(io.state, \"actvtnRF rEnable\")\n",
    "    io.actvtnRFControl.wAddr    := decode(io.state, \"actvtnRF wAddr\")\n",
    "    io.actvtnRFControl.rAddrInt := decode(io.state, \"actvtnRF rAddrInt\")\n",
    "    io.actvtnRFControl.rAddrExt := decode(io.state, \"actvtnRF rAddrExt\")\n",
    "    io.actvtnRFControl.bpSelGet := decode(io.state, \"actvtnRF bpSelGet\")\n",
    "    \n",
    "    io.ipuSelGet  := decode(io.state, \"ipuSelGet\")\n",
    "    io.aluFuncSel := decode(io.state, \"aluFuncSel\")\n",
    "    \n",
    "    io.intrnlRFControl.wEnable  := decode(io.state, \"intrnlRF wEnable\")\n",
    "    io.intrnlRFControl.rEnable  := decode(io.state, \"intrnlRF rEnable\")\n",
    "    io.intrnlRFControl.wAddr    := decode(io.state, \"intrnlRF wAddr\")\n",
    "    io.intrnlRFControl.rAddrInt := decode(io.state, \"intrnlRF rAddrInt\")\n",
    "    io.intrnlRFControl.rAddrExt := decode(io.state, \"intrnlRF rAddrExt\")\n",
    "    io.intrnlRFControl.bpSelGet := decode(io.state, \"intrnlRF bpSelGet\")\n",
    "    io.intrnlRFDataSel          := decode(io.state, \"intrnlRF dataSel\")\n",
    "    \n",
    "    io.nluFuncSel := decode(io.state, \"nluFuncSel\")\n",
    "}"
   ]
  },
  {
   "cell_type": "markdown",
   "metadata": {},
   "source": [
    "#### Example"
   ]
  },
  {
   "cell_type": "code",
   "execution_count": 363,
   "metadata": {},
   "outputs": [
    {
     "data": {
      "text/plain": [
       "defined \u001b[32mfunction\u001b[39m \u001b[36mdecode\u001b[39m"
      ]
     },
     "execution_count": 363,
     "metadata": {},
     "output_type": "execute_result"
    }
   ],
   "source": [
    "def decode(state: UInt, output: String): Data = {\n",
    "    \n",
    "    // Set Types\n",
    "    val data = output match {\n",
    "        case \"weightRF wEnable\"  => Wire(Vec(2, Bool()))\n",
    "        case \"weightRF rEnable\"  => Wire(Vec(2, Bool()))\n",
    "        case \"weightRF wAddr\"    => Wire(Vec(2, UInt(8.W)))\n",
    "        case \"weightRF rAddrInt\" => Wire(Vec(2, UInt(8.W)))\n",
    "        case \"weightRF rAddrExt\" => Wire(Vec(2, UInt(8.W)))\n",
    "        case \"weightRF bpSelGet\" => Wire(Vec(2, Bool()))\n",
    "        \n",
    "        case \"actvtnRF wEnable\"  => Wire(Vec(2, Bool()))\n",
    "        case \"actvtnRF rEnable\"  => Wire(Vec(2, Bool()))\n",
    "        case \"actvtnRF wAddr\"    => Wire(Vec(2, UInt(8.W)))\n",
    "        case \"actvtnRF rAddrInt\" => Wire(Vec(2, UInt(8.W)))\n",
    "        case \"actvtnRF rAddrExt\" => Wire(Vec(2, UInt(8.W)))\n",
    "        case \"actvtnRF bpSelGet\" => Wire(Vec(2, Bool()))\n",
    "        \n",
    "        case \"ipuSelGet\"         => Wire(Vec(2, Bool()))\n",
    "        case \"aluFuncSel\"        => Wire(Vec(4, Bool()))\n",
    "         \n",
    "        case \"intrnlRF wEnable\"  => Wire(Vec(2, Bool()))\n",
    "        case \"intrnlRF rEnable\"  => Wire(Vec(2, Bool()))\n",
    "        case \"intrnlRF wAddr\"    => Wire(Vec(2, UInt(8.W)))\n",
    "        case \"intrnlRF rAddrInt\" => Wire(Vec(2, UInt(8.W)))\n",
    "        case \"intrnlRF rAddrExt\" => Wire(Vec(2, UInt(8.W)))\n",
    "        case \"intrnlRF bpSelGet\" => Wire(Vec(2, Bool()))\n",
    "        case \"intrnlRF dataSel\"  => Wire(Bool())\n",
    "        \n",
    "        case \"nluFuncSel\"        => Wire(Vec(2, Bool()))\n",
    "                                    \n",
    "    }\n",
    "    \n",
    "    // Set Values\n",
    "    when(state === 0.U) {\n",
    "        data := { output match {\n",
    "            case \"weightRF wEnable\"  => Vec.fill(2){true.B}\n",
    "            case \"weightRF rEnable\"  => Vec.fill(2){true.B}\n",
    "            case \"weightRF wAddr\"    => Vec.fill(2){1.U}\n",
    "            case \"weightRF rAddrInt\" => Vec.fill(2){2.U}\n",
    "            case \"weightRF rAddrExt\" => Vec.fill(2){3.U}\n",
    "            case \"weightRF bpSelGet\" => Vec.fill(2){true.B}\n",
    "            \n",
    "            case \"actvtnRF wEnable\"  => Vec.fill(2){true.B}\n",
    "            case \"actvtnRF rEnable\"  => Vec.fill(2){true.B}\n",
    "            case \"actvtnRF wAddr\"    => Vec.fill(2){1.U}\n",
    "            case \"actvtnRF rAddrInt\" => Vec.fill(2){2.U}\n",
    "            case \"actvtnRF rAddrExt\" => Vec.fill(2){3.U}\n",
    "            case \"actvtnRF bpSelGet\" => Vec.fill(2){true.B}\n",
    "            \n",
    "            case \"ipuSelGet\"         => Vec(1.U :: 0.U :: Nil)\n",
    "            case \"aluFuncSel\"        => Vec(1.U :: 0.U :: 0.U :: 0.U :: Nil)\n",
    "            \n",
    "            case \"intrnlRF wEnable\"  => Vec.fill(2){true.B}\n",
    "            case \"intrnlRF rEnable\"  => Vec.fill(2){true.B}\n",
    "            case \"intrnlRF wAddr\"    => Vec.fill(2){1.U}\n",
    "            case \"intrnlRF rAddrInt\" => Vec.fill(2){2.U}\n",
    "            case \"intrnlRF rAddrExt\" => Vec.fill(2){3.U}\n",
    "            case \"intrnlRF bpSelGet\" => Vec.fill(2){true.B}\n",
    "            case \"intrnlRF dataSel\"  => true.B\n",
    "            \n",
    "            case \"nluFuncSel\"        => Vec(1.U :: 0.U :: Nil)\n",
    "        }}\n",
    "    } \n",
    "\n",
    "    .otherwise {\n",
    "        data := { output match {\n",
    "            case \"weightRF wEnable\"  => Vec.fill(2){false.B}\n",
    "            case \"weightRF rEnable\"  => Vec.fill(2){false.B}\n",
    "            case \"weightRF wAddr\"    => Vec.fill(2){4.U}\n",
    "            case \"weightRF rAddrInt\" => Vec.fill(2){5.U}\n",
    "            case \"weightRF rAddrExt\" => Vec.fill(2){6.U}\n",
    "            case \"weightRF bpSelGet\" => Vec.fill(2){false.B}\n",
    "            \n",
    "            case \"actvtnRF wEnable\"  => Vec.fill(2){false.B}\n",
    "            case \"actvtnRF rEnable\"  => Vec.fill(2){false.B}\n",
    "            case \"actvtnRF wAddr\"    => Vec.fill(2){4.U}\n",
    "            case \"actvtnRF rAddrInt\" => Vec.fill(2){5.U}\n",
    "            case \"actvtnRF rAddrExt\" => Vec.fill(2){6.U}\n",
    "            case \"actvtnRF bpSelGet\" => Vec.fill(2){false.B}\n",
    "            \n",
    "            case \"ipuSelGet\"         => Vec(0.U :: 1.U :: Nil)\n",
    "            case \"aluFuncSel\"        => Vec(0.U :: 1.U :: 0.U :: 0.U :: Nil)\n",
    "            \n",
    "            case \"intrnlRF wEnable\"  => Vec.fill(2){false.B}\n",
    "            case \"intrnlRF rEnable\"  => Vec.fill(2){false.B}\n",
    "            case \"intrnlRF wAddr\"    => Vec.fill(2){4.U}\n",
    "            case \"intrnlRF rAddrInt\" => Vec.fill(2){5.U}\n",
    "            case \"intrnlRF rAddrExt\" => Vec.fill(2){6.U}\n",
    "            case \"intrnlRF bpSelGet\" => Vec.fill(2){false.B}\n",
    "            case \"intrnlRF dataSel\"  => false.B\n",
    "            \n",
    "            case \"nluFuncSel\"        => Vec(0.U :: 1.U :: Nil)\n",
    "        }}\n",
    "    }\n",
    "    \n",
    "    data\n",
    "}"
   ]
  },
  {
   "cell_type": "markdown",
   "metadata": {},
   "source": [
    "#### Verification"
   ]
  },
  {
   "cell_type": "code",
   "execution_count": 369,
   "metadata": {},
   "outputs": [
    {
     "name": "stdout",
     "output_type": "stream",
     "text": [
      "[\u001b[35minfo\u001b[0m] [0.000] Elaborating design...\n",
      "[\u001b[35minfo\u001b[0m] [0.006] Done elaborating.\n",
      "Total FIRRTL Compile Time: 45.9 ms\n",
      "Total FIRRTL Compile Time: 30.4 ms\n",
      "End of dependency graph\n",
      "Circuit state created\n",
      "[\u001b[35minfo\u001b[0m] [0.000] SEED 1532565630432\n",
      "test cmd361WrapperHelperDecoder Success: 52 tests passed in 7 cycles taking 0.023516 seconds\n",
      "[\u001b[35minfo\u001b[0m] [0.019] RAN 2 CYCLES PASSED\n"
     ]
    },
    {
     "data": {
      "text/plain": [
       "\u001b[36mres368\u001b[39m: \u001b[32mBoolean\u001b[39m = \u001b[32mtrue\u001b[39m"
      ]
     },
     "execution_count": 369,
     "metadata": {},
     "output_type": "execute_result"
    }
   ],
   "source": [
    "Driver(() => new Decoder(decode, statewidth=4, ports=2,\n",
    "                        datawidth=4, addrwidth=4,\n",
    "                        aluFuncs=List(\"Identity\", \"Add\", \"Max\", \"Accumulate\"),\n",
    "                        nluFuncs=List(\"Identity\", \"ReLu\"))) {\n",
    "    \n",
    "    uut => new PeekPokeTester(uut) {\n",
    "        \n",
    "        \n",
    "        poke(uut.io.state, 0.U)\n",
    "        step(1)\n",
    "        \n",
    "        expect(uut.io.weightRFControl.wEnable(0), true.B)\n",
    "        expect(uut.io.weightRFControl.rEnable(0), true.B)\n",
    "        expect(uut.io.weightRFControl.wAddr(0), 1.U)\n",
    "        expect(uut.io.weightRFControl.rAddrInt(0), 2.U)\n",
    "        expect(uut.io.weightRFControl.rAddrExt(0), 3.U)\n",
    "        expect(uut.io.weightRFControl.bpSelGet(0), true.B)\n",
    "        \n",
    "        expect(uut.io.actvtnRFControl.wEnable(0), true.B)\n",
    "        expect(uut.io.actvtnRFControl.rEnable(0), true.B)\n",
    "        expect(uut.io.actvtnRFControl.wAddr(0), 1.U)\n",
    "        expect(uut.io.actvtnRFControl.rAddrInt(0), 2.U)\n",
    "        expect(uut.io.actvtnRFControl.rAddrExt(0), 3.U)\n",
    "        expect(uut.io.actvtnRFControl.bpSelGet(0), true.B)\n",
    "        \n",
    "        expect(uut.io.ipuSelGet(0), 1)\n",
    "        expect(uut.io.ipuSelGet(1), 0)\n",
    "        \n",
    "        expect(uut.io.aluFuncSel(0), 1)\n",
    "        expect(uut.io.aluFuncSel(1), 0)\n",
    "        expect(uut.io.aluFuncSel(2), 0)\n",
    "        expect(uut.io.aluFuncSel(3), 0)\n",
    "        \n",
    "        expect(uut.io.intrnlRFControl.wEnable(0), true.B)\n",
    "        expect(uut.io.intrnlRFControl.rEnable(0), true.B)\n",
    "        expect(uut.io.intrnlRFControl.wAddr(0), 1.U)\n",
    "        expect(uut.io.intrnlRFControl.rAddrInt(0), 2.U)\n",
    "        expect(uut.io.intrnlRFControl.rAddrExt(0), 3.U)\n",
    "        expect(uut.io.intrnlRFControl.bpSelGet(0), true.B)\n",
    "        \n",
    "        expect(uut.io.nluFuncSel(0), 1)\n",
    "        expect(uut.io.nluFuncSel(1), 0)\n",
    "        \n",
    "        poke(uut.io.state, 1.U) \n",
    "        step(1)\n",
    "        \n",
    "        expect(uut.io.weightRFControl.wEnable(0), false.B)\n",
    "        expect(uut.io.weightRFControl.rEnable(0), false.B)\n",
    "        expect(uut.io.weightRFControl.wAddr(0), 4.U)\n",
    "        expect(uut.io.weightRFControl.rAddrInt(0), 5.U)\n",
    "        expect(uut.io.weightRFControl.rAddrExt(0), 6.U)\n",
    "        expect(uut.io.weightRFControl.bpSelGet(0), false.B)\n",
    "        \n",
    "        expect(uut.io.actvtnRFControl.wEnable(0), false.B)\n",
    "        expect(uut.io.actvtnRFControl.rEnable(0), false.B)\n",
    "        expect(uut.io.actvtnRFControl.wAddr(0), 4.U)\n",
    "        expect(uut.io.actvtnRFControl.rAddrInt(0), 5.U)\n",
    "        expect(uut.io.actvtnRFControl.rAddrExt(0), 6.U)\n",
    "        expect(uut.io.actvtnRFControl.bpSelGet(0), false.B)\n",
    "        \n",
    "        expect(uut.io.ipuSelGet(0), 0)\n",
    "        expect(uut.io.ipuSelGet(1), 1)\n",
    "        \n",
    "        expect(uut.io.aluFuncSel(0), 0)\n",
    "        expect(uut.io.aluFuncSel(1), 1)\n",
    "        expect(uut.io.aluFuncSel(2), 0)\n",
    "        expect(uut.io.aluFuncSel(3), 0)\n",
    "        \n",
    "        expect(uut.io.intrnlRFControl.wEnable(0), false.B)\n",
    "        expect(uut.io.intrnlRFControl.rEnable(0), false.B)\n",
    "        expect(uut.io.intrnlRFControl.wAddr(0), 4.U)\n",
    "        expect(uut.io.intrnlRFControl.rAddrInt(0), 5.U)\n",
    "        expect(uut.io.intrnlRFControl.rAddrExt(0), 6.U)\n",
    "        expect(uut.io.intrnlRFControl.bpSelGet(0), false.B)\n",
    "        \n",
    "        expect(uut.io.nluFuncSel(0), 0)\n",
    "        expect(uut.io.nluFuncSel(1), 1)\n",
    "        \n",
    "    }\n",
    "}\n"
   ]
  },
  {
   "cell_type": "markdown",
   "metadata": {},
   "source": [
    "## PE"
   ]
  },
  {
   "cell_type": "markdown",
   "metadata": {},
   "source": [
    "#### Definition"
   ]
  },
  {
   "cell_type": "code",
   "execution_count": null,
   "metadata": {},
   "outputs": [],
   "source": [
    "class nPE(stateMap: Map[(UInt, UInt), UInt], extrnl_ctrl_width: Int, // State Machine\n",
    "          decode: (UInt, String) => Data, RFports: Int, weightRFBP: String, actvtnRFBP: String, datawidth: Int, addrwidth: Int,\n",
    "          aluFuncs: List[String], nluFuncs: List[String], intrnlRFBP: String\n",
    "         ) extends Module {\n",
    "    \n",
    "    val io = IO(new Bundle {\n",
    "        val extrnl_ctrl   = Input (SInt(extrnl_ctrl_width.W))\n",
    "        val weightRF_in   = Input (Vec(RFports, SInt(datawidth.W)))\n",
    "        val actvtnRF_in   = Input (Vec(RFports, SInt(datawidth.W)))\n",
    "        val intrnlRF_in   = Input (SInt(datawidth.W))\n",
    "        val weightRF_2NoC = Output(Vec(RFports, SInt(datawidth.W)))\n",
    "        val actvtnRF_2NoC = Output(Vec(RFports, SInt(datawidth.W)))\n",
    "        val intrnlRF_2NoC = Output(SInt(datawidth.W))\n",
    "        val output        = Output(SInt(datawidth.W))\n",
    "    })\n",
    "    \n",
    "    val stateMachine = new StateMachine(stateMap, extrnl_ctrl_width)\n",
    "    stateMachine.io.control := io.extrnl_ctrl\n",
    "    \n",
    "    val decoder = new Decoder(decode, log2Up(stateMap.size), \n",
    "                              RFports, datawidth, addrwidth, aluFuncs, nluFuncs)\n",
    "    decoder.io.state := stateMachine.io.state\n",
    "    \n",
    "    \n",
    "    // Weight RF\n",
    "    val weightRF = new pRF(RFports, weightRFBP, datawidth, addrwidth)\n",
    "    \n",
    "    // Mandatory Control\n",
    "    weightRF.io.in.wEnable\n",
    "    weightRF.io.in.rEnable\n",
    "    weightRF.io.in.wAddr\n",
    "    weightRF.io.in.rAddrInt\n",
    "    weightRF.io.in.rAddrExt\n",
    "    \n",
    "    \n",
    "    weightRF.io.write_en    := decoder.io.weightRF_wen\n",
    "    weightRF.io.read_en     := decoder.io.weightRF_ren\n",
    "    weightRF.io.waddr       := decoder.io.weightRF_waddr\n",
    "    weightRF.io.raddr_int   := decoder.io.weightRF_raddr_int\n",
    "    weightRF.io.raddr_ext   := decoder.io.weightRF_raddr_ext\n",
    "    \n",
    "    // Optional Control\n",
    "    if ( weightRF.io.bp_slct.isDefined ) { weightRF.io.bp_slct.get := decoder.io.weightRF_bp_slct_get }\n",
    "    \n",
    "    // Mandatory Outputs\n",
    "    weightRF.io.wdata := io.weightRF_in\n",
    "    \n",
    "    // Optional Outputs\n",
    "    io.weightRF_2NoC  := weightRF.io.rdata_ext\n",
    "    \n",
    "    // Activation RF\n",
    "    val actvtnRF = new pRF(RFports, actvtnRFBP, datawidth, addrwidth)\n",
    "    \n",
    "    // Mandatory Control\n",
    "    actvtnRF.io.write_en    := decoder.io.actvtnRF_wen\n",
    "    actvtnRF.io.read_en     := decoder.io.actvtnRF_ren\n",
    "    actvtnRF.io.waddr       := decoder.io.actvtnRF_waddr\n",
    "    actvtnRF.io.raddr_int   := decoder.io.actvtnRF_raddr_int\n",
    "    actvtnRF.io.raddr_ext   := decoder.io.actvtnRF_raddr_ext\n",
    "    \n",
    "    // Optional Control\n",
    "    if ( actvtnRF.io.bp_slct.isDefined ) { actvtnRF.io.bp_slct.get := decoder.io.actvtnRF_bp_slct_get }\n",
    "    \n",
    "    // Mandatory Outputs\n",
    "    actvtnRF.io.wdata := io.weightRF_in\n",
    "    \n",
    "    // Optional Outputs\n",
    "    io.actvtnRF_2NoC     := actvtnRF.io.rdata_ext\n",
    "       \n",
    "    val ipuBP = if(aluFuncs.contains(\"Add\") || aluFuncs.contains(\"Max\")) \"Firm\" else \"None\" \n",
    "    val ipu   = new IPU(RFports, ipuBP, datawidth)\n",
    "    if (ipu.io.sel.isDefined) { ipu.io.sel.get := decoder.io.ipu_sel_get }\n",
    "    ipu.io.in1 := weightRF.io.rdata_int\n",
    "    ipu.io.in2 := actvtnRF.io.rdata_int\n",
    "    \n",
    "    val alu = new ALU(aluFuncs, datawidth)\n",
    "    alu.io.func_slct := decoder.io.alu_func_slct\n",
    "    alu.io.innr_prod := ipu.io.out\n",
    "    if(alu.io.weight_bp.isDefined) alu.io.weight_bp.get := ipu.io.bp1.get\n",
    "    if(alu.io.actvtn_bp.isDefined) alu.io.actvtn_bp.get := ipu.io.bp2.get\n",
    "    \n",
    "    val intrnlRF = new pRF(1, intrnlRFBP, datawidth, addrwidth)\n",
    "    intrnlRF.io.write_en  := decoder.io.intrnlRF_write_en\n",
    "    intrnlRF.io.read_en   := decoder.io.intrnlRF_read_en\n",
    "    intrnlRF.io.waddr     := decoder.io.intrnlRF_waddr\n",
    "    intrnlRF.io.raddr_int := decoder.io.intrnlRF_raddr_int\n",
    "    intrnlRF.io.raddr_ext := decoder.io.intrnlRF_raddr_ext\n",
    "    if (intrnlRF.io.bp_slct.isDefined) { intrnlRF.io.bp_slct.get := decoder.io.intrnlRF_bp_slct_get }\n",
    "    intrnlRF.io.wdata := Mux(decoder.io.intrnlRF_wdata_slct, alu.io.output, io.intrnlRF_in)\n",
    "    io.intrnlRF_2NoC := intrnlRF.io.rdata_ext\n",
    "    if(alu.io.rf_feedbk.isDefined) alu.io.rf_feedbk.get := intrnlRF.io.rdata_int\n",
    "    \n",
    "    val nlu = new NonlinearUnit(nluFuncs, datawidth)\n",
    "    nlu.io.fslct := decoder.io.nlu_func_slct\n",
    "    nlu.io.input     := intrnlRF.io.rdata_int\n",
    "    io.output        := nlu.io.outpt\n",
    "    \n",
    "    // Woot woot\n",
    "}"
   ]
  },
  {
   "cell_type": "markdown",
   "metadata": {},
   "source": [
    "#### Verification"
   ]
  },
  {
   "cell_type": "code",
   "execution_count": null,
   "metadata": {},
   "outputs": [],
   "source": []
  },
  {
   "cell_type": "markdown",
   "metadata": {},
   "source": [
    "## Future Plans\n",
    "* Verify everything using Golden Models"
   ]
  }
 ],
 "metadata": {
  "kernelspec": {
   "display_name": "Scala",
   "language": "scala",
   "name": "scala"
  },
  "language_info": {
   "codemirror_mode": "text/x-scala",
   "file_extension": ".scala",
   "mimetype": "text/x-scala",
   "name": "scala211",
   "nbconvert_exporter": "script",
   "pygments_lexer": "scala",
   "version": "2.11.11"
  }
 },
 "nbformat": 4,
 "nbformat_minor": 2
}
